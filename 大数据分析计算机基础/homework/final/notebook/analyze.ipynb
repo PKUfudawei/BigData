{
 "cells": [
  {
   "cell_type": "code",
   "execution_count": 1,
   "metadata": {},
   "outputs": [],
   "source": [
    "import os\n",
    "import pandas as pd\n",
    "import numpy as np\n",
    "import plotly.express as px\n",
    "import networkx as nx\n",
    "import plotly.graph_objects as go\n",
    "\n",
    "tables = {}\n",
    "table_names = []\n",
    "for f in os.listdir('./parquet'):\n",
    "    table_names.append(f.split('.')[0])\n",
    "    tables[f.split('.')[0]] = pd.read_parquet(f'./parquet/{f}')\n",
    "table_keys = {i: tables[i].columns.values for i in tables}"
   ]
  },
  {
   "cell_type": "code",
   "execution_count": 6,
   "metadata": {},
   "outputs": [],
   "source": [
    "family_name = [s[0] for s in tables['BIOG_MAIN']['c_name_chn'].values]"
   ]
  },
  {
   "cell_type": "code",
   "execution_count": 7,
   "metadata": {},
   "outputs": [],
   "source": [
    "with open('./test.csv', 'w', encoding='utf-8') as f:\n",
    "    pd.DataFrame(family_name).to_csv(f)"
   ]
  },
  {
   "cell_type": "code",
   "execution_count": 8,
   "metadata": {},
   "outputs": [],
   "source": [
    "with open('./test.txt', 'w', encoding='utf-8') as f:\n",
    "    f.write(','.join(family_name))"
   ]
  },
  {
   "cell_type": "code",
   "execution_count": 9,
   "metadata": {},
   "outputs": [],
   "source": [
    "sery = pd.value_counts(family_name)"
   ]
  },
  {
   "cell_type": "code",
   "execution_count": 10,
   "metadata": {},
   "outputs": [],
   "source": [
    "pd.DataFrame({'weight': sery.values[:500], 'word': sery.index[:500]}).to_csv('./test.csv', encoding='utf-8', index=False)"
   ]
  },
  {
   "cell_type": "code",
   "execution_count": 11,
   "metadata": {},
   "outputs": [
    {
     "name": "stdout",
     "output_type": "stream",
     "text": [
      "19.0 215755\n",
      "20.0 111739\n",
      "15.0 73458\n",
      "6.0 53893\n",
      "18.0 24691\n",
      "0.0 17617\n",
      "21.0 4682\n",
      "84.0 2649\n",
      "30.0 1005\n",
      "17.0 678\n",
      "5.0 579\n",
      "7.0 553\n",
      "28.0 474\n",
      "77.0 461\n",
      "25.0 438\n",
      "27.0 405\n",
      "14.0 399\n",
      "29.0 391\n",
      "23.0 386\n",
      "44.0 365\n",
      "16.0 326\n",
      "31.0 287\n",
      "10.0 275\n",
      "32.0 266\n",
      "52.0 248\n",
      "58.0 228\n",
      "26.0 191\n",
      "24.0 178\n",
      "2.0 139\n",
      "11.0 129\n",
      "35.0 115\n",
      "1.0 111\n",
      "12.0 101\n",
      "42.0 99\n",
      "47.0 93\n",
      "8.0 80\n",
      "49.0 68\n",
      "36.0 61\n",
      "48.0 53\n",
      "40.0 45\n",
      "41.0 45\n",
      "53.0 43\n",
      "34.0 42\n",
      "22.0 34\n",
      "4.0 31\n",
      "65.0 25\n",
      "3.0 25\n",
      "9.0 24\n",
      "75.0 21\n",
      "45.0 19\n",
      "13.0 19\n",
      "61.0 18\n",
      "64.0 16\n",
      "39.0 15\n",
      "78.0 14\n",
      "68.0 14\n",
      "56.0 12\n",
      "46.0 11\n",
      "38.0 10\n",
      "63.0 9\n",
      "51.0 8\n",
      "72.0 7\n",
      "55.0 7\n",
      "50.0 5\n",
      "67.0 4\n",
      "73.0 4\n",
      "81.0 4\n",
      "37.0 3\n",
      "66.0 3\n",
      "59.0 2\n",
      "57.0 2\n",
      "62.0 1\n",
      "60.0 1\n",
      "76.0 1\n",
      "69.0 1\n"
     ]
    }
   ],
   "source": [
    "for k, v in pd.value_counts(tables['BIOG_MAIN']['c_dy']).iteritems():\n",
    "    print(k, v)"
   ]
  },
  {
   "cell_type": "code",
   "execution_count": 12,
   "metadata": {},
   "outputs": [
    {
     "data": {
      "application/vnd.plotly.v1+json": {
       "config": {
        "plotlyServerURL": "https://plot.ly"
       },
       "data": [
        {
         "alignmentgroup": "True",
         "hovertemplate": "性别=男<br>朝代=%{x}<br>计数=%{y}<extra></extra>",
         "legendgroup": "男",
         "marker": {
          "color": "#636efa",
          "pattern": {
           "shape": ""
          }
         },
         "name": "男",
         "offsetgroup": "男",
         "orientation": "v",
         "showlegend": true,
         "textposition": "auto",
         "type": "bar",
         "x": [
          "秦漢",
          "西晉",
          "東晉",
          "隋",
          "唐",
          "宋",
          "元",
          "明",
          "清",
          "中華民國"
         ],
         "xaxis": "x",
         "y": [
          114,
          358,
          383,
          548,
          49663,
          69589,
          24009,
          180384,
          108301,
          4666
         ],
         "yaxis": "y"
        },
        {
         "alignmentgroup": "True",
         "hovertemplate": "性别=女<br>朝代=%{x}<br>计数=%{y}<extra></extra>",
         "legendgroup": "女",
         "marker": {
          "color": "#EF553B",
          "pattern": {
           "shape": ""
          }
         },
         "name": "女",
         "offsetgroup": "女",
         "orientation": "v",
         "showlegend": true,
         "textposition": "auto",
         "type": "bar",
         "x": [
          "秦漢",
          "西晉",
          "東晉",
          "隋",
          "唐",
          "宋",
          "元",
          "明",
          "清",
          "中華民國"
         ],
         "xaxis": "x",
         "y": [
          114,
          358,
          383,
          548,
          49663,
          69589,
          24009,
          180384,
          108301,
          4666
         ],
         "yaxis": "y"
        }
       ],
       "layout": {
        "barmode": "group",
        "legend": {
         "title": {
          "text": "性别"
         },
         "tracegroupgap": 0
        },
        "margin": {
         "t": 60
        },
        "template": {
         "data": {
          "bar": [
           {
            "error_x": {
             "color": "#2a3f5f"
            },
            "error_y": {
             "color": "#2a3f5f"
            },
            "marker": {
             "line": {
              "color": "#E5ECF6",
              "width": 0.5
             },
             "pattern": {
              "fillmode": "overlay",
              "size": 10,
              "solidity": 0.2
             }
            },
            "type": "bar"
           }
          ],
          "barpolar": [
           {
            "marker": {
             "line": {
              "color": "#E5ECF6",
              "width": 0.5
             },
             "pattern": {
              "fillmode": "overlay",
              "size": 10,
              "solidity": 0.2
             }
            },
            "type": "barpolar"
           }
          ],
          "carpet": [
           {
            "aaxis": {
             "endlinecolor": "#2a3f5f",
             "gridcolor": "white",
             "linecolor": "white",
             "minorgridcolor": "white",
             "startlinecolor": "#2a3f5f"
            },
            "baxis": {
             "endlinecolor": "#2a3f5f",
             "gridcolor": "white",
             "linecolor": "white",
             "minorgridcolor": "white",
             "startlinecolor": "#2a3f5f"
            },
            "type": "carpet"
           }
          ],
          "choropleth": [
           {
            "colorbar": {
             "outlinewidth": 0,
             "ticks": ""
            },
            "type": "choropleth"
           }
          ],
          "contour": [
           {
            "colorbar": {
             "outlinewidth": 0,
             "ticks": ""
            },
            "colorscale": [
             [
              0,
              "#0d0887"
             ],
             [
              0.1111111111111111,
              "#46039f"
             ],
             [
              0.2222222222222222,
              "#7201a8"
             ],
             [
              0.3333333333333333,
              "#9c179e"
             ],
             [
              0.4444444444444444,
              "#bd3786"
             ],
             [
              0.5555555555555556,
              "#d8576b"
             ],
             [
              0.6666666666666666,
              "#ed7953"
             ],
             [
              0.7777777777777778,
              "#fb9f3a"
             ],
             [
              0.8888888888888888,
              "#fdca26"
             ],
             [
              1,
              "#f0f921"
             ]
            ],
            "type": "contour"
           }
          ],
          "contourcarpet": [
           {
            "colorbar": {
             "outlinewidth": 0,
             "ticks": ""
            },
            "type": "contourcarpet"
           }
          ],
          "heatmap": [
           {
            "colorbar": {
             "outlinewidth": 0,
             "ticks": ""
            },
            "colorscale": [
             [
              0,
              "#0d0887"
             ],
             [
              0.1111111111111111,
              "#46039f"
             ],
             [
              0.2222222222222222,
              "#7201a8"
             ],
             [
              0.3333333333333333,
              "#9c179e"
             ],
             [
              0.4444444444444444,
              "#bd3786"
             ],
             [
              0.5555555555555556,
              "#d8576b"
             ],
             [
              0.6666666666666666,
              "#ed7953"
             ],
             [
              0.7777777777777778,
              "#fb9f3a"
             ],
             [
              0.8888888888888888,
              "#fdca26"
             ],
             [
              1,
              "#f0f921"
             ]
            ],
            "type": "heatmap"
           }
          ],
          "heatmapgl": [
           {
            "colorbar": {
             "outlinewidth": 0,
             "ticks": ""
            },
            "colorscale": [
             [
              0,
              "#0d0887"
             ],
             [
              0.1111111111111111,
              "#46039f"
             ],
             [
              0.2222222222222222,
              "#7201a8"
             ],
             [
              0.3333333333333333,
              "#9c179e"
             ],
             [
              0.4444444444444444,
              "#bd3786"
             ],
             [
              0.5555555555555556,
              "#d8576b"
             ],
             [
              0.6666666666666666,
              "#ed7953"
             ],
             [
              0.7777777777777778,
              "#fb9f3a"
             ],
             [
              0.8888888888888888,
              "#fdca26"
             ],
             [
              1,
              "#f0f921"
             ]
            ],
            "type": "heatmapgl"
           }
          ],
          "histogram": [
           {
            "marker": {
             "pattern": {
              "fillmode": "overlay",
              "size": 10,
              "solidity": 0.2
             }
            },
            "type": "histogram"
           }
          ],
          "histogram2d": [
           {
            "colorbar": {
             "outlinewidth": 0,
             "ticks": ""
            },
            "colorscale": [
             [
              0,
              "#0d0887"
             ],
             [
              0.1111111111111111,
              "#46039f"
             ],
             [
              0.2222222222222222,
              "#7201a8"
             ],
             [
              0.3333333333333333,
              "#9c179e"
             ],
             [
              0.4444444444444444,
              "#bd3786"
             ],
             [
              0.5555555555555556,
              "#d8576b"
             ],
             [
              0.6666666666666666,
              "#ed7953"
             ],
             [
              0.7777777777777778,
              "#fb9f3a"
             ],
             [
              0.8888888888888888,
              "#fdca26"
             ],
             [
              1,
              "#f0f921"
             ]
            ],
            "type": "histogram2d"
           }
          ],
          "histogram2dcontour": [
           {
            "colorbar": {
             "outlinewidth": 0,
             "ticks": ""
            },
            "colorscale": [
             [
              0,
              "#0d0887"
             ],
             [
              0.1111111111111111,
              "#46039f"
             ],
             [
              0.2222222222222222,
              "#7201a8"
             ],
             [
              0.3333333333333333,
              "#9c179e"
             ],
             [
              0.4444444444444444,
              "#bd3786"
             ],
             [
              0.5555555555555556,
              "#d8576b"
             ],
             [
              0.6666666666666666,
              "#ed7953"
             ],
             [
              0.7777777777777778,
              "#fb9f3a"
             ],
             [
              0.8888888888888888,
              "#fdca26"
             ],
             [
              1,
              "#f0f921"
             ]
            ],
            "type": "histogram2dcontour"
           }
          ],
          "mesh3d": [
           {
            "colorbar": {
             "outlinewidth": 0,
             "ticks": ""
            },
            "type": "mesh3d"
           }
          ],
          "parcoords": [
           {
            "line": {
             "colorbar": {
              "outlinewidth": 0,
              "ticks": ""
             }
            },
            "type": "parcoords"
           }
          ],
          "pie": [
           {
            "automargin": true,
            "type": "pie"
           }
          ],
          "scatter": [
           {
            "fillpattern": {
             "fillmode": "overlay",
             "size": 10,
             "solidity": 0.2
            },
            "type": "scatter"
           }
          ],
          "scatter3d": [
           {
            "line": {
             "colorbar": {
              "outlinewidth": 0,
              "ticks": ""
             }
            },
            "marker": {
             "colorbar": {
              "outlinewidth": 0,
              "ticks": ""
             }
            },
            "type": "scatter3d"
           }
          ],
          "scattercarpet": [
           {
            "marker": {
             "colorbar": {
              "outlinewidth": 0,
              "ticks": ""
             }
            },
            "type": "scattercarpet"
           }
          ],
          "scattergeo": [
           {
            "marker": {
             "colorbar": {
              "outlinewidth": 0,
              "ticks": ""
             }
            },
            "type": "scattergeo"
           }
          ],
          "scattergl": [
           {
            "marker": {
             "colorbar": {
              "outlinewidth": 0,
              "ticks": ""
             }
            },
            "type": "scattergl"
           }
          ],
          "scattermapbox": [
           {
            "marker": {
             "colorbar": {
              "outlinewidth": 0,
              "ticks": ""
             }
            },
            "type": "scattermapbox"
           }
          ],
          "scatterpolar": [
           {
            "marker": {
             "colorbar": {
              "outlinewidth": 0,
              "ticks": ""
             }
            },
            "type": "scatterpolar"
           }
          ],
          "scatterpolargl": [
           {
            "marker": {
             "colorbar": {
              "outlinewidth": 0,
              "ticks": ""
             }
            },
            "type": "scatterpolargl"
           }
          ],
          "scatterternary": [
           {
            "marker": {
             "colorbar": {
              "outlinewidth": 0,
              "ticks": ""
             }
            },
            "type": "scatterternary"
           }
          ],
          "surface": [
           {
            "colorbar": {
             "outlinewidth": 0,
             "ticks": ""
            },
            "colorscale": [
             [
              0,
              "#0d0887"
             ],
             [
              0.1111111111111111,
              "#46039f"
             ],
             [
              0.2222222222222222,
              "#7201a8"
             ],
             [
              0.3333333333333333,
              "#9c179e"
             ],
             [
              0.4444444444444444,
              "#bd3786"
             ],
             [
              0.5555555555555556,
              "#d8576b"
             ],
             [
              0.6666666666666666,
              "#ed7953"
             ],
             [
              0.7777777777777778,
              "#fb9f3a"
             ],
             [
              0.8888888888888888,
              "#fdca26"
             ],
             [
              1,
              "#f0f921"
             ]
            ],
            "type": "surface"
           }
          ],
          "table": [
           {
            "cells": {
             "fill": {
              "color": "#EBF0F8"
             },
             "line": {
              "color": "white"
             }
            },
            "header": {
             "fill": {
              "color": "#C8D4E3"
             },
             "line": {
              "color": "white"
             }
            },
            "type": "table"
           }
          ]
         },
         "layout": {
          "annotationdefaults": {
           "arrowcolor": "#2a3f5f",
           "arrowhead": 0,
           "arrowwidth": 1
          },
          "autotypenumbers": "strict",
          "coloraxis": {
           "colorbar": {
            "outlinewidth": 0,
            "ticks": ""
           }
          },
          "colorscale": {
           "diverging": [
            [
             0,
             "#8e0152"
            ],
            [
             0.1,
             "#c51b7d"
            ],
            [
             0.2,
             "#de77ae"
            ],
            [
             0.3,
             "#f1b6da"
            ],
            [
             0.4,
             "#fde0ef"
            ],
            [
             0.5,
             "#f7f7f7"
            ],
            [
             0.6,
             "#e6f5d0"
            ],
            [
             0.7,
             "#b8e186"
            ],
            [
             0.8,
             "#7fbc41"
            ],
            [
             0.9,
             "#4d9221"
            ],
            [
             1,
             "#276419"
            ]
           ],
           "sequential": [
            [
             0,
             "#0d0887"
            ],
            [
             0.1111111111111111,
             "#46039f"
            ],
            [
             0.2222222222222222,
             "#7201a8"
            ],
            [
             0.3333333333333333,
             "#9c179e"
            ],
            [
             0.4444444444444444,
             "#bd3786"
            ],
            [
             0.5555555555555556,
             "#d8576b"
            ],
            [
             0.6666666666666666,
             "#ed7953"
            ],
            [
             0.7777777777777778,
             "#fb9f3a"
            ],
            [
             0.8888888888888888,
             "#fdca26"
            ],
            [
             1,
             "#f0f921"
            ]
           ],
           "sequentialminus": [
            [
             0,
             "#0d0887"
            ],
            [
             0.1111111111111111,
             "#46039f"
            ],
            [
             0.2222222222222222,
             "#7201a8"
            ],
            [
             0.3333333333333333,
             "#9c179e"
            ],
            [
             0.4444444444444444,
             "#bd3786"
            ],
            [
             0.5555555555555556,
             "#d8576b"
            ],
            [
             0.6666666666666666,
             "#ed7953"
            ],
            [
             0.7777777777777778,
             "#fb9f3a"
            ],
            [
             0.8888888888888888,
             "#fdca26"
            ],
            [
             1,
             "#f0f921"
            ]
           ]
          },
          "colorway": [
           "#636efa",
           "#EF553B",
           "#00cc96",
           "#ab63fa",
           "#FFA15A",
           "#19d3f3",
           "#FF6692",
           "#B6E880",
           "#FF97FF",
           "#FECB52"
          ],
          "font": {
           "color": "#2a3f5f"
          },
          "geo": {
           "bgcolor": "white",
           "lakecolor": "white",
           "landcolor": "#E5ECF6",
           "showlakes": true,
           "showland": true,
           "subunitcolor": "white"
          },
          "hoverlabel": {
           "align": "left"
          },
          "hovermode": "closest",
          "mapbox": {
           "style": "light"
          },
          "paper_bgcolor": "white",
          "plot_bgcolor": "#E5ECF6",
          "polar": {
           "angularaxis": {
            "gridcolor": "white",
            "linecolor": "white",
            "ticks": ""
           },
           "bgcolor": "#E5ECF6",
           "radialaxis": {
            "gridcolor": "white",
            "linecolor": "white",
            "ticks": ""
           }
          },
          "scene": {
           "xaxis": {
            "backgroundcolor": "#E5ECF6",
            "gridcolor": "white",
            "gridwidth": 2,
            "linecolor": "white",
            "showbackground": true,
            "ticks": "",
            "zerolinecolor": "white"
           },
           "yaxis": {
            "backgroundcolor": "#E5ECF6",
            "gridcolor": "white",
            "gridwidth": 2,
            "linecolor": "white",
            "showbackground": true,
            "ticks": "",
            "zerolinecolor": "white"
           },
           "zaxis": {
            "backgroundcolor": "#E5ECF6",
            "gridcolor": "white",
            "gridwidth": 2,
            "linecolor": "white",
            "showbackground": true,
            "ticks": "",
            "zerolinecolor": "white"
           }
          },
          "shapedefaults": {
           "line": {
            "color": "#2a3f5f"
           }
          },
          "ternary": {
           "aaxis": {
            "gridcolor": "white",
            "linecolor": "white",
            "ticks": ""
           },
           "baxis": {
            "gridcolor": "white",
            "linecolor": "white",
            "ticks": ""
           },
           "bgcolor": "#E5ECF6",
           "caxis": {
            "gridcolor": "white",
            "linecolor": "white",
            "ticks": ""
           }
          },
          "title": {
           "x": 0.05
          },
          "xaxis": {
           "automargin": true,
           "gridcolor": "white",
           "linecolor": "white",
           "ticks": "",
           "title": {
            "standoff": 15
           },
           "zerolinecolor": "white",
           "zerolinewidth": 2
          },
          "yaxis": {
           "automargin": true,
           "gridcolor": "white",
           "linecolor": "white",
           "ticks": "",
           "title": {
            "standoff": 15
           },
           "zerolinecolor": "white",
           "zerolinewidth": 2
          }
         }
        },
        "xaxis": {
         "anchor": "y",
         "domain": [
          0,
          1
         ],
         "title": {
          "text": "朝代"
         }
        },
        "yaxis": {
         "anchor": "x",
         "domain": [
          0,
          1
         ],
         "range": [
          0,
          5.301029995663981
         ],
         "title": {
          "text": "计数"
         },
         "type": "log"
        }
       }
      }
     },
     "metadata": {},
     "output_type": "display_data"
    }
   ],
   "source": [
    "dynasty = [2, 23, 27, 5, 6, 15, 18, 19, 20, 21]\n",
    "df = pd.DataFrame({'朝代': [], '性别': [], '计数': []})\n",
    "df_dy = pd.read_parquet('./parquet/DYNASTIES.parq')\n",
    "for dy in dynasty:\n",
    "    df.loc[len(df)] = [df_dy[df_dy['c_dy']==dy]['c_dynasty_chn'].values[0], '男', sum((tables['BIOG_MAIN']['c_dy']==dy) & (tables['BIOG_MAIN']['c_female']==0))]\n",
    "    df.loc[len(df)] = [df_dy[df_dy['c_dy']==dy]['c_dynasty_chn'].values[0], '女', sum((tables['BIOG_MAIN']['c_dy']==dy) & (tables['BIOG_MAIN']['c_female']==0))]\n",
    "fig = px.bar(df, x=\"朝代\", y=\"计数\", color='性别', barmode='group', log_y=True, range_y=[1, 2e5])\n",
    "fig.show()"
   ]
  },
  {
   "cell_type": "code",
   "execution_count": 13,
   "metadata": {},
   "outputs": [
    {
     "data": {
      "application/vnd.plotly.v1+json": {
       "config": {
        "plotlyServerURL": "https://plot.ly"
       },
       "data": [
        {
         "alignmentgroup": "True",
         "hovertemplate": "性别=男<br>朝代=%{x}<br>平均寿命=%{y}<extra></extra>",
         "legendgroup": "男",
         "marker": {
          "color": "#636efa",
          "pattern": {
           "shape": ""
          }
         },
         "name": "男",
         "offsetgroup": "男",
         "orientation": "v",
         "showlegend": true,
         "textposition": "auto",
         "type": "bar",
         "x": [
          "秦漢",
          "西晉",
          "東晉",
          "隋",
          "唐",
          "宋",
          "元",
          "明",
          "清",
          "中華民國"
         ],
         "xaxis": "x",
         "y": [
          61,
          45.76190476190476,
          44.46153846153846,
          61.054545454545455,
          59.03817314246762,
          57.645377828922136,
          63.23022774327122,
          62.57807308970099,
          61.67542503863988,
          63.66757791142701
         ],
         "yaxis": "y"
        },
        {
         "alignmentgroup": "True",
         "hovertemplate": "性别=女<br>朝代=%{x}<br>平均寿命=%{y}<extra></extra>",
         "legendgroup": "女",
         "marker": {
          "color": "#EF553B",
          "pattern": {
           "shape": ""
          }
         },
         "name": "女",
         "offsetgroup": "女",
         "orientation": "v",
         "showlegend": true,
         "textposition": "auto",
         "type": "bar",
         "x": [
          "秦漢",
          "西晉",
          "東晉",
          "隋",
          "唐",
          "宋",
          "元",
          "明",
          "清",
          "中華民國"
         ],
         "xaxis": "x",
         "y": [
          null,
          67,
          66.66666666666667,
          63.07692307692308,
          50.24559111691705,
          55.933766233766235,
          52.7,
          49.26495726495727,
          51.3485342019544,
          66.875
         ],
         "yaxis": "y"
        }
       ],
       "layout": {
        "barmode": "group",
        "legend": {
         "title": {
          "text": "性别"
         },
         "tracegroupgap": 0
        },
        "margin": {
         "t": 60
        },
        "template": {
         "data": {
          "bar": [
           {
            "error_x": {
             "color": "#2a3f5f"
            },
            "error_y": {
             "color": "#2a3f5f"
            },
            "marker": {
             "line": {
              "color": "#E5ECF6",
              "width": 0.5
             },
             "pattern": {
              "fillmode": "overlay",
              "size": 10,
              "solidity": 0.2
             }
            },
            "type": "bar"
           }
          ],
          "barpolar": [
           {
            "marker": {
             "line": {
              "color": "#E5ECF6",
              "width": 0.5
             },
             "pattern": {
              "fillmode": "overlay",
              "size": 10,
              "solidity": 0.2
             }
            },
            "type": "barpolar"
           }
          ],
          "carpet": [
           {
            "aaxis": {
             "endlinecolor": "#2a3f5f",
             "gridcolor": "white",
             "linecolor": "white",
             "minorgridcolor": "white",
             "startlinecolor": "#2a3f5f"
            },
            "baxis": {
             "endlinecolor": "#2a3f5f",
             "gridcolor": "white",
             "linecolor": "white",
             "minorgridcolor": "white",
             "startlinecolor": "#2a3f5f"
            },
            "type": "carpet"
           }
          ],
          "choropleth": [
           {
            "colorbar": {
             "outlinewidth": 0,
             "ticks": ""
            },
            "type": "choropleth"
           }
          ],
          "contour": [
           {
            "colorbar": {
             "outlinewidth": 0,
             "ticks": ""
            },
            "colorscale": [
             [
              0,
              "#0d0887"
             ],
             [
              0.1111111111111111,
              "#46039f"
             ],
             [
              0.2222222222222222,
              "#7201a8"
             ],
             [
              0.3333333333333333,
              "#9c179e"
             ],
             [
              0.4444444444444444,
              "#bd3786"
             ],
             [
              0.5555555555555556,
              "#d8576b"
             ],
             [
              0.6666666666666666,
              "#ed7953"
             ],
             [
              0.7777777777777778,
              "#fb9f3a"
             ],
             [
              0.8888888888888888,
              "#fdca26"
             ],
             [
              1,
              "#f0f921"
             ]
            ],
            "type": "contour"
           }
          ],
          "contourcarpet": [
           {
            "colorbar": {
             "outlinewidth": 0,
             "ticks": ""
            },
            "type": "contourcarpet"
           }
          ],
          "heatmap": [
           {
            "colorbar": {
             "outlinewidth": 0,
             "ticks": ""
            },
            "colorscale": [
             [
              0,
              "#0d0887"
             ],
             [
              0.1111111111111111,
              "#46039f"
             ],
             [
              0.2222222222222222,
              "#7201a8"
             ],
             [
              0.3333333333333333,
              "#9c179e"
             ],
             [
              0.4444444444444444,
              "#bd3786"
             ],
             [
              0.5555555555555556,
              "#d8576b"
             ],
             [
              0.6666666666666666,
              "#ed7953"
             ],
             [
              0.7777777777777778,
              "#fb9f3a"
             ],
             [
              0.8888888888888888,
              "#fdca26"
             ],
             [
              1,
              "#f0f921"
             ]
            ],
            "type": "heatmap"
           }
          ],
          "heatmapgl": [
           {
            "colorbar": {
             "outlinewidth": 0,
             "ticks": ""
            },
            "colorscale": [
             [
              0,
              "#0d0887"
             ],
             [
              0.1111111111111111,
              "#46039f"
             ],
             [
              0.2222222222222222,
              "#7201a8"
             ],
             [
              0.3333333333333333,
              "#9c179e"
             ],
             [
              0.4444444444444444,
              "#bd3786"
             ],
             [
              0.5555555555555556,
              "#d8576b"
             ],
             [
              0.6666666666666666,
              "#ed7953"
             ],
             [
              0.7777777777777778,
              "#fb9f3a"
             ],
             [
              0.8888888888888888,
              "#fdca26"
             ],
             [
              1,
              "#f0f921"
             ]
            ],
            "type": "heatmapgl"
           }
          ],
          "histogram": [
           {
            "marker": {
             "pattern": {
              "fillmode": "overlay",
              "size": 10,
              "solidity": 0.2
             }
            },
            "type": "histogram"
           }
          ],
          "histogram2d": [
           {
            "colorbar": {
             "outlinewidth": 0,
             "ticks": ""
            },
            "colorscale": [
             [
              0,
              "#0d0887"
             ],
             [
              0.1111111111111111,
              "#46039f"
             ],
             [
              0.2222222222222222,
              "#7201a8"
             ],
             [
              0.3333333333333333,
              "#9c179e"
             ],
             [
              0.4444444444444444,
              "#bd3786"
             ],
             [
              0.5555555555555556,
              "#d8576b"
             ],
             [
              0.6666666666666666,
              "#ed7953"
             ],
             [
              0.7777777777777778,
              "#fb9f3a"
             ],
             [
              0.8888888888888888,
              "#fdca26"
             ],
             [
              1,
              "#f0f921"
             ]
            ],
            "type": "histogram2d"
           }
          ],
          "histogram2dcontour": [
           {
            "colorbar": {
             "outlinewidth": 0,
             "ticks": ""
            },
            "colorscale": [
             [
              0,
              "#0d0887"
             ],
             [
              0.1111111111111111,
              "#46039f"
             ],
             [
              0.2222222222222222,
              "#7201a8"
             ],
             [
              0.3333333333333333,
              "#9c179e"
             ],
             [
              0.4444444444444444,
              "#bd3786"
             ],
             [
              0.5555555555555556,
              "#d8576b"
             ],
             [
              0.6666666666666666,
              "#ed7953"
             ],
             [
              0.7777777777777778,
              "#fb9f3a"
             ],
             [
              0.8888888888888888,
              "#fdca26"
             ],
             [
              1,
              "#f0f921"
             ]
            ],
            "type": "histogram2dcontour"
           }
          ],
          "mesh3d": [
           {
            "colorbar": {
             "outlinewidth": 0,
             "ticks": ""
            },
            "type": "mesh3d"
           }
          ],
          "parcoords": [
           {
            "line": {
             "colorbar": {
              "outlinewidth": 0,
              "ticks": ""
             }
            },
            "type": "parcoords"
           }
          ],
          "pie": [
           {
            "automargin": true,
            "type": "pie"
           }
          ],
          "scatter": [
           {
            "fillpattern": {
             "fillmode": "overlay",
             "size": 10,
             "solidity": 0.2
            },
            "type": "scatter"
           }
          ],
          "scatter3d": [
           {
            "line": {
             "colorbar": {
              "outlinewidth": 0,
              "ticks": ""
             }
            },
            "marker": {
             "colorbar": {
              "outlinewidth": 0,
              "ticks": ""
             }
            },
            "type": "scatter3d"
           }
          ],
          "scattercarpet": [
           {
            "marker": {
             "colorbar": {
              "outlinewidth": 0,
              "ticks": ""
             }
            },
            "type": "scattercarpet"
           }
          ],
          "scattergeo": [
           {
            "marker": {
             "colorbar": {
              "outlinewidth": 0,
              "ticks": ""
             }
            },
            "type": "scattergeo"
           }
          ],
          "scattergl": [
           {
            "marker": {
             "colorbar": {
              "outlinewidth": 0,
              "ticks": ""
             }
            },
            "type": "scattergl"
           }
          ],
          "scattermapbox": [
           {
            "marker": {
             "colorbar": {
              "outlinewidth": 0,
              "ticks": ""
             }
            },
            "type": "scattermapbox"
           }
          ],
          "scatterpolar": [
           {
            "marker": {
             "colorbar": {
              "outlinewidth": 0,
              "ticks": ""
             }
            },
            "type": "scatterpolar"
           }
          ],
          "scatterpolargl": [
           {
            "marker": {
             "colorbar": {
              "outlinewidth": 0,
              "ticks": ""
             }
            },
            "type": "scatterpolargl"
           }
          ],
          "scatterternary": [
           {
            "marker": {
             "colorbar": {
              "outlinewidth": 0,
              "ticks": ""
             }
            },
            "type": "scatterternary"
           }
          ],
          "surface": [
           {
            "colorbar": {
             "outlinewidth": 0,
             "ticks": ""
            },
            "colorscale": [
             [
              0,
              "#0d0887"
             ],
             [
              0.1111111111111111,
              "#46039f"
             ],
             [
              0.2222222222222222,
              "#7201a8"
             ],
             [
              0.3333333333333333,
              "#9c179e"
             ],
             [
              0.4444444444444444,
              "#bd3786"
             ],
             [
              0.5555555555555556,
              "#d8576b"
             ],
             [
              0.6666666666666666,
              "#ed7953"
             ],
             [
              0.7777777777777778,
              "#fb9f3a"
             ],
             [
              0.8888888888888888,
              "#fdca26"
             ],
             [
              1,
              "#f0f921"
             ]
            ],
            "type": "surface"
           }
          ],
          "table": [
           {
            "cells": {
             "fill": {
              "color": "#EBF0F8"
             },
             "line": {
              "color": "white"
             }
            },
            "header": {
             "fill": {
              "color": "#C8D4E3"
             },
             "line": {
              "color": "white"
             }
            },
            "type": "table"
           }
          ]
         },
         "layout": {
          "annotationdefaults": {
           "arrowcolor": "#2a3f5f",
           "arrowhead": 0,
           "arrowwidth": 1
          },
          "autotypenumbers": "strict",
          "coloraxis": {
           "colorbar": {
            "outlinewidth": 0,
            "ticks": ""
           }
          },
          "colorscale": {
           "diverging": [
            [
             0,
             "#8e0152"
            ],
            [
             0.1,
             "#c51b7d"
            ],
            [
             0.2,
             "#de77ae"
            ],
            [
             0.3,
             "#f1b6da"
            ],
            [
             0.4,
             "#fde0ef"
            ],
            [
             0.5,
             "#f7f7f7"
            ],
            [
             0.6,
             "#e6f5d0"
            ],
            [
             0.7,
             "#b8e186"
            ],
            [
             0.8,
             "#7fbc41"
            ],
            [
             0.9,
             "#4d9221"
            ],
            [
             1,
             "#276419"
            ]
           ],
           "sequential": [
            [
             0,
             "#0d0887"
            ],
            [
             0.1111111111111111,
             "#46039f"
            ],
            [
             0.2222222222222222,
             "#7201a8"
            ],
            [
             0.3333333333333333,
             "#9c179e"
            ],
            [
             0.4444444444444444,
             "#bd3786"
            ],
            [
             0.5555555555555556,
             "#d8576b"
            ],
            [
             0.6666666666666666,
             "#ed7953"
            ],
            [
             0.7777777777777778,
             "#fb9f3a"
            ],
            [
             0.8888888888888888,
             "#fdca26"
            ],
            [
             1,
             "#f0f921"
            ]
           ],
           "sequentialminus": [
            [
             0,
             "#0d0887"
            ],
            [
             0.1111111111111111,
             "#46039f"
            ],
            [
             0.2222222222222222,
             "#7201a8"
            ],
            [
             0.3333333333333333,
             "#9c179e"
            ],
            [
             0.4444444444444444,
             "#bd3786"
            ],
            [
             0.5555555555555556,
             "#d8576b"
            ],
            [
             0.6666666666666666,
             "#ed7953"
            ],
            [
             0.7777777777777778,
             "#fb9f3a"
            ],
            [
             0.8888888888888888,
             "#fdca26"
            ],
            [
             1,
             "#f0f921"
            ]
           ]
          },
          "colorway": [
           "#636efa",
           "#EF553B",
           "#00cc96",
           "#ab63fa",
           "#FFA15A",
           "#19d3f3",
           "#FF6692",
           "#B6E880",
           "#FF97FF",
           "#FECB52"
          ],
          "font": {
           "color": "#2a3f5f"
          },
          "geo": {
           "bgcolor": "white",
           "lakecolor": "white",
           "landcolor": "#E5ECF6",
           "showlakes": true,
           "showland": true,
           "subunitcolor": "white"
          },
          "hoverlabel": {
           "align": "left"
          },
          "hovermode": "closest",
          "mapbox": {
           "style": "light"
          },
          "paper_bgcolor": "white",
          "plot_bgcolor": "#E5ECF6",
          "polar": {
           "angularaxis": {
            "gridcolor": "white",
            "linecolor": "white",
            "ticks": ""
           },
           "bgcolor": "#E5ECF6",
           "radialaxis": {
            "gridcolor": "white",
            "linecolor": "white",
            "ticks": ""
           }
          },
          "scene": {
           "xaxis": {
            "backgroundcolor": "#E5ECF6",
            "gridcolor": "white",
            "gridwidth": 2,
            "linecolor": "white",
            "showbackground": true,
            "ticks": "",
            "zerolinecolor": "white"
           },
           "yaxis": {
            "backgroundcolor": "#E5ECF6",
            "gridcolor": "white",
            "gridwidth": 2,
            "linecolor": "white",
            "showbackground": true,
            "ticks": "",
            "zerolinecolor": "white"
           },
           "zaxis": {
            "backgroundcolor": "#E5ECF6",
            "gridcolor": "white",
            "gridwidth": 2,
            "linecolor": "white",
            "showbackground": true,
            "ticks": "",
            "zerolinecolor": "white"
           }
          },
          "shapedefaults": {
           "line": {
            "color": "#2a3f5f"
           }
          },
          "ternary": {
           "aaxis": {
            "gridcolor": "white",
            "linecolor": "white",
            "ticks": ""
           },
           "baxis": {
            "gridcolor": "white",
            "linecolor": "white",
            "ticks": ""
           },
           "bgcolor": "#E5ECF6",
           "caxis": {
            "gridcolor": "white",
            "linecolor": "white",
            "ticks": ""
           }
          },
          "title": {
           "x": 0.05
          },
          "xaxis": {
           "automargin": true,
           "gridcolor": "white",
           "linecolor": "white",
           "ticks": "",
           "title": {
            "standoff": 15
           },
           "zerolinecolor": "white",
           "zerolinewidth": 2
          },
          "yaxis": {
           "automargin": true,
           "gridcolor": "white",
           "linecolor": "white",
           "ticks": "",
           "title": {
            "standoff": 15
           },
           "zerolinecolor": "white",
           "zerolinewidth": 2
          }
         }
        },
        "xaxis": {
         "anchor": "y",
         "domain": [
          0,
          1
         ],
         "title": {
          "text": "朝代"
         }
        },
        "yaxis": {
         "anchor": "x",
         "domain": [
          0,
          1
         ],
         "title": {
          "text": "平均寿命"
         }
        }
       }
      }
     },
     "metadata": {},
     "output_type": "display_data"
    }
   ],
   "source": [
    "dynasty = [2, 23, 27, 5, 6, 15, 18, 19, 20, 21]\n",
    "df = pd.DataFrame({'朝代': [], '性别': [], '平均寿命': []})\n",
    "df_dy = pd.read_parquet('./parquet/DYNASTIES.parq')\n",
    "for dy in dynasty:\n",
    "    df.loc[len(df)] = [df_dy[df_dy['c_dy']==dy]['c_dynasty_chn'].values[0], '男', np.mean(tables['BIOG_MAIN'][(tables['BIOG_MAIN']['c_dy']==dy) & (tables['BIOG_MAIN']['c_female']==0)]['c_death_age'])]\n",
    "    df.loc[len(df)] = [df_dy[df_dy['c_dy']==dy]['c_dynasty_chn'].values[0], '女', np.mean(tables['BIOG_MAIN'][(tables['BIOG_MAIN']['c_dy']==dy) & (tables['BIOG_MAIN']['c_female']==1)]['c_death_age'])]\n",
    "fig = px.bar(df, x=\"朝代\", y=\"平均寿命\", color='性别', barmode='group')\n",
    "fig.show()"
   ]
  },
  {
   "cell_type": "code",
   "execution_count": 14,
   "metadata": {},
   "outputs": [],
   "source": [
    "migrate = {p: {'end': tables['BIOG_ADDR_DATA'][(tables['BIOG_ADDR_DATA']['c_addr_type']==10)&(tables['BIOG_ADDR_DATA']['c_personid']==p)]['c_addr_id'].values[0]} for p in tables['BIOG_ADDR_DATA'][tables['BIOG_ADDR_DATA']['c_addr_type']==10]['c_personid'].values}\n",
    "for index, row in tables['BIOG_ADDR_DATA'][tables['BIOG_ADDR_DATA']['c_addr_type']==9].iterrows():\n",
    "    migrate[row['c_personid']] = {'end': row['c_addr_id']}"
   ]
  },
  {
   "cell_type": "code",
   "execution_count": 15,
   "metadata": {},
   "outputs": [],
   "source": [
    "for p in set(migrate.keys()):\n",
    "    if len(tables['BIOG_ADDR_DATA'][(tables['BIOG_ADDR_DATA']['c_personid']==p)&(tables['BIOG_ADDR_DATA']['c_addr_type']==1)]['c_addr_id'].values)>0:\n",
    "        migrate[p]['start'] = tables['BIOG_ADDR_DATA'][(tables['BIOG_ADDR_DATA']['c_personid']==p)&(tables['BIOG_ADDR_DATA']['c_addr_type']==1)]['c_addr_id'].values[0]\n",
    "    else:\n",
    "        del migrate[p]"
   ]
  },
  {
   "cell_type": "code",
   "execution_count": 18,
   "metadata": {},
   "outputs": [
    {
     "data": {
      "text/html": [
       "<div>\n",
       "<style scoped>\n",
       "    .dataframe tbody tr th:only-of-type {\n",
       "        vertical-align: middle;\n",
       "    }\n",
       "\n",
       "    .dataframe tbody tr th {\n",
       "        vertical-align: top;\n",
       "    }\n",
       "\n",
       "    .dataframe thead th {\n",
       "        text-align: right;\n",
       "    }\n",
       "</style>\n",
       "<table border=\"1\" class=\"dataframe\">\n",
       "  <thead>\n",
       "    <tr style=\"text-align: right;\">\n",
       "      <th></th>\n",
       "      <th>c_addr_id</th>\n",
       "      <th>x_coord</th>\n",
       "      <th>y_coord</th>\n",
       "      <th>c_source_reference</th>\n",
       "      <th>c_source_id</th>\n",
       "      <th>c_notes</th>\n",
       "    </tr>\n",
       "  </thead>\n",
       "  <tbody>\n",
       "    <tr>\n",
       "      <th>0</th>\n",
       "      <td>1</td>\n",
       "      <td>0.0</td>\n",
       "      <td>0.0</td>\n",
       "      <td>None</td>\n",
       "      <td>None</td>\n",
       "      <td>None</td>\n",
       "    </tr>\n",
       "    <tr>\n",
       "      <th>1</th>\n",
       "      <td>2</td>\n",
       "      <td>0.0</td>\n",
       "      <td>0.0</td>\n",
       "      <td>None</td>\n",
       "      <td>None</td>\n",
       "      <td>None</td>\n",
       "    </tr>\n",
       "    <tr>\n",
       "      <th>2</th>\n",
       "      <td>3</td>\n",
       "      <td>0.0</td>\n",
       "      <td>0.0</td>\n",
       "      <td>None</td>\n",
       "      <td>None</td>\n",
       "      <td>None</td>\n",
       "    </tr>\n",
       "    <tr>\n",
       "      <th>3</th>\n",
       "      <td>4</td>\n",
       "      <td>0.0</td>\n",
       "      <td>0.0</td>\n",
       "      <td>None</td>\n",
       "      <td>None</td>\n",
       "      <td>None</td>\n",
       "    </tr>\n",
       "    <tr>\n",
       "      <th>4</th>\n",
       "      <td>5</td>\n",
       "      <td>0.0</td>\n",
       "      <td>0.0</td>\n",
       "      <td>None</td>\n",
       "      <td>None</td>\n",
       "      <td>None</td>\n",
       "    </tr>\n",
       "    <tr>\n",
       "      <th>...</th>\n",
       "      <td>...</td>\n",
       "      <td>...</td>\n",
       "      <td>...</td>\n",
       "      <td>...</td>\n",
       "      <td>...</td>\n",
       "      <td>...</td>\n",
       "    </tr>\n",
       "    <tr>\n",
       "      <th>19244</th>\n",
       "      <td>500026</td>\n",
       "      <td>0.0</td>\n",
       "      <td>0.0</td>\n",
       "      <td>None</td>\n",
       "      <td>None</td>\n",
       "      <td>None</td>\n",
       "    </tr>\n",
       "    <tr>\n",
       "      <th>19245</th>\n",
       "      <td>500027</td>\n",
       "      <td>0.0</td>\n",
       "      <td>0.0</td>\n",
       "      <td>None</td>\n",
       "      <td>None</td>\n",
       "      <td>None</td>\n",
       "    </tr>\n",
       "    <tr>\n",
       "      <th>19246</th>\n",
       "      <td>500028</td>\n",
       "      <td>0.0</td>\n",
       "      <td>0.0</td>\n",
       "      <td>None</td>\n",
       "      <td>None</td>\n",
       "      <td>None</td>\n",
       "    </tr>\n",
       "    <tr>\n",
       "      <th>19247</th>\n",
       "      <td>500029</td>\n",
       "      <td>0.0</td>\n",
       "      <td>0.0</td>\n",
       "      <td>None</td>\n",
       "      <td>None</td>\n",
       "      <td>None</td>\n",
       "    </tr>\n",
       "    <tr>\n",
       "      <th>19248</th>\n",
       "      <td>500030</td>\n",
       "      <td>0.0</td>\n",
       "      <td>0.0</td>\n",
       "      <td>None</td>\n",
       "      <td>None</td>\n",
       "      <td>None</td>\n",
       "    </tr>\n",
       "  </tbody>\n",
       "</table>\n",
       "<p>19249 rows × 6 columns</p>\n",
       "</div>"
      ],
      "text/plain": [
       "       c_addr_id  x_coord  y_coord c_source_reference c_source_id c_notes\n",
       "0              1      0.0      0.0               None        None    None\n",
       "1              2      0.0      0.0               None        None    None\n",
       "2              3      0.0      0.0               None        None    None\n",
       "3              4      0.0      0.0               None        None    None\n",
       "4              5      0.0      0.0               None        None    None\n",
       "...          ...      ...      ...                ...         ...     ...\n",
       "19244     500026      0.0      0.0               None        None    None\n",
       "19245     500027      0.0      0.0               None        None    None\n",
       "19246     500028      0.0      0.0               None        None    None\n",
       "19247     500029      0.0      0.0               None        None    None\n",
       "19248     500030      0.0      0.0               None        None    None\n",
       "\n",
       "[19249 rows x 6 columns]"
      ]
     },
     "execution_count": 18,
     "metadata": {},
     "output_type": "execute_result"
    }
   ],
   "source": [
    "tables['ADDR_XY']"
   ]
  },
  {
   "cell_type": "code",
   "execution_count": 19,
   "metadata": {},
   "outputs": [
    {
     "data": {
      "text/html": [
       "<div>\n",
       "<style scoped>\n",
       "    .dataframe tbody tr th:only-of-type {\n",
       "        vertical-align: middle;\n",
       "    }\n",
       "\n",
       "    .dataframe tbody tr th {\n",
       "        vertical-align: top;\n",
       "    }\n",
       "\n",
       "    .dataframe thead th {\n",
       "        text-align: right;\n",
       "    }\n",
       "</style>\n",
       "<table border=\"1\" class=\"dataframe\">\n",
       "  <thead>\n",
       "    <tr style=\"text-align: right;\">\n",
       "      <th></th>\n",
       "      <th>c_addr_id</th>\n",
       "      <th>c_addr_cbd</th>\n",
       "      <th>c_name</th>\n",
       "      <th>c_name_chn</th>\n",
       "      <th>c_admin_type</th>\n",
       "      <th>c_firstyear</th>\n",
       "      <th>c_lastyear</th>\n",
       "      <th>x_coord</th>\n",
       "      <th>y_coord</th>\n",
       "      <th>belongs1_ID</th>\n",
       "      <th>belongs1_Name</th>\n",
       "      <th>belongs2_ID</th>\n",
       "      <th>belongs2_Name</th>\n",
       "      <th>belongs3_ID</th>\n",
       "      <th>belongs3_Name</th>\n",
       "      <th>belongs4_ID</th>\n",
       "      <th>belongs4_Name</th>\n",
       "      <th>belongs5_ID</th>\n",
       "      <th>belongs5_Name</th>\n",
       "    </tr>\n",
       "  </thead>\n",
       "  <tbody>\n",
       "    <tr>\n",
       "      <th>0</th>\n",
       "      <td>16819</td>\n",
       "      <td>None</td>\n",
       "      <td>Baodi</td>\n",
       "      <td>寶坻</td>\n",
       "      <td>Xian</td>\n",
       "      <td>1235.0</td>\n",
       "      <td>1367.0</td>\n",
       "      <td>117.302422</td>\n",
       "      <td>39.725895</td>\n",
       "      <td>16814.0</td>\n",
       "      <td>大都路</td>\n",
       "      <td>16777.0</td>\n",
       "      <td>中書省</td>\n",
       "      <td>16776.0</td>\n",
       "      <td>元朝</td>\n",
       "      <td>NaN</td>\n",
       "      <td>None</td>\n",
       "      <td>NaN</td>\n",
       "      <td>None</td>\n",
       "    </tr>\n",
       "    <tr>\n",
       "      <th>1</th>\n",
       "      <td>16799</td>\n",
       "      <td>None</td>\n",
       "      <td>Xintai</td>\n",
       "      <td>新泰</td>\n",
       "      <td>Xian</td>\n",
       "      <td>1235.0</td>\n",
       "      <td>1367.0</td>\n",
       "      <td>117.755882</td>\n",
       "      <td>35.909660</td>\n",
       "      <td>16795.0</td>\n",
       "      <td>泰安州</td>\n",
       "      <td>16777.0</td>\n",
       "      <td>中書省</td>\n",
       "      <td>16776.0</td>\n",
       "      <td>元朝</td>\n",
       "      <td>NaN</td>\n",
       "      <td>None</td>\n",
       "      <td>NaN</td>\n",
       "      <td>None</td>\n",
       "    </tr>\n",
       "    <tr>\n",
       "      <th>2</th>\n",
       "      <td>16816</td>\n",
       "      <td>None</td>\n",
       "      <td>Wanping</td>\n",
       "      <td>宛平</td>\n",
       "      <td>Xian</td>\n",
       "      <td>1235.0</td>\n",
       "      <td>1367.0</td>\n",
       "      <td>NaN</td>\n",
       "      <td>NaN</td>\n",
       "      <td>16814.0</td>\n",
       "      <td>大都路</td>\n",
       "      <td>16777.0</td>\n",
       "      <td>中書省</td>\n",
       "      <td>16776.0</td>\n",
       "      <td>元朝</td>\n",
       "      <td>NaN</td>\n",
       "      <td>None</td>\n",
       "      <td>NaN</td>\n",
       "      <td>None</td>\n",
       "    </tr>\n",
       "    <tr>\n",
       "      <th>3</th>\n",
       "      <td>17194</td>\n",
       "      <td>None</td>\n",
       "      <td>Pingjin</td>\n",
       "      <td>平晉</td>\n",
       "      <td>Xian</td>\n",
       "      <td>1235.0</td>\n",
       "      <td>1367.0</td>\n",
       "      <td>112.566277</td>\n",
       "      <td>37.736397</td>\n",
       "      <td>17191.0</td>\n",
       "      <td>冀寧路</td>\n",
       "      <td>16777.0</td>\n",
       "      <td>中書省</td>\n",
       "      <td>16776.0</td>\n",
       "      <td>元朝</td>\n",
       "      <td>NaN</td>\n",
       "      <td>None</td>\n",
       "      <td>NaN</td>\n",
       "      <td>None</td>\n",
       "    </tr>\n",
       "    <tr>\n",
       "      <th>4</th>\n",
       "      <td>17230</td>\n",
       "      <td>None</td>\n",
       "      <td>Jian Zhou</td>\n",
       "      <td>堅州</td>\n",
       "      <td>Zhou</td>\n",
       "      <td>1235.0</td>\n",
       "      <td>1367.0</td>\n",
       "      <td>113.285347</td>\n",
       "      <td>39.176880</td>\n",
       "      <td>17191.0</td>\n",
       "      <td>冀寧路</td>\n",
       "      <td>16777.0</td>\n",
       "      <td>中書省</td>\n",
       "      <td>16776.0</td>\n",
       "      <td>元朝</td>\n",
       "      <td>NaN</td>\n",
       "      <td>None</td>\n",
       "      <td>NaN</td>\n",
       "      <td>None</td>\n",
       "    </tr>\n",
       "    <tr>\n",
       "      <th>...</th>\n",
       "      <td>...</td>\n",
       "      <td>...</td>\n",
       "      <td>...</td>\n",
       "      <td>...</td>\n",
       "      <td>...</td>\n",
       "      <td>...</td>\n",
       "      <td>...</td>\n",
       "      <td>...</td>\n",
       "      <td>...</td>\n",
       "      <td>...</td>\n",
       "      <td>...</td>\n",
       "      <td>...</td>\n",
       "      <td>...</td>\n",
       "      <td>...</td>\n",
       "      <td>...</td>\n",
       "      <td>...</td>\n",
       "      <td>...</td>\n",
       "      <td>...</td>\n",
       "      <td>...</td>\n",
       "    </tr>\n",
       "    <tr>\n",
       "      <th>51262</th>\n",
       "      <td>600271</td>\n",
       "      <td>None</td>\n",
       "      <td>Suide</td>\n",
       "      <td>綏德</td>\n",
       "      <td>Xian</td>\n",
       "      <td>1224.0</td>\n",
       "      <td>1234.0</td>\n",
       "      <td>110.263362</td>\n",
       "      <td>37.502940</td>\n",
       "      <td>3721.0</td>\n",
       "      <td>綏德州</td>\n",
       "      <td>3709.0</td>\n",
       "      <td>延安府</td>\n",
       "      <td>3708.0</td>\n",
       "      <td>鄜延路</td>\n",
       "      <td>2814.0</td>\n",
       "      <td>金朝</td>\n",
       "      <td>NaN</td>\n",
       "      <td>None</td>\n",
       "    </tr>\n",
       "    <tr>\n",
       "      <th>51263</th>\n",
       "      <td>600272</td>\n",
       "      <td>None</td>\n",
       "      <td>Mizhi</td>\n",
       "      <td>米脂</td>\n",
       "      <td>Xian</td>\n",
       "      <td>1224.0</td>\n",
       "      <td>1234.0</td>\n",
       "      <td>110.183754</td>\n",
       "      <td>37.755417</td>\n",
       "      <td>3721.0</td>\n",
       "      <td>綏德州</td>\n",
       "      <td>3709.0</td>\n",
       "      <td>延安府</td>\n",
       "      <td>3708.0</td>\n",
       "      <td>鄜延路</td>\n",
       "      <td>2814.0</td>\n",
       "      <td>金朝</td>\n",
       "      <td>NaN</td>\n",
       "      <td>None</td>\n",
       "    </tr>\n",
       "    <tr>\n",
       "      <th>51264</th>\n",
       "      <td>600273</td>\n",
       "      <td>None</td>\n",
       "      <td>Siwu</td>\n",
       "      <td>嗣武</td>\n",
       "      <td>Xian</td>\n",
       "      <td>1224.0</td>\n",
       "      <td>1234.0</td>\n",
       "      <td>110.060915</td>\n",
       "      <td>37.867172</td>\n",
       "      <td>3721.0</td>\n",
       "      <td>綏德州</td>\n",
       "      <td>3709.0</td>\n",
       "      <td>延安府</td>\n",
       "      <td>3708.0</td>\n",
       "      <td>鄜延路</td>\n",
       "      <td>2814.0</td>\n",
       "      <td>金朝</td>\n",
       "      <td>NaN</td>\n",
       "      <td>None</td>\n",
       "    </tr>\n",
       "    <tr>\n",
       "      <th>51265</th>\n",
       "      <td>600274</td>\n",
       "      <td>None</td>\n",
       "      <td>Suiping</td>\n",
       "      <td>綏平</td>\n",
       "      <td>Xian</td>\n",
       "      <td>1224.0</td>\n",
       "      <td>1234.0</td>\n",
       "      <td>109.849550</td>\n",
       "      <td>37.355351</td>\n",
       "      <td>3721.0</td>\n",
       "      <td>綏德州</td>\n",
       "      <td>3709.0</td>\n",
       "      <td>延安府</td>\n",
       "      <td>3708.0</td>\n",
       "      <td>鄜延路</td>\n",
       "      <td>2814.0</td>\n",
       "      <td>金朝</td>\n",
       "      <td>NaN</td>\n",
       "      <td>None</td>\n",
       "    </tr>\n",
       "    <tr>\n",
       "      <th>51266</th>\n",
       "      <td>600275</td>\n",
       "      <td>None</td>\n",
       "      <td>Huaining</td>\n",
       "      <td>懷寧</td>\n",
       "      <td>Xian</td>\n",
       "      <td>1224.0</td>\n",
       "      <td>1234.0</td>\n",
       "      <td>110.102759</td>\n",
       "      <td>37.413355</td>\n",
       "      <td>3721.0</td>\n",
       "      <td>綏德州</td>\n",
       "      <td>3709.0</td>\n",
       "      <td>延安府</td>\n",
       "      <td>3708.0</td>\n",
       "      <td>鄜延路</td>\n",
       "      <td>2814.0</td>\n",
       "      <td>金朝</td>\n",
       "      <td>NaN</td>\n",
       "      <td>None</td>\n",
       "    </tr>\n",
       "  </tbody>\n",
       "</table>\n",
       "<p>51267 rows × 19 columns</p>\n",
       "</div>"
      ],
      "text/plain": [
       "       c_addr_id c_addr_cbd     c_name c_name_chn c_admin_type  c_firstyear  \\\n",
       "0          16819       None      Baodi         寶坻         Xian       1235.0   \n",
       "1          16799       None     Xintai         新泰         Xian       1235.0   \n",
       "2          16816       None    Wanping         宛平         Xian       1235.0   \n",
       "3          17194       None    Pingjin         平晉         Xian       1235.0   \n",
       "4          17230       None  Jian Zhou         堅州         Zhou       1235.0   \n",
       "...          ...        ...        ...        ...          ...          ...   \n",
       "51262     600271       None      Suide         綏德         Xian       1224.0   \n",
       "51263     600272       None      Mizhi         米脂         Xian       1224.0   \n",
       "51264     600273       None       Siwu         嗣武         Xian       1224.0   \n",
       "51265     600274       None    Suiping         綏平         Xian       1224.0   \n",
       "51266     600275       None   Huaining         懷寧         Xian       1224.0   \n",
       "\n",
       "       c_lastyear     x_coord    y_coord  belongs1_ID belongs1_Name  \\\n",
       "0          1367.0  117.302422  39.725895      16814.0           大都路   \n",
       "1          1367.0  117.755882  35.909660      16795.0           泰安州   \n",
       "2          1367.0         NaN        NaN      16814.0           大都路   \n",
       "3          1367.0  112.566277  37.736397      17191.0           冀寧路   \n",
       "4          1367.0  113.285347  39.176880      17191.0           冀寧路   \n",
       "...           ...         ...        ...          ...           ...   \n",
       "51262      1234.0  110.263362  37.502940       3721.0           綏德州   \n",
       "51263      1234.0  110.183754  37.755417       3721.0           綏德州   \n",
       "51264      1234.0  110.060915  37.867172       3721.0           綏德州   \n",
       "51265      1234.0  109.849550  37.355351       3721.0           綏德州   \n",
       "51266      1234.0  110.102759  37.413355       3721.0           綏德州   \n",
       "\n",
       "       belongs2_ID belongs2_Name  belongs3_ID belongs3_Name  belongs4_ID  \\\n",
       "0          16777.0           中書省      16776.0            元朝          NaN   \n",
       "1          16777.0           中書省      16776.0            元朝          NaN   \n",
       "2          16777.0           中書省      16776.0            元朝          NaN   \n",
       "3          16777.0           中書省      16776.0            元朝          NaN   \n",
       "4          16777.0           中書省      16776.0            元朝          NaN   \n",
       "...            ...           ...          ...           ...          ...   \n",
       "51262       3709.0           延安府       3708.0           鄜延路       2814.0   \n",
       "51263       3709.0           延安府       3708.0           鄜延路       2814.0   \n",
       "51264       3709.0           延安府       3708.0           鄜延路       2814.0   \n",
       "51265       3709.0           延安府       3708.0           鄜延路       2814.0   \n",
       "51266       3709.0           延安府       3708.0           鄜延路       2814.0   \n",
       "\n",
       "      belongs4_Name  belongs5_ID belongs5_Name  \n",
       "0              None          NaN          None  \n",
       "1              None          NaN          None  \n",
       "2              None          NaN          None  \n",
       "3              None          NaN          None  \n",
       "4              None          NaN          None  \n",
       "...             ...          ...           ...  \n",
       "51262            金朝          NaN          None  \n",
       "51263            金朝          NaN          None  \n",
       "51264            金朝          NaN          None  \n",
       "51265            金朝          NaN          None  \n",
       "51266            金朝          NaN          None  \n",
       "\n",
       "[51267 rows x 19 columns]"
      ]
     },
     "execution_count": 19,
     "metadata": {},
     "output_type": "execute_result"
    }
   ],
   "source": [
    "tables['ADDRESSES']"
   ]
  },
  {
   "cell_type": "code",
   "execution_count": 2,
   "metadata": {},
   "outputs": [],
   "source": [
    "G = nx.DiGraph()\n",
    "df1 = tables['BIOG_ADDR_DATA'][tables['BIOG_ADDR_DATA']['c_personid']==3767]\n",
    "df1 = df1.sort_values(by=\"c_sequence\", inplace=False, ascending=True)\n",
    "addrs = df1['c_addr_id'].values\n",
    "for i in range(len(addrs)):\n",
    "    G.add_node(tables['ADDRESSES'][tables['ADDRESSES']['c_addr_id']==addrs[i]]['c_name_chn'].values[0],\n",
    "        x = tables['ADDRESSES'][tables['ADDRESSES']['c_addr_id']==addrs[i]]['x_coord'].values[0],\n",
    "        y = tables['ADDRESSES'][tables['ADDRESSES']['c_addr_id']==addrs[i]]['y_coord'].values[0]\n",
    "    )\n",
    "    if i<len(addrs)-1:\n",
    "        G.add_edge(\n",
    "            tables['ADDRESSES'][tables['ADDRESSES']['c_addr_id']==addrs[i]]['c_name_chn'].values[0],\n",
    "            tables['ADDRESSES'][tables['ADDRESSES']['c_addr_id']==addrs[i+1]]['c_name_chn'].values[0]\n",
    "        )\n",
    "G.remove_edges_from(nx.selfloop_edges(G))"
   ]
  },
  {
   "cell_type": "code",
   "execution_count": 11,
   "metadata": {},
   "outputs": [
    {
     "data": {
      "image/png": "[encoded data removed]",
      "text/plain": [
       "<Figure size 864x864 with 1 Axes>"
      ]
     },
     "metadata": {},
     "output_type": "display_data"
    }
   ],
   "source": [
    "import matplotlib.pyplot as plt\n",
    "\n",
    "plt.figure(figsize=(12, 12))\n",
    "ax=plt.gca()\n",
    "\n",
    "nx.draw(G, pos={k: (G.nodes[k]['x'], G.nodes[k]['y']) for k in G.nodes}, ax=ax, node_color='lightgreen', edge_color='red', with_labels = True, font_size=18, node_size=100)\n",
    "plt.savefig(\"movement.pdf\", bbox_inches='tight')\n",
    "plt.show()"
   ]
  },
  {
   "cell_type": "code",
   "execution_count": null,
   "metadata": {},
   "outputs": [],
   "source": [
    "G = nx.DiGraph()\n",
    "for p in migrate:\n",
    "    if migrate[p]['start'] in tables['ADDR_XY']['c_addr_id'].values and migrate[p]['end'] in tables['ADDR_XY']['c_addr_id'].values:\n",
    "        G.add_node(\n",
    "            tables['ADDRESSES'][tables['ADDRESSES']['c_addr_id']==migrate[p]['start']]['c_name_chn'].values[0],\n",
    "            x = tables['ADDR_XY'][tables['ADDR_XY']['c_addr_id']==migrate[p]['start']]['x_coord'],\n",
    "            y = tables['ADDR_XY'][tables['ADDR_XY']['c_addr_id']==migrate[p]['start']]['y_coord'],\n",
    "        )\n",
    "        G.add_node(\n",
    "            tables['ADDRESSES'][tables['ADDRESSES']['c_addr_id']==migrate[p]['end']]['c_name_chn'].values[0],\n",
    "            x = tables['ADDR_XY'][tables['ADDR_XY']['c_addr_id']==migrate[p]['end']]['x_coord'],\n",
    "            y = tables['ADDR_XY'][tables['ADDR_XY']['c_addr_id']==migrate[p]['end']]['y_coord'],\n",
    "        )"
   ]
  },
  {
   "cell_type": "code",
   "execution_count": 46,
   "metadata": {},
   "outputs": [
    {
     "data": {
      "text/html": [
       "<div>\n",
       "<style scoped>\n",
       "    .dataframe tbody tr th:only-of-type {\n",
       "        vertical-align: middle;\n",
       "    }\n",
       "\n",
       "    .dataframe tbody tr th {\n",
       "        vertical-align: top;\n",
       "    }\n",
       "\n",
       "    .dataframe thead th {\n",
       "        text-align: right;\n",
       "    }\n",
       "</style>\n",
       "<table border=\"1\" class=\"dataframe\">\n",
       "  <thead>\n",
       "    <tr style=\"text-align: right;\">\n",
       "      <th></th>\n",
       "      <th>c_addr_id</th>\n",
       "      <th>x_coord</th>\n",
       "      <th>y_coord</th>\n",
       "      <th>c_source_reference</th>\n",
       "      <th>c_source_id</th>\n",
       "      <th>c_notes</th>\n",
       "    </tr>\n",
       "  </thead>\n",
       "  <tbody>\n",
       "    <tr>\n",
       "      <th>12970</th>\n",
       "      <td>15003</td>\n",
       "      <td>110.332306</td>\n",
       "      <td>34.835129</td>\n",
       "      <td>95497</td>\n",
       "      <td>None</td>\n",
       "      <td>None</td>\n",
       "    </tr>\n",
       "  </tbody>\n",
       "</table>\n",
       "</div>"
      ],
      "text/plain": [
       "       c_addr_id     x_coord    y_coord c_source_reference c_source_id c_notes\n",
       "12970      15003  110.332306  34.835129              95497        None    None"
      ]
     },
     "execution_count": 46,
     "metadata": {},
     "output_type": "execute_result"
    }
   ],
   "source": [
    "tables['ADDR_XY'][tables['ADDR_XY']['c_addr_id']==15003]"
   ]
  },
  {
   "cell_type": "code",
   "execution_count": 16,
   "metadata": {},
   "outputs": [
    {
     "data": {
      "text/plain": [
       "'射手'"
      ]
     },
     "execution_count": 16,
     "metadata": {},
     "output_type": "execute_result"
    }
   ],
   "source": [
    "def constellation(month, day):\n",
    "    if (month==3 and day>=21) or (month==4 and day<=20):\n",
    "        return '白羊'\n",
    "    elif (month==4 and day>=21) or (month==5 and day<=21):\n",
    "        return '金牛'\n",
    "    elif (month==5 and day>=22) or (month==6 and day<=21):\n",
    "        return '双子'\n",
    "    elif (month==6 and day>=22) or (month==7 and day<=22):\n",
    "        return '巨蟹'\n",
    "    elif (month==7 and day>=23) or (month==8 and day<=23):\n",
    "        return '狮子'\n",
    "    elif (month==8 and day>=24) or (month==9 and day<=23):\n",
    "        return '处女'\n",
    "    elif (month==9 and day>=24) or (month==10 and day<=23):\n",
    "        return '天秤'\n",
    "    elif (month==10 and day>=24) or (month==11 and day<=22):\n",
    "        return '天蝎'\n",
    "    elif (month==11 and day>=23) or (month==12 and day<=21):\n",
    "        return '射手'\n",
    "    elif (month==12 and day>=22) or (month==1 and day<=20):\n",
    "        return '摩羯'\n",
    "    elif (month==1 and day>=21) or (month==2 and day<=19):\n",
    "        return '水瓶'\n",
    "    elif (month==2 and day>=20) or (month==3 and day<=20):\n",
    "        return '双鱼'\n",
    "\n",
    "constellation(12, 5)"
   ]
  },
  {
   "cell_type": "code",
   "execution_count": 18,
   "metadata": {},
   "outputs": [
    {
     "data": {
      "application/vnd.plotly.v1+json": {
       "config": {
        "plotlyServerURL": "https://plot.ly"
       },
       "data": [
        {
         "alignmentgroup": "True",
         "hovertemplate": "出生月份=%{x}<br>计数=%{marker.color}<extra></extra>",
         "legendgroup": "",
         "marker": {
          "color": [
           1169,
           1160,
           1038,
           1027,
           1020,
           951,
           839,
           817,
           767,
           734,
           716,
           705
          ],
          "coloraxis": "coloraxis",
          "pattern": {
           "shape": ""
          }
         },
         "name": "",
         "offsetgroup": "",
         "orientation": "v",
         "showlegend": false,
         "textposition": "auto",
         "type": "bar",
         "x": [
          10,
          9,
          12,
          11,
          1,
          8,
          2,
          7,
          6,
          4,
          3,
          5
         ],
         "xaxis": "x",
         "y": [
          1169,
          1160,
          1038,
          1027,
          1020,
          951,
          839,
          817,
          767,
          734,
          716,
          705
         ],
         "yaxis": "y"
        }
       ],
       "layout": {
        "barmode": "relative",
        "coloraxis": {
         "colorbar": {
          "title": {
           "text": "计数"
          }
         },
         "colorscale": [
          [
           0,
           "#0d0887"
          ],
          [
           0.1111111111111111,
           "#46039f"
          ],
          [
           0.2222222222222222,
           "#7201a8"
          ],
          [
           0.3333333333333333,
           "#9c179e"
          ],
          [
           0.4444444444444444,
           "#bd3786"
          ],
          [
           0.5555555555555556,
           "#d8576b"
          ],
          [
           0.6666666666666666,
           "#ed7953"
          ],
          [
           0.7777777777777778,
           "#fb9f3a"
          ],
          [
           0.8888888888888888,
           "#fdca26"
          ],
          [
           1,
           "#f0f921"
          ]
         ]
        },
        "legend": {
         "tracegroupgap": 0
        },
        "margin": {
         "t": 60
        },
        "template": {
         "data": {
          "bar": [
           {
            "error_x": {
             "color": "#2a3f5f"
            },
            "error_y": {
             "color": "#2a3f5f"
            },
            "marker": {
             "line": {
              "color": "#E5ECF6",
              "width": 0.5
             },
             "pattern": {
              "fillmode": "overlay",
              "size": 10,
              "solidity": 0.2
             }
            },
            "type": "bar"
           }
          ],
          "barpolar": [
           {
            "marker": {
             "line": {
              "color": "#E5ECF6",
              "width": 0.5
             },
             "pattern": {
              "fillmode": "overlay",
              "size": 10,
              "solidity": 0.2
             }
            },
            "type": "barpolar"
           }
          ],
          "carpet": [
           {
            "aaxis": {
             "endlinecolor": "#2a3f5f",
             "gridcolor": "white",
             "linecolor": "white",
             "minorgridcolor": "white",
             "startlinecolor": "#2a3f5f"
            },
            "baxis": {
             "endlinecolor": "#2a3f5f",
             "gridcolor": "white",
             "linecolor": "white",
             "minorgridcolor": "white",
             "startlinecolor": "#2a3f5f"
            },
            "type": "carpet"
           }
          ],
          "choropleth": [
           {
            "colorbar": {
             "outlinewidth": 0,
             "ticks": ""
            },
            "type": "choropleth"
           }
          ],
          "contour": [
           {
            "colorbar": {
             "outlinewidth": 0,
             "ticks": ""
            },
            "colorscale": [
             [
              0,
              "#0d0887"
             ],
             [
              0.1111111111111111,
              "#46039f"
             ],
             [
              0.2222222222222222,
              "#7201a8"
             ],
             [
              0.3333333333333333,
              "#9c179e"
             ],
             [
              0.4444444444444444,
              "#bd3786"
             ],
             [
              0.5555555555555556,
              "#d8576b"
             ],
             [
              0.6666666666666666,
              "#ed7953"
             ],
             [
              0.7777777777777778,
              "#fb9f3a"
             ],
             [
              0.8888888888888888,
              "#fdca26"
             ],
             [
              1,
              "#f0f921"
             ]
            ],
            "type": "contour"
           }
          ],
          "contourcarpet": [
           {
            "colorbar": {
             "outlinewidth": 0,
             "ticks": ""
            },
            "type": "contourcarpet"
           }
          ],
          "heatmap": [
           {
            "colorbar": {
             "outlinewidth": 0,
             "ticks": ""
            },
            "colorscale": [
             [
              0,
              "#0d0887"
             ],
             [
              0.1111111111111111,
              "#46039f"
             ],
             [
              0.2222222222222222,
              "#7201a8"
             ],
             [
              0.3333333333333333,
              "#9c179e"
             ],
             [
              0.4444444444444444,
              "#bd3786"
             ],
             [
              0.5555555555555556,
              "#d8576b"
             ],
             [
              0.6666666666666666,
              "#ed7953"
             ],
             [
              0.7777777777777778,
              "#fb9f3a"
             ],
             [
              0.8888888888888888,
              "#fdca26"
             ],
             [
              1,
              "#f0f921"
             ]
            ],
            "type": "heatmap"
           }
          ],
          "heatmapgl": [
           {
            "colorbar": {
             "outlinewidth": 0,
             "ticks": ""
            },
            "colorscale": [
             [
              0,
              "#0d0887"
             ],
             [
              0.1111111111111111,
              "#46039f"
             ],
             [
              0.2222222222222222,
              "#7201a8"
             ],
             [
              0.3333333333333333,
              "#9c179e"
             ],
             [
              0.4444444444444444,
              "#bd3786"
             ],
             [
              0.5555555555555556,
              "#d8576b"
             ],
             [
              0.6666666666666666,
              "#ed7953"
             ],
             [
              0.7777777777777778,
              "#fb9f3a"
             ],
             [
              0.8888888888888888,
              "#fdca26"
             ],
             [
              1,
              "#f0f921"
             ]
            ],
            "type": "heatmapgl"
           }
          ],
          "histogram": [
           {
            "marker": {
             "pattern": {
              "fillmode": "overlay",
              "size": 10,
              "solidity": 0.2
             }
            },
            "type": "histogram"
           }
          ],
          "histogram2d": [
           {
            "colorbar": {
             "outlinewidth": 0,
             "ticks": ""
            },
            "colorscale": [
             [
              0,
              "#0d0887"
             ],
             [
              0.1111111111111111,
              "#46039f"
             ],
             [
              0.2222222222222222,
              "#7201a8"
             ],
             [
              0.3333333333333333,
              "#9c179e"
             ],
             [
              0.4444444444444444,
              "#bd3786"
             ],
             [
              0.5555555555555556,
              "#d8576b"
             ],
             [
              0.6666666666666666,
              "#ed7953"
             ],
             [
              0.7777777777777778,
              "#fb9f3a"
             ],
             [
              0.8888888888888888,
              "#fdca26"
             ],
             [
              1,
              "#f0f921"
             ]
            ],
            "type": "histogram2d"
           }
          ],
          "histogram2dcontour": [
           {
            "colorbar": {
             "outlinewidth": 0,
             "ticks": ""
            },
            "colorscale": [
             [
              0,
              "#0d0887"
             ],
             [
              0.1111111111111111,
              "#46039f"
             ],
             [
              0.2222222222222222,
              "#7201a8"
             ],
             [
              0.3333333333333333,
              "#9c179e"
             ],
             [
              0.4444444444444444,
              "#bd3786"
             ],
             [
              0.5555555555555556,
              "#d8576b"
             ],
             [
              0.6666666666666666,
              "#ed7953"
             ],
             [
              0.7777777777777778,
              "#fb9f3a"
             ],
             [
              0.8888888888888888,
              "#fdca26"
             ],
             [
              1,
              "#f0f921"
             ]
            ],
            "type": "histogram2dcontour"
           }
          ],
          "mesh3d": [
           {
            "colorbar": {
             "outlinewidth": 0,
             "ticks": ""
            },
            "type": "mesh3d"
           }
          ],
          "parcoords": [
           {
            "line": {
             "colorbar": {
              "outlinewidth": 0,
              "ticks": ""
             }
            },
            "type": "parcoords"
           }
          ],
          "pie": [
           {
            "automargin": true,
            "type": "pie"
           }
          ],
          "scatter": [
           {
            "fillpattern": {
             "fillmode": "overlay",
             "size": 10,
             "solidity": 0.2
            },
            "type": "scatter"
           }
          ],
          "scatter3d": [
           {
            "line": {
             "colorbar": {
              "outlinewidth": 0,
              "ticks": ""
             }
            },
            "marker": {
             "colorbar": {
              "outlinewidth": 0,
              "ticks": ""
             }
            },
            "type": "scatter3d"
           }
          ],
          "scattercarpet": [
           {
            "marker": {
             "colorbar": {
              "outlinewidth": 0,
              "ticks": ""
             }
            },
            "type": "scattercarpet"
           }
          ],
          "scattergeo": [
           {
            "marker": {
             "colorbar": {
              "outlinewidth": 0,
              "ticks": ""
             }
            },
            "type": "scattergeo"
           }
          ],
          "scattergl": [
           {
            "marker": {
             "colorbar": {
              "outlinewidth": 0,
              "ticks": ""
             }
            },
            "type": "scattergl"
           }
          ],
          "scattermapbox": [
           {
            "marker": {
             "colorbar": {
              "outlinewidth": 0,
              "ticks": ""
             }
            },
            "type": "scattermapbox"
           }
          ],
          "scatterpolar": [
           {
            "marker": {
             "colorbar": {
              "outlinewidth": 0,
              "ticks": ""
             }
            },
            "type": "scatterpolar"
           }
          ],
          "scatterpolargl": [
           {
            "marker": {
             "colorbar": {
              "outlinewidth": 0,
              "ticks": ""
             }
            },
            "type": "scatterpolargl"
           }
          ],
          "scatterternary": [
           {
            "marker": {
             "colorbar": {
              "outlinewidth": 0,
              "ticks": ""
             }
            },
            "type": "scatterternary"
           }
          ],
          "surface": [
           {
            "colorbar": {
             "outlinewidth": 0,
             "ticks": ""
            },
            "colorscale": [
             [
              0,
              "#0d0887"
             ],
             [
              0.1111111111111111,
              "#46039f"
             ],
             [
              0.2222222222222222,
              "#7201a8"
             ],
             [
              0.3333333333333333,
              "#9c179e"
             ],
             [
              0.4444444444444444,
              "#bd3786"
             ],
             [
              0.5555555555555556,
              "#d8576b"
             ],
             [
              0.6666666666666666,
              "#ed7953"
             ],
             [
              0.7777777777777778,
              "#fb9f3a"
             ],
             [
              0.8888888888888888,
              "#fdca26"
             ],
             [
              1,
              "#f0f921"
             ]
            ],
            "type": "surface"
           }
          ],
          "table": [
           {
            "cells": {
             "fill": {
              "color": "#EBF0F8"
             },
             "line": {
              "color": "white"
             }
            },
            "header": {
             "fill": {
              "color": "#C8D4E3"
             },
             "line": {
              "color": "white"
             }
            },
            "type": "table"
           }
          ]
         },
         "layout": {
          "annotationdefaults": {
           "arrowcolor": "#2a3f5f",
           "arrowhead": 0,
           "arrowwidth": 1
          },
          "autotypenumbers": "strict",
          "coloraxis": {
           "colorbar": {
            "outlinewidth": 0,
            "ticks": ""
           }
          },
          "colorscale": {
           "diverging": [
            [
             0,
             "#8e0152"
            ],
            [
             0.1,
             "#c51b7d"
            ],
            [
             0.2,
             "#de77ae"
            ],
            [
             0.3,
             "#f1b6da"
            ],
            [
             0.4,
             "#fde0ef"
            ],
            [
             0.5,
             "#f7f7f7"
            ],
            [
             0.6,
             "#e6f5d0"
            ],
            [
             0.7,
             "#b8e186"
            ],
            [
             0.8,
             "#7fbc41"
            ],
            [
             0.9,
             "#4d9221"
            ],
            [
             1,
             "#276419"
            ]
           ],
           "sequential": [
            [
             0,
             "#0d0887"
            ],
            [
             0.1111111111111111,
             "#46039f"
            ],
            [
             0.2222222222222222,
             "#7201a8"
            ],
            [
             0.3333333333333333,
             "#9c179e"
            ],
            [
             0.4444444444444444,
             "#bd3786"
            ],
            [
             0.5555555555555556,
             "#d8576b"
            ],
            [
             0.6666666666666666,
             "#ed7953"
            ],
            [
             0.7777777777777778,
             "#fb9f3a"
            ],
            [
             0.8888888888888888,
             "#fdca26"
            ],
            [
             1,
             "#f0f921"
            ]
           ],
           "sequentialminus": [
            [
             0,
             "#0d0887"
            ],
            [
             0.1111111111111111,
             "#46039f"
            ],
            [
             0.2222222222222222,
             "#7201a8"
            ],
            [
             0.3333333333333333,
             "#9c179e"
            ],
            [
             0.4444444444444444,
             "#bd3786"
            ],
            [
             0.5555555555555556,
             "#d8576b"
            ],
            [
             0.6666666666666666,
             "#ed7953"
            ],
            [
             0.7777777777777778,
             "#fb9f3a"
            ],
            [
             0.8888888888888888,
             "#fdca26"
            ],
            [
             1,
             "#f0f921"
            ]
           ]
          },
          "colorway": [
           "#636efa",
           "#EF553B",
           "#00cc96",
           "#ab63fa",
           "#FFA15A",
           "#19d3f3",
           "#FF6692",
           "#B6E880",
           "#FF97FF",
           "#FECB52"
          ],
          "font": {
           "color": "#2a3f5f"
          },
          "geo": {
           "bgcolor": "white",
           "lakecolor": "white",
           "landcolor": "#E5ECF6",
           "showlakes": true,
           "showland": true,
           "subunitcolor": "white"
          },
          "hoverlabel": {
           "align": "left"
          },
          "hovermode": "closest",
          "mapbox": {
           "style": "light"
          },
          "paper_bgcolor": "white",
          "plot_bgcolor": "#E5ECF6",
          "polar": {
           "angularaxis": {
            "gridcolor": "white",
            "linecolor": "white",
            "ticks": ""
           },
           "bgcolor": "#E5ECF6",
           "radialaxis": {
            "gridcolor": "white",
            "linecolor": "white",
            "ticks": ""
           }
          },
          "scene": {
           "xaxis": {
            "backgroundcolor": "#E5ECF6",
            "gridcolor": "white",
            "gridwidth": 2,
            "linecolor": "white",
            "showbackground": true,
            "ticks": "",
            "zerolinecolor": "white"
           },
           "yaxis": {
            "backgroundcolor": "#E5ECF6",
            "gridcolor": "white",
            "gridwidth": 2,
            "linecolor": "white",
            "showbackground": true,
            "ticks": "",
            "zerolinecolor": "white"
           },
           "zaxis": {
            "backgroundcolor": "#E5ECF6",
            "gridcolor": "white",
            "gridwidth": 2,
            "linecolor": "white",
            "showbackground": true,
            "ticks": "",
            "zerolinecolor": "white"
           }
          },
          "shapedefaults": {
           "line": {
            "color": "#2a3f5f"
           }
          },
          "ternary": {
           "aaxis": {
            "gridcolor": "white",
            "linecolor": "white",
            "ticks": ""
           },
           "baxis": {
            "gridcolor": "white",
            "linecolor": "white",
            "ticks": ""
           },
           "bgcolor": "#E5ECF6",
           "caxis": {
            "gridcolor": "white",
            "linecolor": "white",
            "ticks": ""
           }
          },
          "title": {
           "x": 0.05
          },
          "xaxis": {
           "automargin": true,
           "gridcolor": "white",
           "linecolor": "white",
           "ticks": "",
           "title": {
            "standoff": 15
           },
           "zerolinecolor": "white",
           "zerolinewidth": 2
          },
          "yaxis": {
           "automargin": true,
           "gridcolor": "white",
           "linecolor": "white",
           "ticks": "",
           "title": {
            "standoff": 15
           },
           "zerolinecolor": "white",
           "zerolinewidth": 2
          }
         }
        },
        "xaxis": {
         "anchor": "y",
         "domain": [
          0,
          1
         ],
         "title": {
          "text": "出生月份"
         }
        },
        "yaxis": {
         "anchor": "x",
         "domain": [
          0,
          1
         ],
         "title": {
          "text": "计数"
         }
        }
       }
      }
     },
     "metadata": {},
     "output_type": "display_data"
    }
   ],
   "source": [
    "months = tables['BIOG_MAIN']['c_by_month'][(tables['BIOG_MAIN']['c_by_month']>0)&(tables['BIOG_MAIN']['c_by_day']>0)].values\n",
    "days = tables['BIOG_MAIN']['c_by_day'][(tables['BIOG_MAIN']['c_by_month']>0)&(tables['BIOG_MAIN']['c_by_day']>0)].values\n",
    "\n",
    "stats = pd.value_counts(tables['BIOG_MAIN']['c_by_month'][tables['BIOG_MAIN']['c_by_month']>0])\n",
    "\n",
    "fig = px.bar({'出生月份': stats.index, '计数': stats.values}, x='出生月份', y='计数', color='计数')\n",
    "fig.show()"
   ]
  },
  {
   "cell_type": "code",
   "execution_count": 87,
   "metadata": {},
   "outputs": [
    {
     "data": {
      "text/plain": [
       "0    466148\n",
       "1     49340\n",
       "Name: c_female, dtype: int64"
      ]
     },
     "execution_count": 87,
     "metadata": {},
     "output_type": "execute_result"
    }
   ],
   "source": [
    "pd.value_counts(tables['BIOG_MAIN']['c_female'])"
   ]
  },
  {
   "cell_type": "code",
   "execution_count": 64,
   "metadata": {},
   "outputs": [
    {
     "data": {
      "text/plain": [
       "13.0    420\n",
       "10.0    419\n",
       "29.0    400\n",
       "24.0    394\n",
       "20.0    390\n",
       "15.0    390\n",
       "5.0     385\n",
       "28.0    382\n",
       "6.0     381\n",
       "21.0    379\n",
       "14.0    373\n",
       "1.0     372\n",
       "18.0    372\n",
       "7.0     370\n",
       "2.0     367\n",
       "19.0    360\n",
       "16.0    360\n",
       "12.0    357\n",
       "22.0    353\n",
       "8.0     351\n",
       "25.0    350\n",
       "4.0     350\n",
       "3.0     350\n",
       "9.0     344\n",
       "27.0    343\n",
       "17.0    341\n",
       "23.0    338\n",
       "11.0    337\n",
       "26.0    331\n",
       "0.0     267\n",
       "30.0    191\n",
       "31.0      1\n",
       "33.0      1\n",
       "dtype: int64"
      ]
     },
     "execution_count": 64,
     "metadata": {},
     "output_type": "execute_result"
    }
   ],
   "source": [
    "pd.value_counts(tables['BIOG_MAIN']['c_by_day'].values)"
   ]
  },
  {
   "cell_type": "code",
   "execution_count": 38,
   "metadata": {},
   "outputs": [
    {
     "data": {
      "text/plain": [
       "{1.0,\n",
       " 2.0,\n",
       " 3.0,\n",
       " 4.0,\n",
       " 5.0,\n",
       " 6.0,\n",
       " 7.0,\n",
       " 8.0,\n",
       " 9.0,\n",
       " 10.0,\n",
       " 11.0,\n",
       " 12.0,\n",
       " 13.0,\n",
       " 14.0,\n",
       " 15.0,\n",
       " 16.0,\n",
       " 17.0,\n",
       " 18.0,\n",
       " 19.0,\n",
       " 20.0,\n",
       " 21.0,\n",
       " 22.0,\n",
       " 23.0,\n",
       " 24.0,\n",
       " 25.0,\n",
       " 26.0,\n",
       " 27.0,\n",
       " 28.0,\n",
       " 29.0,\n",
       " 30.0,\n",
       " 31.0,\n",
       " 32.0,\n",
       " 34.0,\n",
       " 35.0,\n",
       " 36.0,\n",
       " 37.0,\n",
       " 38.0,\n",
       " 39.0,\n",
       " 40.0,\n",
       " 41.0,\n",
       " 42.0,\n",
       " 44.0,\n",
       " 45.0,\n",
       " 46.0,\n",
       " 47.0,\n",
       " 48.0,\n",
       " 49.0,\n",
       " 50.0,\n",
       " 51.0,\n",
       " 52.0,\n",
       " 53.0,\n",
       " 55.0,\n",
       " 56.0,\n",
       " 57.0,\n",
       " 58.0,\n",
       " 59.0,\n",
       " 60.0,\n",
       " 61.0,\n",
       " 62.0,\n",
       " 63.0,\n",
       " 64.0,\n",
       " 65.0,\n",
       " 66.0,\n",
       " 67.0,\n",
       " 68.0,\n",
       " 69.0,\n",
       " 72.0,\n",
       " 73.0,\n",
       " 75.0,\n",
       " 76.0,\n",
       " 77.0,\n",
       " 78.0,\n",
       " 81.0,\n",
       " 84.0}"
      ]
     },
     "execution_count": 38,
     "metadata": {},
     "output_type": "execute_result"
    }
   ],
   "source": [
    "set(tables['BIOG_MAIN']['c_dy'].values[tables['BIOG_MAIN']['c_dy'].values > 0])"
   ]
  },
  {
   "cell_type": "code",
   "execution_count": 3,
   "metadata": {},
   "outputs": [
    {
     "name": "stderr",
     "output_type": "stream",
     "text": [
      "/Users/DaweiFu/opt/anaconda3/lib/python3.9/site-packages/dtale/views.py:746: FutureWarning:\n",
      "\n",
      "['c_tertiary_type_notes', 'c_pages', 'c_secondary_source_author', 'c_notes', 'c_modified_by', 'c_modified_date'] did not aggregate successfully. If any error is raised this will raise in a future version of pandas. Drop these columns/ops to avoid this warning.\n",
      "\n"
     ]
    },
    {
     "data": {
      "text/plain": []
     },
     "execution_count": 3,
     "metadata": {},
     "output_type": "execute_result"
    }
   ],
   "source": [
    "import dtale\n",
    "dtale.show(tables['ASSOC_DATA'], open_browser=True)"
   ]
  },
  {
   "cell_type": "code",
   "execution_count": 5,
   "metadata": {},
   "outputs": [
    {
     "name": "stderr",
     "output_type": "stream",
     "text": [
      "/Users/DaweiFu/opt/anaconda3/lib/python3.9/site-packages/dtale/views.py:746: FutureWarning:\n",
      "\n",
      "['c_tribe', 'c_fl_ey_notes', 'c_fl_ly_notes', 'c_surname', 'c_surname_chn', 'c_mingzi', 'c_mingzi_chn', 'c_notes', 'c_surname_proper', 'c_mingzi_proper', 'c_name_proper', 'c_surname_rm', 'c_mingzi_rm', 'c_name_rm', 'c_created_by', 'c_created_date', 'c_modified_by', 'c_modified_date'] did not aggregate successfully. If any error is raised this will raise in a future version of pandas. Drop these columns/ops to avoid this warning.\n",
      "\n"
     ]
    },
    {
     "data": {
      "text/plain": []
     },
     "execution_count": 5,
     "metadata": {},
     "output_type": "execute_result"
    }
   ],
   "source": [
    "dtale.show(tables['BIOG_MAIN'], open_browser=True)"
   ]
  },
  {
   "cell_type": "code",
   "execution_count": 2,
   "metadata": {},
   "outputs": [],
   "source": [
    "def iter_association(personids, network, edge_color, assoc_type: str='03'):\n",
    "    if network is None:\n",
    "        network = nx.Graph()\n",
    "    new_personids = set()\n",
    "    if len(personids)==0:\n",
    "        return new_personids, network\n",
    "    \n",
    "    for personid in personids:\n",
    "        t = tables['ASSOC_DATA'][tables['ASSOC_DATA']['c_personid']==personid]\n",
    "        match_type = []\n",
    "        for c in t['c_assoc_code'].values:\n",
    "            match_type.append(tables['ASSOC_CODE_TYPE_REL']['c_assoc_type_id'][tables['ASSOC_CODE_TYPE_REL']['c_assoc_code']==c].values[0].startswith(assoc_type))\n",
    "        t = t[match_type]\n",
    "        scholar = []\n",
    "        for c in t['c_assoc_code'].values:\n",
    "            scholar.append(tables['ASSOC_CODE_TYPE_REL']['c_assoc_type_id'][tables['ASSOC_CODE_TYPE_REL']['c_assoc_code']==c].values[0].startswith('03'))\n",
    "        t = t[scholar]\n",
    "        start_name = tables['BIOG_MAIN']['c_name_chn'][tables['BIOG_MAIN']['c_personid']==personid].values[0]\n",
    "        network.add_node(personid, name=start_name)\n",
    "        \n",
    "        for _, row in t.iterrows():\n",
    "            new_personids.add(row['c_assoc_id'])\n",
    "            name = tables['BIOG_MAIN']['c_name_chn'][tables['BIOG_MAIN']['c_personid']==row['c_assoc_id']].values[0]\n",
    "            role = tables['ASSOC_CODES']['c_assoc_role_type'][tables['ASSOC_CODES']['c_assoc_code']==row['c_assoc_code']].values[0]\n",
    "            network.add_node(row['c_assoc_id'], name=name)\n",
    "            if (role=='A' or role=='M') and (personid, row['c_assoc_id']) not in network.edges:\n",
    "                network.add_edge(personid, row['c_assoc_id'], color=edge_color)\n",
    "            if (role=='P' or role=='M') and (row['c_assoc_id'], personid) not in network.edges:\n",
    "                network.add_edge(row['c_assoc_id'], personid, color=edge_color)\n",
    "              \n",
    "    return new_personids, network"
   ]
  },
  {
   "cell_type": "code",
   "execution_count": 3,
   "metadata": {},
   "outputs": [
    {
     "name": "stdout",
     "output_type": "stream",
     "text": [
      "第1次迭代后: 有55个临近节点可遍历, 社会网络图中已有55条边\n",
      "第2次迭代后: 有92个临近节点可遍历, 社会网络图中已有158条边\n",
      "第3次迭代后: 有160个临近节点可遍历, 社会网络图中已有196条边\n",
      "第4次迭代后: 有222个临近节点可遍历, 社会网络图中已有255条边\n",
      "第5次迭代后: 有288个临近节点可遍历, 社会网络图中已有322条边\n",
      "第6次迭代后: 有301个临近节点可遍历, 社会网络图中已有337条边\n",
      "第7次迭代后: 有308个临近节点可遍历, 社会网络图中已有344条边\n"
     ]
    }
   ],
   "source": [
    "new = set([3257])\n",
    "G = None\n",
    "for i, c in zip([0, 1, 2, 3, 4, 5, 6], ['red', 'green', 'darkorange', 'purple', 'brown', 'hotpink', 'cyan']):\n",
    "    new, G = iter_association(personids=new, network=G, edge_color=c)\n",
    "    if len(new)==0:\n",
    "        print(f\"第{i+1}次迭代后: 已经无临近节点可遍历, 社会网络图中已有{len(G.edges)}条边\")\n",
    "    else:\n",
    "        print(f\"第{i+1}次迭代后: 有{len(new)}个临近节点可遍历, 社会网络图中已有{len(G.edges)}条边\")"
   ]
  },
  {
   "cell_type": "code",
   "execution_count": 11,
   "metadata": {},
   "outputs": [],
   "source": [
    "labeldict = {\n",
    "    node: G.nodes[node]['name'] for node in G.nodes if G.degree[node] > 1/3 * max(dict(G.degree).values())\n",
    "}"
   ]
  },
  {
   "cell_type": "code",
   "execution_count": 12,
   "metadata": {},
   "outputs": [],
   "source": [
    "#for node, adj in G.adjacency():\n",
    "#    G.nodes[node]['connections'] = len(adj)"
   ]
  },
  {
   "cell_type": "code",
   "execution_count": 14,
   "metadata": {},
   "outputs": [
    {
     "data": {
      "image/png": "[encoded data removed]",
      "text/plain": [
       "<Figure size 1200x1200 with 1 Axes>"
      ]
     },
     "metadata": {},
     "output_type": "display_data"
    }
   ],
   "source": [
    "import matplotlib.pyplot as plt\n",
    "plt.rcParams['font.sans-serif'] = ['SimHei']\n",
    "plt.figure(figsize=(12, 12))\n",
    "ax = plt.gca()\n",
    "pos = nx.spring_layout(G, k=0.12)\n",
    "#nodes = nx.draw_networkx_nodes(G, pos=pos, node_size=list(dict(G.degree).values()), ax=ax, alpha=1)\n",
    "#edges = nx.draw_networkx_edges(G, pos=pos, edge_color=[G.edges[i]['color'] for i in G.edges], ax=ax, alpha=1)\n",
    "nx.draw(G, pos=pos, node_size=[i*10 for i in dict(G.degree).values()], edge_color=[G.edges[i]['color'] for i in G.edges], labels=labeldict, with_labels = True, ax=ax, alpha=1)\n",
    "#nodes = nx.draw_networkx_nodes(G, pos=pos, node_color=list(dict(G.degree).values()), node_size=60, ax=ax, alpha=1, cmap=plt.cm.Blues)\n",
    "#plt.colorbar(nodes)\n",
    "plt.savefig(\"./images/association.pdf\", bbox_inches='tight')\n",
    "plt.show()"
   ]
  },
  {
   "cell_type": "code",
   "execution_count": 23,
   "metadata": {},
   "outputs": [],
   "source": [
    "names = set()\n",
    "for index, row in tables['ASSOC_DATA'][tables['ASSOC_DATA']['c_personid']==personid].iterrows():\n",
    "    names.add(tables['BIOG_MAIN']['c_name_chn'][tables['BIOG_MAIN']['c_personid']==row['c_assoc_id']].values[0])\n",
    "    #print(tables['BIOG_MAIN']['c_name_chn'][tables['BIOG_MAIN']['c_personid']==row['c_assoc_id']].values[0], tables['ASSOC_CODES']['c_assoc_role_type'][tables['ASSOC_CODES']['c_assoc_code']==row['c_assoc_code']].values[0])"
   ]
  },
  {
   "cell_type": "code",
   "execution_count": 24,
   "metadata": {},
   "outputs": [
    {
     "data": {
      "text/plain": [
       "1110"
      ]
     },
     "execution_count": 24,
     "metadata": {},
     "output_type": "execute_result"
    }
   ],
   "source": [
    "len(names)"
   ]
  },
  {
   "cell_type": "code",
   "execution_count": 58,
   "metadata": {},
   "outputs": [
    {
     "data": {
      "text/plain": [
       "array(['tts_sysno', 'c_personid', 'c_name', 'c_name_chn', 'c_index_year',\n",
       "       'c_index_year_type_code', 'c_index_year_source_id', 'c_female',\n",
       "       'c_index_addr_id', 'c_index_addr_type_code', 'c_ethnicity_code',\n",
       "       'c_household_status_code', 'c_tribe', 'c_birthyear',\n",
       "       'c_by_nh_code', 'c_by_nh_year', 'c_by_range', 'c_deathyear',\n",
       "       'c_dy_nh_code', 'c_dy_nh_year', 'c_dy_range', 'c_death_age',\n",
       "       'c_death_age_range', 'c_fl_earliest_year', 'c_fl_ey_nh_code',\n",
       "       'c_fl_ey_nh_year', 'c_fl_ey_notes', 'c_fl_latest_year',\n",
       "       'c_fl_ly_nh_code', 'c_fl_ly_nh_year', 'c_fl_ly_notes', 'c_surname',\n",
       "       'c_surname_chn', 'c_mingzi', 'c_mingzi_chn', 'c_dy',\n",
       "       'c_choronym_code', 'c_notes', 'c_by_intercalary',\n",
       "       'c_dy_intercalary', 'c_by_month', 'c_dy_month', 'c_by_day',\n",
       "       'c_dy_day', 'c_by_day_gz', 'c_dy_day_gz', 'c_surname_proper',\n",
       "       'c_mingzi_proper', 'c_name_proper', 'c_surname_rm', 'c_mingzi_rm',\n",
       "       'c_name_rm', 'c_created_by', 'c_created_date', 'c_modified_by',\n",
       "       'c_modified_date', 'c_self_bio'], dtype=object)"
      ]
     },
     "execution_count": 58,
     "metadata": {},
     "output_type": "execute_result"
    }
   ],
   "source": [
    "tables['BIOG_MAIN'].columns.values"
   ]
  },
  {
   "cell_type": "code",
   "execution_count": 3,
   "metadata": {},
   "outputs": [
    {
     "data": {
      "text/plain": [
       "{'tts_sysno': 'BIOG_MAIN',\n",
       " 'c_personid': 'BIOG_SOURCE_DATA',\n",
       " 'c_entry_code': 'ENTRY_DATA',\n",
       " 'c_sequence': 'POSTED_TO_OFFICE_DATA',\n",
       " 'c_exam_rank': 'ENTRY_DATA',\n",
       " 'c_kin_code': 'KIN_DATA',\n",
       " 'c_kin_id': 'KIN_DATA',\n",
       " 'c_assoc_code': 'ASSOC_DATA',\n",
       " 'c_assoc_id': 'ASSOC_DATA',\n",
       " 'c_year': 'EVENTS_ADDR',\n",
       " 'c_age': 'ENTRY_DATA',\n",
       " 'c_nianhao_id': 'ENTRY_DATA',\n",
       " 'c_entry_nh_year': 'ENTRY_DATA',\n",
       " 'c_entry_range': 'ENTRY_DATA',\n",
       " 'c_inst_code': 'POSTED_TO_OFFICE_DATA',\n",
       " 'c_inst_name_code': 'POSTED_TO_OFFICE_DATA',\n",
       " 'c_exam_field': 'ENTRY_DATA',\n",
       " 'c_entry_addr_id': 'ENTRY_DATA',\n",
       " 'c_parental_status': 'ENTRY_DATA',\n",
       " 'c_attempt_count': 'ENTRY_DATA',\n",
       " 'c_source': 'POSTED_TO_OFFICE_DATA',\n",
       " 'c_pages': 'BIOG_SOURCE_DATA',\n",
       " 'c_secondary_source_author': 'BIOG_SOURCE_DATA',\n",
       " 'c_notes': 'BIOG_SOURCE_DATA',\n",
       " 'c_posting_notes': 'ENTRY_DATA',\n",
       " 'c_created_by': 'BIOG_MAIN',\n",
       " 'c_created_date': 'BIOG_MAIN',\n",
       " 'c_modified_by': 'BIOG_MAIN',\n",
       " 'c_modified_date': 'BIOG_MAIN',\n",
       " 'c_bi_role_code': 'BIOG_INST_DATA',\n",
       " 'c_bi_begin_year': 'BIOG_INST_DATA',\n",
       " 'c_bi_by_nh_code': 'BIOG_INST_DATA',\n",
       " 'c_bi_by_nh_year': 'BIOG_INST_DATA',\n",
       " 'c_bi_by_range': 'BIOG_INST_DATA',\n",
       " 'c_bi_end_year': 'BIOG_INST_DATA',\n",
       " 'c_bi_ey_nh_code': 'BIOG_INST_DATA',\n",
       " 'c_bi_ey_nh_year': 'BIOG_INST_DATA',\n",
       " 'c_bi_ey_range': 'BIOG_INST_DATA',\n",
       " 'c_possession_record_id': 'POSSESSION_ADDR',\n",
       " 'c_possession_act_code': 'POSSESSION_DATA',\n",
       " 'c_possession_desc': 'POSSESSION_DATA',\n",
       " 'c_possession_desc_chn': 'POSSESSION_DATA',\n",
       " 'c_quantity': 'POSSESSION_DATA',\n",
       " 'c_measure_code': 'POSSESSION_DATA',\n",
       " 'c_possession_yr': 'POSSESSION_DATA',\n",
       " 'c_possession_nh_code': 'POSSESSION_DATA',\n",
       " 'c_possession_nh_yr': 'POSSESSION_DATA',\n",
       " 'c_possession_yr_range': 'POSSESSION_DATA',\n",
       " 'c_addr_id': 'POSSESSION_ADDR',\n",
       " 'c_status_code': 'STATUS_DATA',\n",
       " 'c_firstyear': 'POSTED_TO_OFFICE_DATA',\n",
       " 'c_fy_nh_code': 'POSTED_TO_OFFICE_DATA',\n",
       " 'c_fy_nh_year': 'POSTED_TO_OFFICE_DATA',\n",
       " 'c_fy_range': 'POSTED_TO_OFFICE_DATA',\n",
       " 'c_lastyear': 'POSTED_TO_OFFICE_DATA',\n",
       " 'c_ly_nh_code': 'POSTED_TO_OFFICE_DATA',\n",
       " 'c_ly_nh_year': 'POSTED_TO_OFFICE_DATA',\n",
       " 'c_ly_range': 'POSTED_TO_OFFICE_DATA',\n",
       " 'c_supplement': 'STATUS_DATA',\n",
       " 'c_event_record_id': 'EVENTS_ADDR',\n",
       " 'c_event_code': 'EVENTS_DATA',\n",
       " 'c_role': 'EVENTS_DATA',\n",
       " 'c_nh_code': 'EVENTS_ADDR',\n",
       " 'c_nh_year': 'EVENTS_ADDR',\n",
       " 'c_yr_range': 'EVENTS_ADDR',\n",
       " 'c_intercalary': 'EVENTS_ADDR',\n",
       " 'c_month': 'EVENTS_ADDR',\n",
       " 'c_day': 'EVENTS_ADDR',\n",
       " 'c_day_ganzhi': 'EVENTS_ADDR',\n",
       " 'c_event': 'EVENTS_DATA',\n",
       " 'c_alt_name': 'ALTNAME_DATA',\n",
       " 'c_alt_name_chn': 'ALTNAME_DATA',\n",
       " 'c_alt_name_type_code': 'ALTNAME_DATA',\n",
       " 'c_posting_id': 'POSTED_TO_OFFICE_DATA',\n",
       " 'c_office_id': 'POSTED_TO_OFFICE_DATA',\n",
       " 'c_posting_id_old': 'POSTED_TO_OFFICE_DATA',\n",
       " 'c_assoc_kin_code': 'ASSOC_DATA',\n",
       " 'c_assoc_kin_id': 'ASSOC_DATA',\n",
       " 'c_tertiary_personid': 'ASSOC_DATA',\n",
       " 'c_tertiary_type_notes': 'ASSOC_DATA',\n",
       " 'c_assoc_count': 'ASSOC_DATA',\n",
       " 'c_assoc_year': 'ASSOC_DATA',\n",
       " 'c_assoc_nh_code': 'ASSOC_DATA',\n",
       " 'c_assoc_nh_year': 'ASSOC_DATA',\n",
       " 'c_assoc_range': 'ASSOC_DATA',\n",
       " 'c_litgenre_code': 'ASSOC_DATA',\n",
       " 'c_occasion_code': 'ASSOC_DATA',\n",
       " 'c_topic_code': 'ASSOC_DATA',\n",
       " 'c_text_title': 'ASSOC_DATA',\n",
       " 'c_assoc_claimer_id': 'ASSOC_DATA',\n",
       " 'c_assoc_intercalary': 'ASSOC_DATA',\n",
       " 'c_assoc_month': 'ASSOC_DATA',\n",
       " 'c_assoc_day': 'ASSOC_DATA',\n",
       " 'c_assoc_day_gz': 'ASSOC_DATA',\n",
       " 'c_addr_type': 'BIOG_ADDR_DATA',\n",
       " 'c_natal': 'BIOG_ADDR_DATA',\n",
       " 'c_fy_intercalary': 'POSTED_TO_OFFICE_DATA',\n",
       " 'c_ly_intercalary': 'POSTED_TO_OFFICE_DATA',\n",
       " 'c_fy_month': 'POSTED_TO_OFFICE_DATA',\n",
       " 'c_ly_month': 'POSTED_TO_OFFICE_DATA',\n",
       " 'c_fy_day': 'POSTED_TO_OFFICE_DATA',\n",
       " 'c_ly_day': 'POSTED_TO_OFFICE_DATA',\n",
       " 'c_fy_day_gz': 'POSTED_TO_OFFICE_DATA',\n",
       " 'c_ly_day_gz': 'POSTED_TO_OFFICE_DATA',\n",
       " 'c_delete': 'BIOG_ADDR_DATA',\n",
       " 'c_autogen_notes': 'KIN_DATA',\n",
       " 'c_textid': 'BIOG_SOURCE_DATA',\n",
       " 'c_role_id': 'BIOG_TEXT_DATA',\n",
       " 'c_range_code': 'BIOG_TEXT_DATA',\n",
       " 'c_appt_type_code': 'POSTED_TO_OFFICE_DATA',\n",
       " 'c_assume_office_code': 'POSTED_TO_OFFICE_DATA',\n",
       " 'c_office_id_backup': 'POSTED_TO_OFFICE_DATA',\n",
       " 'c_office_category_id': 'POSTED_TO_OFFICE_DATA',\n",
       " 'c_dy': 'BIOG_MAIN',\n",
       " 'c_index_year': 'BIOG_MAIN',\n",
       " 'c_index_year_source_id': 'BIOG_MAIN',\n",
       " 'c_name': 'BIOG_MAIN',\n",
       " 'c_name_chn': 'BIOG_MAIN',\n",
       " 'c_index_year_type_code': 'BIOG_MAIN',\n",
       " 'c_female': 'BIOG_MAIN',\n",
       " 'c_index_addr_id': 'BIOG_MAIN',\n",
       " 'c_index_addr_type_code': 'BIOG_MAIN',\n",
       " 'c_ethnicity_code': 'BIOG_MAIN',\n",
       " 'c_household_status_code': 'BIOG_MAIN',\n",
       " 'c_tribe': 'BIOG_MAIN',\n",
       " 'c_birthyear': 'BIOG_MAIN',\n",
       " 'c_by_nh_code': 'BIOG_MAIN',\n",
       " 'c_by_nh_year': 'BIOG_MAIN',\n",
       " 'c_by_range': 'BIOG_MAIN',\n",
       " 'c_deathyear': 'BIOG_MAIN',\n",
       " 'c_dy_nh_code': 'BIOG_MAIN',\n",
       " 'c_dy_nh_year': 'BIOG_MAIN',\n",
       " 'c_dy_range': 'BIOG_MAIN',\n",
       " 'c_death_age': 'BIOG_MAIN',\n",
       " 'c_death_age_range': 'BIOG_MAIN',\n",
       " 'c_fl_earliest_year': 'BIOG_MAIN',\n",
       " 'c_fl_ey_nh_code': 'BIOG_MAIN',\n",
       " 'c_fl_ey_nh_year': 'BIOG_MAIN',\n",
       " 'c_fl_ey_notes': 'BIOG_MAIN',\n",
       " 'c_fl_latest_year': 'BIOG_MAIN',\n",
       " 'c_fl_ly_nh_code': 'BIOG_MAIN',\n",
       " 'c_fl_ly_nh_year': 'BIOG_MAIN',\n",
       " 'c_fl_ly_notes': 'BIOG_MAIN',\n",
       " 'c_surname': 'BIOG_MAIN',\n",
       " 'c_surname_chn': 'BIOG_MAIN',\n",
       " 'c_mingzi': 'BIOG_MAIN',\n",
       " 'c_mingzi_chn': 'BIOG_MAIN',\n",
       " 'c_choronym_code': 'BIOG_MAIN',\n",
       " 'c_by_intercalary': 'BIOG_MAIN',\n",
       " 'c_dy_intercalary': 'BIOG_MAIN',\n",
       " 'c_by_month': 'BIOG_MAIN',\n",
       " 'c_dy_month': 'BIOG_MAIN',\n",
       " 'c_by_day': 'BIOG_MAIN',\n",
       " 'c_dy_day': 'BIOG_MAIN',\n",
       " 'c_by_day_gz': 'BIOG_MAIN',\n",
       " 'c_dy_day_gz': 'BIOG_MAIN',\n",
       " 'c_surname_proper': 'BIOG_MAIN',\n",
       " 'c_mingzi_proper': 'BIOG_MAIN',\n",
       " 'c_name_proper': 'BIOG_MAIN',\n",
       " 'c_surname_rm': 'BIOG_MAIN',\n",
       " 'c_mingzi_rm': 'BIOG_MAIN',\n",
       " 'c_name_rm': 'BIOG_MAIN',\n",
       " 'c_self_bio': 'BIOG_SOURCE_DATA',\n",
       " 'c_main_source': 'BIOG_SOURCE_DATA'}"
      ]
     },
     "execution_count": 3,
     "metadata": {},
     "output_type": "execute_result"
    }
   ],
   "source": [
    "person_keys = {}\n",
    "for i in table_keys:\n",
    "    if 'c_personid' in table_keys[i]:\n",
    "        person_keys.update({k: i for k in table_keys[i]})\n",
    "person_keys"
   ]
  },
  {
   "cell_type": "code",
   "execution_count": 62,
   "metadata": {},
   "outputs": [
    {
     "data": {
      "text/html": [
       "<div>\n",
       "<style scoped>\n",
       "    .dataframe tbody tr th:only-of-type {\n",
       "        vertical-align: middle;\n",
       "    }\n",
       "\n",
       "    .dataframe tbody tr th {\n",
       "        vertical-align: top;\n",
       "    }\n",
       "\n",
       "    .dataframe thead th {\n",
       "        text-align: right;\n",
       "    }\n",
       "</style>\n",
       "<table border=\"1\" class=\"dataframe\">\n",
       "  <thead>\n",
       "    <tr style=\"text-align: right;\">\n",
       "      <th></th>\n",
       "      <th>column_code</th>\n",
       "      <th>meaning_cn</th>\n",
       "      <th>meaning_en</th>\n",
       "      <th>data_type</th>\n",
       "      <th>coded</th>\n",
       "      <th>code_table</th>\n",
       "      <th>note</th>\n",
       "      <th>affiliated_table</th>\n",
       "    </tr>\n",
       "  </thead>\n",
       "  <tbody>\n",
       "    <tr>\n",
       "      <th>0</th>\n",
       "      <td>c_addr_id</td>\n",
       "      <td>地址ID</td>\n",
       "      <td>address ID</td>\n",
       "      <td>NaN</td>\n",
       "      <td>NaN</td>\n",
       "      <td>NaN</td>\n",
       "      <td>NaN</td>\n",
       "      <td>ADDRESSES</td>\n",
       "    </tr>\n",
       "    <tr>\n",
       "      <th>1</th>\n",
       "      <td>c_addr_cbd</td>\n",
       "      <td>用于数据库维护的临时表</td>\n",
       "      <td>the temporary table for maintenance</td>\n",
       "      <td>NaN</td>\n",
       "      <td>NaN</td>\n",
       "      <td>NaN</td>\n",
       "      <td>NaN</td>\n",
       "      <td>ADDRESSES</td>\n",
       "    </tr>\n",
       "    <tr>\n",
       "      <th>2</th>\n",
       "      <td>c_name</td>\n",
       "      <td>地址名称</td>\n",
       "      <td>address name</td>\n",
       "      <td>NaN</td>\n",
       "      <td>NaN</td>\n",
       "      <td>NaN</td>\n",
       "      <td>NaN</td>\n",
       "      <td>ADDRESSES</td>\n",
       "    </tr>\n",
       "    <tr>\n",
       "      <th>3</th>\n",
       "      <td>c_name_chn</td>\n",
       "      <td>地址中文名称</td>\n",
       "      <td>address Chinese name</td>\n",
       "      <td>NaN</td>\n",
       "      <td>NaN</td>\n",
       "      <td>NaN</td>\n",
       "      <td>NaN</td>\n",
       "      <td>ADDRESSES</td>\n",
       "    </tr>\n",
       "    <tr>\n",
       "      <th>4</th>\n",
       "      <td>c_admin_type</td>\n",
       "      <td>行政区类别</td>\n",
       "      <td>administrative type</td>\n",
       "      <td>NaN</td>\n",
       "      <td>NaN</td>\n",
       "      <td>NaN</td>\n",
       "      <td>NaN</td>\n",
       "      <td>ADDRESSES</td>\n",
       "    </tr>\n",
       "    <tr>\n",
       "      <th>...</th>\n",
       "      <td>...</td>\n",
       "      <td>...</td>\n",
       "      <td>...</td>\n",
       "      <td>...</td>\n",
       "      <td>...</td>\n",
       "      <td>...</td>\n",
       "      <td>...</td>\n",
       "      <td>...</td>\n",
       "    </tr>\n",
       "    <tr>\n",
       "      <th>454</th>\n",
       "      <td>c_text_type_sortorder</td>\n",
       "      <td>书籍分类顺序</td>\n",
       "      <td>the sorted order of text types</td>\n",
       "      <td>NaN</td>\n",
       "      <td>NaN</td>\n",
       "      <td>NaN</td>\n",
       "      <td>NaN</td>\n",
       "      <td>TEXT_TYPE</td>\n",
       "    </tr>\n",
       "    <tr>\n",
       "      <th>455</th>\n",
       "      <td>c_range</td>\n",
       "      <td>范围</td>\n",
       "      <td>range</td>\n",
       "      <td>NaN</td>\n",
       "      <td>NaN</td>\n",
       "      <td>NaN</td>\n",
       "      <td>NaN</td>\n",
       "      <td>YEAR_RANGE_CODES</td>\n",
       "    </tr>\n",
       "    <tr>\n",
       "      <th>456</th>\n",
       "      <td>c_range_chn</td>\n",
       "      <td>范围中文</td>\n",
       "      <td>range in Chinese</td>\n",
       "      <td>NaN</td>\n",
       "      <td>NaN</td>\n",
       "      <td>NaN</td>\n",
       "      <td>NaN</td>\n",
       "      <td>YEAR_RANGE_CODES</td>\n",
       "    </tr>\n",
       "    <tr>\n",
       "      <th>457</th>\n",
       "      <td>c_approx</td>\n",
       "      <td>时间的相对准确度</td>\n",
       "      <td>relative degree of exactness of a date</td>\n",
       "      <td>NaN</td>\n",
       "      <td>NaN</td>\n",
       "      <td>NaN</td>\n",
       "      <td>NaN</td>\n",
       "      <td>YEAR_RANGE_CODES</td>\n",
       "    </tr>\n",
       "    <tr>\n",
       "      <th>458</th>\n",
       "      <td>c_approx_chn</td>\n",
       "      <td>时间的相对准确度的中文</td>\n",
       "      <td>relative degree of exactness of a date in Chinese</td>\n",
       "      <td>NaN</td>\n",
       "      <td>NaN</td>\n",
       "      <td>NaN</td>\n",
       "      <td>NaN</td>\n",
       "      <td>YEAR_RANGE_CODES</td>\n",
       "    </tr>\n",
       "  </tbody>\n",
       "</table>\n",
       "<p>459 rows × 8 columns</p>\n",
       "</div>"
      ],
      "text/plain": [
       "               column_code   meaning_cn  \\\n",
       "0                c_addr_id         地址ID   \n",
       "1               c_addr_cbd  用于数据库维护的临时表   \n",
       "2                   c_name         地址名称   \n",
       "3               c_name_chn       地址中文名称   \n",
       "4             c_admin_type        行政区类别   \n",
       "..                     ...          ...   \n",
       "454  c_text_type_sortorder       书籍分类顺序   \n",
       "455                c_range           范围   \n",
       "456            c_range_chn         范围中文   \n",
       "457               c_approx     时间的相对准确度   \n",
       "458           c_approx_chn  时间的相对准确度的中文   \n",
       "\n",
       "                                            meaning_en  data_type coded  \\\n",
       "0                                           address ID        NaN   NaN   \n",
       "1                  the temporary table for maintenance        NaN   NaN   \n",
       "2                                         address name        NaN   NaN   \n",
       "3                                 address Chinese name        NaN   NaN   \n",
       "4                                  administrative type        NaN   NaN   \n",
       "..                                                 ...        ...   ...   \n",
       "454                     the sorted order of text types        NaN   NaN   \n",
       "455                                              range        NaN   NaN   \n",
       "456                                   range in Chinese        NaN   NaN   \n",
       "457             relative degree of exactness of a date        NaN   NaN   \n",
       "458  relative degree of exactness of a date in Chinese        NaN   NaN   \n",
       "\n",
       "    code_table note  affiliated_table  \n",
       "0          NaN  NaN         ADDRESSES  \n",
       "1          NaN  NaN         ADDRESSES  \n",
       "2          NaN  NaN         ADDRESSES  \n",
       "3          NaN  NaN         ADDRESSES  \n",
       "4          NaN  NaN         ADDRESSES  \n",
       "..         ...  ...               ...  \n",
       "454        NaN  NaN         TEXT_TYPE  \n",
       "455        NaN  NaN  YEAR_RANGE_CODES  \n",
       "456        NaN  NaN  YEAR_RANGE_CODES  \n",
       "457        NaN  NaN  YEAR_RANGE_CODES  \n",
       "458        NaN  NaN  YEAR_RANGE_CODES  \n",
       "\n",
       "[459 rows x 8 columns]"
      ]
     },
     "execution_count": 62,
     "metadata": {},
     "output_type": "execute_result"
    }
   ],
   "source": [
    "meaning = pd.read_csv('./字段含义.csv')\n",
    "meaning"
   ]
  },
  {
   "cell_type": "code",
   "execution_count": 63,
   "metadata": {},
   "outputs": [],
   "source": [
    "df1 = pd.DataFrame({\n",
    "    '字段': [k for k in person_keys if k in meaning['column_code'].values], \n",
    "    '中文意思': [meaning['meaning_cn'].values[meaning['column_code']==k][0] for k in person_keys if k in meaning['column_code'].values],\n",
    "    '隶属表格': [person_keys[k] for k in person_keys if k in meaning['column_code'].values],\n",
    "})\n",
    "with open('./人物维度.csv', 'w', encoding='utf-8') as f:\n",
    "    df1.to_csv(f, index=False, header=True)"
   ]
  },
  {
   "cell_type": "code",
   "execution_count": 6,
   "metadata": {},
   "outputs": [
    {
     "name": "stdout",
     "output_type": "stream",
     "text": [
      "77\n"
     ]
    },
    {
     "data": {
      "text/plain": [
       "{'ENTRY_DATA': {'OFFICE_CODES': None,\n",
       "  'BIOG_INST_DATA': None,\n",
       "  'STATUS_DATA': None,\n",
       "  'EVENTS_DATA': None,\n",
       "  'ALTNAME_DATA': None,\n",
       "  'POSTED_TO_ADDR_DATA': None,\n",
       "  'TEXT_INSTANCE_DATA': None,\n",
       "  'ASSOC_DATA': None,\n",
       "  'BIOG_ADDR_DATA': None,\n",
       "  'TEXT_CODES': None,\n",
       "  'POSTING_DATA': None,\n",
       "  'KIN_DATA': None,\n",
       "  'BIOG_TEXT_DATA': None,\n",
       "  'POSTED_TO_OFFICE_DATA': None,\n",
       "  'BIOG_MAIN': None},\n",
       " 'PLACE_CODES': {'ADDR_PLACE_DATA': None},\n",
       " 'SOCIAL_INSTITUTION_NAME_CODES': {'ENTRY_DATA': None,\n",
       "  'BIOG_INST_DATA': None,\n",
       "  'ASSOC_DATA': None,\n",
       "  'SOCIAL_INSTITUTION_CODES': None,\n",
       "  'SOCIAL_INSTITUTION_ALTNAME_DATA': None,\n",
       "  'POSTED_TO_OFFICE_DATA': None,\n",
       "  'SOCIAL_INSTITUTION_ADDR': None,\n",
       "  'SOCIAL_INSTITUTION_CODES_CONVERSION': None},\n",
       " 'ENTRY_TYPES': {'ENTRY_CODE_TYPE_REL': None},\n",
       " 'OFFICE_CODES': {'ENTRY_DATA': None,\n",
       "  'BIOG_INST_DATA': None,\n",
       "  'STATUS_DATA': None,\n",
       "  'EVENTS_DATA': None,\n",
       "  'ALTNAME_DATA': None,\n",
       "  'POSTED_TO_ADDR_DATA': None,\n",
       "  'TEXT_INSTANCE_DATA': None,\n",
       "  'ASSOC_DATA': None,\n",
       "  'BIOG_ADDR_DATA': None,\n",
       "  'TEXT_CODES': None,\n",
       "  'POSTING_DATA': None,\n",
       "  'KIN_DATA': None,\n",
       "  'BIOG_TEXT_DATA': None,\n",
       "  'POSTED_TO_OFFICE_DATA': None,\n",
       "  'BIOG_MAIN': None},\n",
       " 'TEXT_BIBLCAT_CODES': {'TEXT_BIBLCAT_CODE_TYPE_REL': None},\n",
       " 'NIAN_HAO': {'ENTRY_DATA': None},\n",
       " 'YEAR_RANGE_CODES': {'BIOG_TEXT_DATA': None},\n",
       " 'POSSESSION_ACT_CODES': {'POSSESSION_DATA': None},\n",
       " 'BIOG_INST_DATA': {'ENTRY_DATA': None,\n",
       "  'POSSESSION_DATA': None,\n",
       "  'STATUS_DATA': None,\n",
       "  'EVENTS_DATA': None,\n",
       "  'ALTNAME_DATA': None,\n",
       "  'POSTED_TO_ADDR_DATA': None,\n",
       "  'ASSOC_DATA': None,\n",
       "  'BIOG_ADDR_DATA': None,\n",
       "  'POSTING_DATA': None,\n",
       "  'KIN_DATA': None,\n",
       "  'BIOG_TEXT_DATA': None,\n",
       "  'POSTED_TO_OFFICE_DATA': None,\n",
       "  'TMP_INDEX_YEAR': None,\n",
       "  'EVENTS_ADDR': None,\n",
       "  'POSSESSION_ADDR': None,\n",
       "  'BIOG_MAIN': None,\n",
       "  'BIOG_SOURCE_DATA': None},\n",
       " 'POSSESSION_DATA': {'ENTRY_DATA': None,\n",
       "  'BIOG_INST_DATA': None,\n",
       "  'STATUS_DATA': None,\n",
       "  'EVENTS_DATA': None,\n",
       "  'ALTNAME_DATA': None,\n",
       "  'POSTED_TO_ADDR_DATA': None,\n",
       "  'ASSOC_DATA': None,\n",
       "  'BIOG_ADDR_DATA': None,\n",
       "  'POSTING_DATA': None,\n",
       "  'KIN_DATA': None,\n",
       "  'BIOG_TEXT_DATA': None,\n",
       "  'POSTED_TO_OFFICE_DATA': None,\n",
       "  'TMP_INDEX_YEAR': None,\n",
       "  'EVENTS_ADDR': None,\n",
       "  'POSSESSION_ADDR': None,\n",
       "  'BIOG_MAIN': None,\n",
       "  'BIOG_SOURCE_DATA': None},\n",
       " 'ADDR_CODES': {'POSSESSION_DATA': None,\n",
       "  'EVENTS_DATA': None,\n",
       "  'EVENT_CODES': None,\n",
       "  'POSTED_TO_ADDR_DATA': None,\n",
       "  'ASSOC_DATA': None,\n",
       "  'BIOG_ADDR_DATA': None,\n",
       "  'ADDRESSES': None,\n",
       "  'ADDR_BELONGS_DATA': None,\n",
       "  'ADDR_XY': None,\n",
       "  'ADDR_PLACE_DATA': None,\n",
       "  'EVENTS_ADDR': None,\n",
       "  'POSSESSION_ADDR': None},\n",
       " 'SOCIAL_INSTITUTION_ADDR_TYPES': {'SOCIAL_INSTITUTION_ADDR': None},\n",
       " 'STATUS_DATA': {'ENTRY_DATA': None,\n",
       "  'OFFICE_CODES': None,\n",
       "  'BIOG_INST_DATA': None,\n",
       "  'EVENTS_DATA': None,\n",
       "  'ALTNAME_DATA': None,\n",
       "  'POSTED_TO_ADDR_DATA': None,\n",
       "  'TEXT_INSTANCE_DATA': None,\n",
       "  'ASSOC_DATA': None,\n",
       "  'BIOG_ADDR_DATA': None,\n",
       "  'TEXT_CODES': None,\n",
       "  'POSTING_DATA': None,\n",
       "  'KIN_DATA': None,\n",
       "  'BIOG_TEXT_DATA': None,\n",
       "  'POSTED_TO_OFFICE_DATA': None,\n",
       "  'BIOG_MAIN': None},\n",
       " 'OCCASION_CODES': {'ASSOC_DATA': None},\n",
       " 'EVENTS_DATA': {'ENTRY_DATA': None,\n",
       "  'BIOG_INST_DATA': None,\n",
       "  'POSSESSION_DATA': None,\n",
       "  'STATUS_DATA': None,\n",
       "  'ALTNAME_DATA': None,\n",
       "  'POSTED_TO_ADDR_DATA': None,\n",
       "  'ASSOC_DATA': None,\n",
       "  'BIOG_ADDR_DATA': None,\n",
       "  'POSTING_DATA': None,\n",
       "  'KIN_DATA': None,\n",
       "  'BIOG_TEXT_DATA': None,\n",
       "  'POSTED_TO_OFFICE_DATA': None,\n",
       "  'TMP_INDEX_YEAR': None,\n",
       "  'EVENTS_ADDR': None,\n",
       "  'POSSESSION_ADDR': None,\n",
       "  'BIOG_MAIN': None,\n",
       "  'BIOG_SOURCE_DATA': None},\n",
       " 'CHORONYM_CODES': {'BIOG_MAIN': None},\n",
       " 'ENTRY_CODE_TYPE_REL': {'ENTRY_DATA': None, 'ENTRY_CODES': None},\n",
       " 'SOCIAL_INSTITUTION_TYPES': {'SOCIAL_INSTITUTION_CODES': None},\n",
       " 'EVENT_CODES': {'EVENTS_DATA': None},\n",
       " 'HOUSEHOLD_STATUS_CODES': {'BIOG_MAIN': None},\n",
       " 'CopyTables': {'CopyMissingTables': None,\n",
       "  'CopyTablesDefault': None,\n",
       "  'TablesFieldsChanges': None},\n",
       " 'ETHNICITY_TRIBE_CODES': {'BIOG_MAIN': None},\n",
       " 'DATABASE_LINK_CODES': {'DATABASE_LINK_DATA': None},\n",
       " 'TEXT_ROLE_CODES': {'BIOG_TEXT_DATA': None},\n",
       " 'ASSOC_CODES': {'ENTRY_DATA': None,\n",
       "  'ASSOC_DATA': None,\n",
       "  'ASSOC_CODE_TYPE_REL': None},\n",
       " 'BIOG_ADDR_CODES': {'BIOG_ADDR_DATA': None},\n",
       " 'ALTNAME_DATA': {'ENTRY_DATA': None,\n",
       "  'OFFICE_CODES': None,\n",
       "  'BIOG_INST_DATA': None,\n",
       "  'STATUS_DATA': None,\n",
       "  'EVENTS_DATA': None,\n",
       "  'POSTED_TO_ADDR_DATA': None,\n",
       "  'TEXT_INSTANCE_DATA': None,\n",
       "  'ASSOC_DATA': None,\n",
       "  'BIOG_ADDR_DATA': None,\n",
       "  'TEXT_CODES': None,\n",
       "  'POSTING_DATA': None,\n",
       "  'KIN_DATA': None,\n",
       "  'BIOG_TEXT_DATA': None,\n",
       "  'POSTED_TO_OFFICE_DATA': None,\n",
       "  'BIOG_MAIN': None},\n",
       " 'POSTED_TO_ADDR_DATA': {'ENTRY_DATA': None,\n",
       "  'OFFICE_CODES': None,\n",
       "  'BIOG_INST_DATA': None,\n",
       "  'STATUS_DATA': None,\n",
       "  'EVENTS_DATA': None,\n",
       "  'ALTNAME_DATA': None,\n",
       "  'TEXT_INSTANCE_DATA': None,\n",
       "  'ASSOC_DATA': None,\n",
       "  'BIOG_ADDR_DATA': None,\n",
       "  'TEXT_CODES': None,\n",
       "  'POSTING_DATA': None,\n",
       "  'KIN_DATA': None,\n",
       "  'BIOG_TEXT_DATA': None,\n",
       "  'POSTED_TO_OFFICE_DATA': None,\n",
       "  'BIOG_MAIN': None},\n",
       " 'STATUS_CODES': {'STATUS_DATA': None, 'STATUS_CODE_TYPE_REL': None},\n",
       " 'TEXT_INSTANCE_DATA': {'ENTRY_DATA': None,\n",
       "  'OFFICE_CODES': None,\n",
       "  'BIOG_INST_DATA': None,\n",
       "  'STATUS_DATA': None,\n",
       "  'EVENTS_DATA': None,\n",
       "  'ALTNAME_DATA': None,\n",
       "  'POSTED_TO_ADDR_DATA': None,\n",
       "  'ASSOC_DATA': None,\n",
       "  'BIOG_ADDR_DATA': None,\n",
       "  'TEXT_CODES': None,\n",
       "  'POSTING_DATA': None,\n",
       "  'KIN_DATA': None,\n",
       "  'BIOG_TEXT_DATA': None,\n",
       "  'POSTED_TO_OFFICE_DATA': None,\n",
       "  'BIOG_MAIN': None},\n",
       " 'ASSOC_DATA': {'ENTRY_DATA': None,\n",
       "  'OFFICE_CODES': None,\n",
       "  'BIOG_INST_DATA': None,\n",
       "  'STATUS_DATA': None,\n",
       "  'EVENTS_DATA': None,\n",
       "  'ALTNAME_DATA': None,\n",
       "  'POSTED_TO_ADDR_DATA': None,\n",
       "  'TEXT_INSTANCE_DATA': None,\n",
       "  'BIOG_ADDR_DATA': None,\n",
       "  'TEXT_CODES': None,\n",
       "  'POSTING_DATA': None,\n",
       "  'KIN_DATA': None,\n",
       "  'BIOG_TEXT_DATA': None,\n",
       "  'POSTED_TO_OFFICE_DATA': None,\n",
       "  'BIOG_MAIN': None},\n",
       " 'CopyMissingTables': {'CopyTablesDefault': None},\n",
       " 'BIOG_ADDR_DATA': {'ENTRY_DATA': None,\n",
       "  'OFFICE_CODES': None,\n",
       "  'BIOG_INST_DATA': None,\n",
       "  'STATUS_DATA': None,\n",
       "  'EVENTS_DATA': None,\n",
       "  'ALTNAME_DATA': None,\n",
       "  'POSTED_TO_ADDR_DATA': None,\n",
       "  'TEXT_INSTANCE_DATA': None,\n",
       "  'ASSOC_DATA': None,\n",
       "  'TEXT_CODES': None,\n",
       "  'POSTING_DATA': None,\n",
       "  'KIN_DATA': None,\n",
       "  'BIOG_TEXT_DATA': None,\n",
       "  'POSTED_TO_OFFICE_DATA': None,\n",
       "  'BIOG_MAIN': None},\n",
       " 'OFFICE_CODE_TYPE_REL': {'OFFICE_CODES': None,\n",
       "  'POSTED_TO_ADDR_DATA': None,\n",
       "  'POSTED_TO_OFFICE_DATA': None,\n",
       "  'OFFICE_CODES_CONVERSION': None},\n",
       " 'SOCIAL_INSTITUTION_CODES': {'ENTRY_DATA': None,\n",
       "  'SOCIAL_INSTITUTION_NAME_CODES': None,\n",
       "  'BIOG_INST_DATA': None,\n",
       "  'ASSOC_DATA': None,\n",
       "  'SOCIAL_INSTITUTION_ALTNAME_DATA': None,\n",
       "  'POSTED_TO_OFFICE_DATA': None,\n",
       "  'SOCIAL_INSTITUTION_ADDR': None,\n",
       "  'SOCIAL_INSTITUTION_CODES_CONVERSION': None},\n",
       " 'STATUS_CODE_TYPE_REL': {'STATUS_DATA': None, 'STATUS_CODES': None},\n",
       " 'SOCIAL_INSTITUTION_ALTNAME_CODES': {'SOCIAL_INSTITUTION_ALTNAME_DATA': None},\n",
       " 'ASSOC_CODE_TYPE_REL': {'ENTRY_DATA': None,\n",
       "  'ASSOC_CODES': None,\n",
       "  'ASSOC_DATA': None},\n",
       " 'APPOINTMENT_TYPE_CODES': {'POSTED_TO_OFFICE_DATA': None},\n",
       " 'MEASURE_CODES': {'POSSESSION_DATA': None},\n",
       " 'SOCIAL_INSTITUTION_ALTNAME_DATA': {'ENTRY_DATA': None,\n",
       "  'SOCIAL_INSTITUTION_NAME_CODES': None,\n",
       "  'BIOG_INST_DATA': None,\n",
       "  'ASSOC_DATA': None,\n",
       "  'SOCIAL_INSTITUTION_CODES': None,\n",
       "  'POSTED_TO_OFFICE_DATA': None,\n",
       "  'SOCIAL_INSTITUTION_ADDR': None,\n",
       "  'SOCIAL_INSTITUTION_CODES_CONVERSION': None},\n",
       " 'CopyTablesDefault': {'CopyMissingTables': None},\n",
       " 'ForeignKeys': {'TablesFields': None},\n",
       " 'ADDRESSES': {'POSSESSION_DATA': None,\n",
       "  'ADDR_CODES': None,\n",
       "  'EVENTS_DATA': None,\n",
       "  'EVENT_CODES': None,\n",
       "  'POSTED_TO_ADDR_DATA': None,\n",
       "  'ASSOC_DATA': None,\n",
       "  'BIOG_ADDR_DATA': None,\n",
       "  'ADDR_BELONGS_DATA': None,\n",
       "  'ADDR_XY': None,\n",
       "  'ADDR_PLACE_DATA': None,\n",
       "  'EVENTS_ADDR': None,\n",
       "  'POSSESSION_ADDR': None},\n",
       " 'ADDR_BELONGS_DATA': {'POSSESSION_DATA': None,\n",
       "  'ADDR_CODES': None,\n",
       "  'EVENTS_DATA': None,\n",
       "  'EVENT_CODES': None,\n",
       "  'POSTED_TO_ADDR_DATA': None,\n",
       "  'ASSOC_DATA': None,\n",
       "  'BIOG_ADDR_DATA': None,\n",
       "  'ADDRESSES': None,\n",
       "  'ADDR_XY': None,\n",
       "  'ADDR_PLACE_DATA': None,\n",
       "  'EVENTS_ADDR': None,\n",
       "  'POSSESSION_ADDR': None},\n",
       " 'ASSOC_TYPES': {'ASSOC_CODE_TYPE_REL': None},\n",
       " 'OFFICE_CATEGORIES': {'POSTED_TO_OFFICE_DATA': None},\n",
       " 'TEXT_CODES': {'ENTRY_DATA': None,\n",
       "  'OFFICE_CODES': None,\n",
       "  'BIOG_INST_DATA': None,\n",
       "  'STATUS_DATA': None,\n",
       "  'EVENTS_DATA': None,\n",
       "  'ALTNAME_DATA': None,\n",
       "  'POSTED_TO_ADDR_DATA': None,\n",
       "  'TEXT_INSTANCE_DATA': None,\n",
       "  'ASSOC_DATA': None,\n",
       "  'BIOG_ADDR_DATA': None,\n",
       "  'POSTING_DATA': None,\n",
       "  'KIN_DATA': None,\n",
       "  'BIOG_TEXT_DATA': None,\n",
       "  'POSTED_TO_OFFICE_DATA': None,\n",
       "  'BIOG_MAIN': None},\n",
       " 'STATUS_TYPES': {'STATUS_CODE_TYPE_REL': None},\n",
       " 'POSTING_DATA': {'ENTRY_DATA': None,\n",
       "  'BIOG_INST_DATA': None,\n",
       "  'POSSESSION_DATA': None,\n",
       "  'STATUS_DATA': None,\n",
       "  'EVENTS_DATA': None,\n",
       "  'ALTNAME_DATA': None,\n",
       "  'POSTED_TO_ADDR_DATA': None,\n",
       "  'ASSOC_DATA': None,\n",
       "  'BIOG_ADDR_DATA': None,\n",
       "  'KIN_DATA': None,\n",
       "  'BIOG_TEXT_DATA': None,\n",
       "  'POSTED_TO_OFFICE_DATA': None,\n",
       "  'TMP_INDEX_YEAR': None,\n",
       "  'EVENTS_ADDR': None,\n",
       "  'POSSESSION_ADDR': None,\n",
       "  'BIOG_MAIN': None,\n",
       "  'BIOG_SOURCE_DATA': None},\n",
       " 'KIN_DATA': {'ENTRY_DATA': None,\n",
       "  'OFFICE_CODES': None,\n",
       "  'BIOG_INST_DATA': None,\n",
       "  'STATUS_DATA': None,\n",
       "  'EVENTS_DATA': None,\n",
       "  'ALTNAME_DATA': None,\n",
       "  'POSTED_TO_ADDR_DATA': None,\n",
       "  'TEXT_INSTANCE_DATA': None,\n",
       "  'ASSOC_DATA': None,\n",
       "  'BIOG_ADDR_DATA': None,\n",
       "  'TEXT_CODES': None,\n",
       "  'POSTING_DATA': None,\n",
       "  'BIOG_TEXT_DATA': None,\n",
       "  'POSTED_TO_OFFICE_DATA': None,\n",
       "  'BIOG_MAIN': None},\n",
       " 'BIOG_TEXT_DATA': {'ENTRY_DATA': None,\n",
       "  'OFFICE_CODES': None,\n",
       "  'BIOG_INST_DATA': None,\n",
       "  'STATUS_DATA': None,\n",
       "  'EVENTS_DATA': None,\n",
       "  'ALTNAME_DATA': None,\n",
       "  'POSTED_TO_ADDR_DATA': None,\n",
       "  'TEXT_INSTANCE_DATA': None,\n",
       "  'ASSOC_DATA': None,\n",
       "  'BIOG_ADDR_DATA': None,\n",
       "  'TEXT_CODES': None,\n",
       "  'POSTING_DATA': None,\n",
       "  'KIN_DATA': None,\n",
       "  'POSTED_TO_OFFICE_DATA': None,\n",
       "  'BIOG_MAIN': None},\n",
       " 'DYNASTIES': {'OFFICE_CODES': None,\n",
       "  'NIAN_HAO': None,\n",
       "  'EVENT_CODES': None,\n",
       "  'POSTED_TO_OFFICE_DATA': None,\n",
       "  'BIOG_MAIN': None},\n",
       " 'BIOG_INST_CODES': {'BIOG_INST_DATA': None},\n",
       " 'POSTED_TO_OFFICE_DATA': {'ENTRY_DATA': None,\n",
       "  'OFFICE_CODES': None,\n",
       "  'BIOG_INST_DATA': None,\n",
       "  'STATUS_DATA': None,\n",
       "  'EVENTS_DATA': None,\n",
       "  'ALTNAME_DATA': None,\n",
       "  'POSTED_TO_ADDR_DATA': None,\n",
       "  'TEXT_INSTANCE_DATA': None,\n",
       "  'ASSOC_DATA': None,\n",
       "  'BIOG_ADDR_DATA': None,\n",
       "  'TEXT_CODES': None,\n",
       "  'POSTING_DATA': None,\n",
       "  'KIN_DATA': None,\n",
       "  'BIOG_TEXT_DATA': None,\n",
       "  'BIOG_MAIN': None},\n",
       " 'ADDR_XY': {'POSSESSION_DATA': None,\n",
       "  'ADDR_CODES': None,\n",
       "  'EVENTS_DATA': None,\n",
       "  'EVENT_CODES': None,\n",
       "  'POSTED_TO_ADDR_DATA': None,\n",
       "  'ASSOC_DATA': None,\n",
       "  'BIOG_ADDR_DATA': None,\n",
       "  'ADDRESSES': None,\n",
       "  'ADDR_BELONGS_DATA': None,\n",
       "  'ADDR_PLACE_DATA': None,\n",
       "  'EVENTS_ADDR': None,\n",
       "  'POSSESSION_ADDR': None},\n",
       " 'ENTRY_CODES': {'ENTRY_DATA': None, 'ENTRY_CODE_TYPE_REL': None},\n",
       " 'ADDR_PLACE_DATA': {'POSSESSION_DATA': None,\n",
       "  'ADDR_CODES': None,\n",
       "  'EVENTS_DATA': None,\n",
       "  'EVENT_CODES': None,\n",
       "  'POSTED_TO_ADDR_DATA': None,\n",
       "  'ASSOC_DATA': None,\n",
       "  'BIOG_ADDR_DATA': None,\n",
       "  'ADDRESSES': None,\n",
       "  'ADDR_BELONGS_DATA': None,\n",
       "  'ADDR_XY': None,\n",
       "  'EVENTS_ADDR': None,\n",
       "  'POSSESSION_ADDR': None},\n",
       " 'TEXT_BIBLCAT_TYPES': {'TEXT_BIBLCAT_CODE_TYPE_REL': None},\n",
       " 'TablesFieldsChanges': {'CopyTables': None,\n",
       "  'CopyMissingTables': None,\n",
       "  'CopyTablesDefault': None},\n",
       " 'ASSUME_OFFICE_CODES': {'POSTED_TO_OFFICE_DATA': None},\n",
       " 'OFFICE_TYPE_TREE': {'OFFICE_TYPE_TREE_backup': None},\n",
       " 'TEXT_BIBLCAT_CODE_TYPE_REL': {'TEXT_BIBLCAT_CODES': None},\n",
       " 'TMP_INDEX_YEAR': {'ENTRY_DATA': None,\n",
       "  'BIOG_INST_DATA': None,\n",
       "  'POSSESSION_DATA': None,\n",
       "  'STATUS_DATA': None,\n",
       "  'EVENTS_DATA': None,\n",
       "  'ALTNAME_DATA': None,\n",
       "  'POSTED_TO_ADDR_DATA': None,\n",
       "  'ASSOC_DATA': None,\n",
       "  'BIOG_ADDR_DATA': None,\n",
       "  'POSTING_DATA': None,\n",
       "  'KIN_DATA': None,\n",
       "  'BIOG_TEXT_DATA': None,\n",
       "  'POSTED_TO_OFFICE_DATA': None,\n",
       "  'EVENTS_ADDR': None,\n",
       "  'POSSESSION_ADDR': None,\n",
       "  'BIOG_MAIN': None,\n",
       "  'BIOG_SOURCE_DATA': None},\n",
       " 'KIN_MOURNING_STEPS': {'KINSHIP_CODES': None, 'KIN_Mourning': None},\n",
       " 'SCHOLARLYTOPIC_CODES': {'ASSOC_DATA': None},\n",
       " 'EVENTS_ADDR': {'EVENTS_DATA': None},\n",
       " 'SOCIAL_INSTITUTION_ADDR': {'ENTRY_DATA': None,\n",
       "  'SOCIAL_INSTITUTION_NAME_CODES': None,\n",
       "  'BIOG_INST_DATA': None,\n",
       "  'ASSOC_DATA': None,\n",
       "  'SOCIAL_INSTITUTION_CODES': None,\n",
       "  'SOCIAL_INSTITUTION_ALTNAME_DATA': None,\n",
       "  'POSTED_TO_OFFICE_DATA': None,\n",
       "  'SOCIAL_INSTITUTION_CODES_CONVERSION': None},\n",
       " 'KIN_Mourning': {'KINSHIP_CODES': None, 'KIN_MOURNING_STEPS': None},\n",
       " 'POSSESSION_ADDR': {'POSSESSION_DATA': None},\n",
       " 'BIOG_MAIN': {'ENTRY_DATA': None,\n",
       "  'OFFICE_CODES': None,\n",
       "  'BIOG_INST_DATA': None,\n",
       "  'STATUS_DATA': None,\n",
       "  'EVENTS_DATA': None,\n",
       "  'ALTNAME_DATA': None,\n",
       "  'POSTED_TO_ADDR_DATA': None,\n",
       "  'TEXT_INSTANCE_DATA': None,\n",
       "  'ASSOC_DATA': None,\n",
       "  'BIOG_ADDR_DATA': None,\n",
       "  'TEXT_CODES': None,\n",
       "  'POSTING_DATA': None,\n",
       "  'KIN_DATA': None,\n",
       "  'BIOG_TEXT_DATA': None,\n",
       "  'POSTED_TO_OFFICE_DATA': None},\n",
       " 'SOCIAL_INSTITUTION_CODES_CONVERSION': {'ENTRY_DATA': None,\n",
       "  'SOCIAL_INSTITUTION_NAME_CODES': None,\n",
       "  'BIOG_INST_DATA': None,\n",
       "  'ASSOC_DATA': None,\n",
       "  'SOCIAL_INSTITUTION_CODES': None,\n",
       "  'SOCIAL_INSTITUTION_ALTNAME_DATA': None,\n",
       "  'POSTED_TO_OFFICE_DATA': None,\n",
       "  'SOCIAL_INSTITUTION_ADDR': None},\n",
       " 'OFFICE_TYPE_TREE_backup': {'OFFICE_TYPE_TREE': None},\n",
       " 'INDEXYEAR_TYPE_CODES': {'BIOG_MAIN': None},\n",
       " 'OFFICE_CODES_CONVERSION': {'POSTED_TO_OFFICE_DATA': None},\n",
       " 'BIOG_SOURCE_DATA': {'ENTRY_DATA': None,\n",
       "  'BIOG_INST_DATA': None,\n",
       "  'POSSESSION_DATA': None,\n",
       "  'STATUS_DATA': None,\n",
       "  'EVENTS_DATA': None,\n",
       "  'ALTNAME_DATA': None,\n",
       "  'POSTED_TO_ADDR_DATA': None,\n",
       "  'ASSOC_DATA': None,\n",
       "  'BIOG_ADDR_DATA': None,\n",
       "  'POSTING_DATA': None,\n",
       "  'KIN_DATA': None,\n",
       "  'BIOG_TEXT_DATA': None,\n",
       "  'POSTED_TO_OFFICE_DATA': None,\n",
       "  'TMP_INDEX_YEAR': None,\n",
       "  'EVENTS_ADDR': None,\n",
       "  'POSSESSION_ADDR': None,\n",
       "  'BIOG_MAIN': None}}"
      ]
     },
     "execution_count": 6,
     "metadata": {},
     "output_type": "execute_result"
    }
   ],
   "source": [
    "neighbor = {}\n",
    "intermediate = []\n",
    "for i in table_names:\n",
    "    if len(table_keys[i]) == 2:\n",
    "        intermediate.append(i)\n",
    "    for j in table_names:\n",
    "        if i==j:\n",
    "            continue\n",
    "        if table_keys[i][0] in table_keys[j]:\n",
    "            if i not in neighbor:\n",
    "                neighbor[i] = {j: None}\n",
    "            else:\n",
    "                neighbor[i].update({j: None})\n",
    "print(len(neighbor.keys()))\n",
    "neighbor"
   ]
  },
  {
   "cell_type": "code",
   "execution_count": 7,
   "metadata": {},
   "outputs": [],
   "source": [
    "for i in neighbor:\n",
    "    for j in neighbor[i]:\n",
    "        if table_keys[i][0] == table_keys[j][0]:\n",
    "            neighbor[i][j] = '一对一'\n",
    "        else:\n",
    "            neighbor[i][j] = '一对多'\n",
    "            "
   ]
  },
  {
   "cell_type": "code",
   "execution_count": 10,
   "metadata": {},
   "outputs": [
    {
     "data": {
      "text/plain": [
       "{'ASSOC_CODE_TYPE_REL',\n",
       " 'CopyMissingTables',\n",
       " 'CopyTables',\n",
       " 'CopyTablesDefault',\n",
       " 'ENTRY_CODE_TYPE_REL',\n",
       " 'STATUS_CODE_TYPE_REL',\n",
       " 'TEXT_BIBLCAT_CODE_TYPE_REL'}"
      ]
     },
     "execution_count": 10,
     "metadata": {},
     "output_type": "execute_result"
    }
   ],
   "source": [
    "inter_tables = set(i for i in table_keys if len(table_keys[i])==2)\n",
    "inter_tables"
   ]
  },
  {
   "cell_type": "code",
   "execution_count": 12,
   "metadata": {},
   "outputs": [
    {
     "data": {
      "text/plain": [
       "[('ENTRY_TYPES', 'ENTRY_CODE_TYPE_REL'),\n",
       " ('ENTRY_CODE_TYPE_REL', 'ENTRY_DATA'),\n",
       " ('CopyTables', 'CopyMissingTables'),\n",
       " ('CopyTables', 'CopyTablesDefault'),\n",
       " ('STATUS_CODE_TYPE_REL', 'STATUS_DATA'),\n",
       " ('ASSOC_CODE_TYPE_REL', 'ENTRY_DATA'),\n",
       " ('ASSOC_CODE_TYPE_REL', 'ASSOC_DATA'),\n",
       " ('ASSOC_TYPES', 'ASSOC_CODE_TYPE_REL'),\n",
       " ('STATUS_TYPES', 'STATUS_CODE_TYPE_REL'),\n",
       " ('TEXT_BIBLCAT_TYPES', 'TEXT_BIBLCAT_CODE_TYPE_REL'),\n",
       " ('TablesFieldsChanges', 'CopyMissingTables'),\n",
       " ('TablesFieldsChanges', 'CopyTablesDefault')]"
      ]
     },
     "execution_count": 12,
     "metadata": {},
     "output_type": "execute_result"
    }
   ],
   "source": [
    "candidates = []\n",
    "for i in neighbor:\n",
    "    for j in neighbor[i]:\n",
    "        if (i in inter_tables or j in inter_tables) and neighbor[i][j] == '一对多':\n",
    "            candidates.append((i, j))\n",
    "candidates"
   ]
  },
  {
   "cell_type": "code",
   "execution_count": 14,
   "metadata": {},
   "outputs": [
    {
     "data": {
      "text/plain": [
       "[('ENTRY_DATA', 'ENTRY_TYPES'),\n",
       " ('STATUS_DATA', 'STATUS_TYPES'),\n",
       " ('ENTRY_DATA', 'ASSOC_TYPES'),\n",
       " ('ASSOC_DATA', 'ASSOC_TYPES')]"
      ]
     },
     "execution_count": 14,
     "metadata": {},
     "output_type": "execute_result"
    }
   ],
   "source": [
    "pairs = []\n",
    "for pair1 in candidates:\n",
    "    for pair2 in candidates:\n",
    "        if pair1[0]==pair2[1]:\n",
    "            pairs.append((pair1[1], pair2[0]))\n",
    "pairs"
   ]
  },
  {
   "cell_type": "code",
   "execution_count": 15,
   "metadata": {},
   "outputs": [],
   "source": [
    "df = pd.DataFrame(columns=['表一', '表二', '表间关系'])\n",
    "for i in neighbor:\n",
    "    for j in neighbor[i]:\n",
    "        df.loc[len(df)] = [i, j, neighbor[i][j]]"
   ]
  },
  {
   "cell_type": "code",
   "execution_count": 16,
   "metadata": {},
   "outputs": [],
   "source": [
    "for p in pairs:\n",
    "    df.loc[len(df)] = [p[0], p[1], '多对多']"
   ]
  },
  {
   "cell_type": "code",
   "execution_count": 17,
   "metadata": {},
   "outputs": [],
   "source": [
    "with open('./表间关系.csv', 'w', encoding='utf-8') as f:\n",
    "    df.to_csv(f, index=False)"
   ]
  },
  {
   "cell_type": "code",
   "execution_count": null,
   "metadata": {},
   "outputs": [],
   "source": []
  }
 ],
 "metadata": {
  "kernelspec": {
   "display_name": "Python 3.9.12 ('base')",
   "language": "python",
   "name": "python3"
  },
  "language_info": {
   "codemirror_mode": {
    "name": "ipython",
    "version": 3
   },
   "file_extension": ".py",
   "mimetype": "text/x-python",
   "name": "python",
   "nbconvert_exporter": "python",
   "pygments_lexer": "ipython3",
   "version": "3.9.12 (main, Apr  5 2022, 01:53:17) \n[Clang 12.0.0 ]"
  },
  "orig_nbformat": 4,
  "vscode": {
   "interpreter": {
    "hash": "cccc6b24c42b92f0f5397c28f29e0b94ee4e833e31f323dd2f4eab36a0e1136b"
   }
  }
 },
 "nbformat": 4,
 "nbformat_minor": 2
}
