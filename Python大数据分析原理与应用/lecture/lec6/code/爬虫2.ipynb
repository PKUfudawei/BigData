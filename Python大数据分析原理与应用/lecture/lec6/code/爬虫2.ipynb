{
 "cells": [
  {
   "cell_type": "markdown",
   "metadata": {},
   "source": [
    "任务描述：\n",
    "\n",
    "从当当网搜索页面，按照关键词搜索，使用Python编写爬虫，自动爬取搜索结果中图书的书名、出版社、价格、作者和图书简介等信息。\n",
    "\n",
    "当当搜索页面：http://search.dangdang.com/"
   ]
  },
  {
   "cell_type": "markdown",
   "metadata": {},
   "source": [
    "单页面图书信息下载\n",
    "\n",
    "Python中的 requests 库能够自动帮助我们构造向服务器请求资源的request对象，返回服务器资源的response对象。如果仅仅需要返回HTML页面内容，直接调用response的text属性即可。在下面的代码中，我们首先导入requests库，定义当当网的搜索页面的网址，设置搜索关键词为\"机器学习\"。然后使用 requests.get 方法获取网页内容。最后将网页的前1000个字符打印显示。"
   ]
  },
  {
   "cell_type": "code",
   "execution_count": 6,
   "metadata": {},
   "outputs": [
    {
     "name": "stdout",
     "output_type": "stream",
     "text": [
      "    <!DOCTYPE html PUBLIC \"-//W3C//DTD XHTML 1.0 Transitional//EN\" \"http://www.w3.org/TR/xhtml1/DTD/xhtml1-transitional.dtd\">\r\n",
      "    <html xmlns=\"http://www.w3.org/1999/xhtml\" xmlns:v=\"urn:schemas-microsoft-com:vml\">\r\n",
      "        <head>\r\n",
      "                <base href=\"//search.dangdang.com/Standard/Search/Extend/hosts/\" />\r\n",
      "<link rel=\"dns-prefetch\" href=\"//search.dangdang.com\">\r\n",
      "<link rel=\"dns-prefetch\" href=\"//img4.ddimg.cn\">\r\n",
      "<title>机器学习-当当网</title>\r\n",
      "<meta http-equiv=\"Content-Type\" content=\"text/html; charset=GB2312\">\r\n",
      "<meta name=\"description\" content=\"当当网在线销售机器学习等商品，并为您购买机器学习等商品提供品牌、价格、图片、评论、促销等选购信息\" />\r\n",
      "<meta name=\"keywords\" content=\"机器学习\" />\r\n",
      "<meta name='ddclick_ab' content=\"ver:429\"/>\r\n",
      "<meta name=\"ddclick_search\" content=\"key:机器学习|cat:|session_id:1940287ce9878d9990b2a258921b1c74|ab_ver:G|qinfo:88379_1_60|pinfo:_1_60\"/>\r\n",
      "<link rel=\"canonical\" href=\"//search.dangdang.com/?key=%E6%9C%BA%E5%99%A8%E5%AD%A6%E4%B9%A0\"/>\r\n",
      "        <link rel=\"stylesheet\" type=\"text/css\" href=\"css/theme_1.css\"/>\r\n",
      "  \n"
     ]
    }
   ],
   "source": [
    "import requests #1. 导入requests 库\n",
    "test_url = 'http://search.dangdang.com/?key='+ '机器学习'  #2. 设置网页的URL地址\n",
    "content_page = requests.get(test_url).text #3. 执行页面请求，返回页面内容\n",
    "print(content_page[:1000]) #4.将页面的前1000个字符打印显示出来"
   ]
  },
  {
   "cell_type": "markdown",
   "metadata": {},
   "source": [
    "图书内容解析\n",
    "\n",
    "下面开始做页面的解析，分析源码.使用Chrome浏览器直接打开网址 http://search.dangdang.com/?key=机器学习 。然后选中任意一本图书信息，鼠标右键点击“检查”按钮。不难发现搜索结果中的每一个图书的信息在页面中为\\< li \\>标签\n",
    "\n",
    "我们以书名信息的提取为例进行具体说明。点击 li 标签下的 class属性为 name 的 p 标签，我们发现书名信息保存在一个name属性取值为\"itemlist-title\"的 a 标签的title属性中\n",
    "\n",
    "我们可以使用xpath直接描述上述定位信息为 //li/p/a[@name=\"itemlist-title\"]/@title 。下面我们用 lxml 模块来提取页面中的书名信息。利用etree.HTML，将字符串转化为Element对象,Element对象具有xpath的方法,返回结果的列表，xpath的使用请参考 https://www.w3school.com.cn/xpath/xpath_syntax.asp 。"
   ]
  },
  {
   "cell_type": "code",
   "execution_count": 14,
   "metadata": {},
   "outputs": [
    {
     "data": {
      "text/plain": [
       "[' 机器学习 机器学习*修订版！人工智能领域中文的开山之作，大牛周志华教授带你全面揭开机器学习的奥秘。',\n",
       " ' 机器学习公式详解 人工智能领域中文的开山之作、周志华 西瓜书 机器学习 伴侣书，Datawhale开源协作学习笔记 南瓜书，机器学习初学小白提升数学基础能力的练习书！',\n",
       " ' 机器学习实战：基于Scikit-Learn Keras和TensorFlow（原书第2版） 机器学习畅销书全新升级，基于TensorFlow 2和Scikit-Learn新版本，详细讲解构建智能系统所需要的概念和工具',\n",
       " ' 零基础学机器学习 人工智能教程籍，深入浅出神经网络与深度学习入门，基于python框架算法，机器学习入门小白书，与小冰一起课堂培训丰富的实战案例赠送全书实例源代码、案例数据集。',\n",
       " ' 深度学习 人工智能算法，机器学习奠基之作，AI圣经 AI圣经 deep learning中文版 2018年图灵奖获奖者作品 业内人称“花书” 人工智能机器学习深度学习领域奠基性经典畅销书',\n",
       " ' 机器学习实战【python基础教程指南，python核心编程实例指导，对wxpython数据库充分的讲解，不可错过的编程 【图灵程序设计丛书】人工智能开发图书 深度学习实践应用 利用Python阐述机器学习算法 配合日常用例 强劲实战导向 程序员人手常备',\n",
       " ' 机器学习算法竞赛实战 kaggle、阿里天池、广告算法竞赛入门 人工智能系统书籍 ',\n",
       " ' Python机器学习基础教程 基于Python3的机器学习入门教程 以机器学习算法实践为重点 使用scikit-learn库从头构建机器学习应用 涵盖模型评估调参方法 交差验证网格搜索 管道概念及文本数据处理方法等内容',\n",
       " ' 机器学习入门 一看就会，零基础打开机器学习入门',\n",
       " ' 深入机器学习 概念及原理讲解深入浅出、形象生动，数学原理及公式推导过程详细、大专可懂，包含算法完整实现，可真正上手实战']"
      ]
     },
     "execution_count": 14,
     "metadata": {},
     "output_type": "execute_result"
    }
   ],
   "source": [
    "from lxml import etree #导入etree模块\n",
    "page = etree.HTML(content_page) #将页面字符串解析成树结构\n",
    "book_name = page.xpath('//li/p/a[@name=\"itemlist-title\"]/@title') #用xpath提取出书名信息。\n",
    "book_name[:10] #打印提取出的前10个书名信息"
   ]
  },
  {
   "cell_type": "markdown",
   "metadata": {},
   "source": [
    "下面我们编写一个函数 extract_books_from_content，输入一个页面内容，自动提取出页面包含的所有图书信息"
   ]
  },
  {
   "cell_type": "code",
   "execution_count": 18,
   "metadata": {},
   "outputs": [
    {
     "data": {
      "text/plain": [
       "[[' 机器学习 机器学习*修订版！人工智能领域中文的开山之作，大牛周志华教授带你全面揭开机器学习的奥秘。',\n",
       "  '周志华 /2016-01-01  /清华大学出版社',\n",
       "  '¥75.60',\n",
       "  'width: 90%;',\n",
       "  '11701条评论'],\n",
       " [' 机器学习公式详解 人工智能领域中文的开山之作、周志华 西瓜书 机器学习 伴侣书，Datawhale开源协作学习笔记 南瓜书，机器学习初学小白提升数学基础能力的练习书！',\n",
       "  '谢文睿，秦州 /2022-07-01  /人民邮电出版社',\n",
       "  '¥29.90',\n",
       "  'width: 100%;',\n",
       "  '8029条评论'],\n",
       " [' 机器学习实战：基于Scikit-Learn Keras和TensorFlow（原书第2版） 机器学习畅销书全新升级，基于TensorFlow 2和Scikit-Learn新版本，详细讲解构建智能系统所需要的概念和工具',\n",
       "  '奥雷利安 /2022-12-27  /机械工业出版社',\n",
       "  '¥117.70',\n",
       "  'width: 90%;',\n",
       "  '7217条评论'],\n",
       " [' 零基础学机器学习 人工智能教程籍，深入浅出神经网络与深度学习入门，基于python框架算法，机器学习入门小白书，与小冰一起课堂培训丰富的实战案例赠送全书实例源代码、案例数据集。',\n",
       "  '黄佳 /2020-12-01  /人民邮电出版社',\n",
       "  '¥67.30',\n",
       "  'width: 100%;',\n",
       "  '1769条评论'],\n",
       " [' 深度学习 人工智能算法，机器学习奠基之作，AI圣经 AI圣经 deep learning中文版 2018年图灵奖获奖者作品 业内人称“花书” 人工智能机器学习深度学习领域奠基性经典畅销书',\n",
       "  '[美]Ian Goodfellow（伊恩・古德费洛）、[ /2017-07-01  /人民邮电出版社',\n",
       "  '¥84.00',\n",
       "  'width: 80%;',\n",
       "  '72364条评论']]"
      ]
     },
     "execution_count": 18,
     "metadata": {},
     "output_type": "execute_result"
    }
   ],
   "source": [
    "from lxml import etree\n",
    "def extract_books_from_content(content_page):\n",
    "    books = []\n",
    "    page = etree.HTML(content_page)\n",
    "    book_name = page.xpath('//li/p/a[@name=\"itemlist-title\"]/@title') #书名\n",
    "    pub_info = page.xpath('//li/p[@class=\"search_book_author\"]')#出版信息\n",
    "    pub_info = [book_pub.xpath('string(.)') for book_pub in pub_info]\n",
    "    price_now = page.xpath('//li//span[@class=\"search_now_price\"]/text()')#当前价格\n",
    "    stars = page.xpath('//li/p[@class=\"search_star_line\"]/span[@class=\"search_star_black\"]/span/@style') #星级\n",
    "    comment_num = page.xpath('//li/p[@class=\"search_star_line\"]/a[@class=\"search_comment_num\"]/text()') #评论数\n",
    "    for book in zip(book_name, pub_info, price_now, stars, comment_num):\n",
    "        books.append(list(book))\n",
    "    return books\n",
    "books = extract_books_from_content(content_page)\n",
    "books[:5]"
   ]
  },
  {
   "cell_type": "markdown",
   "metadata": {},
   "source": [
    "为了显示的方便，我们将上述提取到的图书信息转换成 Pandas 的 DataFrame 格式。"
   ]
  },
  {
   "cell_type": "code",
   "execution_count": 21,
   "metadata": {},
   "outputs": [
    {
     "data": {
      "text/html": [
       "<div>\n",
       "<style scoped>\n",
       "    .dataframe tbody tr th:only-of-type {\n",
       "        vertical-align: middle;\n",
       "    }\n",
       "\n",
       "    .dataframe tbody tr th {\n",
       "        vertical-align: top;\n",
       "    }\n",
       "\n",
       "    .dataframe thead th {\n",
       "        text-align: right;\n",
       "    }\n",
       "</style>\n",
       "<table border=\"1\" class=\"dataframe\">\n",
       "  <thead>\n",
       "    <tr style=\"text-align: right;\">\n",
       "      <th></th>\n",
       "      <th>书名</th>\n",
       "      <th>出版信息</th>\n",
       "      <th>当前价格</th>\n",
       "      <th>星级</th>\n",
       "      <th>评论数</th>\n",
       "    </tr>\n",
       "  </thead>\n",
       "  <tbody>\n",
       "    <tr>\n",
       "      <th>0</th>\n",
       "      <td>包邮 机器学习的数学理论|8071561</td>\n",
       "      <td>[中] 史斌（Bin Shi） [美] S.S.艾扬格（S.S.Iyengar /2020-...</td>\n",
       "      <td>¥48.30</td>\n",
       "      <td>width: 0%;</td>\n",
       "      <td>1条评论</td>\n",
       "    </tr>\n",
       "    <tr>\n",
       "      <th>1</th>\n",
       "      <td>【正版特价】R语言机器学习：实用案例分析|230337</td>\n",
       "      <td>（印度）拉格哈夫・巴利（Raghav Bali） （印度）迪潘简・撒卡尔（Dip /2017...</td>\n",
       "      <td>¥28.32</td>\n",
       "      <td>width: 0%;</td>\n",
       "      <td>1条评论</td>\n",
       "    </tr>\n",
       "    <tr>\n",
       "      <th>2</th>\n",
       "      <td>包邮 机器学习入门：数学原理解析及算法实践|8088570</td>\n",
       "      <td>董政 /2022-04-20  /机械工业出版社</td>\n",
       "      <td>¥55.30</td>\n",
       "      <td>width: 0%;</td>\n",
       "      <td>7条评论</td>\n",
       "    </tr>\n",
       "    <tr>\n",
       "      <th>3</th>\n",
       "      <td>包邮 机器学习：算法视角（原书第2版）|8058334</td>\n",
       "      <td>新西兰] 史蒂芬？马斯兰（Stephen Marsland） /2019-04-01  /机...</td>\n",
       "      <td>¥69.30</td>\n",
       "      <td>width: 60%;</td>\n",
       "      <td>105条评论</td>\n",
       "    </tr>\n",
       "    <tr>\n",
       "      <th>4</th>\n",
       "      <td>构建实时机器学习系统 Amazon、微软、Google资深机器学习专家倾力打造，融合10年...</td>\n",
       "      <td>彭河森 汪涵 /2017-08-25  /机械工业出版社</td>\n",
       "      <td>¥51.10</td>\n",
       "      <td>width: 0%;</td>\n",
       "      <td>1条评论</td>\n",
       "    </tr>\n",
       "    <tr>\n",
       "      <th>5</th>\n",
       "      <td>包邮 机器学习：基于约束的方法|8071715</td>\n",
       "      <td>[意大利]马可・戈里（Marco Gori） /2020-08-07  /机械工业出版社</td>\n",
       "      <td>¥83.30</td>\n",
       "      <td>width: 100%;</td>\n",
       "      <td>9条评论</td>\n",
       "    </tr>\n",
       "    <tr>\n",
       "      <th>6</th>\n",
       "      <td>包邮 机器学习开发实战（英文版）|8078304</td>\n",
       "      <td>[意]迪诺・埃斯波西托（Dino Esposito） 弗朗西斯科・埃斯波西托（F /2021...</td>\n",
       "      <td>¥97.30</td>\n",
       "      <td>width: 0%;</td>\n",
       "      <td>3条评论</td>\n",
       "    </tr>\n",
       "    <tr>\n",
       "      <th>7</th>\n",
       "      <td>包邮 机器学习实战：基于Scikit-Learn、Keras和TensorFlo|8075...</td>\n",
       "      <td>[法] 奥雷利安・杰龙（Aurélien Géron） /2020-09-23  /机械工业出版社</td>\n",
       "      <td>¥104.30</td>\n",
       "      <td>width: 0%;</td>\n",
       "      <td>2条评论</td>\n",
       "    </tr>\n",
       "    <tr>\n",
       "      <th>8</th>\n",
       "      <td>包邮 [套装书]机器学习实战+Python深度学习实战+TensorFlow机器|8061...</td>\n",
       "      <td>[法] 奥雷利安・杰龙（Aurélien Géron）[印] 纳温・库马尔・马纳 /2018...</td>\n",
       "      <td>¥188.36</td>\n",
       "      <td>width: 100%;</td>\n",
       "      <td>77条评论</td>\n",
       "    </tr>\n",
       "    <tr>\n",
       "      <th>9</th>\n",
       "      <td>场景化机器学习 人工智能入门教程机器学习实战神经网络编程AI书籍深度学习框架实战方法基础教程书</td>\n",
       "      <td>道格・哈金 等 /2021-01-01  /人民邮电出版社</td>\n",
       "      <td>¥61.60</td>\n",
       "      <td>width: 100%;</td>\n",
       "      <td>95条评论</td>\n",
       "    </tr>\n",
       "  </tbody>\n",
       "</table>\n",
       "</div>"
      ],
      "text/plain": [
       "                                                  书名  \\\n",
       "0                              包邮 机器学习的数学理论|8071561    \n",
       "1                       【正版特价】R语言机器学习：实用案例分析|230337    \n",
       "2                     包邮 机器学习入门：数学原理解析及算法实践|8088570    \n",
       "3                       包邮 机器学习：算法视角（原书第2版）|8058334    \n",
       "4   构建实时机器学习系统 Amazon、微软、Google资深机器学习专家倾力打造，融合10年...   \n",
       "5                           包邮 机器学习：基于约束的方法|8071715    \n",
       "6                          包邮 机器学习开发实战（英文版）|8078304    \n",
       "7   包邮 机器学习实战：基于Scikit-Learn、Keras和TensorFlo|8075...   \n",
       "8   包邮 [套装书]机器学习实战+Python深度学习实战+TensorFlow机器|8061...   \n",
       "9   场景化机器学习 人工智能入门教程机器学习实战神经网络编程AI书籍深度学习框架实战方法基础教程书    \n",
       "\n",
       "                                                出版信息     当前价格            星级  \\\n",
       "0  [中] 史斌（Bin Shi） [美] S.S.艾扬格（S.S.Iyengar /2020-...   ¥48.30    width: 0%;   \n",
       "1  （印度）拉格哈夫・巴利（Raghav Bali） （印度）迪潘简・撒卡尔（Dip /2017...   ¥28.32    width: 0%;   \n",
       "2                           董政 /2022-04-20  /机械工业出版社   ¥55.30    width: 0%;   \n",
       "3  新西兰] 史蒂芬？马斯兰（Stephen Marsland） /2019-04-01  /机...   ¥69.30   width: 60%;   \n",
       "4                       彭河森 汪涵 /2017-08-25  /机械工业出版社   ¥51.10    width: 0%;   \n",
       "5       [意大利]马可・戈里（Marco Gori） /2020-08-07  /机械工业出版社   ¥83.30  width: 100%;   \n",
       "6  [意]迪诺・埃斯波西托（Dino Esposito） 弗朗西斯科・埃斯波西托（F /2021...   ¥97.30    width: 0%;   \n",
       "7  [法] 奥雷利安・杰龙（Aurélien Géron） /2020-09-23  /机械工业出版社  ¥104.30    width: 0%;   \n",
       "8  [法] 奥雷利安・杰龙（Aurélien Géron）[印] 纳温・库马尔・马纳 /2018...  ¥188.36  width: 100%;   \n",
       "9                      道格・哈金 等 /2021-01-01  /人民邮电出版社   ¥61.60  width: 100%;   \n",
       "\n",
       "      评论数  \n",
       "0    1条评论  \n",
       "1    1条评论  \n",
       "2    7条评论  \n",
       "3  105条评论  \n",
       "4    1条评论  \n",
       "5    9条评论  \n",
       "6    3条评论  \n",
       "7    2条评论  \n",
       "8   77条评论  \n",
       "9   95条评论  "
      ]
     },
     "execution_count": 21,
     "metadata": {},
     "output_type": "execute_result"
    }
   ],
   "source": [
    "import pandas as pd\n",
    "books_df = pd.DataFrame(data=books,columns=[\"书名\",\"出版信息\",\"当前价格\",\"星级\",\"评论数\"])\n",
    "books_df[:10]"
   ]
  },
  {
   "cell_type": "code",
   "execution_count": 22,
   "metadata": {},
   "outputs": [
    {
     "data": {
      "text/plain": [
       "(35, 5)"
      ]
     },
     "execution_count": 22,
     "metadata": {},
     "output_type": "execute_result"
    }
   ],
   "source": [
    "books_df.shape"
   ]
  },
  {
   "cell_type": "markdown",
   "metadata": {},
   "source": [
    "多页面图书信息下载\n",
    "\n",
    "观察搜索页面最底部，输入一个关键词，通常会返回多页结果，点击任意一个页面按钮，然后观察浏览器地址栏的变化。我们发现不同页面通过浏览器URL中添加 page_index 属性即可。例如我们搜索\"机器学习\"关键词，访问第10页结果，则使用以下URL:\n",
    "\n",
    "http://search.dangdang.com/?key=机器学习&page_index=10\n",
    "\n",
    "假设我们一共希望下载10页内容，则可以通过以下代码实现。"
   ]
  },
  {
   "cell_type": "code",
   "execution_count": 23,
   "metadata": {},
   "outputs": [
    {
     "name": "stdout",
     "output_type": "stream",
     "text": [
      "page 1, 46 books downloaded.\n",
      "page 2, 48 books downloaded.\n",
      "page 3, 53 books downloaded.\n",
      "page 4, 54 books downloaded.\n",
      "page 5, 55 books downloaded.\n",
      "page 6, 56 books downloaded.\n",
      "page 7, 55 books downloaded.\n",
      "page 8, 52 books downloaded.\n",
      "page 9, 36 books downloaded.\n",
      "page 10, 35 books downloaded.\n"
     ]
    }
   ],
   "source": [
    "import time\n",
    "key_word = \"机器学习\" #设置搜索关键词\n",
    "max_page = 10 #需要下载的页数\n",
    "books_total = []\n",
    "for page in range(1,max_page+1):\n",
    "    url = 'http://search.dangdang.com/?key=' + key_word + \"&page_index=\" + str(page) #构造URL地址\n",
    "    page_content = requests.get(url).text #下载网页内容\n",
    "    books = extract_books_from_content(page_content) #网页图书信息解析\n",
    "    books_total.extend(books) #将当前页面的图书信息添加到结果列表\n",
    "    print(\"page \" + str(page) +\", \"+ str(len(books)) + \" books downloaded.\" )\n",
    "    time.sleep(1) #停顿1秒再下载下一页"
   ]
  },
  {
   "cell_type": "code",
   "execution_count": 24,
   "metadata": {},
   "outputs": [],
   "source": [
    "books_total_df = pd.DataFrame(data=books_total, columns=[\"书名\",\"出版信息\",\"当前价格\",\"星级\",\"评论数\"])"
   ]
  },
  {
   "cell_type": "code",
   "execution_count": 25,
   "metadata": {},
   "outputs": [
    {
     "data": {
      "text/html": [
       "<div>\n",
       "<style scoped>\n",
       "    .dataframe tbody tr th:only-of-type {\n",
       "        vertical-align: middle;\n",
       "    }\n",
       "\n",
       "    .dataframe tbody tr th {\n",
       "        vertical-align: top;\n",
       "    }\n",
       "\n",
       "    .dataframe thead th {\n",
       "        text-align: right;\n",
       "    }\n",
       "</style>\n",
       "<table border=\"1\" class=\"dataframe\">\n",
       "  <thead>\n",
       "    <tr style=\"text-align: right;\">\n",
       "      <th></th>\n",
       "      <th>书名</th>\n",
       "      <th>出版信息</th>\n",
       "      <th>当前价格</th>\n",
       "      <th>星级</th>\n",
       "      <th>评论数</th>\n",
       "    </tr>\n",
       "  </thead>\n",
       "  <tbody>\n",
       "    <tr>\n",
       "      <th>183</th>\n",
       "      <td>【正版特价】Python大规模机器学习|232383</td>\n",
       "      <td>[荷]巴斯蒂安・贾丁（Bastiaan Sjardin） [意]卢卡・马萨罗（L /2019...</td>\n",
       "      <td>¥22.25</td>\n",
       "      <td>width: 100%;</td>\n",
       "      <td>1178条评论</td>\n",
       "    </tr>\n",
       "    <tr>\n",
       "      <th>289</th>\n",
       "      <td>机器学习提升法 理论与算法 机器学习理论，人工智能导论，机器学习导论和算法图解，提升法创始...</td>\n",
       "      <td>[美]罗伯特・夏皮雷（Robert E. Schapire）约夫・弗雷德 (Yo /2020...</td>\n",
       "      <td>¥86.10</td>\n",
       "      <td>width: 0%;</td>\n",
       "      <td>1条评论</td>\n",
       "    </tr>\n",
       "    <tr>\n",
       "      <th>217</th>\n",
       "      <td>机器学习的算法观点 第2版 理论与实践完美结合的机器学习经典入门教材，包括了机器学习的各种...</td>\n",
       "      <td>[新西兰] 史蒂芬・马斯兰 (Stephen Marsland) /2022-08-01  ...</td>\n",
       "      <td>¥96.70</td>\n",
       "      <td>width: 0%;</td>\n",
       "      <td>7条评论</td>\n",
       "    </tr>\n",
       "    <tr>\n",
       "      <th>392</th>\n",
       "      <td>应用机器学习方法度量在线品牌忠诚度模型构建研究 思源文库</td>\n",
       "      <td>赵玮 /2017-07-01  /北京交通大学出版社</td>\n",
       "      <td>¥47.20</td>\n",
       "      <td>width: 100%;</td>\n",
       "      <td>30条评论</td>\n",
       "    </tr>\n",
       "    <tr>\n",
       "      <th>95</th>\n",
       "      <td>机器学习在量化金融中的应用 金融数据分析专家多年工作结晶，深入浅出阐释机器学习数学基础及其...</td>\n",
       "      <td>倪好 于光希 郑劲松 董欣 /2021-02-01  /清华大学出版社</td>\n",
       "      <td>¥62.50</td>\n",
       "      <td>width: 60%;</td>\n",
       "      <td>267条评论</td>\n",
       "    </tr>\n",
       "  </tbody>\n",
       "</table>\n",
       "</div>"
      ],
      "text/plain": [
       "                                                    书名  \\\n",
       "183                        【正版特价】Python大规模机器学习|232383    \n",
       "289   机器学习提升法 理论与算法 机器学习理论，人工智能导论，机器学习导论和算法图解，提升法创始...   \n",
       "217   机器学习的算法观点 第2版 理论与实践完美结合的机器学习经典入门教材，包括了机器学习的各种...   \n",
       "392                       应用机器学习方法度量在线品牌忠诚度模型构建研究 思源文库   \n",
       "95    机器学习在量化金融中的应用 金融数据分析专家多年工作结晶，深入浅出阐释机器学习数学基础及其...   \n",
       "\n",
       "                                                  出版信息    当前价格            星级  \\\n",
       "183  [荷]巴斯蒂安・贾丁（Bastiaan Sjardin） [意]卢卡・马萨罗（L /2019...  ¥22.25  width: 100%;   \n",
       "289  [美]罗伯特・夏皮雷（Robert E. Schapire）约夫・弗雷德 (Yo /2020...  ¥86.10    width: 0%;   \n",
       "217  [新西兰] 史蒂芬・马斯兰 (Stephen Marsland) /2022-08-01  ...  ¥96.70    width: 0%;   \n",
       "392                         赵玮 /2017-07-01  /北京交通大学出版社  ¥47.20  width: 100%;   \n",
       "95                 倪好 于光希 郑劲松 董欣 /2021-02-01  /清华大学出版社  ¥62.50   width: 60%;   \n",
       "\n",
       "         评论数  \n",
       "183  1178条评论  \n",
       "289     1条评论  \n",
       "217     7条评论  \n",
       "392    30条评论  \n",
       "95    267条评论  "
      ]
     },
     "execution_count": 25,
     "metadata": {},
     "output_type": "execute_result"
    }
   ],
   "source": [
    "books_total_df.sample(5)"
   ]
  },
  {
   "cell_type": "code",
   "execution_count": 26,
   "metadata": {},
   "outputs": [
    {
     "data": {
      "text/plain": [
       "(490, 5)"
      ]
     },
     "execution_count": 26,
     "metadata": {},
     "output_type": "execute_result"
    }
   ],
   "source": [
    "books_total_df.shape"
   ]
  },
  {
   "cell_type": "code",
   "execution_count": 27,
   "metadata": {},
   "outputs": [],
   "source": [
    "books_total_df.to_csv(\"books_total.csv\",encoding=\"utf8\",sep=\"\\t\",index=None)"
   ]
  },
  {
   "cell_type": "code",
   "execution_count": null,
   "metadata": {},
   "outputs": [],
   "source": []
  }
 ],
 "metadata": {
  "kernelspec": {
   "display_name": "Python 3",
   "language": "python",
   "name": "python3"
  },
  "language_info": {
   "codemirror_mode": {
    "name": "ipython",
    "version": 3
   },
   "file_extension": ".py",
   "mimetype": "text/x-python",
   "name": "python",
   "nbconvert_exporter": "python",
   "pygments_lexer": "ipython3",
   "version": "3.9.7"
  }
 },
 "nbformat": 4,
 "nbformat_minor": 2
}
