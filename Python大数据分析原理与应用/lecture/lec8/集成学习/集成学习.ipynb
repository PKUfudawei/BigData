{
 "cells": [
  {
   "cell_type": "markdown",
   "metadata": {},
   "source": [
    "# 随机森林\n",
    "随机森林是一种经典的集成学习模型，其弱分类器为决策树模型。为了保证模型的泛化能力，随机森林在构建每个决策树时，往往会遵循“数据随机”和“特征随机”两个基本原则<p>\n",
    "数据随机是指从所有数据中有放回地随机抽取数据作为其中一个决策树模型地训练数据，例如，有1000个原始数据，有放回地抽取800次，构成一组新的数据，用于训练某一个决策树模型。<p>\n",
    "特征随机是指如果每个样本的特征维度为M，指定一个常数k \\< M，每次构建决策树时，随机地从M个特征中选择k个特征，一般默认k \\= sqrt(M) .<p>\n",
    "随机森林模型集成了多个决策树，预测结果更准确，且通过数据随机和特征随机的方式，降低了过拟合的可能性，泛化性能更强\n",
    "随机森林sklearn文档https://scikit-learn.org/stable/modules/generated/sklearn.ensemble.RandomForestClassifier.html#sklearn.ensemble.RandomForestClassifier"
   ]
  },
  {
   "cell_type": "markdown",
   "metadata": {},
   "source": [
    "本节课将利用股票数据进行教学演示，将用到用于获取股价数据的Tushare库，可通过<p>\n",
    "(1)在Anaconda Prompt中输入 pip install tushare 按回车 <p>\n",
    "(2)在Jupyter Notebook 的cell中输入 !pip install tushare 并运行该cell 任选其一进行安装。<p>\n",
    "   为加快安装速度，可以在安装前先添加清华镜像源<p>\n",
    "在Anaconda Prompt中依次输入<p>\n",
    "conda config --add channels http://mirrors.tuna.tsinghua.edu.cn/anaconda/pkgs/free/<p>\n",
    "conda config --add channels http://mirrors.tuna.tsinghua.edu.cn/anaconda/cloud/conda-forge <p>\n",
    "conda config --set show_channel_urls yes<p>\n",
    "同时也要用到计算股票衍生变量的库TA-Lib, 如果是64位的Windows操作系统，直接运行“pip install talib”命令来安装TA-Lib库会报错，原因在于Python pip源中的TA-Lib是32位的，不能安装在64位系统上。正确的方法是下载64位的安装包后进行本地安装。 首先需查看自己的Python的版本号，在Anaconda Prompt中输入python并按回车。可查看自己Python的版本，输入exit()回车退出命令行运行，打开网址 https://www.lfd.uci.edu/~gohlke/pythonlibs/  进入网页后按Ctrl+F键，搜索ta-lib,根据Python版本和自己操作系统的种类、位数选择合适的安装包下载。助教演示所用的包为“TA_Lib-0.4.24-cp39-cp39-win_amd64.whl”（适配py3.7  3.8  3.9版本64位windows操作系统的安装包在课前发的压缩包里有，其他版本的需要自行下载），下载完成后，进入存储该安装包的文件夹，复制文件名后，在路径栏输入cmd回车，在弹出的窗口输入pip install TA_Lib-0.4.24-cp39-cp39-win_amd64.whl 回车进行安装，之后运行python回车import talib回车，不报错说明安装成功,若报错，很可能是由于numpy的版本不匹配导致的，可以用conda list numpy命令查看numpy版本，之后用conda install numpy=1.16.1安装指定numpy版本，解决此问题"
   ]
  },
  {
   "cell_type": "code",
   "execution_count": 1,
   "metadata": {},
   "outputs": [],
   "source": [
    "import tushare as ts  # 股票基本数据相关库\n",
    "import numpy as np  # 科学计算相关库\n",
    "import pandas as pd  # 科学计算相关库  \n",
    "import talib  # 股票衍生变量数据相关库\n",
    "import matplotlib.pyplot as plt  # 引入绘图相关库\n",
    "from sklearn.ensemble import RandomForestClassifier  # 引入分类决策树模型\n",
    "from sklearn.metrics import accuracy_score  # 引入准确度评分函数\n",
    "import warnings\n",
    "warnings.filterwarnings(\"ignore\") # 忽略警告信息，警告非报错，不影响代码执行"
   ]
  },
  {
   "cell_type": "code",
   "execution_count": 2,
   "metadata": {},
   "outputs": [
    {
     "name": "stdout",
     "output_type": "stream",
     "text": [
      "本接口即将停止更新，请尽快使用Pro版接口：https://tushare.pro/document/2\n",
      "              open   close    high     low     volume    code\n",
      "date                                                         \n",
      "2015-01-05   7.200   7.720   8.100   7.030  6560835.0  000002\n",
      "2015-01-06   7.410   7.170   7.800   6.860  3346346.0  000002\n",
      "2015-01-07   7.070   7.040   7.310   6.810  2642051.0  000002\n",
      "2015-01-08   7.130   6.400   7.180   6.270  2639394.0  000002\n",
      "2015-01-09   6.350   6.260   7.030   6.100  3294584.0  000002\n",
      "...            ...     ...     ...     ...        ...     ...\n",
      "2019-12-25  27.165  27.055  27.395  26.945   685037.0  000002\n",
      "2019-12-26  27.265  27.885  28.065  27.265   888790.0  000002\n",
      "2019-12-27  27.995  27.765  28.085  27.575   703096.0  000002\n",
      "2019-12-30  28.115  28.335  28.555  27.785   915751.0  000002\n",
      "2019-12-31  28.115  28.945  29.215  28.085   663497.0  000002\n",
      "\n",
      "[1084 rows x 6 columns]\n"
     ]
    }
   ],
   "source": [
    "# 1.股票基本数据获取\n",
    "df = ts.get_k_data('000002',start='2015-01-01',end='2019-12-31')\n",
    "df = df.set_index('date')  # 设置日期为索引\n",
    "print(df)\n",
    "# 2.简单衍生变量构造\n",
    "df['close-open'] = (df['close'] - df['open'])/df['open']\n",
    "df['high-low'] = (df['high'] - df['low'])/df['low']\n",
    "\n",
    "df['pre_close'] = df['close'].shift(1)  # 该列所有往下移一行形成昨日收盘价\n",
    "df['price_change'] = df['close']-df['pre_close']\n",
    "df['p_change'] = (df['close']-df['pre_close'])/df['pre_close']*100\n",
    "\n",
    "# 3.移动平均线相关数据构造\n",
    "df['MA5'] = df['close'].rolling(5).mean()\n",
    "df['MA10'] = df['close'].rolling(10).mean()\n",
    "df.dropna(inplace=True)  # 删除空值\n",
    "\n",
    "# 4.通过Ta_lib库构造衍生变量\n",
    "df['RSI'] = talib.RSI(df['close'], timeperiod=12)  # 相对强弱指标\n",
    "df['MOM'] = talib.MOM(df['close'], timeperiod=5)  # 动量指标\n",
    "df['EMA12'] = talib.EMA(df['close'], timeperiod=12)  # 12日指数移动平均线\n",
    "df['EMA26'] = talib.EMA(df['close'], timeperiod=26)  # 26日指数移动平均线\n",
    "df['MACD'], df['MACDsignal'], df['MACDhist'] = talib.MACD(df['close'], fastperiod=12, slowperiod=26, signalperiod=9)  # MACD值\n",
    "df.dropna(inplace=True)  # 删除空值"
   ]
  },
  {
   "cell_type": "markdown",
   "metadata": {},
   "source": [
    "查看此时的df后五行"
   ]
  },
  {
   "cell_type": "code",
   "execution_count": 3,
   "metadata": {},
   "outputs": [
    {
     "data": {
      "text/html": [
       "<div>\n",
       "<style scoped>\n",
       "    .dataframe tbody tr th:only-of-type {\n",
       "        vertical-align: middle;\n",
       "    }\n",
       "\n",
       "    .dataframe tbody tr th {\n",
       "        vertical-align: top;\n",
       "    }\n",
       "\n",
       "    .dataframe thead th {\n",
       "        text-align: right;\n",
       "    }\n",
       "</style>\n",
       "<table border=\"1\" class=\"dataframe\">\n",
       "  <thead>\n",
       "    <tr style=\"text-align: right;\">\n",
       "      <th></th>\n",
       "      <th>open</th>\n",
       "      <th>close</th>\n",
       "      <th>high</th>\n",
       "      <th>low</th>\n",
       "      <th>volume</th>\n",
       "      <th>code</th>\n",
       "      <th>close-open</th>\n",
       "      <th>high-low</th>\n",
       "      <th>pre_close</th>\n",
       "      <th>price_change</th>\n",
       "      <th>p_change</th>\n",
       "      <th>MA5</th>\n",
       "      <th>MA10</th>\n",
       "      <th>RSI</th>\n",
       "      <th>MOM</th>\n",
       "      <th>EMA12</th>\n",
       "      <th>EMA26</th>\n",
       "      <th>MACD</th>\n",
       "      <th>MACDsignal</th>\n",
       "      <th>MACDhist</th>\n",
       "    </tr>\n",
       "    <tr>\n",
       "      <th>date</th>\n",
       "      <th></th>\n",
       "      <th></th>\n",
       "      <th></th>\n",
       "      <th></th>\n",
       "      <th></th>\n",
       "      <th></th>\n",
       "      <th></th>\n",
       "      <th></th>\n",
       "      <th></th>\n",
       "      <th></th>\n",
       "      <th></th>\n",
       "      <th></th>\n",
       "      <th></th>\n",
       "      <th></th>\n",
       "      <th></th>\n",
       "      <th></th>\n",
       "      <th></th>\n",
       "      <th></th>\n",
       "      <th></th>\n",
       "      <th></th>\n",
       "    </tr>\n",
       "  </thead>\n",
       "  <tbody>\n",
       "    <tr>\n",
       "      <th>2019-12-25</th>\n",
       "      <td>27.165</td>\n",
       "      <td>27.055</td>\n",
       "      <td>27.395</td>\n",
       "      <td>26.945</td>\n",
       "      <td>685037.0</td>\n",
       "      <td>000002</td>\n",
       "      <td>-0.004049</td>\n",
       "      <td>0.016701</td>\n",
       "      <td>27.145</td>\n",
       "      <td>-0.09</td>\n",
       "      <td>-0.331553</td>\n",
       "      <td>27.643</td>\n",
       "      <td>26.840</td>\n",
       "      <td>63.081344</td>\n",
       "      <td>-0.02</td>\n",
       "      <td>26.673555</td>\n",
       "      <td>25.737103</td>\n",
       "      <td>0.936452</td>\n",
       "      <td>0.774585</td>\n",
       "      <td>0.161867</td>\n",
       "    </tr>\n",
       "    <tr>\n",
       "      <th>2019-12-26</th>\n",
       "      <td>27.265</td>\n",
       "      <td>27.885</td>\n",
       "      <td>28.065</td>\n",
       "      <td>27.265</td>\n",
       "      <td>888790.0</td>\n",
       "      <td>000002</td>\n",
       "      <td>0.022740</td>\n",
       "      <td>0.029342</td>\n",
       "      <td>27.055</td>\n",
       "      <td>0.83</td>\n",
       "      <td>3.067825</td>\n",
       "      <td>27.661</td>\n",
       "      <td>27.152</td>\n",
       "      <td>68.895291</td>\n",
       "      <td>0.09</td>\n",
       "      <td>26.859932</td>\n",
       "      <td>25.896207</td>\n",
       "      <td>0.963725</td>\n",
       "      <td>0.812413</td>\n",
       "      <td>0.151311</td>\n",
       "    </tr>\n",
       "    <tr>\n",
       "      <th>2019-12-27</th>\n",
       "      <td>27.995</td>\n",
       "      <td>27.765</td>\n",
       "      <td>28.085</td>\n",
       "      <td>27.575</td>\n",
       "      <td>703096.0</td>\n",
       "      <td>000002</td>\n",
       "      <td>-0.008216</td>\n",
       "      <td>0.018495</td>\n",
       "      <td>27.885</td>\n",
       "      <td>-0.12</td>\n",
       "      <td>-0.430339</td>\n",
       "      <td>27.525</td>\n",
       "      <td>27.437</td>\n",
       "      <td>67.225542</td>\n",
       "      <td>-0.68</td>\n",
       "      <td>26.999173</td>\n",
       "      <td>26.034636</td>\n",
       "      <td>0.964537</td>\n",
       "      <td>0.842838</td>\n",
       "      <td>0.121699</td>\n",
       "    </tr>\n",
       "    <tr>\n",
       "      <th>2019-12-30</th>\n",
       "      <td>28.115</td>\n",
       "      <td>28.335</td>\n",
       "      <td>28.555</td>\n",
       "      <td>27.785</td>\n",
       "      <td>915751.0</td>\n",
       "      <td>000002</td>\n",
       "      <td>0.007825</td>\n",
       "      <td>0.027713</td>\n",
       "      <td>27.765</td>\n",
       "      <td>0.57</td>\n",
       "      <td>2.052944</td>\n",
       "      <td>27.637</td>\n",
       "      <td>27.649</td>\n",
       "      <td>70.882335</td>\n",
       "      <td>0.56</td>\n",
       "      <td>27.204685</td>\n",
       "      <td>26.205033</td>\n",
       "      <td>0.999651</td>\n",
       "      <td>0.874201</td>\n",
       "      <td>0.125451</td>\n",
       "    </tr>\n",
       "    <tr>\n",
       "      <th>2019-12-31</th>\n",
       "      <td>28.115</td>\n",
       "      <td>28.945</td>\n",
       "      <td>29.215</td>\n",
       "      <td>28.085</td>\n",
       "      <td>663497.0</td>\n",
       "      <td>000002</td>\n",
       "      <td>0.029522</td>\n",
       "      <td>0.040235</td>\n",
       "      <td>28.335</td>\n",
       "      <td>0.61</td>\n",
       "      <td>2.152815</td>\n",
       "      <td>27.997</td>\n",
       "      <td>27.822</td>\n",
       "      <td>74.238064</td>\n",
       "      <td>1.80</td>\n",
       "      <td>27.472426</td>\n",
       "      <td>26.407994</td>\n",
       "      <td>1.064432</td>\n",
       "      <td>0.912247</td>\n",
       "      <td>0.152185</td>\n",
       "    </tr>\n",
       "  </tbody>\n",
       "</table>\n",
       "</div>"
      ],
      "text/plain": [
       "              open   close    high     low    volume    code  close-open  \\\n",
       "date                                                                       \n",
       "2019-12-25  27.165  27.055  27.395  26.945  685037.0  000002   -0.004049   \n",
       "2019-12-26  27.265  27.885  28.065  27.265  888790.0  000002    0.022740   \n",
       "2019-12-27  27.995  27.765  28.085  27.575  703096.0  000002   -0.008216   \n",
       "2019-12-30  28.115  28.335  28.555  27.785  915751.0  000002    0.007825   \n",
       "2019-12-31  28.115  28.945  29.215  28.085  663497.0  000002    0.029522   \n",
       "\n",
       "            high-low  pre_close  price_change  p_change     MA5    MA10  \\\n",
       "date                                                                      \n",
       "2019-12-25  0.016701     27.145         -0.09 -0.331553  27.643  26.840   \n",
       "2019-12-26  0.029342     27.055          0.83  3.067825  27.661  27.152   \n",
       "2019-12-27  0.018495     27.885         -0.12 -0.430339  27.525  27.437   \n",
       "2019-12-30  0.027713     27.765          0.57  2.052944  27.637  27.649   \n",
       "2019-12-31  0.040235     28.335          0.61  2.152815  27.997  27.822   \n",
       "\n",
       "                  RSI   MOM      EMA12      EMA26      MACD  MACDsignal  \\\n",
       "date                                                                      \n",
       "2019-12-25  63.081344 -0.02  26.673555  25.737103  0.936452    0.774585   \n",
       "2019-12-26  68.895291  0.09  26.859932  25.896207  0.963725    0.812413   \n",
       "2019-12-27  67.225542 -0.68  26.999173  26.034636  0.964537    0.842838   \n",
       "2019-12-30  70.882335  0.56  27.204685  26.205033  0.999651    0.874201   \n",
       "2019-12-31  74.238064  1.80  27.472426  26.407994  1.064432    0.912247   \n",
       "\n",
       "            MACDhist  \n",
       "date                  \n",
       "2019-12-25  0.161867  \n",
       "2019-12-26  0.151311  \n",
       "2019-12-27  0.121699  \n",
       "2019-12-30  0.125451  \n",
       "2019-12-31  0.152185  "
      ]
     },
     "execution_count": 3,
     "metadata": {},
     "output_type": "execute_result"
    }
   ],
   "source": [
    "df.tail()"
   ]
  },
  {
   "cell_type": "markdown",
   "metadata": {},
   "source": [
    "准备好原始数据后，接着来提取特征变量和目标变量"
   ]
  },
  {
   "cell_type": "code",
   "execution_count": 4,
   "metadata": {},
   "outputs": [],
   "source": [
    "X = df[['close', 'volume', 'close-open', 'MA5', 'MA10', 'high-low', 'RSI', 'MOM', 'EMA12', 'MACD', 'MACDsignal', 'MACDhist']]\n",
    "y = np.where(df['price_change'].shift(-1)> 0, 1, -1)"
   ]
  },
  {
   "cell_type": "markdown",
   "metadata": {},
   "source": [
    "注意：是**今天的股价信息预测下一天的股价涨跌情况** ，所以 **y是下一天的股价变化情况**。"
   ]
  },
  {
   "cell_type": "markdown",
   "metadata": {},
   "source": [
    "其中Numpy库中的where()函数的使用方法如下所示：\n",
    "np.where(判断条件,满足条件的赋值,不满足条件的赋值)\n",
    "\n",
    "其中df['price_change'].shift(-1)则是利用shift()函数将price_change（股价变化）这一列往上移动一行，这样就获得了每一行对应的下一天股价涨跌情况。"
   ]
  },
  {
   "cell_type": "markdown",
   "metadata": {},
   "source": [
    "**训练集和测试集数据划分**<p>\n",
    "接下来，我们要将原始数据集进行分割，我们要注意到一点，训练集与测试集的划分要按照时间序列划分，而不是像之前利用train_test_split()函数进行划分。原因在于股票价格的变化趋势具有时间性，如果我们随机划分，则会破坏时间性特征，因为我们是根据当天数据来预测下一天的股价涨跌情况，而不是任意一天的股票数据来预测下一天的股价涨跌情况。\n",
    "因此，我们将前90%的数据作为训练集，后10%的数据作为测试集，代码如下："
   ]
  },
  {
   "cell_type": "code",
   "execution_count": 5,
   "metadata": {},
   "outputs": [],
   "source": [
    "X_length = X.shape[0]  # shape属性获取X的行数和列数，shape[0]即表示行数 \n",
    "split = int(X_length * 0.9)\n",
    "\n",
    "X_train, X_test = X[:split], X[split:]\n",
    "y_train, y_test = y[:split], y[split:]"
   ]
  },
  {
   "cell_type": "markdown",
   "metadata": {},
   "source": [
    "**模型搭建**"
   ]
  },
  {
   "cell_type": "code",
   "execution_count": 6,
   "metadata": {},
   "outputs": [
    {
     "data": {
      "text/html": [
       "<style>#sk-container-id-1 {color: black;background-color: white;}#sk-container-id-1 pre{padding: 0;}#sk-container-id-1 div.sk-toggleable {background-color: white;}#sk-container-id-1 label.sk-toggleable__label {cursor: pointer;display: block;width: 100%;margin-bottom: 0;padding: 0.3em;box-sizing: border-box;text-align: center;}#sk-container-id-1 label.sk-toggleable__label-arrow:before {content: \"▸\";float: left;margin-right: 0.25em;color: #696969;}#sk-container-id-1 label.sk-toggleable__label-arrow:hover:before {color: black;}#sk-container-id-1 div.sk-estimator:hover label.sk-toggleable__label-arrow:before {color: black;}#sk-container-id-1 div.sk-toggleable__content {max-height: 0;max-width: 0;overflow: hidden;text-align: left;background-color: #f0f8ff;}#sk-container-id-1 div.sk-toggleable__content pre {margin: 0.2em;color: black;border-radius: 0.25em;background-color: #f0f8ff;}#sk-container-id-1 input.sk-toggleable__control:checked~div.sk-toggleable__content {max-height: 200px;max-width: 100%;overflow: auto;}#sk-container-id-1 input.sk-toggleable__control:checked~label.sk-toggleable__label-arrow:before {content: \"▾\";}#sk-container-id-1 div.sk-estimator input.sk-toggleable__control:checked~label.sk-toggleable__label {background-color: #d4ebff;}#sk-container-id-1 div.sk-label input.sk-toggleable__control:checked~label.sk-toggleable__label {background-color: #d4ebff;}#sk-container-id-1 input.sk-hidden--visually {border: 0;clip: rect(1px 1px 1px 1px);clip: rect(1px, 1px, 1px, 1px);height: 1px;margin: -1px;overflow: hidden;padding: 0;position: absolute;width: 1px;}#sk-container-id-1 div.sk-estimator {font-family: monospace;background-color: #f0f8ff;border: 1px dotted black;border-radius: 0.25em;box-sizing: border-box;margin-bottom: 0.5em;}#sk-container-id-1 div.sk-estimator:hover {background-color: #d4ebff;}#sk-container-id-1 div.sk-parallel-item::after {content: \"\";width: 100%;border-bottom: 1px solid gray;flex-grow: 1;}#sk-container-id-1 div.sk-label:hover label.sk-toggleable__label {background-color: #d4ebff;}#sk-container-id-1 div.sk-serial::before {content: \"\";position: absolute;border-left: 1px solid gray;box-sizing: border-box;top: 0;bottom: 0;left: 50%;z-index: 0;}#sk-container-id-1 div.sk-serial {display: flex;flex-direction: column;align-items: center;background-color: white;padding-right: 0.2em;padding-left: 0.2em;position: relative;}#sk-container-id-1 div.sk-item {position: relative;z-index: 1;}#sk-container-id-1 div.sk-parallel {display: flex;align-items: stretch;justify-content: center;background-color: white;position: relative;}#sk-container-id-1 div.sk-item::before, #sk-container-id-1 div.sk-parallel-item::before {content: \"\";position: absolute;border-left: 1px solid gray;box-sizing: border-box;top: 0;bottom: 0;left: 50%;z-index: -1;}#sk-container-id-1 div.sk-parallel-item {display: flex;flex-direction: column;z-index: 1;position: relative;background-color: white;}#sk-container-id-1 div.sk-parallel-item:first-child::after {align-self: flex-end;width: 50%;}#sk-container-id-1 div.sk-parallel-item:last-child::after {align-self: flex-start;width: 50%;}#sk-container-id-1 div.sk-parallel-item:only-child::after {width: 0;}#sk-container-id-1 div.sk-dashed-wrapped {border: 1px dashed gray;margin: 0 0.4em 0.5em 0.4em;box-sizing: border-box;padding-bottom: 0.4em;background-color: white;}#sk-container-id-1 div.sk-label label {font-family: monospace;font-weight: bold;display: inline-block;line-height: 1.2em;}#sk-container-id-1 div.sk-label-container {text-align: center;}#sk-container-id-1 div.sk-container {/* jupyter's `normalize.less` sets `[hidden] { display: none; }` but bootstrap.min.css set `[hidden] { display: none !important; }` so we also need the `!important` here to be able to override the default hidden behavior on the sphinx rendered scikit-learn.org. See: https://github.com/scikit-learn/scikit-learn/issues/21755 */display: inline-block !important;position: relative;}#sk-container-id-1 div.sk-text-repr-fallback {display: none;}</style><div id=\"sk-container-id-1\" class=\"sk-top-container\"><div class=\"sk-text-repr-fallback\"><pre>RandomForestClassifier(max_depth=3, min_samples_leaf=10, n_estimators=10,\n",
       "                       random_state=1)</pre><b>In a Jupyter environment, please rerun this cell to show the HTML representation or trust the notebook. <br />On GitHub, the HTML representation is unable to render, please try loading this page with nbviewer.org.</b></div><div class=\"sk-container\" hidden><div class=\"sk-item\"><div class=\"sk-estimator sk-toggleable\"><input class=\"sk-toggleable__control sk-hidden--visually\" id=\"sk-estimator-id-1\" type=\"checkbox\" checked><label for=\"sk-estimator-id-1\" class=\"sk-toggleable__label sk-toggleable__label-arrow\">RandomForestClassifier</label><div class=\"sk-toggleable__content\"><pre>RandomForestClassifier(max_depth=3, min_samples_leaf=10, n_estimators=10,\n",
       "                       random_state=1)</pre></div></div></div></div></div>"
      ],
      "text/plain": [
       "RandomForestClassifier(max_depth=3, min_samples_leaf=10, n_estimators=10,\n",
       "                       random_state=1)"
      ]
     },
     "execution_count": 6,
     "metadata": {},
     "output_type": "execute_result"
    }
   ],
   "source": [
    "model = RandomForestClassifier(max_depth=3, n_estimators=10, min_samples_leaf=10, random_state=1)\n",
    "model.fit(X_train, y_train)"
   ]
  },
  {
   "cell_type": "markdown",
   "metadata": {},
   "source": [
    "**模型使用与评估**"
   ]
  },
  {
   "cell_type": "code",
   "execution_count": 7,
   "metadata": {},
   "outputs": [
    {
     "data": {
      "text/html": [
       "<div>\n",
       "<style scoped>\n",
       "    .dataframe tbody tr th:only-of-type {\n",
       "        vertical-align: middle;\n",
       "    }\n",
       "\n",
       "    .dataframe tbody tr th {\n",
       "        vertical-align: top;\n",
       "    }\n",
       "\n",
       "    .dataframe thead th {\n",
       "        text-align: right;\n",
       "    }\n",
       "</style>\n",
       "<table border=\"1\" class=\"dataframe\">\n",
       "  <thead>\n",
       "    <tr style=\"text-align: right;\">\n",
       "      <th></th>\n",
       "      <th>预测值</th>\n",
       "      <th>实际值</th>\n",
       "    </tr>\n",
       "  </thead>\n",
       "  <tbody>\n",
       "    <tr>\n",
       "      <th>0</th>\n",
       "      <td>-1</td>\n",
       "      <td>-1</td>\n",
       "    </tr>\n",
       "    <tr>\n",
       "      <th>1</th>\n",
       "      <td>1</td>\n",
       "      <td>-1</td>\n",
       "    </tr>\n",
       "    <tr>\n",
       "      <th>2</th>\n",
       "      <td>-1</td>\n",
       "      <td>-1</td>\n",
       "    </tr>\n",
       "    <tr>\n",
       "      <th>3</th>\n",
       "      <td>1</td>\n",
       "      <td>-1</td>\n",
       "    </tr>\n",
       "    <tr>\n",
       "      <th>4</th>\n",
       "      <td>1</td>\n",
       "      <td>1</td>\n",
       "    </tr>\n",
       "  </tbody>\n",
       "</table>\n",
       "</div>"
      ],
      "text/plain": [
       "   预测值  实际值\n",
       "0   -1   -1\n",
       "1    1   -1\n",
       "2   -1   -1\n",
       "3    1   -1\n",
       "4    1    1"
      ]
     },
     "execution_count": 7,
     "metadata": {},
     "output_type": "execute_result"
    }
   ],
   "source": [
    "y_pred = model.predict(X_test)\n",
    "a = pd.DataFrame()  # 创建一个空DataFrame \n",
    "a['预测值'] = list(y_pred)\n",
    "a['实际值'] = list(y_test)\n",
    "a.head()"
   ]
  },
  {
   "cell_type": "code",
   "execution_count": 8,
   "metadata": {},
   "outputs": [
    {
     "name": "stdout",
     "output_type": "stream",
     "text": [
      "0.5428571428571428\n"
     ]
    }
   ],
   "source": [
    "score = accuracy_score(y_pred, y_test)\n",
    "print(score)"
   ]
  },
  {
   "cell_type": "code",
   "execution_count": 9,
   "metadata": {},
   "outputs": [
    {
     "data": {
      "text/html": [
       "<div>\n",
       "<style scoped>\n",
       "    .dataframe tbody tr th:only-of-type {\n",
       "        vertical-align: middle;\n",
       "    }\n",
       "\n",
       "    .dataframe tbody tr th {\n",
       "        vertical-align: top;\n",
       "    }\n",
       "\n",
       "    .dataframe thead th {\n",
       "        text-align: right;\n",
       "    }\n",
       "</style>\n",
       "<table border=\"1\" class=\"dataframe\">\n",
       "  <thead>\n",
       "    <tr style=\"text-align: right;\">\n",
       "      <th></th>\n",
       "      <th>特征</th>\n",
       "      <th>特征重要性</th>\n",
       "    </tr>\n",
       "  </thead>\n",
       "  <tbody>\n",
       "    <tr>\n",
       "      <th>7</th>\n",
       "      <td>MOM</td>\n",
       "      <td>0.175600</td>\n",
       "    </tr>\n",
       "    <tr>\n",
       "      <th>0</th>\n",
       "      <td>close</td>\n",
       "      <td>0.151327</td>\n",
       "    </tr>\n",
       "    <tr>\n",
       "      <th>5</th>\n",
       "      <td>high-low</td>\n",
       "      <td>0.114476</td>\n",
       "    </tr>\n",
       "    <tr>\n",
       "      <th>1</th>\n",
       "      <td>volume</td>\n",
       "      <td>0.099577</td>\n",
       "    </tr>\n",
       "    <tr>\n",
       "      <th>10</th>\n",
       "      <td>MACDsignal</td>\n",
       "      <td>0.088661</td>\n",
       "    </tr>\n",
       "    <tr>\n",
       "      <th>4</th>\n",
       "      <td>MA10</td>\n",
       "      <td>0.079073</td>\n",
       "    </tr>\n",
       "    <tr>\n",
       "      <th>9</th>\n",
       "      <td>MACD</td>\n",
       "      <td>0.070617</td>\n",
       "    </tr>\n",
       "    <tr>\n",
       "      <th>3</th>\n",
       "      <td>MA5</td>\n",
       "      <td>0.065148</td>\n",
       "    </tr>\n",
       "    <tr>\n",
       "      <th>2</th>\n",
       "      <td>close-open</td>\n",
       "      <td>0.050215</td>\n",
       "    </tr>\n",
       "    <tr>\n",
       "      <th>8</th>\n",
       "      <td>EMA12</td>\n",
       "      <td>0.047133</td>\n",
       "    </tr>\n",
       "    <tr>\n",
       "      <th>6</th>\n",
       "      <td>RSI</td>\n",
       "      <td>0.045765</td>\n",
       "    </tr>\n",
       "    <tr>\n",
       "      <th>11</th>\n",
       "      <td>MACDhist</td>\n",
       "      <td>0.012409</td>\n",
       "    </tr>\n",
       "  </tbody>\n",
       "</table>\n",
       "</div>"
      ],
      "text/plain": [
       "            特征     特征重要性\n",
       "7          MOM  0.175600\n",
       "0        close  0.151327\n",
       "5     high-low  0.114476\n",
       "1       volume  0.099577\n",
       "10  MACDsignal  0.088661\n",
       "4         MA10  0.079073\n",
       "9         MACD  0.070617\n",
       "3          MA5  0.065148\n",
       "2   close-open  0.050215\n",
       "8        EMA12  0.047133\n",
       "6          RSI  0.045765\n",
       "11    MACDhist  0.012409"
      ]
     },
     "execution_count": 9,
     "metadata": {},
     "output_type": "execute_result"
    }
   ],
   "source": [
    "# 通过如下代码可以更好的展示特征及其特征重要性：\n",
    "features = X.columns  \n",
    "importances = model.feature_importances_\n",
    "a = pd.DataFrame()\n",
    "a['特征'] = features\n",
    "a['特征重要性'] = importances\n",
    "a = a.sort_values('特征重要性', ascending=False)\n",
    "a"
   ]
  },
  {
   "cell_type": "code",
   "execution_count": 10,
   "metadata": {},
   "outputs": [
    {
     "name": "stdout",
     "output_type": "stream",
     "text": [
      "{'max_depth': 2, 'min_samples_leaf': 20, 'n_estimators': 10} 0.534739234579999\n"
     ]
    }
   ],
   "source": [
    "#参数调优\n",
    "from sklearn.model_selection import GridSearchCV  # 网格搜索合适的超参数\n",
    "# 指定分类器中参数的范围\n",
    "parameters = {'n_estimators':[5, 10, 20], 'max_depth':[2, 3, 4, 5], 'min_samples_leaf':[5, 10, 20, 30]}\n",
    "new_model = RandomForestClassifier(random_state=1)  # 构建分类器\n",
    "grid_search = GridSearchCV(new_model, parameters, cv=6, scoring='accuracy')  \n",
    "# cv=6表示交叉验证6次，scoring='roc_auc'表示以ROC曲线的AUC评分作为模型评价准则, 默认为'accuracy', 即按准确度评分\n",
    "\n",
    "grid_search.fit(X_train, y_train)  # 传入数据\n",
    "print(grid_search.best_params_, grid_search.best_score_) # 输出参数的最优值和此时对应的准确率"
   ]
  },
  {
   "cell_type": "markdown",
   "metadata": {},
   "source": [
    "# AdaBoost\n",
    "AdaBoost算法（Adaptive Boosting）是一种有效而实用的Boosting算法，它以一种高度自适应的方式按顺序训练弱学习器。针对分类问题，AdaBoost算法根据前一次的分类效果调整数据的权重，在上一个弱学习器中分类错误的样本的权重会在下一个弱学习器中增加，分类正确的样本的权重则相应减少，并且在每一轮迭代时会向模型加入一个新的弱学习器。不断重复调整权重和训练弱学习器，直到误分类数低于预设值或迭代次数达到指定最大值，最终得到一个强学习器。简单来说，AdaBoost算法的核心思想就是调整错误样本的权重，进而迭代升级。\n",
    "sklearn的Adaboost文档：https://scikit-learn.org/stable/modules/generated/sklearn.ensemble.AdaBoostClassifier.html#sklearn.ensemble.AdaBoostClassifier\n",
    "## AdaBoost算法案例实战：信用卡精准营销模型\n",
    "本节要运用AdaBoost分类模型搭建一个信用卡精准营销模型，帮助大家巩固之前所学的知识,运用AdaBoost解决实际问题。"
   ]
  },
  {
   "cell_type": "code",
   "execution_count": 11,
   "metadata": {
    "scrolled": true
   },
   "outputs": [
    {
     "data": {
      "text/html": [
       "<div>\n",
       "<style scoped>\n",
       "    .dataframe tbody tr th:only-of-type {\n",
       "        vertical-align: middle;\n",
       "    }\n",
       "\n",
       "    .dataframe tbody tr th {\n",
       "        vertical-align: top;\n",
       "    }\n",
       "\n",
       "    .dataframe thead th {\n",
       "        text-align: right;\n",
       "    }\n",
       "</style>\n",
       "<table border=\"1\" class=\"dataframe\">\n",
       "  <thead>\n",
       "    <tr style=\"text-align: right;\">\n",
       "      <th></th>\n",
       "      <th>年龄</th>\n",
       "      <th>月收入（元）</th>\n",
       "      <th>月消费（元）</th>\n",
       "      <th>性别</th>\n",
       "      <th>月消费/月收入</th>\n",
       "      <th>响应</th>\n",
       "    </tr>\n",
       "  </thead>\n",
       "  <tbody>\n",
       "    <tr>\n",
       "      <th>0</th>\n",
       "      <td>30</td>\n",
       "      <td>7275</td>\n",
       "      <td>6062</td>\n",
       "      <td>0</td>\n",
       "      <td>0.833265</td>\n",
       "      <td>1</td>\n",
       "    </tr>\n",
       "    <tr>\n",
       "      <th>1</th>\n",
       "      <td>25</td>\n",
       "      <td>17739</td>\n",
       "      <td>13648</td>\n",
       "      <td>0</td>\n",
       "      <td>0.769378</td>\n",
       "      <td>1</td>\n",
       "    </tr>\n",
       "    <tr>\n",
       "      <th>2</th>\n",
       "      <td>29</td>\n",
       "      <td>25736</td>\n",
       "      <td>14311</td>\n",
       "      <td>0</td>\n",
       "      <td>0.556069</td>\n",
       "      <td>1</td>\n",
       "    </tr>\n",
       "    <tr>\n",
       "      <th>3</th>\n",
       "      <td>23</td>\n",
       "      <td>14162</td>\n",
       "      <td>7596</td>\n",
       "      <td>0</td>\n",
       "      <td>0.536365</td>\n",
       "      <td>1</td>\n",
       "    </tr>\n",
       "    <tr>\n",
       "      <th>4</th>\n",
       "      <td>27</td>\n",
       "      <td>15563</td>\n",
       "      <td>12849</td>\n",
       "      <td>0</td>\n",
       "      <td>0.825612</td>\n",
       "      <td>1</td>\n",
       "    </tr>\n",
       "  </tbody>\n",
       "</table>\n",
       "</div>"
      ],
      "text/plain": [
       "   年龄  月收入（元）  月消费（元）  性别   月消费/月收入  响应\n",
       "0  30    7275    6062   0  0.833265   1\n",
       "1  25   17739   13648   0  0.769378   1\n",
       "2  29   25736   14311   0  0.556069   1\n",
       "3  23   14162    7596   0  0.536365   1\n",
       "4  27   15563   12849   0  0.825612   1"
      ]
     },
     "execution_count": 11,
     "metadata": {},
     "output_type": "execute_result"
    }
   ],
   "source": [
    "import pandas as pd\n",
    "df = pd.read_excel('信用卡精准营销模型.xlsx')\n",
    "df.head()"
   ]
  },
  {
   "cell_type": "code",
   "execution_count": 12,
   "metadata": {},
   "outputs": [
    {
     "data": {
      "text/html": [
       "<style>#sk-container-id-2 {color: black;background-color: white;}#sk-container-id-2 pre{padding: 0;}#sk-container-id-2 div.sk-toggleable {background-color: white;}#sk-container-id-2 label.sk-toggleable__label {cursor: pointer;display: block;width: 100%;margin-bottom: 0;padding: 0.3em;box-sizing: border-box;text-align: center;}#sk-container-id-2 label.sk-toggleable__label-arrow:before {content: \"▸\";float: left;margin-right: 0.25em;color: #696969;}#sk-container-id-2 label.sk-toggleable__label-arrow:hover:before {color: black;}#sk-container-id-2 div.sk-estimator:hover label.sk-toggleable__label-arrow:before {color: black;}#sk-container-id-2 div.sk-toggleable__content {max-height: 0;max-width: 0;overflow: hidden;text-align: left;background-color: #f0f8ff;}#sk-container-id-2 div.sk-toggleable__content pre {margin: 0.2em;color: black;border-radius: 0.25em;background-color: #f0f8ff;}#sk-container-id-2 input.sk-toggleable__control:checked~div.sk-toggleable__content {max-height: 200px;max-width: 100%;overflow: auto;}#sk-container-id-2 input.sk-toggleable__control:checked~label.sk-toggleable__label-arrow:before {content: \"▾\";}#sk-container-id-2 div.sk-estimator input.sk-toggleable__control:checked~label.sk-toggleable__label {background-color: #d4ebff;}#sk-container-id-2 div.sk-label input.sk-toggleable__control:checked~label.sk-toggleable__label {background-color: #d4ebff;}#sk-container-id-2 input.sk-hidden--visually {border: 0;clip: rect(1px 1px 1px 1px);clip: rect(1px, 1px, 1px, 1px);height: 1px;margin: -1px;overflow: hidden;padding: 0;position: absolute;width: 1px;}#sk-container-id-2 div.sk-estimator {font-family: monospace;background-color: #f0f8ff;border: 1px dotted black;border-radius: 0.25em;box-sizing: border-box;margin-bottom: 0.5em;}#sk-container-id-2 div.sk-estimator:hover {background-color: #d4ebff;}#sk-container-id-2 div.sk-parallel-item::after {content: \"\";width: 100%;border-bottom: 1px solid gray;flex-grow: 1;}#sk-container-id-2 div.sk-label:hover label.sk-toggleable__label {background-color: #d4ebff;}#sk-container-id-2 div.sk-serial::before {content: \"\";position: absolute;border-left: 1px solid gray;box-sizing: border-box;top: 0;bottom: 0;left: 50%;z-index: 0;}#sk-container-id-2 div.sk-serial {display: flex;flex-direction: column;align-items: center;background-color: white;padding-right: 0.2em;padding-left: 0.2em;position: relative;}#sk-container-id-2 div.sk-item {position: relative;z-index: 1;}#sk-container-id-2 div.sk-parallel {display: flex;align-items: stretch;justify-content: center;background-color: white;position: relative;}#sk-container-id-2 div.sk-item::before, #sk-container-id-2 div.sk-parallel-item::before {content: \"\";position: absolute;border-left: 1px solid gray;box-sizing: border-box;top: 0;bottom: 0;left: 50%;z-index: -1;}#sk-container-id-2 div.sk-parallel-item {display: flex;flex-direction: column;z-index: 1;position: relative;background-color: white;}#sk-container-id-2 div.sk-parallel-item:first-child::after {align-self: flex-end;width: 50%;}#sk-container-id-2 div.sk-parallel-item:last-child::after {align-self: flex-start;width: 50%;}#sk-container-id-2 div.sk-parallel-item:only-child::after {width: 0;}#sk-container-id-2 div.sk-dashed-wrapped {border: 1px dashed gray;margin: 0 0.4em 0.5em 0.4em;box-sizing: border-box;padding-bottom: 0.4em;background-color: white;}#sk-container-id-2 div.sk-label label {font-family: monospace;font-weight: bold;display: inline-block;line-height: 1.2em;}#sk-container-id-2 div.sk-label-container {text-align: center;}#sk-container-id-2 div.sk-container {/* jupyter's `normalize.less` sets `[hidden] { display: none; }` but bootstrap.min.css set `[hidden] { display: none !important; }` so we also need the `!important` here to be able to override the default hidden behavior on the sphinx rendered scikit-learn.org. See: https://github.com/scikit-learn/scikit-learn/issues/21755 */display: inline-block !important;position: relative;}#sk-container-id-2 div.sk-text-repr-fallback {display: none;}</style><div id=\"sk-container-id-2\" class=\"sk-top-container\"><div class=\"sk-text-repr-fallback\"><pre>AdaBoostClassifier(random_state=123)</pre><b>In a Jupyter environment, please rerun this cell to show the HTML representation or trust the notebook. <br />On GitHub, the HTML representation is unable to render, please try loading this page with nbviewer.org.</b></div><div class=\"sk-container\" hidden><div class=\"sk-item\"><div class=\"sk-estimator sk-toggleable\"><input class=\"sk-toggleable__control sk-hidden--visually\" id=\"sk-estimator-id-2\" type=\"checkbox\" checked><label for=\"sk-estimator-id-2\" class=\"sk-toggleable__label sk-toggleable__label-arrow\">AdaBoostClassifier</label><div class=\"sk-toggleable__content\"><pre>AdaBoostClassifier(random_state=123)</pre></div></div></div></div></div>"
      ],
      "text/plain": [
       "AdaBoostClassifier(random_state=123)"
      ]
     },
     "execution_count": 12,
     "metadata": {},
     "output_type": "execute_result"
    }
   ],
   "source": [
    "from sklearn.model_selection import train_test_split\n",
    "from sklearn.ensemble import AdaBoostClassifier\n",
    "X = df.drop(columns='响应') \n",
    "y = df['响应']\n",
    "\n",
    "X_train, X_test, y_train, y_test = train_test_split(X, y, test_size=0.2, random_state=123)\n",
    "\n",
    "clf = AdaBoostClassifier(random_state=123)\n",
    "clf.fit(X_train, y_train)"
   ]
  },
  {
   "cell_type": "code",
   "execution_count": 13,
   "metadata": {},
   "outputs": [
    {
     "data": {
      "text/html": [
       "<div>\n",
       "<style scoped>\n",
       "    .dataframe tbody tr th:only-of-type {\n",
       "        vertical-align: middle;\n",
       "    }\n",
       "\n",
       "    .dataframe tbody tr th {\n",
       "        vertical-align: top;\n",
       "    }\n",
       "\n",
       "    .dataframe thead th {\n",
       "        text-align: right;\n",
       "    }\n",
       "</style>\n",
       "<table border=\"1\" class=\"dataframe\">\n",
       "  <thead>\n",
       "    <tr style=\"text-align: right;\">\n",
       "      <th></th>\n",
       "      <th>预测值</th>\n",
       "      <th>实际值</th>\n",
       "    </tr>\n",
       "  </thead>\n",
       "  <tbody>\n",
       "    <tr>\n",
       "      <th>0</th>\n",
       "      <td>1</td>\n",
       "      <td>1</td>\n",
       "    </tr>\n",
       "    <tr>\n",
       "      <th>1</th>\n",
       "      <td>1</td>\n",
       "      <td>1</td>\n",
       "    </tr>\n",
       "    <tr>\n",
       "      <th>2</th>\n",
       "      <td>1</td>\n",
       "      <td>1</td>\n",
       "    </tr>\n",
       "    <tr>\n",
       "      <th>3</th>\n",
       "      <td>0</td>\n",
       "      <td>0</td>\n",
       "    </tr>\n",
       "    <tr>\n",
       "      <th>4</th>\n",
       "      <td>1</td>\n",
       "      <td>1</td>\n",
       "    </tr>\n",
       "  </tbody>\n",
       "</table>\n",
       "</div>"
      ],
      "text/plain": [
       "   预测值  实际值\n",
       "0    1    1\n",
       "1    1    1\n",
       "2    1    1\n",
       "3    0    0\n",
       "4    1    1"
      ]
     },
     "execution_count": 13,
     "metadata": {},
     "output_type": "execute_result"
    }
   ],
   "source": [
    "y_pred = clf.predict(X_test)\n",
    "a = pd.DataFrame()  # 创建一个空DataFrame \n",
    "a['预测值'] = list(y_pred)\n",
    "a['实际值'] = list(y_test)\n",
    "a.head()"
   ]
  },
  {
   "cell_type": "code",
   "execution_count": 14,
   "metadata": {},
   "outputs": [
    {
     "name": "stdout",
     "output_type": "stream",
     "text": [
      "0.85\n"
     ]
    }
   ],
   "source": [
    "# 查看预测准确度\n",
    "from sklearn.metrics import accuracy_score\n",
    "score = accuracy_score(y_pred, y_test)\n",
    "print(score)"
   ]
  },
  {
   "cell_type": "code",
   "execution_count": 15,
   "metadata": {},
   "outputs": [
    {
     "data": {
      "text/plain": [
       "array([[0.19294615, 0.80705385],\n",
       "       [0.41359387, 0.58640613],\n",
       "       [0.42597039, 0.57402961],\n",
       "       [0.66817389, 0.33182611],\n",
       "       [0.32850159, 0.67149841]])"
      ]
     },
     "execution_count": 15,
     "metadata": {},
     "output_type": "execute_result"
    }
   ],
   "source": [
    "# 查看预测分类概率\n",
    "y_pred_proba = clf.predict_proba(X_test)\n",
    "y_pred_proba[0:5]  # 查看前5项，第一列为分类为0的概率，第二列为分类为1的概率"
   ]
  },
  {
   "cell_type": "markdown",
   "metadata": {},
   "source": [
    "ROC曲线全称为受试者工作特征曲线，横坐标为 FPR（假阳性率）= FP /（FP + TN）即负类数据被分为正类的比例，纵坐标为TPR（真阳性率）= TP /（TP + FN），即正类数据被分为正类的比例。对于样本数据，我们使用分类器对其进行分类，分类器会给出每个数据为正例的概率，我们可以针对此来设定一个阈值，当某个sample被判断为正例的概率大于这个阈值时，认为该sample为正例，小于则为负例，然后通过计算我们就可以得到一个(TPR , FPR)对，即图像上的一个点，我们通过不断调整这个阈值，就得到若干个点，从而画出一条曲线。一定过(0,0)和(1,1)"
   ]
  },
  {
   "cell_type": "code",
   "execution_count": 16,
   "metadata": {},
   "outputs": [
    {
     "data": {
      "image/png": "[encoded data removed]",
      "text/plain": [
       "<Figure size 432x288 with 1 Axes>"
      ]
     },
     "metadata": {
      "needs_background": "light"
     },
     "output_type": "display_data"
    }
   ],
   "source": [
    "# 绘制ROC曲线\n",
    "from sklearn.metrics import roc_curve\n",
    "import matplotlib.pyplot as plt\n",
    "\n",
    "fpr, tpr, thres = roc_curve(y_test.values, y_pred_proba[:,1])\n",
    "plt.plot(fpr, tpr)\n",
    "plt.show()"
   ]
  },
  {
   "cell_type": "code",
   "execution_count": 17,
   "metadata": {},
   "outputs": [
    {
     "name": "stdout",
     "output_type": "stream",
     "text": [
      "0.9559047909673483\n"
     ]
    }
   ],
   "source": [
    "# 查看AUC值\n",
    "from sklearn.metrics import roc_auc_score\n",
    "score = roc_auc_score(y_test, y_pred_proba[:,1])\n",
    "print(score)"
   ]
  },
  {
   "cell_type": "code",
   "execution_count": 18,
   "metadata": {},
   "outputs": [
    {
     "data": {
      "text/plain": [
       "array([0.18, 0.2 , 0.36, 0.02, 0.24])"
      ]
     },
     "execution_count": 18,
     "metadata": {},
     "output_type": "execute_result"
    }
   ],
   "source": [
    "# 查看特征重要性\n",
    "clf.feature_importances_"
   ]
  },
  {
   "cell_type": "code",
   "execution_count": 19,
   "metadata": {},
   "outputs": [
    {
     "data": {
      "text/html": [
       "<div>\n",
       "<style scoped>\n",
       "    .dataframe tbody tr th:only-of-type {\n",
       "        vertical-align: middle;\n",
       "    }\n",
       "\n",
       "    .dataframe tbody tr th {\n",
       "        vertical-align: top;\n",
       "    }\n",
       "\n",
       "    .dataframe thead th {\n",
       "        text-align: right;\n",
       "    }\n",
       "</style>\n",
       "<table border=\"1\" class=\"dataframe\">\n",
       "  <thead>\n",
       "    <tr style=\"text-align: right;\">\n",
       "      <th></th>\n",
       "      <th>特征名称</th>\n",
       "      <th>特征重要性</th>\n",
       "    </tr>\n",
       "  </thead>\n",
       "  <tbody>\n",
       "    <tr>\n",
       "      <th>2</th>\n",
       "      <td>月消费（元）</td>\n",
       "      <td>0.36</td>\n",
       "    </tr>\n",
       "    <tr>\n",
       "      <th>4</th>\n",
       "      <td>月消费/月收入</td>\n",
       "      <td>0.24</td>\n",
       "    </tr>\n",
       "    <tr>\n",
       "      <th>1</th>\n",
       "      <td>月收入（元）</td>\n",
       "      <td>0.20</td>\n",
       "    </tr>\n",
       "    <tr>\n",
       "      <th>0</th>\n",
       "      <td>年龄</td>\n",
       "      <td>0.18</td>\n",
       "    </tr>\n",
       "    <tr>\n",
       "      <th>3</th>\n",
       "      <td>性别</td>\n",
       "      <td>0.02</td>\n",
       "    </tr>\n",
       "  </tbody>\n",
       "</table>\n",
       "</div>"
      ],
      "text/plain": [
       "      特征名称  特征重要性\n",
       "2   月消费（元）   0.36\n",
       "4  月消费/月收入   0.24\n",
       "1   月收入（元）   0.20\n",
       "0       年龄   0.18\n",
       "3       性别   0.02"
      ]
     },
     "execution_count": 19,
     "metadata": {},
     "output_type": "execute_result"
    }
   ],
   "source": [
    "# 通过DataFrame的方式展示特征重要性\n",
    "features = X.columns  # 获取特征名称\n",
    "importances = clf.feature_importances_  # 获取特征重要性\n",
    "\n",
    "# 通过二维表格形式显示\n",
    "importances_df = pd.DataFrame()\n",
    "importances_df['特征名称'] = features\n",
    "importances_df['特征重要性'] = importances\n",
    "importances_df.sort_values('特征重要性', ascending=False)"
   ]
  },
  {
   "cell_type": "code",
   "execution_count": null,
   "metadata": {},
   "outputs": [],
   "source": []
  },
  {
   "cell_type": "code",
   "execution_count": null,
   "metadata": {},
   "outputs": [],
   "source": []
  }
 ],
 "metadata": {
  "kernelspec": {
   "display_name": "Python 3",
   "language": "python",
   "name": "python3"
  },
  "language_info": {
   "codemirror_mode": {
    "name": "ipython",
    "version": 3
   },
   "file_extension": ".py",
   "mimetype": "text/x-python",
   "name": "python",
   "nbconvert_exporter": "python",
   "pygments_lexer": "ipython3",
   "version": "3.9.7"
  }
 },
 "nbformat": 4,
 "nbformat_minor": 2
}
