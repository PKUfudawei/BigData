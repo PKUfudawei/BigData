{
 "cells": [
  {
   "cell_type": "markdown",
   "metadata": {},
   "source": [
    "## K近邻算法"
   ]
  },
  {
   "cell_type": "markdown",
   "metadata": {},
   "source": [
    "使用sklearn库来进行K近邻算法的运算"
   ]
  },
  {
   "cell_type": "code",
   "execution_count": 8,
   "metadata": {},
   "outputs": [
    {
     "data": {
      "text/html": [
       "<div>\n",
       "<style scoped>\n",
       "    .dataframe tbody tr th:only-of-type {\n",
       "        vertical-align: middle;\n",
       "    }\n",
       "\n",
       "    .dataframe tbody tr th {\n",
       "        vertical-align: top;\n",
       "    }\n",
       "\n",
       "    .dataframe thead th {\n",
       "        text-align: right;\n",
       "    }\n",
       "</style>\n",
       "<table border=\"1\" class=\"dataframe\">\n",
       "  <thead>\n",
       "    <tr style=\"text-align: right;\">\n",
       "      <th></th>\n",
       "      <th>原始样本</th>\n",
       "      <th>酒精含量(%)</th>\n",
       "      <th>苹果酸含量(%)</th>\n",
       "      <th>分类</th>\n",
       "    </tr>\n",
       "  </thead>\n",
       "  <tbody>\n",
       "    <tr>\n",
       "      <th>0</th>\n",
       "      <td>样本1</td>\n",
       "      <td>5</td>\n",
       "      <td>2</td>\n",
       "      <td>0</td>\n",
       "    </tr>\n",
       "    <tr>\n",
       "      <th>1</th>\n",
       "      <td>样本2</td>\n",
       "      <td>6</td>\n",
       "      <td>1</td>\n",
       "      <td>0</td>\n",
       "    </tr>\n",
       "    <tr>\n",
       "      <th>2</th>\n",
       "      <td>样本3</td>\n",
       "      <td>4</td>\n",
       "      <td>1</td>\n",
       "      <td>0</td>\n",
       "    </tr>\n",
       "    <tr>\n",
       "      <th>3</th>\n",
       "      <td>样本4</td>\n",
       "      <td>8</td>\n",
       "      <td>3</td>\n",
       "      <td>1</td>\n",
       "    </tr>\n",
       "    <tr>\n",
       "      <th>4</th>\n",
       "      <td>样本5</td>\n",
       "      <td>10</td>\n",
       "      <td>2</td>\n",
       "      <td>1</td>\n",
       "    </tr>\n",
       "  </tbody>\n",
       "</table>\n",
       "</div>"
      ],
      "text/plain": [
       "  原始样本  酒精含量(%)  苹果酸含量(%)  分类\n",
       "0  样本1        5         2   0\n",
       "1  样本2        6         1   0\n",
       "2  样本3        4         1   0\n",
       "3  样本4        8         3   1\n",
       "4  样本5       10         2   1"
      ]
     },
     "execution_count": 8,
     "metadata": {},
     "output_type": "execute_result"
    }
   ],
   "source": [
    "import pandas as pd \n",
    "import warnings\n",
    "warnings.filterwarnings(\"ignore\")\n",
    "\n",
    "df = pd.read_excel('葡萄酒.xlsx')\n",
    "# 特征变量和目标变量的切分\n",
    "X_train = df[['酒精含量(%)','苹果酸含量(%)']]\n",
    "y_train = df['分类']  \n",
    "df"
   ]
  },
  {
   "cell_type": "code",
   "execution_count": 9,
   "metadata": {},
   "outputs": [
    {
     "name": "stdout",
     "output_type": "stream",
     "text": [
      "[0 1 0]\n"
     ]
    }
   ],
   "source": [
    "# 模型训练\n",
    "from sklearn.neighbors import KNeighborsClassifier as KNN\n",
    "knn = KNN(n_neighbors=3)  \n",
    "knn.fit(X_train, y_train)\n",
    "# 模型预测：预测多个样本\n",
    "X_test = [[7, 1], [8, 3],[7, 3]]  # 这里能帮助理解为什么要写成二维数组的样式\n",
    "answer = knn.predict(X_test)  \n",
    "print(answer)"
   ]
  },
  {
   "cell_type": "markdown",
   "metadata": {},
   "source": [
    "编写代码实现K近邻算法。其中距离计算使用了欧氏距离，同时提供了计算马氏距离的实现代码（第7行到第9行）："
   ]
  },
  {
   "cell_type": "code",
   "execution_count": 10,
   "metadata": {},
   "outputs": [
    {
     "name": "stdout",
     "output_type": "stream",
     "text": [
      "[0, 1, 0]\n"
     ]
    }
   ],
   "source": [
    "from sklearn.metrics import accuracy_score\n",
    "from scipy.spatial import distance\n",
    "import numpy as np\n",
    "import operator\n",
    "\n",
    "def classify(inX, dataSet, labels, k):\n",
    "    #S=np.cov(dataSet.T)   #协方差矩阵，为计算马氏距离\n",
    "    #SI = np.linalg.inv(S)  #协方差矩阵的逆矩阵\n",
    "    #distances = np.array(distance.cdist(dataSet, [inX], 'mahalanobis', VI=SI)).reshape(-1)\n",
    "    distances = np.array(distance.cdist(dataSet, [inX], 'euclidean').reshape(-1))\n",
    "    sortedDistIndicies = distances.argsort() # 取排序的索引，用于label排序\n",
    "    classCount={}\n",
    "    for i in range(k): # 访问距离最近的k个实例\n",
    "        voteILabel = labels[sortedDistIndicies[i]]\n",
    "        classCount[voteILabel]=classCount.get(voteILabel,0)+1\n",
    "    sortedClassCount = sorted(classCount.items(), \n",
    "             key=operator.itemgetter(1), reverse=True)\n",
    "    return sortedClassCount[0][0] # 取最多的分类\n",
    "\n",
    "ret = [classify(X_test[i], X_train, y_train, 3) for i in range(len(X_test))]\n",
    "\n",
    "print(ret)"
   ]
  },
  {
   "cell_type": "markdown",
   "metadata": {},
   "source": [
    "## SVM算法"
   ]
  },
  {
   "cell_type": "code",
   "execution_count": 11,
   "metadata": {},
   "outputs": [
    {
     "name": "stdout",
     "output_type": "stream",
     "text": [
      "trian pred:0.967\n",
      "test pred:1.000\n",
      "[[5.  3.5 1.6 0.6]\n",
      " [4.3 3.  1.1 0.1]\n",
      " [5.4 3.4 1.7 0.2]\n",
      " [5.7 4.4 1.5 0.4]\n",
      " [4.5 2.3 1.3 0.3]\n",
      " [5.1 3.3 1.7 0.5]\n",
      " [5.2 4.1 1.5 0.1]\n",
      " [5.8 4.  1.2 0.2]\n",
      " [5.4 3.  4.5 1.5]\n",
      " [5.2 2.7 3.9 1.4]\n",
      " [6.  2.7 5.1 1.6]\n",
      " [5.  2.  3.5 1. ]\n",
      " [6.3 3.3 4.7 1.6]\n",
      " [7.  3.2 4.7 1.4]\n",
      " [6.  3.4 4.5 1.6]\n",
      " [5.6 2.9 3.6 1.3]\n",
      " [6.1 3.  4.6 1.4]\n",
      " [6.9 3.1 4.9 1.5]\n",
      " [5.1 2.5 3.  1.1]\n",
      " [6.2 2.2 4.5 1.5]\n",
      " [5.7 2.8 4.5 1.3]\n",
      " [5.7 2.6 3.5 1. ]\n",
      " [6.3 2.5 4.9 1.5]\n",
      " [6.7 3.  5.  1.7]\n",
      " [5.9 3.2 4.8 1.8]\n",
      " [6.3 2.3 4.4 1.3]\n",
      " [6.1 3.  4.9 1.8]\n",
      " [6.9 3.1 5.1 2.3]\n",
      " [6.  2.2 5.  1.5]\n",
      " [6.7 2.5 5.8 1.8]\n",
      " [6.3 2.7 4.9 1.8]\n",
      " [6.3 2.8 5.1 1.5]\n",
      " [4.9 2.5 4.5 1.7]\n",
      " [6.3 2.5 5.  1.9]\n",
      " [5.9 3.  5.1 1.8]\n",
      " [7.2 3.6 6.1 2.5]\n",
      " [6.5 3.2 5.1 2. ]\n",
      " [6.2 3.4 5.4 2.3]\n",
      " [7.2 3.  5.8 1.6]\n",
      " [7.7 2.6 6.9 2.3]\n",
      " [7.9 3.8 6.4 2. ]\n",
      " [6.  3.  4.8 1.8]\n",
      " [6.3 3.4 5.6 2.4]\n",
      " [7.7 3.8 6.7 2.2]]\n",
      "[ 8 18 18]\n"
     ]
    },
    {
     "data": {
      "text/plain": [
       "[<matplotlib.lines.Line2D at 0x1ec4ecbea30>]"
      ]
     },
     "execution_count": 11,
     "metadata": {},
     "output_type": "execute_result"
    },
    {
     "data": {
      "image/png": "[encoded data removed]",
      "text/plain": [
       "<Figure size 432x288 with 1 Axes>"
      ]
     },
     "metadata": {
      "needs_background": "light"
     },
     "output_type": "display_data"
    }
   ],
   "source": [
    "from sklearn import svm\n",
    "from sklearn.model_selection import train_test_split\n",
    "from sklearn.datasets import load_iris\n",
    "import matplotlib.pyplot as plt\n",
    "%matplotlib inline\n",
    "\n",
    "iris=load_iris()\n",
    "X = iris.data  # 获取自变量\n",
    "y = iris.target  # 获取因变量\n",
    "X_train, X_test, y_train ,y_test = train_test_split(X,y,test_size=0.2,random_state=0)\n",
    "clf = svm.SVC(C=0.8, kernel='rbf', gamma=1) # 高斯核，松弛度0.8\n",
    "#clf = svm.SVC(C=0.5, kernel='linear') # 线性核，松弛度0.5\n",
    "clf.fit(X_train, y_train.ravel())\n",
    "\n",
    "print('trian pred:%.3f' %(clf.score(X_train, y_train))) # 对训练集打分\n",
    "print('test pred:%.3f' %(clf.score(X_test, y_test))) # 对测试集打分\n",
    "print(clf.support_vectors_) #支持向量列表，从中看到切分边界\n",
    "print(clf.n_support_) # 每类别持向量个数\n",
    "\n",
    "plt.plot(X_train[:,0], X_train[:,1],'o', color = '#bbbbbb')\n",
    "plt.plot(clf.support_vectors_[:,0], clf.support_vectors_[:,1],'o')"
   ]
  }
 ],
 "metadata": {
  "kernelspec": {
   "display_name": "Python 3",
   "language": "python",
   "name": "python3"
  },
  "language_info": {
   "codemirror_mode": {
    "name": "ipython",
    "version": 3
   },
   "file_extension": ".py",
   "mimetype": "text/x-python",
   "name": "python",
   "nbconvert_exporter": "python",
   "pygments_lexer": "ipython3",
   "version": "3.8.8"
  }
 },
 "nbformat": 4,
 "nbformat_minor": 4
}
