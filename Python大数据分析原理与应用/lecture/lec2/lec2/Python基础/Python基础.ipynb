{
 "cells": [
  {
   "cell_type": "markdown",
   "metadata": {},
   "source": [
    "# Python大数据分析原理与应用\n",
    "## 参考资料\n",
    "1、教材《Python大数据与机器学习实战》 谢彦 编著 中国工信出版集团<p>\n",
    "2、[廖雪峰的Python教程](https://www.liaoxuefeng.com/wiki/1016959663602400)<p>\n",
    "3、去github、CSDN等网站搜索自己专业相关的项目代码研读有利于更快的入门，善用help函数,遇到困难善用搜索引擎，大多数问题都能找到解决方案，“面向搜索引擎的编程”你懂的。\n",
    "\n",
    "## Anaconda工具\n",
    "“人生苦短，我用Anaconda”。Anaconda是一款集成工具，包含了Python、Jupyter、Spyder、conda等开发工具，方便Python包的查找、安装、卸载等功能，[官网链接](https://www.anaconda.com)，但通过[清华镜像](https://mirrors.tuna.tsinghua.edu.cn/anaconda/archive/)下载速度更快、更方便，点击超链接进入后直接下拉到最底端，选择适合自己所用操作系统的安装包进行下载、安装。\n",
    "    注意，在安装中有一步***Advanced Options***建议先将两个选项**全部勾选**，会配置环境变量的同学可以根据个人理解进行勾选。<p>\n",
    "    使用Anaconda Prompt可在命令行中运行Python和IPython命令<p>\n",
    "    为方便教学，课堂演示代码主要使用Jupyter Notebook。"
   ]
  },
  {
   "cell_type": "code",
   "execution_count": 1,
   "metadata": {},
   "outputs": [
    {
     "name": "stdout",
     "output_type": "stream",
     "text": [
      "Hello world!\n"
     ]
    }
   ],
   "source": [
    "# 第一个Python程序\n",
    "print('Hello world!')"
   ]
  },
  {
   "cell_type": "markdown",
   "metadata": {},
   "source": [
    "## Python数据类型\n",
    "### 数值\n",
    "Python的数据类型包括int(整型）、float(浮点型)、bool（布尔型）、complex（复数）。数值类型只管理单个元素，用法与在其他编程语言中的类似。Python变量不需要事先声明，在它赋值时就已被创建，使用del语句可将其删除。\n",
    "Python可使用列表解析的方式为变量赋值。"
   ]
  },
  {
   "cell_type": "code",
   "execution_count": 2,
   "metadata": {},
   "outputs": [
    {
     "name": "stdout",
     "output_type": "stream",
     "text": [
      "1 2\n"
     ]
    }
   ],
   "source": [
    "a, b = 1, 2\n",
    "print(a,b)\n",
    "del a,b"
   ]
  },
  {
   "cell_type": "markdown",
   "metadata": {},
   "source": [
    "### 字符串\n",
    "字符串是一组字符序列，其中的数据但不可修改（从例程中可以看到修改后返回了新的字符串，原字符串不变）。"
   ]
  },
  {
   "cell_type": "code",
   "execution_count": 3,
   "metadata": {},
   "outputs": [
    {
     "name": "stdout",
     "output_type": "stream",
     "text": [
      "12\n",
      "4\n",
      "4\n",
      "hell? w?rld!\n",
      "It's a book\n",
      "['hell', ' w', 'rld!']\n",
      "a-b-c\n",
      "True\n",
      "False\n",
      "False\n",
      "hello world!\n",
      "hello world 3.14\n"
     ]
    }
   ],
   "source": [
    "string = \"hello world!\"\n",
    "print(len(string)) # 计算长度\n",
    "print(string.find('o')) # 正向查找字符'o'\n",
    "print(string.index('o')) # 正向查找'o'的索引号\n",
    "print(string.replace('o', '?')) # 替换字符串\n",
    "print(\"It's a {}\".format('book')) # 格式替换\n",
    "print(string.split('o')) # 用空白符切分字符串\n",
    "print(\"-\".join(['a','b','c'])) # 连接字符串\n",
    "print(string.endswith('!')) # 判断尾字符\n",
    "print(string.startswith('!')) # 判断首字符\n",
    "print(string.isnumeric()) # 判断是否为数值\n",
    "print(string.strip()) # 移除首尾空字符\n",
    "print(\"{} {} {:.2f}\".format(\"hello\",\"world\", 3.1415926))"
   ]
  },
  {
   "cell_type": "markdown",
   "metadata": {},
   "source": [
    "### 列表\n",
    "列表是Python最常用的数据类型，是一组元素序列，支持异构（即其中各个数据项类型可以不同），其中数据项可以是任何类型，如元组、字典、列表等。列表使用方括号定义，元素之间用逗号分隔。列表中的内容是有序的，可修改，支持通过索引值访问和双向索引，即正数为从左向右索引，负数为从右向左索引（-1为最后一个元素）。\n",
    "下例从增、删、查、改几个方面介绍列表的基本操作。"
   ]
  },
  {
   "cell_type": "code",
   "execution_count": 4,
   "metadata": {},
   "outputs": [
    {
     "name": "stdout",
     "output_type": "stream",
     "text": [
      "[1, 2, 3, 4, 100]\n",
      "[1, 2, 0, 3, 4, 100]\n",
      "[1, 2, 0, 3, 4, 100, 5, 6, 7]\n",
      "[6, 7]\n",
      "[6]\n",
      "[]\n",
      "2 7 [0, 3] [5, 6, 7]\n",
      "[9, 2, 0, 3, 4, 100, 5, 6, 7]\n"
     ]
    }
   ],
   "source": [
    "# 创建两个列表\n",
    "a=[1,2,3,4]\n",
    "b=[5,6,7]\n",
    "# 增\n",
    "a.append(100) # 追加元素 100\n",
    "print(a)\n",
    "a.insert(2, 0) # 在第2个位置插入元素 0\n",
    "print(a)\n",
    "a.extend(b) # 连接两个列表\n",
    "print(a)\n",
    "# 删\n",
    "b.remove(5) # 删除数据 5\n",
    "print(b)\n",
    "b.pop() # 删除最后一个数据\n",
    "print(b)\n",
    "b.clear() # 清空所有数据\n",
    "print(b)\n",
    "# 查\n",
    "print(a[1], a[-1], a[2:4], a[-3:])\n",
    "# 改\n",
    "a[0] = 9 # 修改第0个元素内容\n",
    "print(a)"
   ]
  },
  {
   "cell_type": "code",
   "execution_count": 5,
   "metadata": {},
   "outputs": [
    {
     "name": "stdout",
     "output_type": "stream",
     "text": [
      "Help on method_descriptor:\n",
      "\n",
      "insert(self, index, object, /)\n",
      "    Insert object before index.\n",
      "\n"
     ]
    }
   ],
   "source": [
    "help(list.insert)"
   ]
  },
  {
   "cell_type": "code",
   "execution_count": 7,
   "metadata": {},
   "outputs": [
    {
     "name": "stdout",
     "output_type": "stream",
     "text": [
      "Help on method_descriptor:\n",
      "\n",
      "remove(self, value, /)\n",
      "    Remove first occurrence of value.\n",
      "    \n",
      "    Raises ValueError if the value is not present.\n",
      "\n"
     ]
    }
   ],
   "source": [
    "help(list.remove)"
   ]
  },
  {
   "cell_type": "markdown",
   "metadata": {},
   "source": [
    "可用列表推导式来快速生成列表，是用可迭代对象生成多元素列表的表达式，其语法如下：<p>\n",
    "    [表达式 for 变量 in 可迭代对象]或[表达式 for 变量 in 可迭代对象 if 真值表达式]<p>\n",
    "    例如，生成20以内由奇数组成的数组，用列表推导式一行代码即可实现："
   ]
  },
  {
   "cell_type": "code",
   "execution_count": 4,
   "metadata": {},
   "outputs": [
    {
     "name": "stdout",
     "output_type": "stream",
     "text": [
      "[0, 2, 4, 6, 8, 10, 12, 14, 16, 18, 20]\n"
     ]
    }
   ],
   "source": [
    "a = [i for i in range(21) if i % 2 == 0]\n",
    "print(a)\n",
    "#含义：用for迭代妨问由range函数创建的含有数值0-19的列表，用其中不能被2整除的数(i)生成新列表"
   ]
  },
  {
   "cell_type": "markdown",
   "metadata": {},
   "source": [
    "### 元组\n",
    "元组的使用方法类似于列表，也用于表示有序数据的集合，但与列表不同的是它不支持修改。它的操作速度比列表快，是轻量级的数据表示，常用于定义常量和作为字典的键值。元组使用圆括号定义，元素之间用逗号分隔。<p>\n",
    "由于元组不支持增、删、改等操作，因此下例简要介绍其建立和查询的基本方法。"
   ]
  },
  {
   "cell_type": "code",
   "execution_count": 9,
   "metadata": {},
   "outputs": [
    {
     "name": "stdout",
     "output_type": "stream",
     "text": [
      "(2,)\n"
     ]
    }
   ],
   "source": [
    "# 创建\n",
    "a = (1,2,3,4)\n",
    "# 查\n",
    "print(a[1:2])"
   ]
  },
  {
   "cell_type": "markdown",
   "metadata": {},
   "source": [
    "### 集合\n",
    "集合用于表示一组不重复的元素集合，支持异构。集合使用大括号定义，元素之间用逗号分隔。集合中的元素是无序的，可修改。因为集合中的元素无序，所以其不支持通过索引值访问。<p>\n",
    "下例从增、删、查、改几方面介绍集合的基本操作。"
   ]
  },
  {
   "cell_type": "code",
   "execution_count": 10,
   "metadata": {},
   "outputs": [
    {
     "name": "stdout",
     "output_type": "stream",
     "text": [
      "{1, 2, 3}\n",
      "{1, 2, 3, 4}\n",
      "3\n",
      "4\n",
      "5\n",
      "6\n",
      "7\n",
      "{1, 2, 3, 4, 5, 6, 7}\n"
     ]
    }
   ],
   "source": [
    "# 创建\n",
    "a = {1,1,2,3}\n",
    "print(a) \n",
    "b = {3,4,5,6,7}\n",
    "# 增\n",
    "a.add(4)\n",
    "print(a)\n",
    "# 删\n",
    "# remove, pop, clear同list一样，不再赘述\n",
    "a.discard(9) # discard删除元素时，如果元素不存在也不报错\n",
    "# 查\n",
    "for i in b: print(i) # 返回结果： 567\n",
    "# 改\n",
    "a.update(b) # 更新操作：如不存在则添加，如果存在则忽略\n",
    "print(a)"
   ]
  },
  {
   "cell_type": "markdown",
   "metadata": {},
   "source": [
    "除了增、删、查、改，集合还支持相关的运算，如差集（-）、并集（|）、交集（&）、子集（issubset）等操作。"
   ]
  },
  {
   "cell_type": "code",
   "execution_count": 15,
   "metadata": {},
   "outputs": [
    {
     "name": "stdout",
     "output_type": "stream",
     "text": [
      "{1, 2}\n",
      "{3, 4, 5, 6, 7}\n",
      "{1, 2, 3, 4, 5, 6, 7}\n",
      "True\n",
      "True\n",
      "True\n",
      "False\n",
      "{1, 2, 4, 5, 6, 7}\n",
      "False\n"
     ]
    }
   ],
   "source": [
    "print(a-b)\n",
    "print(a&b)\n",
    "print(a|b) \n",
    "print(a.issubset(a)) \n",
    "print(b.issubset(a))\n",
    "print(a>b) \n",
    "print(a==b) \n",
    "\n",
    "a = {1,1,2,3}\n",
    "b = {3,4,5,6,7}\n",
    "print(a^b) #不同时包含于a,b的元素\n",
    "print(8 in a)"
   ]
  },
  {
   "cell_type": "markdown",
   "metadata": {},
   "source": [
    "### 字典\n",
    "字典是一组键值对（key/value 映射关系）的集合，键值不能重复，访问速度快。字典使用大括号定义，key与value间用冒号分隔，键值对之间用逗号分隔。字典中的元素是无序的，其内容可修改，字典要求key中只能包含不可变的数据。<p>\n",
    "下例从增、删、查、改几方面介绍字典的基本操作。"
   ]
  },
  {
   "cell_type": "code",
   "execution_count": 10,
   "metadata": {},
   "outputs": [
    {
     "name": "stdout",
     "output_type": "stream",
     "text": [
      "{'a': 'one', 2: 'two'}\n",
      "{'a': 'one', 2: 'two', 3: 'three'}\n",
      "{'a': 'one', 3: 'three'}\n",
      "one\n",
      "dict_keys(['a', 3])\n",
      "dict_values(['one', 'three'])\n",
      "dict_items([('a', 'one'), (3, 'three')])\n",
      "{'a': 'one', 3: '3'}\n"
     ]
    }
   ],
   "source": [
    "# 创建\n",
    "a = {'a':\"one\", 2:\"two\"}\n",
    "print(a) \n",
    "# 增\n",
    "a[3] = 'three'\n",
    "print(a) \n",
    "# 删\n",
    "a.pop(2)\n",
    "print(a) \n",
    "# 查\n",
    "print(a['a']) \n",
    "print(a.keys()) \n",
    "print(a.values()) \n",
    "print(a.items()) \n",
    "# 改\n",
    "a[3] = '3'\n",
    "print(a) "
   ]
  },
  {
   "cell_type": "markdown",
   "metadata": {},
   "source": [
    "## Jupyter魔法命令\n",
    "除基本的Python代码外，Jupyter还支持魔法命令（Magic）。魔法命令包含两类：一类是以%开头的行魔法（Line magic），对单行起作用；另一类是以%%开头的单元魔法（Cell magic），对整个Cell起作用。下面介绍几个常用的魔法命令。<p>\n",
    "    （1）查看系统支持的所有魔法命令。"
   ]
  },
  {
   "cell_type": "code",
   "execution_count": 11,
   "metadata": {},
   "outputs": [
    {
     "data": {
      "application/json": {
       "cell": {
        "!": "OSMagics",
        "HTML": "Other",
        "SVG": "Other",
        "bash": "Other",
        "capture": "ExecutionMagics",
        "cmd": "Other",
        "debug": "ExecutionMagics",
        "file": "Other",
        "html": "DisplayMagics",
        "javascript": "DisplayMagics",
        "js": "DisplayMagics",
        "latex": "DisplayMagics",
        "markdown": "DisplayMagics",
        "perl": "Other",
        "prun": "ExecutionMagics",
        "pypy": "Other",
        "python": "Other",
        "python2": "Other",
        "python3": "Other",
        "ruby": "Other",
        "script": "ScriptMagics",
        "sh": "Other",
        "svg": "DisplayMagics",
        "sx": "OSMagics",
        "system": "OSMagics",
        "time": "ExecutionMagics",
        "timeit": "ExecutionMagics",
        "writefile": "OSMagics"
       },
       "line": {
        "alias": "OSMagics",
        "alias_magic": "BasicMagics",
        "autoawait": "AsyncMagics",
        "autocall": "AutoMagics",
        "automagic": "AutoMagics",
        "autosave": "KernelMagics",
        "bookmark": "OSMagics",
        "cd": "OSMagics",
        "clear": "KernelMagics",
        "cls": "KernelMagics",
        "colors": "BasicMagics",
        "conda": "PackagingMagics",
        "config": "ConfigMagics",
        "connect_info": "KernelMagics",
        "copy": "Other",
        "ddir": "Other",
        "debug": "ExecutionMagics",
        "dhist": "OSMagics",
        "dirs": "OSMagics",
        "doctest_mode": "BasicMagics",
        "echo": "Other",
        "ed": "Other",
        "edit": "KernelMagics",
        "env": "OSMagics",
        "gui": "BasicMagics",
        "hist": "Other",
        "history": "HistoryMagics",
        "killbgscripts": "ScriptMagics",
        "ldir": "Other",
        "less": "KernelMagics",
        "load": "CodeMagics",
        "load_ext": "ExtensionMagics",
        "loadpy": "CodeMagics",
        "logoff": "LoggingMagics",
        "logon": "LoggingMagics",
        "logstart": "LoggingMagics",
        "logstate": "LoggingMagics",
        "logstop": "LoggingMagics",
        "ls": "Other",
        "lsmagic": "BasicMagics",
        "macro": "ExecutionMagics",
        "magic": "BasicMagics",
        "matplotlib": "PylabMagics",
        "mkdir": "Other",
        "more": "KernelMagics",
        "notebook": "BasicMagics",
        "page": "BasicMagics",
        "pastebin": "CodeMagics",
        "pdb": "ExecutionMagics",
        "pdef": "NamespaceMagics",
        "pdoc": "NamespaceMagics",
        "pfile": "NamespaceMagics",
        "pinfo": "NamespaceMagics",
        "pinfo2": "NamespaceMagics",
        "pip": "PackagingMagics",
        "popd": "OSMagics",
        "pprint": "BasicMagics",
        "precision": "BasicMagics",
        "prun": "ExecutionMagics",
        "psearch": "NamespaceMagics",
        "psource": "NamespaceMagics",
        "pushd": "OSMagics",
        "pwd": "OSMagics",
        "pycat": "OSMagics",
        "pylab": "PylabMagics",
        "qtconsole": "KernelMagics",
        "quickref": "BasicMagics",
        "recall": "HistoryMagics",
        "rehashx": "OSMagics",
        "reload_ext": "ExtensionMagics",
        "ren": "Other",
        "rep": "Other",
        "rerun": "HistoryMagics",
        "reset": "NamespaceMagics",
        "reset_selective": "NamespaceMagics",
        "rmdir": "Other",
        "run": "ExecutionMagics",
        "save": "CodeMagics",
        "sc": "OSMagics",
        "set_env": "OSMagics",
        "store": "StoreMagics",
        "sx": "OSMagics",
        "system": "OSMagics",
        "tb": "ExecutionMagics",
        "time": "ExecutionMagics",
        "timeit": "ExecutionMagics",
        "unalias": "OSMagics",
        "unload_ext": "ExtensionMagics",
        "who": "NamespaceMagics",
        "who_ls": "NamespaceMagics",
        "whos": "NamespaceMagics",
        "xdel": "NamespaceMagics",
        "xmode": "BasicMagics"
       }
      },
      "text/plain": [
       "Available line magics:\n",
       "%alias  %alias_magic  %autoawait  %autocall  %automagic  %autosave  %bookmark  %cd  %clear  %cls  %colors  %conda  %config  %connect_info  %copy  %ddir  %debug  %dhist  %dirs  %doctest_mode  %echo  %ed  %edit  %env  %gui  %hist  %history  %killbgscripts  %ldir  %less  %load  %load_ext  %loadpy  %logoff  %logon  %logstart  %logstate  %logstop  %ls  %lsmagic  %macro  %magic  %matplotlib  %mkdir  %more  %notebook  %page  %pastebin  %pdb  %pdef  %pdoc  %pfile  %pinfo  %pinfo2  %pip  %popd  %pprint  %precision  %prun  %psearch  %psource  %pushd  %pwd  %pycat  %pylab  %qtconsole  %quickref  %recall  %rehashx  %reload_ext  %ren  %rep  %rerun  %reset  %reset_selective  %rmdir  %run  %save  %sc  %set_env  %store  %sx  %system  %tb  %time  %timeit  %unalias  %unload_ext  %who  %who_ls  %whos  %xdel  %xmode\n",
       "\n",
       "Available cell magics:\n",
       "%%!  %%HTML  %%SVG  %%bash  %%capture  %%cmd  %%debug  %%file  %%html  %%javascript  %%js  %%latex  %%markdown  %%perl  %%prun  %%pypy  %%python  %%python2  %%python3  %%ruby  %%script  %%sh  %%svg  %%sx  %%system  %%time  %%timeit  %%writefile\n",
       "\n",
       "Automagic is ON, % prefix IS NOT needed for line magics."
      ]
     },
     "execution_count": 11,
     "metadata": {},
     "output_type": "execute_result"
    }
   ],
   "source": [
    "%lsmagic"
   ]
  },
  {
   "cell_type": "markdown",
   "metadata": {},
   "source": [
    "(2) 统计程序执行时间"
   ]
  },
  {
   "cell_type": "code",
   "execution_count": 12,
   "metadata": {},
   "outputs": [
    {
     "name": "stdout",
     "output_type": "stream",
     "text": [
      "13.5 µs ± 218 ns per loop (mean ± std. dev. of 7 runs, 100000 loops each)\n"
     ]
    }
   ],
   "source": [
    "%timeit -n 100000 [i * i for i in range(200)]"
   ]
  },
  {
   "cell_type": "markdown",
   "metadata": {},
   "source": [
    "%timeit对单行语句执行多次，可用-n参数设置其运行次数、统计其平均执行时间。在上例中，程序被重复执行了7次，每次执行100000轮创建列表的操作，每次创建列表的平均时长是14.2微秒<p>\n",
    "（3）查看当前Cell单元运行时间。\n",
    "%timeit是运行多次，统计单行代码运行时间；%%timeit是运行多次，统计代码块运行时间。与timeit不同，time是统计单次运行的时间"
   ]
  },
  {
   "cell_type": "code",
   "execution_count": 13,
   "metadata": {},
   "outputs": [
    {
     "name": "stdout",
     "output_type": "stream",
     "text": [
      "Wall time: 0 ns\n"
     ]
    }
   ],
   "source": [
    "%%time\n",
    "arr = [i * i for i in range(2000)]"
   ]
  },
  {
   "cell_type": "markdown",
   "metadata": {},
   "source": [
    "（4）将Cell单元内容写入Python文件。"
   ]
  },
  {
   "cell_type": "code",
   "execution_count": 14,
   "metadata": {},
   "outputs": [
    {
     "name": "stdout",
     "output_type": "stream",
     "text": [
      "Writing test.py\n"
     ]
    }
   ],
   "source": [
    "%%writefile test.py\n",
    "print('aaaaa')"
   ]
  },
  {
   "cell_type": "markdown",
   "metadata": {},
   "source": [
    "运行该单元后，在当前目录下生成test.py文件。（5）运行Python程序。"
   ]
  },
  {
   "cell_type": "code",
   "execution_count": 15,
   "metadata": {},
   "outputs": [
    {
     "name": "stdout",
     "output_type": "stream",
     "text": [
      "aaaaa\n"
     ]
    }
   ],
   "source": [
    "%run test.py"
   ]
  },
  {
   "cell_type": "markdown",
   "metadata": {},
   "source": [
    "（6）将Matplotlib绘制的图片嵌入Jupyter Notebook中。<p>\n",
    "Matplotlib是最常用的Python图表绘图工具。在使用Jupyter调用其绘图函数时，其绘制的图片默认以弹出窗口方式显示。而在Docker下运行程序或在另一台计算机上运行程序时，往往不能正常弹出窗口，这时需要使用以下命令设置Matplotlib绘制的图表显示在浏览器中。"
   ]
  },
  {
   "cell_type": "code",
   "execution_count": 18,
   "metadata": {},
   "outputs": [
    {
     "data": {
      "text/plain": [
       "<matplotlib.image.AxesImage at 0x282000f0910>"
      ]
     },
     "execution_count": 18,
     "metadata": {},
     "output_type": "execute_result"
    },
    {
     "data": {
      "image/png": "[encoded data removed]",
      "text/plain": [
       "<Figure size 432x288 with 1 Axes>"
      ]
     },
     "metadata": {
      "needs_background": "light"
     },
     "output_type": "display_data"
    }
   ],
   "source": [
    "from PIL import Image\n",
    "import matplotlib.pyplot as plt\n",
    "from matplotlib.pyplot import imshow\n",
    "%matplotlib inline\n",
    "img = Image.open(r\"F:\\\\img\\\\lena.jpg\")\n",
    "imshow(img, cmap=plt.cm.gray)"
   ]
  },
  {
   "cell_type": "markdown",
   "metadata": {},
   "source": [
    "（7）查看当前变量。"
   ]
  },
  {
   "cell_type": "code",
   "execution_count": 17,
   "metadata": {},
   "outputs": [
    {
     "name": "stdout",
     "output_type": "stream",
     "text": [
      "Variable   Type             Data/Info\n",
      "-------------------------------------\n",
      "Image      module           <module 'PIL.Image' from <...>packages\\\\PIL\\\\Image.py'>\n",
      "a          int              5\n",
      "arr        list             n=2000\n",
      "b          set              {3, 4, 5, 6, 7}\n",
      "i          int              7\n",
      "img        JpegImageFile    <PIL.JpegImagePlugin.Jpeg<...>256x256 at 0x16BBCF9BBA8>\n",
      "imshow     function         <function imshow at 0x0000016BBD0437B8>\n",
      "string     str              hello world!\n"
     ]
    }
   ],
   "source": [
    "a = 5\n",
    "%whos"
   ]
  },
  {
   "cell_type": "markdown",
   "metadata": {},
   "source": [
    "（8）清除变量。"
   ]
  },
  {
   "cell_type": "code",
   "execution_count": 18,
   "metadata": {},
   "outputs": [
    {
     "name": "stdout",
     "output_type": "stream",
     "text": [
      "Once deleted, variables cannot be recovered. Proceed (y/[n])? \n",
      "Nothing done.\n"
     ]
    }
   ],
   "source": [
    "%reset"
   ]
  },
  {
   "cell_type": "markdown",
   "metadata": {},
   "source": [
    "（9）加载文件内容。<p>\n",
    "运行后，test.py的内容被加载到当前代码块中"
   ]
  },
  {
   "cell_type": "code",
   "execution_count": null,
   "metadata": {},
   "outputs": [],
   "source": [
    "# %load test.py\n",
    "print('aaaaa')\n"
   ]
  },
  {
   "cell_type": "markdown",
   "metadata": {},
   "source": [
    "## Python函数和类\n",
    "相对于 C语言和Java，Python的函数和类的用法更加灵活。Python用def关键字定义函数，除函数的一般格式外，它还支持使用lambda定义匿名函数。本节将介绍Python的函数和类的基本使用方法。\n",
    "### 定义和使用函数\n",
    "Python函数的定义和使用方法和其他语言类似，本小节以示例的方式展示Python函数区别于其他语言的特殊用法。Python使用def定义函数，返回结果可以是各种数据类型，形如："
   ]
  },
  {
   "cell_type": "code",
   "execution_count": 19,
   "metadata": {},
   "outputs": [
    {
     "name": "stdout",
     "output_type": "stream",
     "text": [
      "(7, 12)\n"
     ]
    }
   ],
   "source": [
    "def func(a,b,c):\n",
    "    return a+b+c, a*b*c\n",
    "print(func(2,2,3))"
   ]
  },
  {
   "cell_type": "markdown",
   "metadata": {},
   "source": [
    "使用\\*arg方式可支持不定长参数，用\\*\\*kwargs方式支持字典类型参数。"
   ]
  },
  {
   "cell_type": "code",
   "execution_count": 21,
   "metadata": {},
   "outputs": [
    {
     "name": "stdout",
     "output_type": "stream",
     "text": [
      "(1, 2, 3)\n",
      "{'x': 2, 'y': 3}\n"
     ]
    }
   ],
   "source": [
    "def func2(*arg, **kwargs):\n",
    "    print(arg)\n",
    "    print(kwargs)\n",
    "func2(1, 2, 3, x=2, y=3)"
   ]
  },
  {
   "cell_type": "markdown",
   "metadata": {},
   "source": [
    "相对的，当调用函数时，如果想将一个数组或字典作为函数参数，就可以使用*实现。"
   ]
  },
  {
   "cell_type": "code",
   "execution_count": 22,
   "metadata": {},
   "outputs": [
    {
     "name": "stdout",
     "output_type": "stream",
     "text": [
      "(1, 2, 3)\n",
      "{'x': 2, 'y': 3}\n"
     ]
    }
   ],
   "source": [
    "dic = {'x':2, 'y':3}\n",
    "arr = [1,2,3]\n",
    "func2(*arr, **dic)"
   ]
  },
  {
   "cell_type": "markdown",
   "metadata": {},
   "source": [
    "### lambda匿名函数\n",
    "匿名函数是不需要使用def显示定义的函数，通常用于函数功能比较简单，且在一行之内即可实现的功能，一般只使用一次。lambda定义函数的表达式看起来比def定义函数的更简洁。\n",
    "举例如下："
   ]
  },
  {
   "cell_type": "code",
   "execution_count": 23,
   "metadata": {},
   "outputs": [
    {
     "name": "stdout",
     "output_type": "stream",
     "text": [
      "4\n"
     ]
    }
   ],
   "source": [
    "a=lambda x:x+1\n",
    "print(a(3))"
   ]
  },
  {
   "cell_type": "markdown",
   "metadata": {},
   "source": [
    "其中，x是形参，x+1为函数返回值。在第3章Pandas部分将用lambda表达式实现表处理。"
   ]
  },
  {
   "cell_type": "markdown",
   "metadata": {},
   "source": [
    "### 类和继承\n",
    "类增加了代码的复用性，使代码更便于阅读。Python用class关键字定义类，如果继承自其他类，就将其父类名放在括号内，然后加入冒号和换行。下面用缩进代码作为类的实现，类的构造函数为__init__，其参数是在实例化时需要传入的参数。类中函数的第一个参数指代类的当前实例，在调用时不需要指定参数。"
   ]
  },
  {
   "cell_type": "code",
   "execution_count": 24,
   "metadata": {},
   "outputs": [
    {
     "name": "stdout",
     "output_type": "stream",
     "text": [
      "plant banana\n"
     ]
    }
   ],
   "source": [
    "class Plant():\n",
    "    def __init__(self, name):\n",
    "        self.name = name\n",
    "    def show(self):\n",
    "        print(\"plant\", self.name)\n",
    "p = Plant('banana')\n",
    "p.show()"
   ]
  },
  {
   "cell_type": "markdown",
   "metadata": {},
   "source": [
    "下面是类继承的实例："
   ]
  },
  {
   "cell_type": "code",
   "execution_count": 25,
   "metadata": {},
   "outputs": [
    {
     "name": "stdout",
     "output_type": "stream",
     "text": [
      "fruit banana\n"
     ]
    }
   ],
   "source": [
    "class Fruit(Plant):\n",
    "    def show(self):\n",
    "        print(\"fruit\", self.name)\n",
    "f = Fruit('banana')\n",
    "f.show()"
   ]
  },
  {
   "cell_type": "markdown",
   "metadata": {},
   "source": [
    "可以看到，它使用了其父类的构造函数，而子类中重写了show方法，实现了类的多态性。"
   ]
  },
  {
   "cell_type": "markdown",
   "metadata": {},
   "source": [
    "## Python常用库\n",
    "Python可以很方便的安装库以实现多种功能，如用于图形图像处理的Scikit-Image、OpenCV，用于自然语言处理的NLTK、jieba，用于数据分析的Numpy、Pandas,用于机器学习的Sklearn、Tensorflow、Pytorch等等，后续章节种会介绍其中部分库的安装和使用方法。\n",
    "## Pdb命令行调试工具\n",
    "（简单演示）"
   ]
  },
  {
   "cell_type": "code",
   "execution_count": 26,
   "metadata": {},
   "outputs": [
    {
     "name": "stdout",
     "output_type": "stream",
     "text": [
      "Writing a.py\n"
     ]
    }
   ],
   "source": [
    "%%writefile a.py\n",
    "for i in range(0,3):\n",
    "    print(i)\n",
    "    print(\"@@@@\")\n",
    "    print(\"###\")"
   ]
  },
  {
   "cell_type": "markdown",
   "metadata": {},
   "source": [
    "## 制作和导入模块\n",
    "当一个 Python 程序过于庞大时，往往需要将其拆分成多个程序文件“.py”，有时被多个程序调用的公共函数也单独作为“.py”文件，在使用时它们要被其他程序导入。在Python中，每个“.py”文件都可以作为模块在其他程序中用import导入。\n",
    "当被导入文件和使用它的文件在同一目录中时，直接通过文件名即可导入。当模块文件较多时，有时也将多个“.py”文件放在一个目录中，即生成包Package，包的目录下必须包含名为__init__.py的文件。如果没有该文件，该目录就不会被识别为Package。"
   ]
  },
  {
   "cell_type": "code",
   "execution_count": 27,
   "metadata": {},
   "outputs": [
    {
     "name": "stdout",
     "output_type": "stream",
     "text": [
      "Overwriting a.py\n"
     ]
    }
   ],
   "source": [
    "%%writefile a.py \n",
    "def A():\n",
    "    print(\"func A\")"
   ]
  },
  {
   "cell_type": "code",
   "execution_count": 28,
   "metadata": {},
   "outputs": [],
   "source": [
    "import os\n",
    "\n",
    "if not os.path.exists('tools'): #判断目录是否存在\n",
    "    os.makedirs('tools') # 创建目录"
   ]
  },
  {
   "cell_type": "code",
   "execution_count": 29,
   "metadata": {},
   "outputs": [
    {
     "name": "stdout",
     "output_type": "stream",
     "text": [
      "Writing tools/b.py\n"
     ]
    }
   ],
   "source": [
    "%%writefile tools/b.py \n",
    "def B():\n",
    "    print(\"func B\")"
   ]
  },
  {
   "cell_type": "code",
   "execution_count": 30,
   "metadata": {},
   "outputs": [
    {
     "name": "stdout",
     "output_type": "stream",
     "text": [
      "func A\n",
      "func B\n"
     ]
    }
   ],
   "source": [
    "import a\n",
    "from tools import b\n",
    "a.A()\n",
    "b.B()"
   ]
  },
  {
   "cell_type": "markdown",
   "metadata": {},
   "source": [
    "### 设置模块路径\n",
    "Python 支持导入三种模块：系统模块、三方模块、自定义模块。当自定义的模块和包在当前目录下时，直接使用import导入即可；当模块在Python定义的第三方库目录下（如“/usr/local/lib/python3.7/site-packages/”）时，也可以直接导入，大多数第三方模块都以该方式导入。对于自定义模块，可通过添加系统模块路径“sys.path”的方式加入新的模块或包所在路径，以便当前程序正常加载该库，具体方法如下："
   ]
  },
  {
   "cell_type": "code",
   "execution_count": 31,
   "metadata": {},
   "outputs": [
    {
     "name": "stdout",
     "output_type": "stream",
     "text": [
      "func B\n"
     ]
    }
   ],
   "source": [
    "import sys\n",
    "sys.path.append('tools')\n",
    "import b\n",
    "b.B()"
   ]
  },
  {
   "cell_type": "markdown",
   "metadata": {},
   "source": [
    "### 重新加载模块\n",
    "当一个模块被 import 导入多次时，只有第一次加载其内容，其后再导入则加载内存中的内容。在使用Jupyter调试程序时，如果调用程序main.py和a.py模块同步调试，有时修改了a.py模块内容后就需要重新加载，此时可使用reload方法，具体如下："
   ]
  },
  {
   "cell_type": "code",
   "execution_count": 32,
   "metadata": {},
   "outputs": [
    {
     "data": {
      "text/plain": [
       "<module 'a' from 'F:\\\\课程\\\\Python大数据22春备课\\\\a.py'>"
      ]
     },
     "execution_count": 32,
     "metadata": {},
     "output_type": "execute_result"
    }
   ],
   "source": [
    "import imp \n",
    "imp.reload(a)"
   ]
  },
  {
   "cell_type": "markdown",
   "metadata": {},
   "source": [
    "## 异常处理\n",
    "当程序运行出错时会抛出异常，如果不做处理则程序会异常退出。Python 也支持用try/except方式捕获异常，简单实例如下：以读取方式打开文件test.txt，当该文件不存在时将抛出异常，如例程中捕获异常并显示具体的异常信息。从返回结果可以看到，在捕捉到异常信息后，程序正常执行了之后的打印信息操作。"
   ]
  },
  {
   "cell_type": "code",
   "execution_count": 33,
   "metadata": {},
   "outputs": [
    {
     "name": "stdout",
     "output_type": "stream",
     "text": [
      "error [Errno 2] No such file or directory: 'test.txt'\n",
      "aaaa\n"
     ]
    }
   ],
   "source": [
    "try:\n",
    "    f = open('test.txt', 'r')\n",
    "except Exception as e:\n",
    "    print('error', e)\n",
    "print('aaaa')"
   ]
  },
  {
   "cell_type": "code",
   "execution_count": 34,
   "metadata": {},
   "outputs": [
    {
     "data": {
      "text/plain": [
       "'\\nPython \\n多行注释方法\\n\\n'"
      ]
     },
     "execution_count": 34,
     "metadata": {},
     "output_type": "execute_result"
    }
   ],
   "source": [
    "#Python单行注释方法\n",
    "'''\n",
    "Python \n",
    "多行注释方法\n",
    "\n",
    "'''"
   ]
  }
 ],
 "metadata": {
  "kernelspec": {
   "display_name": "Python 3",
   "language": "python",
   "name": "python3"
  },
  "language_info": {
   "codemirror_mode": {
    "name": "ipython",
    "version": 3
   },
   "file_extension": ".py",
   "mimetype": "text/x-python",
   "name": "python",
   "nbconvert_exporter": "python",
   "pygments_lexer": "ipython3",
   "version": "3.9.7"
  }
 },
 "nbformat": 4,
 "nbformat_minor": 2
}
