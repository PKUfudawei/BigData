{
 "cells": [
  {
   "cell_type": "markdown",
   "metadata": {},
   "source": [
    "# 数据操作Pandas\n"
   ]
  },
  {
   "cell_type": "markdown",
   "metadata": {},
   "source": [
    "Pandas是数据分析处理的常用工具, 在程序中使用时，需要先导入库，一般使用pd作为Pandas的简称。"
   ]
  },
  {
   "cell_type": "code",
   "execution_count": 1,
   "metadata": {},
   "outputs": [],
   "source": [
    "import pandas as pd"
   ]
  },
  {
   "cell_type": "markdown",
   "metadata": {},
   "source": [
    "## 3.1数据对象"
   ]
  },
  {
   "cell_type": "markdown",
   "metadata": {},
   "source": [
    "Pandas中最重要的两种数据对象是Series和DataFrame，其中DataFrame可以看作由多个Series组成。"
   ]
  },
  {
   "cell_type": "markdown",
   "metadata": {},
   "source": [
    "### 3.1.1  Series对象\n",
    "\n",
    "Series可以管理多种类型的数据，可以通过索引值访问元素，更像基本数据类型中字典的扩展，可以把它视为带索引的一维数组。\n"
   ]
  },
  {
   "cell_type": "markdown",
   "metadata": {},
   "source": [
    "**创建**：创建Series需要指定值和索引，当不指定索引时，索引为元素的序号。也可以使用转换的方式将其他类型的数据转换成Series类型。\n",
    "\n"
   ]
  },
  {
   "cell_type": "code",
   "execution_count": 2,
   "metadata": {},
   "outputs": [
    {
     "name": "stdout",
     "output_type": "stream",
     "text": [
      "item1    1\n",
      "item2    2\n",
      "item3    3\n",
      "dtype: int64\n",
      "0    1\n",
      "1    2\n",
      "2    3\n",
      "dtype: int64\n",
      "item1    1\n",
      "item2    2\n",
      "item3    3\n",
      "dtype: int64\n"
     ]
    }
   ],
   "source": [
    "# 创建\n",
    "a = pd.Series([1,2,3],index=['item1','item2','item3'])\n",
    "print(a)\n",
    "\n",
    "b = pd.Series([1,2,3]) # 从列表转换\n",
    "print(b)\n",
    "c = pd.Series({\"item1\":1, \"item2\":2, \"item3\":3}) # 从字典转换\n",
    "print(c)"
   ]
  },
  {
   "cell_type": "markdown",
   "metadata": {},
   "source": [
    "**查询**：\n",
    "Series支持用索引值访问其中的数据，这种操作类似于访问字典元素；也可以用位置下标访问数据元素，操作方法类似于访问列表元素。\n",
    "还可以通过索引列表、下标列表、下标切片的方式可以访问Series中的一个或多个元素。\n",
    "\n"
   ]
  },
  {
   "cell_type": "code",
   "execution_count": 21,
   "metadata": {},
   "outputs": [
    {
     "name": "stdout",
     "output_type": "stream",
     "text": [
      "1\n",
      "3\n",
      "[1 2 3]\n",
      "Index(['item1', 'item2', 'item3'], dtype='object')\n",
      "2.0\n",
      "item1    1\n",
      "item2    2\n",
      "dtype: int64\n",
      "item2    2\n",
      "item3    3\n",
      "dtype: int64\n",
      "item1    1\n",
      "dtype: int64\n"
     ]
    }
   ],
   "source": [
    "# 查询\n",
    "print(a['item1'])  # 用索引号访问\n",
    "print(a[2])  # 用下标访问\n",
    "\n",
    "print(a.values) # 访问数据\n",
    "print(a.index) # 访问索引\n",
    "print(a.mean()) # 求Series均值\n",
    "\n",
    "print(a[['item1','item2']]) # 索引列表\n",
    "print(a[[1,2]]) # 下标列表\n",
    "print(a[:1]) # 下标切片\n"
   ]
  },
  {
   "cell_type": "markdown",
   "metadata": {},
   "source": [
    "用append方法连接两个已有的Series，并返回新的Series; 用drop方法删除索引值对应的Series元素，并返回删除后的Series。这两个方法都不改变原数据。"
   ]
  },
  {
   "cell_type": "code",
   "execution_count": 22,
   "metadata": {},
   "outputs": [
    {
     "name": "stdout",
     "output_type": "stream",
     "text": [
      "item1    1\n",
      "item2    2\n",
      "item3    3\n",
      "item1    1\n",
      "item2    2\n",
      "item3    3\n",
      "dtype: int64\n",
      "item2    2\n",
      "item3    3\n",
      "dtype: int64\n"
     ]
    }
   ],
   "source": [
    "# 添加\n",
    "print(a.append(c))\n",
    "# 删除\n",
    "print(a.drop('item1'))"
   ]
  },
  {
   "cell_type": "markdown",
   "metadata": {},
   "source": [
    "### 3.1.2  DataFrame对象"
   ]
  },
  {
   "cell_type": "markdown",
   "metadata": {},
   "source": [
    "DataFrame可以视为有标签的二维数组，横向为行，纵向为列，且每行有行索引，每列有列名，列中数据类型必须一致。"
   ]
  },
  {
   "cell_type": "markdown",
   "metadata": {},
   "source": [
    "**创建**：利用转换方式将已有数据转换成DataFrame，可以通过数组组成的字典创、字典组成的数组或普通数组创建DataFrame。"
   ]
  },
  {
   "cell_type": "code",
   "execution_count": 4,
   "metadata": {},
   "outputs": [
    {
     "name": "stdout",
     "output_type": "stream",
     "text": [
      "       a  b\n",
      "item1  1  2\n",
      "item2  3  4\n",
      "   a  b\n",
      "0  1  2\n",
      "1  3  4\n",
      "   a  b\n",
      "0  1  2\n",
      "1  3  4\n"
     ]
    }
   ],
   "source": [
    "# 创建\n",
    "dic = {\"a\":[1,3], \"b\":[2,4]} # a,b为列名\n",
    "print(pd.DataFrame(dic, index=['item1','item2'])) # index指定索引行号\n",
    "\n",
    "arr = [{\"a\":1,\"b\":2}, {\"a\":3,\"b\":4}] # 每个字典为一个记录\n",
    "print(pd.DataFrame(arr))\n",
    "\n",
    "arr = [[1,2],[3,4]]\n",
    "print(pd.DataFrame(arr, columns=['a','b'])) # columns指定列名"
   ]
  },
  {
   "cell_type": "markdown",
   "metadata": {},
   "source": [
    "**添加**：用append函数可以在当前DataFrame的尾部添加一行，添加的内容可以是列表、字典、Series；也可以将两个 DataFrame 表连接在一起。\n",
    "\n",
    "添加列可以直接给新列赋值，或者是使用insert方法在指定位置插入列。"
   ]
  },
  {
   "cell_type": "code",
   "execution_count": 24,
   "metadata": {},
   "outputs": [
    {
     "name": "stdout",
     "output_type": "stream",
     "text": [
      "    a   b\n",
      "0   1   2\n",
      "1  11  12\n",
      "2  21  22\n",
      "    a   b\n",
      "0   1   2\n",
      "1  11  12\n",
      "2   1   2\n",
      "3  11  12\n",
      "    x   a   b   c\n",
      "0   0   1   2   3\n",
      "1  10  11  12  13\n"
     ]
    }
   ],
   "source": [
    "# 添加\n",
    "df = pd.DataFrame([[1,2],[11,12]], columns=['a','b']) # 创建dataframe\n",
    "print(df.append({'a':21,'b':22}, ignore_index=True))# 在dataframe表末尾添加记录\n",
    "\n",
    "print(df.append(df, ignore_index=True))\n",
    "\n",
    "arr = [[1,2],[11,12]]\n",
    "df = pd.DataFrame(arr, columns=['a','b']) # 创建dataframe\n",
    "df['c'] = [3,13] # 添加新列c\n",
    "\n",
    "df.insert(0,'x',[0,10]) # 在开始位置插入新列x\n",
    "print(df)\n",
    "\n"
   ]
  },
  {
   "cell_type": "markdown",
   "metadata": {},
   "source": [
    "**删除**：用 drop方法可以删除 DataFrame的行和列。在删除列时，需要指定参数 axis=1；\n",
    "当该参数默认为0时，即删除行。drop方法支持删除一行/多行或一列/多列，在删除行时需要指定行的索引值。\n",
    "\n",
    "在删除列时需要指定列名，drop 方法默认返回删除列后的数据表，原表不变。当指定其参数inplace=True时，原数据表内容被修改。用del和pop方法也可以删除列。"
   ]
  },
  {
   "cell_type": "code",
   "execution_count": 25,
   "metadata": {},
   "outputs": [
    {
     "name": "stdout",
     "output_type": "stream",
     "text": [
      "   a  b\n",
      "0  1  2\n",
      "    b\n",
      "0   2\n",
      "1  12\n",
      "    b\n",
      "0   2\n",
      "1  12\n",
      "0     2\n",
      "1    12\n",
      "Name: b, dtype: int64\n",
      "    a\n",
      "0   1\n",
      "1  11\n"
     ]
    }
   ],
   "source": [
    "# 删除\n",
    "df = pd.DataFrame([[1,2],[11,12]], columns=['a','b'])\n",
    "print(df.drop(1)) # 删除第1行\n",
    "\n",
    "df = pd.DataFrame([[1,2],[11,12]], columns=['a','b'])\n",
    "print(df.drop('a', axis=1)) # 删除a列\n",
    "\n",
    "df = pd.DataFrame([[1,2],[11,12]], columns=['a','b'])\n",
    "del df['a']\n",
    "print(df)\n",
    "\n",
    "df = pd.DataFrame([[1,2],[11,12]], columns=['a','b'])\n",
    "print(df.pop('b')) # b作为函数返回值 \n",
    "print(df) # 查看数据表"
   ]
  },
  {
   "cell_type": "markdown",
   "metadata": {},
   "source": [
    "**索引**：DataFrame 中的索引包括行索引和列索引，其类型为 Pandas.Index，简称为 pd.Index。它的结构类似于数组，但其数据内容不可以修改（不允许单个修改，但可以对行索引或列索引整体重新赋值）。"
   ]
  },
  {
   "cell_type": "code",
   "execution_count": 5,
   "metadata": {},
   "outputs": [
    {
     "name": "stdout",
     "output_type": "stream",
     "text": [
      "       a  b\n",
      "line1  1  2\n",
      "line2  3  4\n",
      "Index(['line1', 'line2'], dtype='object')\n",
      "Index(['a', 'b'], dtype='object')\n",
      "    a  b\n",
      "l2  1  2\n",
      "l1  3  4\n",
      "    a  b\n",
      "l1  3  4\n",
      "l2  1  2\n"
     ]
    }
   ],
   "source": [
    "# 索引\n",
    "df = pd.DataFrame({\"a\":[1,3], \"b\":[2,4]}, index=['line1', 'line2'])\n",
    "print(df)\n",
    "print(df.index) # 显示行索引\n",
    "print(df.columns) # 显示列索引\n",
    "# 修改索引\n",
    "df.index=['l2','l1'] # 对行索引重新赋值\n",
    "print(df)\n",
    "\n",
    "print(df.sort_index())"
   ]
  },
  {
   "cell_type": "markdown",
   "metadata": {},
   "source": [
    "## 3.2数据存取\n",
    "\n",
    "DataFrame支持多种数据存取方式，包括对单个数据单元的存取、对整行整列的存取、迭代访问整个数据表等。"
   ]
  },
  {
   "cell_type": "markdown",
   "metadata": {},
   "source": [
    "### 3.2.1  访问数据表元素"
   ]
  },
  {
   "cell_type": "markdown",
   "metadata": {},
   "source": [
    "**访问列**：在访问列时，可以指定单个列名访问一列，返回 Series 类型数据，其中第一列是行的索引值，第二列 values 值是该字段的具体值；也可以使用列名数据访问多列，返回DataFrame类型数据，是原DataFrame的子集。"
   ]
  },
  {
   "cell_type": "code",
   "execution_count": 14,
   "metadata": {},
   "outputs": [
    {
     "name": "stdout",
     "output_type": "stream",
     "text": [
      "    a   b\n",
      "0   1   2\n",
      "1  11  12\n",
      "0     1\n",
      "1    11\n",
      "Name: a, dtype: int64\n",
      "    a   b\n",
      "0   1   2\n",
      "1  11  12\n"
     ]
    }
   ],
   "source": [
    "# 访问列\n",
    "df = pd.DataFrame([[1,2],[11,12]], columns=['a','b'])\n",
    "print(df)\n",
    "print(df['a']) # 用列名访问\n",
    "print(df[['a','b']]) # 用列名数据访问多列"
   ]
  },
  {
   "cell_type": "markdown",
   "metadata": {},
   "source": [
    "**访问行**：使用指定索引切片的方式访问行，返回的结果也是DataFrame。"
   ]
  },
  {
   "cell_type": "code",
   "execution_count": 12,
   "metadata": {},
   "outputs": [
    {
     "name": "stdout",
     "output_type": "stream",
     "text": [
      "   a  b\n",
      "0  1  2\n",
      "<class 'pandas.core.frame.DataFrame'>\n"
     ]
    }
   ],
   "source": [
    "# 访问行\n",
    "print(df[:1]) # 用切片方式访问多行\n",
    "print(type(df[:1])) # 显示返回值类型"
   ]
  },
  {
   "cell_type": "markdown",
   "metadata": {},
   "source": [
    "**条件判断**：通过条件判断返回Series，其索引为数据表的索引值，其值为bool值。如果将该Series作为行索引，则筛选其值为True的所有行。"
   ]
  },
  {
   "cell_type": "code",
   "execution_count": 8,
   "metadata": {},
   "outputs": [
    {
     "name": "stdout",
     "output_type": "stream",
     "text": [
      "    a   b\n",
      "0   1   2\n",
      "1  11  12\n",
      "0    False\n",
      "1     True\n",
      "Name: a, dtype: bool\n",
      "    a   b\n",
      "1  11  12\n",
      "    a   b\n",
      "1  11  12\n"
     ]
    }
   ],
   "source": [
    "# 条件筛选记录\n",
    "print(df)\n",
    "print(df['a']==11)\n",
    "print(df[df['a'] == 11]) # 筛选数据表中a值为11的所有行\n",
    "print(df[(df['a'] > 10) & (df['a'] < 20)]) # 筛选a值在10-20之间的所有记录"
   ]
  },
  {
   "cell_type": "markdown",
   "metadata": {},
   "source": [
    "**访问元素**：访问具体某行和某列的值分别使用loc方法和iloc方法，二者的区别在于loc方法在访问数据时使用行索引名和列名，iloc方法在访问数据时使用行下标和列下标。"
   ]
  },
  {
   "cell_type": "code",
   "execution_count": 13,
   "metadata": {},
   "outputs": [
    {
     "name": "stdout",
     "output_type": "stream",
     "text": [
      "1\n",
      "    b\n",
      "0   2\n",
      "1  12\n",
      "   a\n",
      "0  1\n",
      "***************\n",
      "2\n",
      "        a   b\n",
      "item1   1   2\n",
      "item2  11  12\n",
      "        a   b\n",
      "item1   1   2\n",
      "item2  11  12\n",
      "        a   b\n",
      "item2  11  12\n"
     ]
    }
   ],
   "source": [
    "# 访问具体元素\n",
    "df = pd.DataFrame([[1,2],[11,12]], columns=['a','b'])\n",
    "print(df.iloc[0,0]) # 用下标注访问数据\n",
    "print(df.iloc[[0,1],[1]]) # 指定下标数组\n",
    "print(df.iloc[[0],:1]) # 指定下标切片\n",
    "\n",
    "print('***************')\n",
    "df = pd.DataFrame([[1,2],[11,12]], columns=['a','b'], index=['item1','item2'])\n",
    "print(df.loc['item1','b']) # 访问单个元素\n",
    "print(df.loc[['item1','item2'], ['a','b']])# 用列表指定访问范围\n",
    "print(df.loc['item1':'item2', ]) # 用切片指定访问范围\n",
    "\n",
    "print(df.loc[df['a']==11,])"
   ]
  },
  {
   "cell_type": "markdown",
   "metadata": {},
   "source": [
    "### 3.2.2  修改数据表元素"
   ]
  },
  {
   "cell_type": "markdown",
   "metadata": {},
   "source": [
    "**修改索引**：使用给columns赋值的方法可修改列名。需要指定所有列的名称；只能修改列名，不能修改数据表内容。使用rename方法修改列名，可用字典方法只描述被修改的列，而不影响其他列。\n",
    "\n",
    "修改行索引值的方法与修改列名的方法类似，可以使用直接对行索引赋值的方法或是rename方法。"
   ]
  },
  {
   "cell_type": "code",
   "execution_count": 31,
   "metadata": {},
   "outputs": [
    {
     "name": "stdout",
     "output_type": "stream",
     "text": [
      "    c   a\n",
      "0   2   1\n",
      "1  12  11\n",
      "    d   a\n",
      "0   2   1\n",
      "1  12  11\n",
      "    c   a\n",
      "7   2   1\n",
      "8  12  11\n",
      "    c   a\n",
      "x   2   1\n",
      "y  12  11\n"
     ]
    }
   ],
   "source": [
    "# 修改列名\n",
    "df = pd.DataFrame([[1,2],[11,12]], columns=['a','b'])\n",
    "df.columns = ['a','c'] # 重置列名\n",
    "\n",
    "df = df[['c','a']]\n",
    "print(df)\n",
    "print(df.rename(columns = {'c':'d'}))\n",
    "\n",
    "# 修改行索引\n",
    "df.index = [7,8]\n",
    "print(df)\n",
    "print(df.rename({7:'x', 8:'y'},axis = 0))"
   ]
  },
  {
   "cell_type": "markdown",
   "metadata": {},
   "source": [
    "**修改元素值**：通过loc指定索引值的方法对某一行、某一列或某一元素赋值。"
   ]
  },
  {
   "cell_type": "code",
   "execution_count": 32,
   "metadata": {},
   "outputs": [
    {
     "name": "stdout",
     "output_type": "stream",
     "text": [
      "    a   b\n",
      "0   4   3\n",
      "1  14  13\n",
      "    a   b\n",
      "0  21  22\n",
      "1  14  13\n",
      "    a   b\n",
      "0  32  22\n",
      "1  14  13\n",
      "    a   b\n",
      "0   1   2\n",
      "1  11  10\n"
     ]
    }
   ],
   "source": [
    "# 修改数据表内容\n",
    "df = pd.DataFrame([[1,2],[11,12]], columns=['a','b'])\n",
    "df['b'] = [3,13] # 修改b列的值\n",
    "df.loc[:,'a'] = [4,14] # 修改a列的值\n",
    "print(df)\n",
    "\n",
    "df.loc[0] = {'a':21,'b':22}\n",
    "print(df)\n",
    "\n",
    "df.loc[0,'a'] = 32\n",
    "print(df)\n",
    "\n",
    "df = pd.DataFrame([[1,2],[11,12]], columns=['a','b'])\n",
    "df.loc[df['b'] > 10, 'b'] = 10\n",
    "print(df)"
   ]
  },
  {
   "cell_type": "markdown",
   "metadata": {},
   "source": [
    "**apply函数**：用 DataFrame的apply函数可批量修改表中的数据。除lambda表达式以外，apply 函数还支持调用函数，以实现更复杂的计算"
   ]
  },
  {
   "cell_type": "code",
   "execution_count": 33,
   "metadata": {},
   "outputs": [
    {
     "name": "stdout",
     "output_type": "stream",
     "text": [
      "     a      b\n",
      "0    1  False\n",
      "1  121   True\n"
     ]
    }
   ],
   "source": [
    "# 批量修改\n",
    "df = pd.DataFrame([[1,2],[11,12]], columns=['a','b'])\n",
    "df['a'] = df['a'].apply(lambda x: x*x) # 修改a列\n",
    "df['b'] = df['b'].apply(lambda x: True if x > 10 else False) # 修改b列\n",
    "print(df)\n"
   ]
  },
  {
   "cell_type": "code",
   "execution_count": null,
   "metadata": {},
   "outputs": [],
   "source": []
  }
 ],
 "metadata": {
  "kernelspec": {
   "display_name": "Python 3",
   "language": "python",
   "name": "python3"
  },
  "language_info": {
   "codemirror_mode": {
    "name": "ipython",
    "version": 3
   },
   "file_extension": ".py",
   "mimetype": "text/x-python",
   "name": "python",
   "nbconvert_exporter": "python",
   "pygments_lexer": "ipython3",
   "version": "3.8.8"
  }
 },
 "nbformat": 4,
 "nbformat_minor": 4
}
