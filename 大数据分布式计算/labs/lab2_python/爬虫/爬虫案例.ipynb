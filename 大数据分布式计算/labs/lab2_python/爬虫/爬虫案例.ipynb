{
 "cells": [
  {
   "cell_type": "code",
   "execution_count": 1,
   "metadata": {},
   "outputs": [
    {
     "name": "stdout",
     "output_type": "stream",
     "text": [
      "连接成功->\n",
      "开始创建表->\n",
      "完成表的创建,开始插入数据->\n",
      "插入数据完成\n"
     ]
    }
   ],
   "source": [
    "import re\n",
    "import requests\n",
    "import sqlite3\n",
    "from bs4 import BeautifulSoup\n",
    "qy = open('db.txt',mode='a',encoding='utf-8')#这里是要存入的文件目录\n",
    "movies = []\n",
    "## 由于网页的分页机制，每次只能获取25条结果,这里设置为获取前50的结果，因此需要循环两次\n",
    "for i in range(0,2):\n",
    "    headers = {#这里模拟浏览器进行访问\n",
    "        'user-agent': 'Mozilla/5.0 (Windows NT 6.1; Win64; x64) AppleWebKit/537.36 (KHTML, like Gecko) Chrome/52.0.2743.82 Safari/537.36',\n",
    "        'Host': 'movie.douban.com'\n",
    "    }     \n",
    "    res = 'https://movie.douban.com/top250?start='+str(25*i)#25次\n",
    "    r = requests.get(res, headers=headers, timeout=10)#设置超时时间\n",
    "    soup = BeautifulSoup(r.text, \"html.parser\")#设置解析方式,也可以使用其他方式。\n",
    "    div_list = soup.find_all('div', class_='item')\n",
    "    for each in div_list:\n",
    "        movie = {}\n",
    "        moviename = each.find('div', class_='hd').a.span.text.strip()\n",
    "        movie['title'] = moviename\n",
    "        rank = each.find('div', class_='pic').em.text.strip()\n",
    "        movie['rank'] = rank\n",
    "        info = each.find('div', class_='bd').p.text.strip()\n",
    "        info = info.replace('\\n', \"\")\n",
    "        info = info.replace(\" \", \"\")\n",
    "        info = info.replace(\"\\xa0\", \"\")\n",
    "        director = re.findall(r'[导演:].+[主演:]', info)[0]\n",
    "        director = director[3:len(director) - 3]\n",
    "        movie['director'] = director\n",
    "        release_date = re.findall(r'[0-9]{4}', info)[0]\n",
    "        movie['release_date'] = release_date\n",
    "        plot = re.findall(r'[0-9]*[/].+[/].+', info)[0]\n",
    "        plot = plot[1:]\n",
    "        #print(plot)\n",
    "        plot = plot[plot.index('/') + 1:]\n",
    "        #print(plot)\n",
    "        plot = plot[plot.index('/') + 1:]\n",
    "        #print(plot)\n",
    "        movie['plot'] = plot\n",
    "        star = each.find('div', class_='star')\n",
    "        star = star.find('span', class_='rating_num').text.strip()\n",
    "        movie['star'] = star\n",
    "        movies.append(movie)\n",
    "        print(movie,file=qy)#保存到文件中\n",
    "con = sqlite3.connect('movie_review.db')\n",
    "print('连接成功->')\n",
    "print('开始创建表->')\n",
    "cursor= con.cursor()\n",
    "cursor.execute(\"\"\"create table if not exists douban \n",
    "                ( title char(40),\n",
    "                  ranks char(40),\n",
    "                  director char(40),\n",
    "                  release_date char(40), \n",
    "                  plot char(100),\n",
    "                  star char(40))\n",
    "               \"\"\")\n",
    "print('完成表的创建,开始插入数据->')#下面开始插入数据\n",
    "for i in movies:\n",
    "    cursor.execute(\"insert into douban(title,ranks,director,release_date,plot,star) values(?,?,?,?,?,?)\",(i['title'],i['rank'],i['director'],\n",
    "                   i['release_date'],i['plot'],i['star']))\n",
    "print('插入数据完成')\n",
    "cursor.execute(\"drop table douban\")\n",
    "cursor.close()\n",
    "con.commit()\n",
    "con.close()\n",
    "qy.close()"
   ]
  },
  {
   "cell_type": "code",
   "execution_count": null,
   "metadata": {},
   "outputs": [],
   "source": []
  }
 ],
 "metadata": {
  "kernelspec": {
   "display_name": "Python 3",
   "language": "python",
   "name": "python3"
  },
  "language_info": {
   "codemirror_mode": {
    "name": "ipython",
    "version": 3
   },
   "file_extension": ".py",
   "mimetype": "text/x-python",
   "name": "python",
   "nbconvert_exporter": "python",
   "pygments_lexer": "ipython3",
   "version": "3.8.6"
  }
 },
 "nbformat": 4,
 "nbformat_minor": 4
}
