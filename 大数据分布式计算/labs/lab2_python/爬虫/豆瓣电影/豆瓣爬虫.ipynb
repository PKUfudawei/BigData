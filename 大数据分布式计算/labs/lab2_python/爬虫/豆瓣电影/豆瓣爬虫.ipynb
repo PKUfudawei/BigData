{
 "cells": [
  {
   "cell_type": "markdown",
   "metadata": {},
   "source": [
    "豆瓣高热电影数据爬取和分析\n",
    "组员：宁顺磊 1901210052  何雄博 1901210049"
   ]
  },
  {
   "cell_type": "markdown",
   "metadata": {},
   "source": [
    "首先通过'getting_douban_id.py'和'getting_movie_data.py'爬取豆瓣电影的数据：前者使用豆瓣自身的查询系统，对 \"https://movie.douban.com/j/new_search_subjects?sort=T&range=0,10&limit=100&tags=&start={}\" 发出请求以获得豆瓣记录的电影的编号，其中'sort=T'表示按照标记最多的顺序，'range=0,10'表示评分在0到10之间，'limit=100'表示一次返回100项，'start'变量表示每次查找的起始位置，据此查询99次，即9900项，得到的数据记录在表'douban.csv'中；后者根据得到的9900个电影的编号，爬取电影详情页 \"https://movie.douban.com/subject/{}/\" ，'{}'替换为电影在豆瓣的编号，即可整理得到电影标题（name），评分（ge），评价数量（number），年份（year），导演（director），编剧（writer），主演（act），片长（length），类型（type），地区（region）等数据，存于'douban_mv.csv'中，可进行统计分析。"
   ]
  },
  {
   "cell_type": "markdown",
   "metadata": {},
   "source": [
    "遇到的问题有：\n",
    "1. 在对电影详情页进行爬取时，会产生两种缺失：未上映的电影没有评价数量，代码运行中体现为爬取评价数量时报错；一些电影详情页的HTML中片长的格式不一致（是无标识符的独立文本）或未给出，代码运行中体现为爬取片长时报错。最终实际得到的电影数量为9801。\n",
    "2. 用单个id进行爬取时，容易被豆瓣封禁ip，因此采取了随机cookie，headers以及每次爬取之间设置较长间隔的方式"
   ]
  },
  {
   "cell_type": "markdown",
   "metadata": {},
   "source": [
    "载入数据"
   ]
  },
  {
   "cell_type": "code",
   "execution_count": 6,
   "metadata": {},
   "outputs": [],
   "source": [
    "import pandas as pd\n",
    "data = pd.read_csv(\"./Desktop/douban_mv.csv\")"
   ]
  },
  {
   "cell_type": "markdown",
   "metadata": {},
   "source": [
    "我们首先对高热度电影的年份分布进行了分析，柱状图显示高热度电影分布在80年代之后，而1994年有近300部电影，显著高于邻近年份，这也与电影史相符，由于1995年是电影诞生100周年，因此这一年全世界范围内的好电影喷薄而出，如《肖申克的救赎》，《阿甘正传》，《这个杀手不太冷》和《饮食男女》等经典影片，94年也被称为电影大片之年。"
   ]
  },
  {
   "cell_type": "code",
   "execution_count": 171,
   "metadata": {},
   "outputs": [
    {
     "data": {
      "text/plain": [
       "<matplotlib.axes._subplots.AxesSubplot at 0x16efff4e208>"
      ]
     },
     "execution_count": 171,
     "metadata": {},
     "output_type": "execute_result"
    },
    {
     "data": {
      "image/png": "[encoded data removed]",
      "text/plain": [
       "<matplotlib.figure.Figure at 0x16f373f0b38>"
      ]
     },
     "metadata": {
      "needs_background": "light"
     },
     "output_type": "display_data"
    }
   ],
   "source": [
    "data['year'].hist(bins=100)"
   ]
  },
  {
   "cell_type": "markdown",
   "metadata": {},
   "source": [
    "评分分布"
   ]
  },
  {
   "cell_type": "markdown",
   "metadata": {},
   "source": [
    "数据中电影评分呈偏态分布，主要集中在4-9分，比较有意思的是低分高热电影的比例并不低。"
   ]
  },
  {
   "cell_type": "code",
   "execution_count": 172,
   "metadata": {},
   "outputs": [
    {
     "data": {
      "text/plain": [
       "<matplotlib.axes._subplots.AxesSubplot at 0x16ed83d4e48>"
      ]
     },
     "execution_count": 172,
     "metadata": {},
     "output_type": "execute_result"
    },
    {
     "data": {
      "image/png": "[encoded data removed]",
      "text/plain": [
       "<matplotlib.figure.Figure at 0x16f3920aac8>"
      ]
     },
     "metadata": {
      "needs_background": "light"
     },
     "output_type": "display_data"
    }
   ],
   "source": [
    "data['ge'].hist()"
   ]
  },
  {
   "cell_type": "markdown",
   "metadata": {},
   "source": [
    "编剧分布"
   ]
  },
  {
   "cell_type": "code",
   "execution_count": 7,
   "metadata": {
    "scrolled": true
   },
   "outputs": [
    {
     "data": {
      "text/html": [
       "<div>\n",
       "<style scoped>\n",
       "    .dataframe tbody tr th:only-of-type {\n",
       "        vertical-align: middle;\n",
       "    }\n",
       "\n",
       "    .dataframe tbody tr th {\n",
       "        vertical-align: top;\n",
       "    }\n",
       "\n",
       "    .dataframe thead th {\n",
       "        text-align: right;\n",
       "    }\n",
       "</style>\n",
       "<table border=\"1\" class=\"dataframe\">\n",
       "  <thead>\n",
       "    <tr style=\"text-align: right;\">\n",
       "      <th></th>\n",
       "      <th>writer</th>\n",
       "      <th>count</th>\n",
       "    </tr>\n",
       "  </thead>\n",
       "  <tbody>\n",
       "    <tr>\n",
       "      <th>469</th>\n",
       "      <td>王晶</td>\n",
       "      <td>112</td>\n",
       "    </tr>\n",
       "    <tr>\n",
       "      <th>5</th>\n",
       "      <td>吕克·贝松</td>\n",
       "      <td>44</td>\n",
       "    </tr>\n",
       "    <tr>\n",
       "      <th>1082</th>\n",
       "      <td>伍迪·艾伦</td>\n",
       "      <td>41</td>\n",
       "    </tr>\n",
       "    <tr>\n",
       "      <th>943</th>\n",
       "      <td>藤子·F·不二雄</td>\n",
       "      <td>40</td>\n",
       "    </tr>\n",
       "    <tr>\n",
       "      <th>570</th>\n",
       "      <td>徐克</td>\n",
       "      <td>39</td>\n",
       "    </tr>\n",
       "    <tr>\n",
       "      <th>1461</th>\n",
       "      <td>青山刚昌</td>\n",
       "      <td>33</td>\n",
       "    </tr>\n",
       "    <tr>\n",
       "      <th>59</th>\n",
       "      <td>刘镇伟</td>\n",
       "      <td>33</td>\n",
       "    </tr>\n",
       "    <tr>\n",
       "      <th>885</th>\n",
       "      <td>游乃海</td>\n",
       "      <td>33</td>\n",
       "    </tr>\n",
       "    <tr>\n",
       "      <th>124</th>\n",
       "      <td>谷德昭</td>\n",
       "      <td>32</td>\n",
       "    </tr>\n",
       "    <tr>\n",
       "      <th>1109</th>\n",
       "      <td>阮世生</td>\n",
       "      <td>31</td>\n",
       "    </tr>\n",
       "  </tbody>\n",
       "</table>\n",
       "</div>"
      ],
      "text/plain": [
       "        writer  count\n",
       "469         王晶    112\n",
       "5        吕克·贝松     44\n",
       "1082     伍迪·艾伦     41\n",
       "943   藤子·F·不二雄     40\n",
       "570         徐克     39\n",
       "1461      青山刚昌     33\n",
       "59         刘镇伟     33\n",
       "885        游乃海     33\n",
       "124        谷德昭     32\n",
       "1109       阮世生     31"
      ]
     },
     "execution_count": 7,
     "metadata": {},
     "output_type": "execute_result"
    }
   ],
   "source": [
    "from collections import Counter\n",
    "writers = list(data['writer'].values)\n",
    "\n",
    "l = []\n",
    "for w in writers:\n",
    "    l.extend(str(w).split(\",\"))\n",
    "    \n",
    "c = Counter(l)\n",
    "k=list(c.keys())\n",
    "v=list(c.values())\n",
    "count=pd.DataFrame({'writer':k,'count':v})\n",
    "total = count.sort_values(by='count',ascending=False)\n",
    "total[0:10]"
   ]
  },
  {
   "cell_type": "markdown",
   "metadata": {},
   "source": [
    "主演分布"
   ]
  },
  {
   "cell_type": "code",
   "execution_count": null,
   "metadata": {},
   "outputs": [],
   "source": [
    "出现次数前十的主演全部来自中国香港，反映了香港电影的影响力"
   ]
  },
  {
   "cell_type": "code",
   "execution_count": 8,
   "metadata": {},
   "outputs": [
    {
     "data": {
      "text/html": [
       "<div>\n",
       "<style scoped>\n",
       "    .dataframe tbody tr th:only-of-type {\n",
       "        vertical-align: middle;\n",
       "    }\n",
       "\n",
       "    .dataframe tbody tr th {\n",
       "        vertical-align: top;\n",
       "    }\n",
       "\n",
       "    .dataframe thead th {\n",
       "        text-align: right;\n",
       "    }\n",
       "</style>\n",
       "<table border=\"1\" class=\"dataframe\">\n",
       "  <thead>\n",
       "    <tr style=\"text-align: right;\">\n",
       "      <th></th>\n",
       "      <th>actor</th>\n",
       "      <th>count</th>\n",
       "    </tr>\n",
       "  </thead>\n",
       "  <tbody>\n",
       "    <tr>\n",
       "      <th>1184</th>\n",
       "      <td>林雪</td>\n",
       "      <td>124</td>\n",
       "    </tr>\n",
       "    <tr>\n",
       "      <th>800</th>\n",
       "      <td>刘德华</td>\n",
       "      <td>118</td>\n",
       "    </tr>\n",
       "    <tr>\n",
       "      <th>803</th>\n",
       "      <td>曾志伟</td>\n",
       "      <td>114</td>\n",
       "    </tr>\n",
       "    <tr>\n",
       "      <th>802</th>\n",
       "      <td>黄秋生</td>\n",
       "      <td>96</td>\n",
       "    </tr>\n",
       "    <tr>\n",
       "      <th>1370</th>\n",
       "      <td>任达华</td>\n",
       "      <td>93</td>\n",
       "    </tr>\n",
       "    <tr>\n",
       "      <th>2608</th>\n",
       "      <td>梁家辉</td>\n",
       "      <td>85</td>\n",
       "    </tr>\n",
       "    <tr>\n",
       "      <th>3961</th>\n",
       "      <td>古天乐</td>\n",
       "      <td>84</td>\n",
       "    </tr>\n",
       "    <tr>\n",
       "      <th>2531</th>\n",
       "      <td>吴君如</td>\n",
       "      <td>82</td>\n",
       "    </tr>\n",
       "    <tr>\n",
       "      <th>1257</th>\n",
       "      <td>成龙</td>\n",
       "      <td>81</td>\n",
       "    </tr>\n",
       "  </tbody>\n",
       "</table>\n",
       "</div>"
      ],
      "text/plain": [
       "     actor  count\n",
       "1184    林雪    124\n",
       "800    刘德华    118\n",
       "803    曾志伟    114\n",
       "802    黄秋生     96\n",
       "1370   任达华     93\n",
       "2608   梁家辉     85\n",
       "3961   古天乐     84\n",
       "2531   吴君如     82\n",
       "1257    成龙     81"
      ]
     },
     "execution_count": 8,
     "metadata": {},
     "output_type": "execute_result"
    }
   ],
   "source": [
    "\n",
    "actors = list(data['act'].values)\n",
    "\n",
    "l = []\n",
    "for w in actors:\n",
    "    l.extend(str(w).split(\",\"))\n",
    "    \n",
    "c = Counter(l)\n",
    "k=list(c.keys())\n",
    "v=list(c.values())\n",
    "count=pd.DataFrame({'actor':k,'count':v})\n",
    "total = count.sort_values(by='count',ascending=False)\n",
    "total[1:10]"
   ]
  },
  {
   "cell_type": "markdown",
   "metadata": {},
   "source": [
    "导演分布"
   ]
  },
  {
   "cell_type": "code",
   "execution_count": 9,
   "metadata": {},
   "outputs": [
    {
     "data": {
      "text/html": [
       "<div>\n",
       "<style scoped>\n",
       "    .dataframe tbody tr th:only-of-type {\n",
       "        vertical-align: middle;\n",
       "    }\n",
       "\n",
       "    .dataframe tbody tr th {\n",
       "        vertical-align: top;\n",
       "    }\n",
       "\n",
       "    .dataframe thead th {\n",
       "        text-align: right;\n",
       "    }\n",
       "</style>\n",
       "<table border=\"1\" class=\"dataframe\">\n",
       "  <thead>\n",
       "    <tr style=\"text-align: right;\">\n",
       "      <th></th>\n",
       "      <th>director</th>\n",
       "      <th>count</th>\n",
       "    </tr>\n",
       "  </thead>\n",
       "  <tbody>\n",
       "    <tr>\n",
       "      <th>188</th>\n",
       "      <td>王晶</td>\n",
       "      <td>73</td>\n",
       "    </tr>\n",
       "    <tr>\n",
       "      <th>346</th>\n",
       "      <td>杜琪峰</td>\n",
       "      <td>48</td>\n",
       "    </tr>\n",
       "    <tr>\n",
       "      <th>431</th>\n",
       "      <td>伍迪·艾伦</td>\n",
       "      <td>40</td>\n",
       "    </tr>\n",
       "    <tr>\n",
       "      <th>225</th>\n",
       "      <td>徐克</td>\n",
       "      <td>35</td>\n",
       "    </tr>\n",
       "    <tr>\n",
       "      <th>242</th>\n",
       "      <td>邱礼涛</td>\n",
       "      <td>32</td>\n",
       "    </tr>\n",
       "    <tr>\n",
       "      <th>41</th>\n",
       "      <td>刘伟强</td>\n",
       "      <td>31</td>\n",
       "    </tr>\n",
       "    <tr>\n",
       "      <th>29</th>\n",
       "      <td>史蒂文·斯皮尔伯格</td>\n",
       "      <td>28</td>\n",
       "    </tr>\n",
       "    <tr>\n",
       "      <th>23</th>\n",
       "      <td>刘镇伟</td>\n",
       "      <td>26</td>\n",
       "    </tr>\n",
       "    <tr>\n",
       "      <th>133</th>\n",
       "      <td>张艺谋</td>\n",
       "      <td>23</td>\n",
       "    </tr>\n",
       "    <tr>\n",
       "      <th>197</th>\n",
       "      <td>陈嘉上</td>\n",
       "      <td>23</td>\n",
       "    </tr>\n",
       "    <tr>\n",
       "      <th>3027</th>\n",
       "      <td>芝山努</td>\n",
       "      <td>22</td>\n",
       "    </tr>\n",
       "  </tbody>\n",
       "</table>\n",
       "</div>"
      ],
      "text/plain": [
       "       director  count\n",
       "188          王晶     73\n",
       "346         杜琪峰     48\n",
       "431       伍迪·艾伦     40\n",
       "225          徐克     35\n",
       "242         邱礼涛     32\n",
       "41          刘伟强     31\n",
       "29    史蒂文·斯皮尔伯格     28\n",
       "23          刘镇伟     26\n",
       "133         张艺谋     23\n",
       "197         陈嘉上     23\n",
       "3027        芝山努     22"
      ]
     },
     "execution_count": 9,
     "metadata": {},
     "output_type": "execute_result"
    }
   ],
   "source": [
    "director = list(data['director'].values)\n",
    "l = []\n",
    "for w in director:\n",
    "    l.extend(str(w).split(\",\"))\n",
    " \n",
    "c_d = Counter(l)\n",
    "k=list(c_d.keys())\n",
    "v=list(c_d.values())\n",
    "count_d=pd.DataFrame({'director':k,'count':v})\n",
    "top = count_d.sort_values(by='count',ascending=False)\n",
    "top[0:11]"
   ]
  },
  {
   "cell_type": "markdown",
   "metadata": {},
   "source": [
    "制片国家/地区分布"
   ]
  },
  {
   "cell_type": "code",
   "execution_count": 13,
   "metadata": {
    "scrolled": true
   },
   "outputs": [
    {
     "data": {
      "image/png": "[encoded data removed]",
      "text/plain": [
       "<Figure size 432x288 with 1 Axes>"
      ]
     },
     "metadata": {},
     "output_type": "display_data"
    }
   ],
   "source": [
    "import matplotlib.pyplot as plt\n",
    "plt.rcParams['font.sans-serif']=['SimHei']\n",
    "region = list(data['region'].values)\n",
    "l = []\n",
    "for w in region:\n",
    "    l.extend(str(w).split(\",\"))\n",
    " \n",
    "c_d = Counter(l)\n",
    "k=list(c_d.keys())\n",
    "v=list(c_d.values())\n",
    "count_d=pd.DataFrame({'region':k,'count':v})\n",
    "top = count_d.sort_values(by='count',ascending=False)\n",
    "top_region = top[0:10]\n",
    "labels = list(top_region['region'].values)\n",
    "sizes = list(top_region['count'].values)\n",
    "explode = (0.1,0,0,0,0,0,0,0,0,0)\n",
    "plt.pie(sizes,explode=explode,labels = labels,autopct='%1.1f%%',shadow = True,startangle=150)\n",
    "plt.show()"
   ]
  },
  {
   "cell_type": "markdown",
   "metadata": {},
   "source": [
    "类型分布"
   ]
  },
  {
   "cell_type": "code",
   "execution_count": 14,
   "metadata": {},
   "outputs": [
    {
     "data": {
      "image/png": "[encoded data removed]",
      "text/plain": [
       "<Figure size 432x288 with 1 Axes>"
      ]
     },
     "metadata": {},
     "output_type": "display_data"
    }
   ],
   "source": [
    "types = list(data['type'].values)\n",
    "l = []\n",
    "for w in types:\n",
    "    l.extend(str(w).split(\",\"))\n",
    " \n",
    "c_d = Counter(l)\n",
    "k=list(c_d.keys())\n",
    "v=list(c_d.values())\n",
    "count_d=pd.DataFrame({'types':k,'count':v})\n",
    "top = count_d.sort_values(by='count',ascending=False)\n",
    "top_region = top[0:10]\n",
    "labels = list(top_region['types'].values)\n",
    "sizes = list(top_region['count'].values)\n",
    "explode = (0.1,0,0,0,0,0,0,0,0,0)\n",
    "plt.pie(sizes,explode=explode,labels = labels,autopct='%1.1f%%',shadow = True,startangle=150)\n",
    "plt.show()"
   ]
  },
  {
   "cell_type": "markdown",
   "metadata": {},
   "source": [
    "评分和评价人数在各年的分布"
   ]
  },
  {
   "cell_type": "markdown",
   "metadata": {},
   "source": [
    "我们对各年份电影的评分和评论人数进行了分析，为了对这两个指标进行对比，我们对其按年份进行了标准化。结果显示，标准评论人数随年份总体呈上升趋势，而标准评分则随年份呈下降趋势。"
   ]
  },
  {
   "cell_type": "code",
   "execution_count": null,
   "metadata": {},
   "outputs": [],
   "source": [
    "plt.title('各年份评分分布')\n",
    "plt.rcParams['font.sans-serif'] = ['SimHei']\n",
    "plt.xlabel('year')\n",
    "plt.ylabel('value')\n",
    "x=data.groupby('year')['number','ge'].mean()\n",
    "s=(x-x.mean())/x.std()\n",
    "year = s.index\n",
    "plt.plot(year, list(s['ge'].values), marker='o', markersize=3)\n",
    "plt.plot(year, list(s['number'].values), marker='o', markersize=3)\n",
    "plt.legend(['评分','评论人数'])\n",
    "plt.show()"
   ]
  },
  {
   "cell_type": "markdown",
   "metadata": {},
   "source": [
    "评分和评价人数在各地区分布"
   ]
  },
  {
   "cell_type": "markdown",
   "metadata": {},
   "source": [
    "同样我们选取了出现频次最高的是个制片国家/地区，并对其评分分布进行了分析。标准评分最高的为德国，最低的为中国大陆，而标准评论人数最高的为中国大陆，最低的为加拿大。\n",
    "\n",
    "由于豆瓣的用户主要集中在中国大陆，因此中国大陆的电影虽然质量层次不齐，但是更容易受到用户关注，因此评论人数和评分两极分化。"
   ]
  },
  {
   "cell_type": "code",
   "execution_count": 23,
   "metadata": {},
   "outputs": [
    {
     "data": {
      "image/png": "[encoded data removed]",
      "text/plain": [
       "<Figure size 432x288 with 1 Axes>"
      ]
     },
     "metadata": {
      "needs_background": "light"
     },
     "output_type": "display_data"
    }
   ],
   "source": [
    "plt.title('各地区评分分布')\n",
    "plt.rcParams['font.sans-serif'] = ['SimHei']\n",
    "plt.xlabel('region')\n",
    "plt.ylabel('value')\n",
    "top_region = ['美国', '中国大陆', '中国香港', '日本', '英国', '法国', '韩国', '德国', '加拿大', '中国台湾']\n",
    "dt = data[(data['region']=='美国')|(data['region']=='中国大陆')|(data['region']=='中国香港')|(data['region']=='日本')|(data['region']=='英国')|(data['region']=='法国')|(data['region']=='韩国')|(data['region']=='德国')|(data['region']=='加拿大')|(data['region']=='中国台湾')]\n",
    "x=dt.groupby('region')['number','ge'].mean()\n",
    "s=(x-x.mean())/x.std()\n",
    "year = s.index\n",
    "plt.plot(year, list(s['ge'].values), marker='o', markersize=3)\n",
    "plt.plot(year, list(s['number'].values), marker='o', markersize=3)\n",
    "plt.legend(['评分','评论人数'])\n",
    "plt.show()"
   ]
  }
 ],
 "metadata": {
  "kernelspec": {
   "display_name": "Python 3",
   "language": "python",
   "name": "python3"
  },
  "language_info": {
   "codemirror_mode": {
    "name": "ipython",
    "version": 3
   },
   "file_extension": ".py",
   "mimetype": "text/x-python",
   "name": "python",
   "nbconvert_exporter": "python",
   "pygments_lexer": "ipython3",
   "version": "3.6.4"
  }
 },
 "nbformat": 4,
 "nbformat_minor": 2
}
