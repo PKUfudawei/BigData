{
 "cells": [
  {
   "cell_type": "markdown",
   "metadata": {},
   "source": [
    "# Neo4j案例——《权力的游戏》人物关系分析"
   ]
  },
  {
   "cell_type": "markdown",
   "metadata": {},
   "source": [
    "**数据来源：**《Network of Thrones》Andrew Beveridge and Jie Shan\n",
    "- https://www.maa.org/sites/default/files/pdf/Mathhorizons/NetworkofThrones.pdf\n",
    "- stormofswords.csv"
   ]
  },
  {
   "cell_type": "markdown",
   "metadata": {},
   "source": [
    "**数据模型：**(:Character {name})-[:INTERACTS {weight}]->(:Character {name})\n",
    "- 带有标签Character的节点代表小说中的角色\n",
    "- 用单向关系类型INTERACTS代表小说中的角色有过接触\n",
    "- 节点属性会存储角色的名字name\n",
    "- 两角色间接触的次数作为关系的属性——权重weight"
   ]
  },
  {
   "cell_type": "markdown",
   "metadata": {},
   "source": [
    "## Outline\n",
    "1. 导入原始数据\n",
    "2. 人物网络分析（人物数量、最短路径、关键节点、节点中心度）\n",
    "3. 使用python-igraph（PageRank、社区发现算法）"
   ]
  },
  {
   "cell_type": "code",
   "execution_count": 1,
   "metadata": {},
   "outputs": [
    {
     "name": "stdout",
     "output_type": "stream",
     "text": [
      "Looking in indexes: https://pypi.tuna.tsinghua.edu.cn/simple\n",
      "Requirement already satisfied: py2neo in ./.local/lib/python3.8/site-packages (2021.2.3)\n",
      "Requirement already satisfied: certifi in ./.local/lib/python3.8/site-packages (from py2neo) (2022.9.24)\n",
      "Requirement already satisfied: pansi>=2020.7.3 in ./.local/lib/python3.8/site-packages (from py2neo) (2020.7.3)\n",
      "Requirement already satisfied: urllib3 in ./.local/lib/python3.8/site-packages (from py2neo) (1.26.12)\n",
      "Requirement already satisfied: six>=1.15.0 in ./.local/lib/python3.8/site-packages (from py2neo) (1.16.0)\n",
      "Requirement already satisfied: packaging in ./.local/lib/python3.8/site-packages (from py2neo) (21.3)\n",
      "Requirement already satisfied: interchange~=2021.0.4 in ./.local/lib/python3.8/site-packages (from py2neo) (2021.0.4)\n",
      "Requirement already satisfied: pygments>=2.0.0 in /usr/lib/python3/dist-packages (from py2neo) (2.3.1)\n",
      "Requirement already satisfied: monotonic in ./.local/lib/python3.8/site-packages (from py2neo) (1.6)\n",
      "Requirement already satisfied: pyparsing!=3.0.5,>=2.0.2 in ./.local/lib/python3.8/site-packages (from packaging->py2neo) (3.0.9)\n",
      "Requirement already satisfied: pytz in ./.local/lib/python3.8/site-packages (from interchange~=2021.0.4->py2neo) (2022.4)\n"
     ]
    }
   ],
   "source": [
    "!pip install py2neo"
   ]
  },
  {
   "cell_type": "code",
   "execution_count": 2,
   "metadata": {},
   "outputs": [],
   "source": [
    "from py2neo import Graph\n",
    "\n",
    "# 连接Neo4j数据库，输入地址、用户名、密码\n",
    "graph = Graph('http://localhost:7474', auth=('neo4j', 'neo4j'))"
   ]
  },
  {
   "cell_type": "markdown",
   "metadata": {},
   "source": [
    "## 导入原始数据"
   ]
  },
  {
   "cell_type": "code",
   "execution_count": 3,
   "metadata": {},
   "outputs": [
    {
     "data": {
      "text/html": [
       "(No data)"
      ],
      "text/plain": [
       "(No data)"
      ]
     },
     "execution_count": 3,
     "metadata": {},
     "output_type": "execute_result"
    }
   ],
   "source": [
    "# 清空数据库原有的图，确保环境空白\n",
    "graph.run('MATCH (n) DETACH DELETE n')\n",
    "graph.run('DROP CONSTRAINT ON (c:Character) ASSERT c.name IS UNIQUE')"
   ]
  },
  {
   "cell_type": "code",
   "execution_count": 4,
   "metadata": {},
   "outputs": [
    {
     "data": {
      "text/html": [
       "(No data)"
      ],
      "text/plain": [
       "(No data)"
      ]
     },
     "execution_count": 4,
     "metadata": {},
     "output_type": "execute_result"
    }
   ],
   "source": [
    "# 首先创建节点c，并做唯一限制性约束，c.name唯一，保证schema的完整性\n",
    "graph.run('CREATE CONSTRAINT ON (c:Character) ASSERT c.name IS UNIQUE')\n",
    "# 一旦约束创建会相应地创建索引，这将有助于通过角色名字查询的性能"
   ]
  },
  {
   "cell_type": "code",
   "execution_count": 5,
   "metadata": {},
   "outputs": [
    {
     "name": "stdout",
     "output_type": "stream",
     "text": [
      "352\n"
     ]
    }
   ],
   "source": [
    "# 将数据下载到本地，并加载到Neo4j中\n",
    "# MERGE匹配某个节点，如果不存在就创建，存在就返回\n",
    "for record in graph.run('''\n",
    "LOAD CSV WITH HEADERS FROM \"file:/stormofswords.csv\" AS row\n",
    "MERGE (src:Character {name: row.Source})\n",
    "MERGE (tgt:Character {name: row.Target})\n",
    "MERGE (src)-[r:INTERACTS]->(tgt)\n",
    "SET r.weight = toInteger(row.Weight)\n",
    "RETURN count(*) AS paths_created\n",
    "'''):\n",
    "    print(record)"
   ]
  },
  {
   "cell_type": "code",
   "execution_count": 6,
   "metadata": {},
   "outputs": [
    {
     "name": "stdout",
     "output_type": "stream",
     "text": [
      "(Aemon)<-[:INTERACTS {}]-(Stannis) weight= 4\n",
      "(Aemon)<-[:INTERACTS {}]-(Jon) weight= 30\n",
      "(Aemon)<-[:INTERACTS {}]-(Robert) weight= 4\n",
      "(Aemon)-[:INTERACTS {}]->(Samwell) weight= 31\n",
      "(Aemon)-[:INTERACTS {}]->(Grenn) weight= 5\n",
      "(Aerys)-[:INTERACTS {}]->(Tywin) weight= 8\n",
      "(Aerys)-[:INTERACTS {}]->(Tyrion) weight= 5\n",
      "(Aerys)-[:INTERACTS {}]->(Robert) weight= 6\n",
      "(Aerys)-[:INTERACTS {}]->(Jaime) weight= 18\n",
      "(Alliser)<-[:INTERACTS {}]-(Janos) weight= 9\n",
      "(Alliser)<-[:INTERACTS {}]-(Jon) weight= 15\n",
      "(Alliser)-[:INTERACTS {}]->(Mance) weight= 5\n",
      "(Amory)-[:INTERACTS {}]->(Oberyn) weight= 5\n",
      "(Arya)<-[:INTERACTS {}]-(Eddard) weight= 18\n",
      "(Arya)<-[:INTERACTS {}]-(Robb) weight= 15\n",
      "(Arya)<-[:INTERACTS {}]-(Sansa) weight= 22\n",
      "(Arya)-[:INTERACTS {}]->(Tyrion) weight= 5\n",
      "(Arya)-[:INTERACTS {}]->(Thoros) weight= 18\n",
      "(Arya)-[:INTERACTS {}]->(Sandor) weight= 46\n",
      "(Arya)-[:INTERACTS {}]->(Roose) weight= 5\n",
      "(Arya)-[:INTERACTS {}]->(Robert) weight= 4\n",
      "(Arya)-[:INTERACTS {}]->(Rickon) weight= 8\n",
      "(Arya)-[:INTERACTS {}]->(Jon) weight= 7\n",
      "(Arya)-[:INTERACTS {}]->(Joffrey) weight= 6\n",
      "(Arya)-[:INTERACTS {}]->(Jaime) weight= 11\n",
      "(Arya)-[:INTERACTS {}]->(Gregor) weight= 7\n",
      "(Arya)-[:INTERACTS {}]->(Gendry) weight= 43\n",
      "(Arya)-[:INTERACTS {}]->(Cersei) weight= 5\n",
      "(Arya)-[:INTERACTS {}]->(Brynden) weight= 6\n",
      "(Arya)-[:INTERACTS {}]->(Bran) weight= 9\n"
     ]
    }
   ],
   "source": [
    "# 可视化整个图形\n",
    "for record in graph.run('''\n",
    "MATCH p=(:Character)-[r:INTERACTS]-(:Character)\n",
    "RETURN p, r.weight LIMIT 30\n",
    "'''):\n",
    "    print(record['p'], 'weight=', record['r.weight'])"
   ]
  },
  {
   "cell_type": "markdown",
   "metadata": {},
   "source": [
    "## 人物网络分析"
   ]
  },
  {
   "cell_type": "code",
   "execution_count": 7,
   "metadata": {},
   "outputs": [
    {
     "name": "stdout",
     "output_type": "stream",
     "text": [
      "107\n"
     ]
    }
   ],
   "source": [
    "# 人物数量\n",
    "for record in graph.run('''\n",
    "MATCH (c:Character) \n",
    "RETURN count(c)\n",
    "'''):\n",
    "    print(record)"
   ]
  },
  {
   "cell_type": "code",
   "execution_count": 8,
   "metadata": {},
   "outputs": [
    {
     "name": "stdout",
     "output_type": "stream",
     "text": [
      "min= 1 max= 24 avg= 4.957746478873241 stdev= 6.2276723918750845\n"
     ]
    }
   ],
   "source": [
    "# 统计每个角色接触的其它角色数目\n",
    "# 最小值、最大值、平均值、标准差\n",
    "for record in graph.run('''\n",
    "MATCH (c:Character)-[:INTERACTS]->()\n",
    "WITH c, count(*) AS num\n",
    "RETURN min(num) AS min, max(num) AS max, avg(num) AS avg, stdev(num) AS stdev\n",
    "'''):\n",
    "    print('min=', record['min'], 'max=', record['max'], 'avg=', record['avg'], 'stdev=', record['stdev'])"
   ]
  },
  {
   "cell_type": "code",
   "execution_count": 9,
   "metadata": {},
   "outputs": [
    {
     "name": "stdout",
     "output_type": "stream",
     "text": [
      "len= 6 path= ['Cressen', 'Davos', 'Stannis', 'Robert', 'Daenerys', 'Belwas', 'Illyrio']\n",
      "len= 6 path= ['Illyrio', 'Belwas', 'Daenerys', 'Robert', 'Stannis', 'Davos', 'Shireen']\n",
      "len= 6 path= ['Karl', 'Craster', 'Jon', 'Robert', 'Daenerys', 'Belwas', 'Illyrio']\n",
      "len= 6 path= ['Lancel', 'Kevan', 'Tyrion', 'Viserys', 'Daenerys', 'Belwas', 'Illyrio']\n",
      "len= 6 path= ['Illyrio', 'Belwas', 'Barristan', 'Jaime', 'Robb', 'Hodor', 'Jojen']\n",
      "len= 6 path= ['Illyrio', 'Belwas', 'Daenerys', 'Robert', 'Tywin', 'Oberyn', 'Amory']\n",
      "len= 6 path= ['Illyrio', 'Belwas', 'Daenerys', 'Robert', 'Sansa', 'Bran', 'Luwin']\n",
      "len= 6 path= ['Karl', 'Craster', 'Samwell', 'Stannis', 'Tywin', 'Oberyn', 'Amory']\n",
      "len= 6 path= ['Salladhor', 'Davos', 'Stannis', 'Robert', 'Daenerys', 'Belwas', 'Illyrio']\n",
      "len= 6 path= ['Bowen', 'Janos', 'Tyrion', 'Viserys', 'Daenerys', 'Belwas', 'Illyrio']\n",
      "len= 6 path= ['Nan', 'Bran', 'Sansa', 'Robert', 'Daenerys', 'Belwas', 'Illyrio']\n",
      "len= 5 path= ['Jorah', 'Rhaegar', 'Robert', 'Sansa', 'Bran', 'Jojen']\n",
      "len= 5 path= ['Lothar', 'Edmure', 'Jaime', 'Barristan', 'Daenerys', 'Irri']\n",
      "len= 5 path= ['Lothar', 'Edmure', 'Jaime', 'Barristan', 'Jorah', 'Daario']\n",
      "len= 5 path= ['Jojen', 'Samwell', 'Jon', 'Robert', 'Daenerys', 'Irri']\n",
      "len= 5 path= ['Daario', 'Daenerys', 'Robert', 'Tywin', 'Oberyn', 'Amory']\n",
      "len= 5 path= ['Jorah', 'Barristan', 'Jaime', 'Tywin', 'Oberyn', 'Amory']\n",
      "len= 5 path= ['Luwin', 'Bran', 'Robb', 'Tywin', 'Oberyn', 'Amory']\n",
      "len= 5 path= ['Jojen', 'Samwell', 'Stannis', 'Tywin', 'Oberyn', 'Amory']\n",
      "len= 5 path= ['Craster', 'Samwell', 'Stannis', 'Tywin', 'Oberyn', 'Amory']\n"
     ]
    }
   ],
   "source": [
    "# 网络直径/两点间最短路径的最大值\n",
    "for record in graph.run('''\n",
    "MATCH (a:Character), (b:Character) WHERE id(a) > id(b)\n",
    "MATCH p=shortestPath((a)-[:INTERACTS*]-(b))\n",
    "RETURN length(p) AS len, [x IN nodes(p) | x.name] AS path\n",
    "ORDER BY len DESC LIMIT 20\n",
    "'''):\n",
    "    print('len=', record['len'], 'path=', record['path'])"
   ]
  },
  {
   "cell_type": "code",
   "execution_count": 10,
   "metadata": {},
   "outputs": [
    {
     "name": "stdout",
     "output_type": "stream",
     "text": [
      "(Catelyn)-[:INTERACTS {}]->(Jaime)-[:INTERACTS {}]->(Barristan)<-[:INTERACTS {}]-(Jorah)-[:INTERACTS {}]->(Drogo)\n"
     ]
    }
   ],
   "source": [
    "# 两个角色之间的任意最短路径——shortestPath函数\n",
    "for record in graph.run('''\n",
    "MATCH (catelyn:Character {name:\"Catelyn\"}), (drogo:Character {name:\"Drogo\"})\n",
    "MATCH p=shortestPath((catelyn)-[INTERACTS*]-(drogo))\n",
    "RETURN p\n",
    "'''):\n",
    "    print(record['p'])"
   ]
  },
  {
   "cell_type": "code",
   "execution_count": 11,
   "metadata": {},
   "outputs": [
    {
     "name": "stdout",
     "output_type": "stream",
     "text": [
      "(Catelyn)-[:INTERACTS {}]->(Tyrion)-[:INTERACTS {}]->(Robert)<-[:INTERACTS {}]-(Daenerys)-[:INTERACTS {}]->(Drogo)\n",
      "(Catelyn)-[:INTERACTS {}]->(Tyrion)<-[:INTERACTS {}]-(Viserys)<-[:INTERACTS {}]-(Daenerys)-[:INTERACTS {}]->(Drogo)\n",
      "(Catelyn)-[:INTERACTS {}]->(Sansa)-[:INTERACTS {}]->(Robert)<-[:INTERACTS {}]-(Daenerys)-[:INTERACTS {}]->(Drogo)\n",
      "(Catelyn)-[:INTERACTS {}]->(Jaime)-[:INTERACTS {}]->(Barristan)<-[:INTERACTS {}]-(Jorah)-[:INTERACTS {}]->(Drogo)\n",
      "(Catelyn)-[:INTERACTS {}]->(Jaime)-[:INTERACTS {}]->(Robert)<-[:INTERACTS {}]-(Daenerys)-[:INTERACTS {}]->(Drogo)\n",
      "(Catelyn)-[:INTERACTS {}]->(Stannis)<-[:INTERACTS {}]-(Robert)<-[:INTERACTS {}]-(Daenerys)-[:INTERACTS {}]->(Drogo)\n",
      "(Catelyn)<-[:INTERACTS {}]-(Eddard)-[:INTERACTS {}]->(Robert)<-[:INTERACTS {}]-(Daenerys)-[:INTERACTS {}]->(Drogo)\n",
      "(Catelyn)-[:INTERACTS {}]->(Cersei)-[:INTERACTS {}]->(Robert)<-[:INTERACTS {}]-(Daenerys)-[:INTERACTS {}]->(Drogo)\n",
      "(Catelyn)-[:INTERACTS {}]->(Jaime)-[:INTERACTS {}]->(Barristan)<-[:INTERACTS {}]-(Daenerys)-[:INTERACTS {}]->(Drogo)\n"
     ]
    }
   ],
   "source": [
    "# 两个角色之间的所有最短路径——allShortestPaths函数\n",
    "for record in graph.run('''\n",
    "MATCH (catelyn:Character {name:\"Catelyn\"}), (drogo:Character {name:\"Drogo\"})\n",
    "MATCH p=allShortestPaths((catelyn)-[INTERACTS*]-(drogo))\n",
    "RETURN p\n",
    "'''):\n",
    "    print(record['p'])"
   ]
  },
  {
   "cell_type": "code",
   "execution_count": 12,
   "metadata": {},
   "outputs": [
    {
     "name": "stdout",
     "output_type": "stream",
     "text": [
      "a.name: Jojen b.name: Daenerys PivotalNode: Robert\n",
      "a.name: Jojen b.name: Davos PivotalNode: Samwell\n",
      "a.name: Jojen b.name: Eddard PivotalNode: Bran\n",
      "a.name: Jojen b.name: Eddison PivotalNode: Samwell\n",
      "a.name: Jojen b.name: Gendry PivotalNode: Arya\n",
      "a.name: Jojen b.name: Gendry PivotalNode: Bran\n",
      "a.name: Jojen b.name: Gilly PivotalNode: Samwell\n",
      "a.name: Jojen b.name: Gregor PivotalNode: Arya\n",
      "a.name: Jojen b.name: Gregor PivotalNode: Bran\n",
      "a.name: Jojen b.name: Hoster PivotalNode: Bran\n",
      "a.name: Jojen b.name: Hoster PivotalNode: Catelyn\n",
      "a.name: Jojen b.name: Irri PivotalNode: Daenerys\n",
      "a.name: Jojen b.name: Irri PivotalNode: Robert\n",
      "a.name: Jojen b.name: Janos PivotalNode: Samwell\n",
      "a.name: Jon b.name: Aerys PivotalNode: Robert\n",
      "a.name: Jon b.name: Amory PivotalNode: Oberyn\n",
      "a.name: Jon b.name: Belwas PivotalNode: Robert\n",
      "a.name: Jon b.name: Daario PivotalNode: Daenerys\n",
      "a.name: Jon b.name: Daario PivotalNode: Robert\n",
      "a.name: Jon b.name: Daenerys PivotalNode: Robert\n",
      "a.name: Jon b.name: Edmure PivotalNode: Robb\n",
      "a.name: Jon b.name: Gendry PivotalNode: Arya\n",
      "a.name: Jon b.name: Gregor PivotalNode: Arya\n",
      "a.name: Jon b.name: Irri PivotalNode: Daenerys\n",
      "a.name: Jon b.name: Irri PivotalNode: Robert\n",
      "a.name: Jon Arryn b.name: Aemon PivotalNode: Robert\n",
      "a.name: Jon Arryn b.name: Aerys PivotalNode: Robert\n",
      "a.name: Jon Arryn b.name: Alliser PivotalNode: Jon\n",
      "a.name: Jon Arryn b.name: Alliser PivotalNode: Robert\n",
      "a.name: Jon Arryn b.name: Amory PivotalNode: Oberyn\n"
     ]
    }
   ],
   "source": [
    "# 关键节点\n",
    "# 定义：在网络中，如果一个节点位于其它两个节点所有的最短路径上，即称为关键节点\n",
    "\n",
    "# collect将所有值收集作为一个列表返回\n",
    "for record in graph.run('''\n",
    "MATCH (a:Character), (b:Character) WHERE id(a) > id(b)\n",
    "MATCH p=allShortestPaths((a)-[:INTERACTS*]-(b)) WITH collect(p) AS paths, a, b  \n",
    "MATCH (c:Character) WHERE all(x IN paths WHERE c IN nodes(x)) AND NOT c IN [a,b]\n",
    "RETURN a.name, b.name, c.name AS PivotalNode SKIP 300 LIMIT 30\n",
    "'''):\n",
    "    print('a.name:', record['a.name'], 'b.name:', record['b.name'], 'PivotalNode:', record['PivotalNode'])"
   ]
  },
  {
   "cell_type": "code",
   "execution_count": 13,
   "metadata": {},
   "outputs": [
    {
     "name": "stdout",
     "output_type": "stream",
     "text": [
      "(Jojen)-[:INTERACTS {}]->(Samwell)<-[:INTERACTS {}]-(Aemon)<-[:INTERACTS {}]-(Robert)<-[:INTERACTS {}]-(Daenerys)\n",
      "(Jojen)<-[:INTERACTS {}]-(Bran)<-[:INTERACTS {}]-(Arya)-[:INTERACTS {}]->(Robert)<-[:INTERACTS {}]-(Daenerys)\n",
      "(Jojen)<-[:INTERACTS {}]-(Bran)<-[:INTERACTS {}]-(Sansa)-[:INTERACTS {}]->(Robert)<-[:INTERACTS {}]-(Daenerys)\n",
      "(Jojen)-[:INTERACTS {}]->(Samwell)<-[:INTERACTS {}]-(Stannis)<-[:INTERACTS {}]-(Robert)<-[:INTERACTS {}]-(Daenerys)\n",
      "(Jojen)-[:INTERACTS {}]->(Samwell)<-[:INTERACTS {}]-(Jon)-[:INTERACTS {}]->(Robert)<-[:INTERACTS {}]-(Daenerys)\n",
      "(Jojen)<-[:INTERACTS {}]-(Bran)<-[:INTERACTS {}]-(Eddard)-[:INTERACTS {}]->(Robert)<-[:INTERACTS {}]-(Daenerys)\n",
      "(Jojen)-[:INTERACTS {}]->(Meera)<-[:INTERACTS {}]-(Jon)-[:INTERACTS {}]->(Robert)<-[:INTERACTS {}]-(Daenerys)\n",
      "(Jojen)<-[:INTERACTS {}]-(Bran)-[:INTERACTS {}]->(Jon)-[:INTERACTS {}]->(Robert)<-[:INTERACTS {}]-(Daenerys)\n"
     ]
    }
   ],
   "source": [
    "# 上述结果显示Robert是Jojen和Daenerys的关键节点，意味着Jojen和Daenerys的所有最短路径都经过Robert\n",
    "# 可视化Jojen和Daenerys所有最短路径，进行验证\n",
    "for record in graph.run('''\n",
    "MATCH (jojen:Character {name:\"Jojen\"}), (daenerys:Character {name:\"Daenerys\"})\n",
    "MATCH p=allShortestPaths((jojen)-[:INTERACTS*]-(daenerys))\n",
    "RETURN p\n",
    "'''):\n",
    "    print(record['p'])"
   ]
  },
  {
   "cell_type": "markdown",
   "metadata": {},
   "source": [
    "**节点中心度(Centrality Measures)**\n",
    "\n",
    "节点中心度给出网络中节点的重要性的相对度量。\n",
    "\n",
    "有许多不同的方式来度量中心度，每种方式都代表不同类型的“重要性”。\n",
    "- 度中心性(Degree Centrality)\n",
    "- 加权度中心性(Weighted Degree Centrality)\n",
    "- 介数中心性(Betweenness Centrality)\n",
    "- 紧度中心性(Closeness Centrality)"
   ]
  },
  {
   "cell_type": "code",
   "execution_count": 14,
   "metadata": {},
   "outputs": [
    {
     "name": "stdout",
     "output_type": "stream",
     "text": [
      "Tyrion 36\n",
      "Jon 26\n",
      "Sansa 26\n",
      "Robb 25\n",
      "Jaime 24\n",
      "Tywin 22\n",
      "Cersei 20\n",
      "Arya 19\n",
      "Catelyn 18\n",
      "Joffrey 18\n",
      "Robert 18\n",
      "Samwell 15\n",
      "Bran 14\n",
      "Daenerys 14\n",
      "Stannis 14\n",
      "Sandor 13\n",
      "Eddard 12\n",
      "Gregor 12\n",
      "Mance 12\n",
      "Lysa 10\n",
      "Loras 9\n",
      "Brynden 8\n",
      "Edmure 8\n",
      "Renly 8\n",
      "Walder 8\n",
      "Brienne 7\n",
      "Meryn 7\n",
      "Oberyn 7\n",
      "Varys 7\n",
      "Petyr 7\n",
      "Margaery 7\n",
      "Balon 6\n",
      "Beric 6\n",
      "Janos 6\n",
      "Jorah 6\n",
      "Kevan 6\n",
      "Rhaegar 6\n",
      "Rickon 6\n",
      "Barristan 6\n",
      "Ilyn 6\n",
      "Aemon 5\n",
      "Craster 5\n",
      "Davos 5\n",
      "Lothar 5\n",
      "Meera 5\n",
      "Podrick 5\n",
      "Shae 5\n",
      "Tommen 5\n",
      "Thoros 5\n",
      "Elia 5\n",
      "Qhorin 5\n",
      "Aerys 4\n",
      "Belwas 4\n",
      "Bronn 4\n",
      "Daario 4\n",
      "Gendry 4\n",
      "Gilly 4\n",
      "Hodor 4\n",
      "Irri 4\n",
      "Jojen 4\n",
      "Melisandre 4\n",
      "Myrcella 4\n",
      "Rattleshirt 4\n",
      "Roose 4\n",
      "Val 4\n",
      "Ygritte 4\n",
      "Grenn 4\n",
      "Theon 4\n",
      "Roslin 4\n",
      "Pycelle 4\n",
      "Drogo 4\n",
      "Alliser 3\n",
      "Eddison 3\n",
      "Hoster 3\n",
      "Robert Arryn 3\n",
      "Viserys 3\n",
      "Dalla 3\n",
      "Marillion 3\n",
      "Mace 3\n",
      "Jon Arryn 2\n",
      "Luwin 2\n",
      "Missandei 2\n",
      "Rickard 2\n",
      "Anguy 2\n",
      "Nan 2\n",
      "Jeyne 2\n",
      "Bowen 2\n",
      "Styr 2\n",
      "Olenna 2\n",
      "Ellaria 2\n",
      "Chataya 2\n",
      "Amory 1\n",
      "Shireen 1\n",
      "Walton 1\n",
      "Illyrio 1\n",
      "Karl 1\n",
      "Aegon 1\n",
      "Kraznys 1\n",
      "Rakharo 1\n",
      "Worm 1\n",
      "Cressen 1\n",
      "Salladhor 1\n",
      "Qyburn 1\n",
      "Orell 1\n",
      "Lancel 1\n",
      "Ramsay 1\n",
      "Doran 1\n"
     ]
    }
   ],
   "source": [
    "# 度中心性(Degree Centrality)\n",
    "# 度中心性是最简单的度量，即为某个节点在网络中的联结数\n",
    "\n",
    "# 本案例中，某个角色的度中心性是指该角色接触的其他角色数\n",
    "for record in graph.run('''\n",
    "MATCH (c:Character)-[:INTERACTS]-()\n",
    "RETURN c.name AS character, count(*) AS degree \n",
    "ORDER BY degree DESC\n",
    "'''):\n",
    "    print(record['character'], record['degree'])"
   ]
  },
  {
   "cell_type": "code",
   "execution_count": 15,
   "metadata": {},
   "outputs": [
    {
     "name": "stdout",
     "output_type": "stream",
     "text": [
      "Tyrion 551\n",
      "Jon 442\n",
      "Sansa 383\n",
      "Jaime 372\n",
      "Bran 344\n",
      "Robb 342\n",
      "Samwell 282\n",
      "Arya 269\n",
      "Joffrey 255\n",
      "Daenerys 232\n",
      "Cersei 226\n",
      "Tywin 204\n",
      "Catelyn 184\n",
      "Hodor 177\n",
      "Mance 160\n",
      "Stannis 146\n",
      "Meera 139\n",
      "Sandor 137\n",
      "Robert 128\n",
      "Jojen 125\n",
      "Brienne 122\n",
      "Gregor 117\n",
      "Eddard 108\n",
      "Lysa 108\n",
      "Edmure 98\n",
      "Margaery 96\n",
      "Jorah 89\n",
      "Petyr 89\n",
      "Davos 87\n",
      "Walder 87\n",
      "Ygritte 82\n",
      "Rickon 81\n",
      "Grenn 81\n",
      "Loras 76\n",
      "Oberyn 76\n",
      "Beric 75\n",
      "Craster 75\n",
      "Aemon 74\n",
      "Gilly 69\n",
      "Belwas 67\n",
      "Podrick 64\n",
      "Barristan 63\n",
      "Melisandre 62\n",
      "Thoros 60\n",
      "Bronn 59\n",
      "Gendry 59\n",
      "Qhorin 59\n",
      "Brynden 55\n",
      "Renly 55\n",
      "Kevan 50\n",
      "Varys 49\n",
      "Meryn 47\n",
      "Shae 45\n",
      "Rattleshirt 44\n",
      "Rhaegar 42\n",
      "Theon 38\n",
      "Aerys 37\n",
      "Janos 37\n",
      "Drogo 35\n",
      "Lothar 34\n",
      "Irri 33\n",
      "Roslin 32\n",
      "Ilyn 32\n",
      "Tommen 31\n",
      "Val 31\n",
      "Daario 30\n",
      "Missandei 30\n",
      "Alliser 29\n",
      "Balon 29\n",
      "Elia 29\n",
      "Jeyne 28\n",
      "Eddison 24\n",
      "Hoster 24\n",
      "Pycelle 24\n",
      "Styr 23\n",
      "Marillion 23\n",
      "Dalla 21\n",
      "Mace 20\n",
      "Robert Arryn 19\n",
      "Viserys 19\n",
      "Myrcella 18\n",
      "Nan 18\n",
      "Roose 17\n",
      "Salladhor 16\n",
      "Anguy 15\n",
      "Worm 14\n",
      "Olenna 12\n",
      "Jon Arryn 11\n",
      "Rickard 11\n",
      "Qyburn 11\n",
      "Bowen 11\n",
      "Walton 10\n",
      "Illyrio 10\n",
      "Kraznys 10\n",
      "Ellaria 10\n",
      "Chataya 9\n",
      "Luwin 8\n",
      "Aegon 8\n",
      "Rakharo 7\n",
      "Lancel 7\n",
      "Karl 6\n",
      "Orell 6\n",
      "Amory 5\n",
      "Shireen 5\n",
      "Doran 5\n",
      "Cressen 4\n",
      "Ramsay 4\n"
     ]
    }
   ],
   "source": [
    "# 加权度中心性(Weighted Degree Centrality)\n",
    "\n",
    "# 对某个角色的INTERACTS关系所有weight相加得到加权度中心性\n",
    "for record in graph.run('''\n",
    "MATCH (c:Character)-[r:INTERACTS]-()\n",
    "RETURN c.name AS character, sum(r.weight) AS weightedDegree\n",
    "ORDER BY weightedDegree DESC\n",
    "'''):\n",
    "    print(record['character'], record['weightedDegree'])"
   ]
  },
  {
   "cell_type": "code",
   "execution_count": 19,
   "metadata": {},
   "outputs": [
    {
     "name": "stdout",
     "output_type": "stream",
     "text": [
      "'myGraph'\n"
     ]
    }
   ],
   "source": [
    "# 删除原有图投影\n",
    "for record in graph.run('''\n",
    "CALL gds.graph.drop('myGraph', false) YIELD graphName\n",
    "'''):\n",
    "    print(record)"
   ]
  },
  {
   "cell_type": "code",
   "execution_count": 20,
   "metadata": {},
   "outputs": [
    {
     "name": "stdout",
     "output_type": "stream",
     "text": [
      "{'Character': {'label': 'Character', 'properties': {}}}\t{'INTERACTS': {'orientation': 'NATURAL', 'aggregation': 'DEFAULT', 'type': 'INTERACTS', 'properties': {}}}\t'myGraph'\t107\t352\t15\n"
     ]
    }
   ],
   "source": [
    "# 介数中心性(Betweenness Centrality)\n",
    "# 在网络中，一个节点的介数中心性是指其它两个节点的所有最短路径都经过这个节点，则这些所有最短路径数即为此节点的介数中心性\n",
    "\n",
    "# 使用Neo4j Graph Data Science(GDS)库\n",
    "# 首先创建图投影\n",
    "for record in graph.run('''\n",
    "CALL gds.graph.project('myGraph', 'Character', 'INTERACTS')\n",
    "'''):\n",
    "    print(record)"
   ]
  },
  {
   "cell_type": "code",
   "execution_count": 21,
   "metadata": {},
   "outputs": [
    {
     "name": "stdout",
     "output_type": "stream",
     "text": [
      "Tyrion 332.97460317460315\n",
      "Samwell 244.63571428571433\n",
      "Stannis 226.20476190476188\n",
      "Robert 208.6230158730159\n",
      "Mance 138.66666666666669\n",
      "Jaime 119.99563492063493\n",
      "Sandor 114.33333333333333\n",
      "Jon 111.26666666666667\n",
      "Janos 90.65\n",
      "Aemon 64.59761904761905\n",
      "Davos 54.0\n",
      "Lysa 50.616666666666674\n",
      "Tywin 50.471428571428575\n",
      "Gregor 48.51666666666667\n",
      "Renly 42.016666666666666\n",
      "Cersei 38.17460317460317\n",
      "Craster 35.0\n",
      "Sansa 32.84285714285714\n",
      "Joffrey 31.616666666666667\n",
      "Bran 30.899999999999995\n",
      "Loras 28.4\n",
      "Viserys 26.833333333333332\n",
      "Edmure 22.249999999999996\n",
      "Robb 19.871825396825393\n",
      "Kevan 17.7\n",
      "Beric 16.083333333333332\n",
      "Arya 15.590079365079365\n",
      "Varys 11.0\n",
      "Jorah 10.0\n",
      "Rhaegar 9.916666666666666\n",
      "Walder 9.916666666666666\n",
      "Brynden 9.25\n",
      "Jojen 8.0\n",
      "Meera 8.0\n",
      "Oberyn 7.5\n",
      "Catelyn 6.567857142857142\n",
      "Melisandre 4.5\n",
      "Belwas 4.0\n",
      "Val 4.0\n",
      "Brienne 3.9166666666666665\n",
      "Hoster 3.6666666666666665\n",
      "Balon 3.0\n",
      "Daario 3.0\n",
      "Lothar 1.6666666666666665\n",
      "Shae 1.45\n",
      "Podrick 1.25\n",
      "Tommen 1.15\n",
      "Irri 1.0\n",
      "Rickon 0.9166666666666665\n",
      "Hodor 0.8333333333333333\n",
      "Bronn 0.5\n",
      "Meryn 0.5\n",
      "Myrcella 0.3333333333333333\n",
      "Roose 0.3333333333333333\n",
      "Aerys 0.0\n",
      "Alliser 0.0\n",
      "Amory 0.0\n",
      "Daenerys 0.0\n",
      "Eddard 0.0\n",
      "Eddison 0.0\n",
      "Gendry 0.0\n",
      "Gilly 0.0\n",
      "Jon Arryn 0.0\n",
      "Luwin 0.0\n",
      "Missandei 0.0\n",
      "Rattleshirt 0.0\n",
      "Rickard 0.0\n",
      "Robert Arryn 0.0\n",
      "Shireen 0.0\n",
      "Walton 0.0\n",
      "Ygritte 0.0\n",
      "Grenn 0.0\n",
      "Anguy 0.0\n",
      "Thoros 0.0\n",
      "Barristan 0.0\n",
      "Illyrio 0.0\n",
      "Nan 0.0\n",
      "Theon 0.0\n",
      "Jeyne 0.0\n",
      "Petyr 0.0\n",
      "Roslin 0.0\n",
      "Elia 0.0\n",
      "Ilyn 0.0\n",
      "Pycelle 0.0\n",
      "Karl 0.0\n",
      "Drogo 0.0\n",
      "Aegon 0.0\n",
      "Kraznys 0.0\n",
      "Rakharo 0.0\n",
      "Worm 0.0\n",
      "Cressen 0.0\n",
      "Salladhor 0.0\n",
      "Qyburn 0.0\n",
      "Bowen 0.0\n",
      "Margaery 0.0\n",
      "Dalla 0.0\n",
      "Orell 0.0\n",
      "Qhorin 0.0\n",
      "Styr 0.0\n",
      "Lancel 0.0\n",
      "Olenna 0.0\n",
      "Marillion 0.0\n",
      "Ellaria 0.0\n",
      "Mace 0.0\n",
      "Ramsay 0.0\n",
      "Chataya 0.0\n",
      "Doran 0.0\n"
     ]
    }
   ],
   "source": [
    "# 调用GDS库的betweenness函数\n",
    "for record in graph.run('''\n",
    "CALL gds.betweenness.stream('myGraph') YIELD nodeId, score\n",
    "RETURN gds.util.asNode(nodeId).name AS name, score\n",
    "ORDER BY score DESC\n",
    "'''):\n",
    "    print(record['name'], record['score'])"
   ]
  },
  {
   "cell_type": "code",
   "execution_count": 22,
   "metadata": {},
   "outputs": [
    {
     "name": "stdout",
     "output_type": "stream",
     "text": [
      "Bran 1.0\n",
      "Catelyn 1.0\n",
      "Missandei 1.0\n",
      "Rhaegar 1.0\n",
      "Robb 1.0\n",
      "Sansa 1.0\n",
      "Viserys 1.0\n",
      "Aegon 1.0\n",
      "Kraznys 1.0\n",
      "Rakharo 1.0\n",
      "Worm 1.0\n",
      "Jon 0.8571428571428571\n",
      "Rickon 0.8571428571428571\n",
      "Arya 0.8\n",
      "Tyrion 0.8\n",
      "Jaime 0.7857142857142857\n",
      "Cersei 0.75\n",
      "Jorah 0.75\n",
      "Jeyne 0.75\n",
      "Lysa 0.7142857142857143\n",
      "Roose 0.7142857142857143\n",
      "Robert 0.6764705882352942\n",
      "Theon 0.6666666666666666\n",
      "Meera 0.6428571428571429\n",
      "Tywin 0.6363636363636364\n",
      "Drogo 0.6363636363636364\n",
      "Marillion 0.6363636363636364\n",
      "Joffrey 0.631578947368421\n",
      "Brienne 0.6190476190476191\n",
      "Hodor 0.6\n",
      "Rickard 0.6\n",
      "Robert Arryn 0.6\n",
      "Ramsay 0.6\n",
      "Jojen 0.5833333333333334\n",
      "Nan 0.5833333333333334\n",
      "Gregor 0.5806451612903226\n",
      "Belwas 0.5714285714285714\n",
      "Daario 0.5714285714285714\n",
      "Edmure 0.5652173913043478\n",
      "Tommen 0.56\n",
      "Sandor 0.5588235294117647\n",
      "Stannis 0.5581395348837209\n",
      "Brynden 0.5555555555555556\n",
      "Meryn 0.5555555555555556\n",
      "Elia 0.5555555555555556\n",
      "Hoster 0.5454545454545454\n",
      "Luwin 0.5454545454545454\n",
      "Ilyn 0.5384615384615384\n",
      "Petyr 0.5365853658536586\n",
      "Walder 0.5161290322580645\n",
      "Kevan 0.5151515151515151\n",
      "Podrick 0.5142857142857142\n",
      "Oberyn 0.5128205128205128\n",
      "Renly 0.5102040816326531\n",
      "Irri 0.5\n",
      "Shae 0.5\n",
      "Orell 0.5\n",
      "Barristan 0.49056603773584906\n",
      "Bronn 0.4857142857142857\n",
      "Thoros 0.48148148148148145\n",
      "Mace 0.4772727272727273\n",
      "Chataya 0.47368421052631576\n",
      "Margaery 0.47058823529411764\n",
      "Ellaria 0.4666666666666667\n",
      "Aemon 0.46296296296296297\n",
      "Qyburn 0.46153846153846156\n",
      "Loras 0.4603174603174603\n",
      "Lothar 0.4594594594594595\n",
      "Doran 0.4594594594594595\n",
      "Balon 0.45454545454545453\n",
      "Myrcella 0.4482758620689655\n",
      "Varys 0.4444444444444444\n",
      "Samwell 0.4411764705882353\n",
      "Roslin 0.43902439024390244\n",
      "Illyrio 0.4166666666666667\n",
      "Janos 0.41333333333333333\n",
      "Melisandre 0.3968253968253968\n",
      "Gendry 0.39622641509433965\n",
      "Beric 0.39215686274509803\n",
      "Pycelle 0.38666666666666666\n",
      "Davos 0.38571428571428573\n",
      "Grenn 0.3764705882352941\n",
      "Mance 0.36666666666666664\n",
      "Qhorin 0.3564356435643564\n",
      "Lancel 0.35294117647058826\n",
      "Craster 0.35\n",
      "Gilly 0.3434343434343434\n",
      "Bowen 0.3404255319148936\n",
      "Olenna 0.33707865168539325\n",
      "Eddison 0.32978723404255317\n",
      "Alliser 0.31683168316831684\n",
      "Val 0.3148148148148148\n",
      "Dalla 0.30973451327433627\n",
      "Anguy 0.3088235294117647\n",
      "Rattleshirt 0.2966101694915254\n",
      "Ygritte 0.2905982905982906\n",
      "Styr 0.2905982905982906\n",
      "Cressen 0.2857142857142857\n",
      "Salladhor 0.2857142857142857\n",
      "Karl 0.2647058823529412\n",
      "Aerys 0.0\n",
      "Amory 0.0\n",
      "Daenerys 0.0\n",
      "Eddard 0.0\n",
      "Jon Arryn 0.0\n",
      "Shireen 0.0\n",
      "Walton 0.0\n"
     ]
    }
   ],
   "source": [
    "# 紧度中心性(Closeness Centrality)\n",
    "# 紧度中心性是指到网络中所有其他角色的平均距离的倒数\n",
    "\n",
    "# 使用Neo4j Graph Data Science(GDS)库\n",
    "# 使用上述创建过的图投影\n",
    "\n",
    "# 调用GDS库的closeness函数\n",
    "for record in graph.run('''\n",
    "CALL gds.beta.closeness.stream('myGraph') YIELD nodeId, score\n",
    "RETURN gds.util.asNode(nodeId).name AS name, score\n",
    "ORDER BY score DESC\n",
    "'''):\n",
    "    print(record['name'], record['score'])"
   ]
  },
  {
   "cell_type": "markdown",
   "metadata": {},
   "source": [
    "## 使用python-igraph"
   ]
  },
  {
   "cell_type": "code",
   "execution_count": 23,
   "metadata": {
    "scrolled": true
   },
   "outputs": [
    {
     "name": "stdout",
     "output_type": "stream",
     "text": [
      "Looking in indexes: https://pypi.tuna.tsinghua.edu.cn/simple\r\n",
      "Requirement already satisfied: python-igraph in ./.local/lib/python3.8/site-packages (0.10.1)\r\n",
      "Requirement already satisfied: igraph==0.10.1 in ./.local/lib/python3.8/site-packages (from python-igraph) (0.10.1)\r\n",
      "Requirement already satisfied: texttable>=1.6.2 in ./.local/lib/python3.8/site-packages (from igraph==0.10.1->python-igraph) (1.6.4)\r\n"
     ]
    }
   ],
   "source": [
    "!pip install python-igraph"
   ]
  },
  {
   "cell_type": "code",
   "execution_count": 24,
   "metadata": {},
   "outputs": [],
   "source": [
    "from igraph import Graph as IGraph"
   ]
  },
  {
   "cell_type": "code",
   "execution_count": 25,
   "metadata": {},
   "outputs": [
    {
     "name": "stdout",
     "output_type": "stream",
     "text": [
      "IGRAPH UNW- 107 352 --\n",
      "+ attr: name (v), weight (e)\n",
      "+ edges (vertex names):\n",
      "       Aemon -- Samwell, Grenn, Robert, Jon, Stannis\n",
      "     Samwell -- Aemon, Grenn, Mance, Jon, Bran, Meera, Jojen, Stannis,\n",
      "Craster, Eddison, Gilly, Janos, Bowen, Qhorin, Melisandre\n",
      "       Grenn -- Aemon, Samwell, Jon, Eddison\n",
      "       Aerys -- Tywin, Tyrion, Robert, Jaime\n",
      "       Tywin -- Aerys, Tyrion, Robert, Jaime, Oberyn, Joffrey, Gregor, Cersei,\n",
      "Brynden, Balon, Podrick, Walder, Stannis, Robb, Petyr, Lysa, Pycelle, Varys,\n",
      "Tommen, Kevan, Val, Mace\n",
      "      Tyrion -- Aerys, Tywin, Robert, Jaime, Oberyn, Arya, Sandor, Joffrey,\n",
      "Gregor, Cersei, Balon, Loras, Bronn, Podrick, Catelyn, Stannis, Robb, Petyr,\n",
      "Lysa, Sansa, Pycelle, Meryn, Shae, Elia, Varys, Ilyn, Viserys, Renly, Janos,\n",
      "Margaery, Myrcella, Kevan, Ellaria, Mace, Chataya, Doran\n",
      "      Robert -- Aemon, Aerys, Tywin, Tyrion, Jaime, Arya, Thoros, Sandor, Jon,\n",
      "Cersei, Barristan, Stannis, Sansa, Daenerys, Rhaegar, Eddard, Renly, Jon Arryn\n",
      "       Jaime -- Aerys, Tywin, Tyrion, Robert, Arya, Joffrey, Gregor, Cersei,\n",
      "Balon, Loras, Barristan, Brienne, Catelyn, Stannis, Robb, Edmure, Sansa,\n",
      "Meryn, Elia, Eddard, Tommen, Qyburn, Renly, Walton\n",
      "     Alliser -- Mance, Jon, Janos\n",
      "       Mance -- Samwell, Alliser, Jon, Craster, Gilly, Janos, Val, Qhorin,\n",
      "Dalla, Ygritte, Styr, Rattleshirt\n",
      "       Amory -- Oberyn\n",
      "      Oberyn -- Tywin, Tyrion, Amory, Joffrey, Gregor, Ellaria, Mace\n",
      "        Arya -- Tyrion, Robert, Jaime, Thoros, Sandor, Roose, Rickon, Jon,\n",
      "Joffrey, Gregor, Gendry, Cersei, Brynden, Bran, Beric, Anguy, Robb, Sansa,\n",
      "Eddard\n",
      "      Thoros -- Robert, Arya, Sandor, Gendry, Beric\n",
      "      Sandor -- Tyrion, Robert, Arya, Thoros, Joffrey, Gregor, Gendry, Cersei,\n",
      "Beric, Sansa, Meryn, Ilyn, Eddard\n",
      "       Roose -- Arya, Brienne, Catelyn, Robb\n",
      "      Rickon -- Arya, Bran, Theon, Robb, Sansa, Eddard\n",
      "         Jon -- Aemon, Samwell, Grenn, Robert, Alliser, Mance, Arya, Bran,\n",
      "Meera, Theon, Stannis, Robb, Sansa, Craster, Eddard, Eddison, Gilly, Janos,\n",
      "Val, Qhorin, Orell, Dalla, Melisandre, Ygritte, Styr, Rattleshirt\n",
      "     Joffrey -- Tywin, Tyrion, Jaime, Oberyn, Arya, Sandor, Gregor, Cersei,\n",
      "Loras, Stannis, Robb, Sansa, Meryn, Ilyn, Tommen, Margaery, Myrcella, Kevan\n",
      "      Gregor -- Tywin, Tyrion, Jaime, Oberyn, Arya, Sandor, Joffrey, Cersei,\n",
      "Bronn, Meryn, Elia, Ilyn\n",
      "      Gendry -- Arya, Thoros, Sandor, Beric\n",
      "      Cersei -- Tywin, Tyrion, Robert, Jaime, Arya, Sandor, Joffrey, Gregor,\n",
      "Brienne, Bronn, Catelyn, Lysa, Sansa, Pycelle, Meryn, Shae, Elia, Varys, Ilyn,\n",
      "Eddard\n",
      "     Brynden -- Tywin, Arya, Lothar, Walder, Catelyn, Robb, Edmure, Rickard\n",
      "        Bran -- Samwell, Arya, Rickon, Jon, Nan, Luwin, Meera, Theon, Jojen,\n",
      "Hodor, Catelyn, Robb, Sansa, Eddard\n",
      "       Beric -- Arya, Thoros, Sandor, Gendry, Anguy, Eddard\n",
      "       Anguy -- Arya, Beric\n",
      "       Balon -- Tywin, Tyrion, Jaime, Loras, Stannis, Robb\n",
      "       Loras -- Tyrion, Jaime, Joffrey, Balon, Brienne, Sansa, Renly,\n",
      "Margaery, Olenna\n",
      "      Belwas -- Illyrio, Barristan, Daenerys, Jorah\n",
      "     Illyrio -- Belwas\n",
      "   Barristan -- Robert, Jaime, Belwas, Daenerys, Rhaegar, Jorah\n",
      "         Nan -- Bran, Luwin\n",
      "       Luwin -- Bran, Nan\n",
      "       Meera -- Samwell, Jon, Bran, Jojen, Hodor\n",
      "       Theon -- Rickon, Jon, Bran, Robb\n",
      "       Jojen -- Samwell, Bran, Meera, Hodor\n",
      "       Hodor -- Bran, Meera, Jojen, Robb\n",
      "     Brienne -- Jaime, Roose, Cersei, Loras, Catelyn, Robb, Sansa\n",
      "       Bronn -- Tyrion, Gregor, Cersei, Podrick\n",
      "     Podrick -- Tywin, Tyrion, Bronn, Sansa, Margaery\n",
      "      Lothar -- Brynden, Walder, Robb, Roslin, Edmure\n",
      "      Walder -- Tywin, Brynden, Lothar, Catelyn, Robb, Petyr, Roslin, Edmure\n",
      "     Catelyn -- Tyrion, Jaime, Roose, Cersei, Brynden, Bran, Brienne, Walder,\n",
      "Stannis, Robb, Petyr, Roslin, Jeyne, Edmure, Lysa, Sansa, Hoster, Eddard\n",
      "     Stannis -- Aemon, Samwell, Tywin, Tyrion, Robert, Jaime, Jon, Joffrey,\n",
      "Balon, Catelyn, Robb, Davos, Renly, Melisandre\n",
      "        Robb -- Tywin, Tyrion, Jaime, Arya, Roose, Rickon, Jon, Joffrey,\n",
      "Brynden, Bran, Balon, Theon, Hodor, Brienne, Lothar, Walder, Catelyn, Stannis,\n",
      "Petyr, Jeyne, Edmure, Sansa, Eddard, Rickard, Ramsay\n",
      "       Petyr -- Tywin, Tyrion, Walder, Catelyn, Robb, Lysa, Sansa\n",
      "      Roslin -- Lothar, Walder, Catelyn, Edmure\n",
      "       Jeyne -- Catelyn, Robb\n",
      "      Edmure -- Jaime, Brynden, Lothar, Walder, Catelyn, Robb, Roslin, Hoster\n",
      "        Lysa -- Tywin, Tyrion, Cersei, Catelyn, Petyr, Sansa, Hoster, Jon\n",
      "Arryn, Marillion, Robert Arryn\n",
      "       Sansa -- Tyrion, Robert, Jaime, Arya, Sandor, Rickon, Jon, Joffrey,\n",
      "Cersei, Bran, Loras, Brienne, Podrick, Catelyn, Robb, Petyr, Lysa, Shae,\n",
      "Eddard, Renly, Margaery, Myrcella, Kevan, Olenna, Marillion, Robert Arryn\n",
      "      Hoster -- Catelyn, Edmure, Lysa\n",
      "     Pycelle -- Tywin, Tyrion, Cersei, Varys\n",
      "       Meryn -- Tyrion, Jaime, Sandor, Joffrey, Gregor, Cersei, Ilyn\n",
      "        Shae -- Tyrion, Cersei, Sansa, Varys, Chataya\n",
      "        Elia -- Tyrion, Jaime, Gregor, Cersei, Rhaegar\n",
      "       Varys -- Tywin, Tyrion, Cersei, Pycelle, Shae, Renly, Kevan\n",
      "        Ilyn -- Tyrion, Sandor, Joffrey, Gregor, Cersei, Meryn\n",
      "     Craster -- Samwell, Mance, Jon, Karl, Gilly\n",
      "        Karl -- Craster\n",
      "      Daario -- Drogo, Irri, Daenerys, Jorah\n",
      "       Drogo -- Daario, Irri, Daenerys, Jorah\n",
      "        Irri -- Daario, Drogo, Daenerys, Missandei\n",
      "    Daenerys -- Robert, Belwas, Barristan, Daario, Drogo, Irri, Aegon,\n",
      "Viserys, Rakharo, Worm, Rhaegar, Jorah, Missandei, Kraznys\n",
      "       Aegon -- Daenerys\n",
      "     Viserys -- Tyrion, Daenerys, Rhaegar\n",
      "     Rakharo -- Daenerys\n",
      "        Worm -- Daenerys\n",
      "     Rhaegar -- Robert, Barristan, Elia, Daenerys, Viserys, Jorah\n",
      "       Jorah -- Belwas, Barristan, Daario, Drogo, Daenerys, Rhaegar\n",
      "   Missandei -- Irri, Daenerys\n",
      "     Kraznys -- Daenerys\n",
      "       Davos -- Stannis, Cressen, Salladhor, Melisandre, Shireen\n",
      "     Cressen -- Davos\n",
      "   Salladhor -- Davos\n",
      "      Eddard -- Robert, Jaime, Arya, Sandor, Rickon, Jon, Cersei, Bran, Beric,\n",
      "Catelyn, Robb, Sansa\n",
      "     Eddison -- Samwell, Grenn, Jon\n",
      "       Gilly -- Samwell, Mance, Jon, Craster\n",
      "      Tommen -- Tywin, Jaime, Joffrey, Margaery, Myrcella\n",
      "      Qyburn -- Jaime\n",
      "       Renly -- Tyrion, Robert, Jaime, Loras, Stannis, Sansa, Varys, Margaery\n",
      "       Janos -- Samwell, Tyrion, Alliser, Mance, Jon, Bowen\n",
      "       Bowen -- Samwell, Janos\n",
      "    Margaery -- Tyrion, Joffrey, Loras, Podrick, Sansa, Tommen, Renly\n",
      "    Myrcella -- Tyrion, Joffrey, Sansa, Tommen\n",
      "       Kevan -- Tywin, Tyrion, Joffrey, Sansa, Varys, Lancel\n",
      "         Val -- Tywin, Mance, Jon, Dalla\n",
      "      Qhorin -- Samwell, Mance, Jon, Ygritte, Rattleshirt\n",
      "       Orell -- Jon\n",
      "       Dalla -- Mance, Jon, Val\n",
      "  Melisandre -- Samwell, Jon, Stannis, Davos\n",
      "     Ygritte -- Mance, Jon, Qhorin, Rattleshirt\n",
      "        Styr -- Mance, Jon\n",
      " Rattleshirt -- Mance, Jon, Qhorin, Ygritte\n",
      "   Jon Arryn -- Robert, Lysa\n",
      "      Lancel -- Kevan\n",
      "      Olenna -- Loras, Sansa\n",
      "   Marillion -- Lysa, Sansa, Robert Arryn\n",
      "Robert Arryn -- Lysa, Sansa, Marillion\n",
      "     Ellaria -- Tyrion, Oberyn\n",
      "        Mace -- Tywin, Tyrion, Oberyn\n",
      "     Rickard -- Brynden, Robb\n",
      "      Ramsay -- Robb\n",
      "     Chataya -- Tyrion, Shae\n",
      "     Shireen -- Davos\n",
      "       Doran -- Tyrion\n",
      "      Walton -- Jaime\n"
     ]
    }
   ],
   "source": [
    "# 从Neo4j构建一个igraph实例\n",
    "# 传入py2neo查询结果对象到igraph的TupleList构造器，创建igraph实例\n",
    "\n",
    "query = '''\n",
    "MATCH (c1:Character)-[r:INTERACTS]->(c2:Character)\n",
    "RETURN c1.name, c2.name, r.weight AS weight\n",
    "'''\n",
    "ig = IGraph.TupleList(graph.run(query), weights=True)\n",
    "print(ig)"
   ]
  },
  {
   "cell_type": "code",
   "execution_count": 26,
   "metadata": {},
   "outputs": [
    {
     "name": "stdout",
     "output_type": "stream",
     "text": [
      "(igraph.Vertex(<igraph.Graph object at 0xfffcf7361a40>, 0, {'name': 'Aemon'}), 0.007328980991947572)\n",
      "(igraph.Vertex(<igraph.Graph object at 0xfffcf7361a40>, 1, {'name': 'Samwell'}), 0.021619725923803457)\n",
      "(igraph.Vertex(<igraph.Graph object at 0xfffcf7361a40>, 2, {'name': 'Grenn'}), 0.0065125330245105004)\n",
      "(igraph.Vertex(<igraph.Graph object at 0xfffcf7361a40>, 3, {'name': 'Aerys'}), 0.005477506014302078)\n",
      "(igraph.Vertex(<igraph.Graph object at 0xfffcf7361a40>, 4, {'name': 'Tywin'}), 0.02570016262642541)\n",
      "(igraph.Vertex(<igraph.Graph object at 0xfffcf7361a40>, 5, {'name': 'Tyrion'}), 0.0428849819999633)\n",
      "(igraph.Vertex(<igraph.Graph object at 0xfffcf7361a40>, 6, {'name': 'Robert'}), 0.022292016521362864)\n",
      "(igraph.Vertex(<igraph.Graph object at 0xfffcf7361a40>, 7, {'name': 'Jaime'}), 0.028727587587471192)\n",
      "(igraph.Vertex(<igraph.Graph object at 0xfffcf7361a40>, 8, {'name': 'Alliser'}), 0.005162125869510502)\n",
      "(igraph.Vertex(<igraph.Graph object at 0xfffcf7361a40>, 9, {'name': 'Mance'}), 0.018095171947238795)\n",
      "(igraph.Vertex(<igraph.Graph object at 0xfffcf7361a40>, 10, {'name': 'Amory'}), 0.0026806926566418725)\n",
      "(igraph.Vertex(<igraph.Graph object at 0xfffcf7361a40>, 11, {'name': 'Oberyn'}), 0.010531487628639497)\n",
      "(igraph.Vertex(<igraph.Graph object at 0xfffcf7361a40>, 12, {'name': 'Arya'}), 0.022050209663844467)\n",
      "(igraph.Vertex(<igraph.Graph object at 0xfffcf7361a40>, 13, {'name': 'Thoros'}), 0.0067865637513760445)\n",
      "(igraph.Vertex(<igraph.Graph object at 0xfffcf7361a40>, 14, {'name': 'Sandor'}), 0.014890666079839627)\n",
      "(igraph.Vertex(<igraph.Graph object at 0xfffcf7361a40>, 15, {'name': 'Roose'}), 0.005455687276974584)\n",
      "(igraph.Vertex(<igraph.Graph object at 0xfffcf7361a40>, 16, {'name': 'Rickon'}), 0.007772551455592113)\n",
      "(igraph.Vertex(<igraph.Graph object at 0xfffcf7361a40>, 17, {'name': 'Jon'}), 0.03582869669163556)\n",
      "(igraph.Vertex(<igraph.Graph object at 0xfffcf7361a40>, 18, {'name': 'Joffrey'}), 0.020353375452309377)\n",
      "(igraph.Vertex(<igraph.Graph object at 0xfffcf7361a40>, 19, {'name': 'Gregor'}), 0.013933847334997949)\n",
      "(igraph.Vertex(<igraph.Graph object at 0xfffcf7361a40>, 20, {'name': 'Gendry'}), 0.005680495695799364)\n",
      "(igraph.Vertex(<igraph.Graph object at 0xfffcf7361a40>, 21, {'name': 'Cersei'}), 0.0222873275897735)\n",
      "(igraph.Vertex(<igraph.Graph object at 0xfffcf7361a40>, 22, {'name': 'Brynden'}), 0.010232443796594933)\n",
      "(igraph.Vertex(<igraph.Graph object at 0xfffcf7361a40>, 23, {'name': 'Bran'}), 0.018868841806170256)\n",
      "(igraph.Vertex(<igraph.Graph object at 0xfffcf7361a40>, 24, {'name': 'Beric'}), 0.008222353952587197)\n",
      "(igraph.Vertex(<igraph.Graph object at 0xfffcf7361a40>, 25, {'name': 'Anguy'}), 0.0035531593836143835)\n",
      "(igraph.Vertex(<igraph.Graph object at 0xfffcf7361a40>, 26, {'name': 'Balon'}), 0.0075868971436667204)\n",
      "(igraph.Vertex(<igraph.Graph object at 0xfffcf7361a40>, 27, {'name': 'Loras'}), 0.011034754649094819)\n",
      "(igraph.Vertex(<igraph.Graph object at 0xfffcf7361a40>, 28, {'name': 'Belwas'}), 0.00906024376708213)\n",
      "(igraph.Vertex(<igraph.Graph object at 0xfffcf7361a40>, 29, {'name': 'Illyrio'}), 0.003327170959383457)\n",
      "(igraph.Vertex(<igraph.Graph object at 0xfffcf7361a40>, 30, {'name': 'Barristan'}), 0.010201851332678225)\n",
      "(igraph.Vertex(<igraph.Graph object at 0xfffcf7361a40>, 31, {'name': 'Nan'}), 0.004430395498079972)\n",
      "(igraph.Vertex(<igraph.Graph object at 0xfffcf7361a40>, 32, {'name': 'Luwin'}), 0.004430395498079972)\n",
      "(igraph.Vertex(<igraph.Graph object at 0xfffcf7361a40>, 33, {'name': 'Meera'}), 0.00762577753892464)\n",
      "(igraph.Vertex(<igraph.Graph object at 0xfffcf7361a40>, 34, {'name': 'Theon'}), 0.005845730630364404)\n",
      "(igraph.Vertex(<igraph.Graph object at 0xfffcf7361a40>, 35, {'name': 'Jojen'}), 0.006392442840482079)\n",
      "(igraph.Vertex(<igraph.Graph object at 0xfffcf7361a40>, 36, {'name': 'Hodor'}), 0.006228072682917835)\n",
      "(igraph.Vertex(<igraph.Graph object at 0xfffcf7361a40>, 37, {'name': 'Brienne'}), 0.008575195335424807)\n",
      "(igraph.Vertex(<igraph.Graph object at 0xfffcf7361a40>, 38, {'name': 'Bronn'}), 0.005471445930153537)\n",
      "(igraph.Vertex(<igraph.Graph object at 0xfffcf7361a40>, 39, {'name': 'Podrick'}), 0.006604837769499041)\n",
      "(igraph.Vertex(<igraph.Graph object at 0xfffcf7361a40>, 40, {'name': 'Lothar'}), 0.006892711038826194)\n",
      "(igraph.Vertex(<igraph.Graph object at 0xfffcf7361a40>, 41, {'name': 'Walder'}), 0.01003360640273268)\n",
      "(igraph.Vertex(<igraph.Graph object at 0xfffcf7361a40>, 42, {'name': 'Catelyn'}), 0.02118215995142648)\n",
      "(igraph.Vertex(<igraph.Graph object at 0xfffcf7361a40>, 43, {'name': 'Stannis'}), 0.01802013176519559)\n",
      "(igraph.Vertex(<igraph.Graph object at 0xfffcf7361a40>, 44, {'name': 'Robb'}), 0.030171146655947625)\n",
      "(igraph.Vertex(<igraph.Graph object at 0xfffcf7361a40>, 45, {'name': 'Petyr'}), 0.00858097614273705)\n",
      "(igraph.Vertex(<igraph.Graph object at 0xfffcf7361a40>, 46, {'name': 'Roslin'}), 0.005733380981533307)\n",
      "(igraph.Vertex(<igraph.Graph object at 0xfffcf7361a40>, 47, {'name': 'Jeyne'}), 0.0034279568095536427)\n",
      "(igraph.Vertex(<igraph.Graph object at 0xfffcf7361a40>, 48, {'name': 'Edmure'}), 0.010290932718974886)\n",
      "(igraph.Vertex(<igraph.Graph object at 0xfffcf7361a40>, 49, {'name': 'Lysa'}), 0.012945163039228616)\n",
      "(igraph.Vertex(<igraph.Graph object at 0xfffcf7361a40>, 50, {'name': 'Sansa'}), 0.03000971666010856)\n",
      "(igraph.Vertex(<igraph.Graph object at 0xfffcf7361a40>, 51, {'name': 'Hoster'}), 0.004595888282976936)\n",
      "(igraph.Vertex(<igraph.Graph object at 0xfffcf7361a40>, 52, {'name': 'Pycelle'}), 0.005442382470169088)\n",
      "(igraph.Vertex(<igraph.Graph object at 0xfffcf7361a40>, 53, {'name': 'Meryn'}), 0.008334326126099068)\n",
      "(igraph.Vertex(<igraph.Graph object at 0xfffcf7361a40>, 54, {'name': 'Shae'}), 0.006959463009032679)\n",
      "(igraph.Vertex(<igraph.Graph object at 0xfffcf7361a40>, 55, {'name': 'Elia'}), 0.006785608304081949)\n",
      "(igraph.Vertex(<igraph.Graph object at 0xfffcf7361a40>, 56, {'name': 'Varys'}), 0.008958179876287897)\n",
      "(igraph.Vertex(<igraph.Graph object at 0xfffcf7361a40>, 57, {'name': 'Ilyn'}), 0.007295400917683057)\n",
      "(igraph.Vertex(<igraph.Graph object at 0xfffcf7361a40>, 58, {'name': 'Craster'}), 0.008971656109025774)\n",
      "(igraph.Vertex(<igraph.Graph object at 0xfffcf7361a40>, 59, {'name': 'Karl'}), 0.002927050697412886)\n",
      "(igraph.Vertex(<igraph.Graph object at 0xfffcf7361a40>, 60, {'name': 'Daario'}), 0.00847965219656794)\n",
      "(igraph.Vertex(<igraph.Graph object at 0xfffcf7361a40>, 61, {'name': 'Drogo'}), 0.00847965219656794)\n",
      "(igraph.Vertex(<igraph.Graph object at 0xfffcf7361a40>, 62, {'name': 'Irri'}), 0.008898070236802245)\n",
      "(igraph.Vertex(<igraph.Graph object at 0xfffcf7361a40>, 63, {'name': 'Daenerys'}), 0.02881425425830273)\n",
      "(igraph.Vertex(<igraph.Graph object at 0xfffcf7361a40>, 64, {'name': 'Aegon'}), 0.0031513060245611704)\n",
      "(igraph.Vertex(<igraph.Graph object at 0xfffcf7361a40>, 65, {'name': 'Viserys'}), 0.005583417500580618)\n",
      "(igraph.Vertex(<igraph.Graph object at 0xfffcf7361a40>, 66, {'name': 'Rakharo'}), 0.0031513060245611704)\n",
      "(igraph.Vertex(<igraph.Graph object at 0xfffcf7361a40>, 67, {'name': 'Worm'}), 0.003151306024561171)\n",
      "(igraph.Vertex(<igraph.Graph object at 0xfffcf7361a40>, 68, {'name': 'Rhaegar'}), 0.010020348713084546)\n",
      "(igraph.Vertex(<igraph.Graph object at 0xfffcf7361a40>, 69, {'name': 'Jorah'}), 0.011545271681757216)\n",
      "(igraph.Vertex(<igraph.Graph object at 0xfffcf7361a40>, 70, {'name': 'Missandei'}), 0.005042145949881648)\n",
      "(igraph.Vertex(<igraph.Graph object at 0xfffcf7361a40>, 71, {'name': 'Kraznys'}), 0.003151306024561171)\n",
      "(igraph.Vertex(<igraph.Graph object at 0xfffcf7361a40>, 72, {'name': 'Davos'}), 0.013406264700364075)\n",
      "(igraph.Vertex(<igraph.Graph object at 0xfffcf7361a40>, 73, {'name': 'Cressen'}), 0.0036809341579403976)\n",
      "(igraph.Vertex(<igraph.Graph object at 0xfffcf7361a40>, 74, {'name': 'Salladhor'}), 0.003680934157940398)\n",
      "(igraph.Vertex(<igraph.Graph object at 0xfffcf7361a40>, 75, {'name': 'Eddard'}), 0.013969322258977044)\n",
      "(igraph.Vertex(<igraph.Graph object at 0xfffcf7361a40>, 76, {'name': 'Eddison'}), 0.005182223005393166)\n",
      "(igraph.Vertex(<igraph.Graph object at 0xfffcf7361a40>, 77, {'name': 'Gilly'}), 0.0066052326224818134)\n",
      "(igraph.Vertex(<igraph.Graph object at 0xfffcf7361a40>, 78, {'name': 'Tommen'}), 0.006590960058389482)\n",
      "(igraph.Vertex(<igraph.Graph object at 0xfffcf7361a40>, 79, {'name': 'Qyburn'}), 0.0024193045526014435)\n",
      "(igraph.Vertex(<igraph.Graph object at 0xfffcf7361a40>, 80, {'name': 'Renly'}), 0.00974333831826283)\n",
      "(igraph.Vertex(<igraph.Graph object at 0xfffcf7361a40>, 81, {'name': 'Janos'}), 0.009227241797025408)\n",
      "(igraph.Vertex(<igraph.Graph object at 0xfffcf7361a40>, 82, {'name': 'Bowen'}), 0.0039341795491393)\n",
      "(igraph.Vertex(<igraph.Graph object at 0xfffcf7361a40>, 83, {'name': 'Margaery'}), 0.008677336342741142)\n",
      "(igraph.Vertex(<igraph.Graph object at 0xfffcf7361a40>, 84, {'name': 'Myrcella'}), 0.005477112953196368)\n",
      "(igraph.Vertex(<igraph.Graph object at 0xfffcf7361a40>, 85, {'name': 'Kevan'}), 0.00867340029412747)\n",
      "(igraph.Vertex(<igraph.Graph object at 0xfffcf7361a40>, 86, {'name': 'Val'}), 0.006320682995486328)\n",
      "(igraph.Vertex(<igraph.Graph object at 0xfffcf7361a40>, 87, {'name': 'Qhorin'}), 0.007883798494635438)\n",
      "(igraph.Vertex(<igraph.Graph object at 0xfffcf7361a40>, 88, {'name': 'Orell'}), 0.002573191935335821)\n",
      "(igraph.Vertex(<igraph.Graph object at 0xfffcf7361a40>, 89, {'name': 'Dalla'}), 0.005198078418139414)\n",
      "(igraph.Vertex(<igraph.Graph object at 0xfffcf7361a40>, 90, {'name': 'Melisandre'}), 0.007171454165347738)\n",
      "(igraph.Vertex(<igraph.Graph object at 0xfffcf7361a40>, 91, {'name': 'Ygritte'}), 0.006597052731030596)\n",
      "(igraph.Vertex(<igraph.Graph object at 0xfffcf7361a40>, 92, {'name': 'Styr'}), 0.00385493328159857)\n",
      "(igraph.Vertex(<igraph.Graph object at 0xfffcf7361a40>, 93, {'name': 'Rattleshirt'}), 0.006597052731030597)\n",
      "(igraph.Vertex(<igraph.Graph object at 0xfffcf7361a40>, 94, {'name': 'Jon Arryn'}), 0.0035548865751661865)\n",
      "(igraph.Vertex(<igraph.Graph object at 0xfffcf7361a40>, 95, {'name': 'Lancel'}), 0.0026306008672132286)\n",
      "(igraph.Vertex(<igraph.Graph object at 0xfffcf7361a40>, 96, {'name': 'Olenna'}), 0.003425127322104258)\n",
      "(igraph.Vertex(<igraph.Graph object at 0xfffcf7361a40>, 97, {'name': 'Marillion'}), 0.00486041149956862)\n",
      "(igraph.Vertex(<igraph.Graph object at 0xfffcf7361a40>, 98, {'name': 'Robert Arryn'}), 0.004860411499568621)\n",
      "(igraph.Vertex(<igraph.Graph object at 0xfffcf7361a40>, 99, {'name': 'Ellaria'}), 0.0036932547316410064)\n",
      "(igraph.Vertex(<igraph.Graph object at 0xfffcf7361a40>, 100, {'name': 'Mace'}), 0.004686215560389261)\n",
      "(igraph.Vertex(<igraph.Graph object at 0xfffcf7361a40>, 101, {'name': 'Rickard'}), 0.0035148852985689358)\n",
      "(igraph.Vertex(<igraph.Graph object at 0xfffcf7361a40>, 102, {'name': 'Ramsay'}), 0.002427688145180725)\n",
      "(igraph.Vertex(<igraph.Graph object at 0xfffcf7361a40>, 103, {'name': 'Chataya'}), 0.0035975399454131916)\n",
      "(igraph.Vertex(<igraph.Graph object at 0xfffcf7361a40>, 104, {'name': 'Shireen'}), 0.0036809341579403985)\n",
      "(igraph.Vertex(<igraph.Graph object at 0xfffcf7361a40>, 105, {'name': 'Doran'}), 0.002414431233877638)\n",
      "(igraph.Vertex(<igraph.Graph object at 0xfffcf7361a40>, 106, {'name': 'Walton'}), 0.0024193045526014444)\n",
      "[{'name': 'Aemon', 'pg': 0.007328980991947572}, {'name': 'Samwell', 'pg': 0.021619725923803457}, {'name': 'Grenn', 'pg': 0.0065125330245105004}, {'name': 'Aerys', 'pg': 0.005477506014302078}, {'name': 'Tywin', 'pg': 0.02570016262642541}, {'name': 'Tyrion', 'pg': 0.0428849819999633}, {'name': 'Robert', 'pg': 0.022292016521362864}, {'name': 'Jaime', 'pg': 0.028727587587471192}, {'name': 'Alliser', 'pg': 0.005162125869510502}, {'name': 'Mance', 'pg': 0.018095171947238795}, {'name': 'Amory', 'pg': 0.0026806926566418725}, {'name': 'Oberyn', 'pg': 0.010531487628639497}, {'name': 'Arya', 'pg': 0.022050209663844467}, {'name': 'Thoros', 'pg': 0.0067865637513760445}, {'name': 'Sandor', 'pg': 0.014890666079839627}, {'name': 'Roose', 'pg': 0.005455687276974584}, {'name': 'Rickon', 'pg': 0.007772551455592113}, {'name': 'Jon', 'pg': 0.03582869669163556}, {'name': 'Joffrey', 'pg': 0.020353375452309377}, {'name': 'Gregor', 'pg': 0.013933847334997949}, {'name': 'Gendry', 'pg': 0.005680495695799364}, {'name': 'Cersei', 'pg': 0.0222873275897735}, {'name': 'Brynden', 'pg': 0.010232443796594933}, {'name': 'Bran', 'pg': 0.018868841806170256}, {'name': 'Beric', 'pg': 0.008222353952587197}, {'name': 'Anguy', 'pg': 0.0035531593836143835}, {'name': 'Balon', 'pg': 0.0075868971436667204}, {'name': 'Loras', 'pg': 0.011034754649094819}, {'name': 'Belwas', 'pg': 0.00906024376708213}, {'name': 'Illyrio', 'pg': 0.003327170959383457}, {'name': 'Barristan', 'pg': 0.010201851332678225}, {'name': 'Nan', 'pg': 0.004430395498079972}, {'name': 'Luwin', 'pg': 0.004430395498079972}, {'name': 'Meera', 'pg': 0.00762577753892464}, {'name': 'Theon', 'pg': 0.005845730630364404}, {'name': 'Jojen', 'pg': 0.006392442840482079}, {'name': 'Hodor', 'pg': 0.006228072682917835}, {'name': 'Brienne', 'pg': 0.008575195335424807}, {'name': 'Bronn', 'pg': 0.005471445930153537}, {'name': 'Podrick', 'pg': 0.006604837769499041}, {'name': 'Lothar', 'pg': 0.006892711038826194}, {'name': 'Walder', 'pg': 0.01003360640273268}, {'name': 'Catelyn', 'pg': 0.02118215995142648}, {'name': 'Stannis', 'pg': 0.01802013176519559}, {'name': 'Robb', 'pg': 0.030171146655947625}, {'name': 'Petyr', 'pg': 0.00858097614273705}, {'name': 'Roslin', 'pg': 0.005733380981533307}, {'name': 'Jeyne', 'pg': 0.0034279568095536427}, {'name': 'Edmure', 'pg': 0.010290932718974886}, {'name': 'Lysa', 'pg': 0.012945163039228616}, {'name': 'Sansa', 'pg': 0.03000971666010856}, {'name': 'Hoster', 'pg': 0.004595888282976936}, {'name': 'Pycelle', 'pg': 0.005442382470169088}, {'name': 'Meryn', 'pg': 0.008334326126099068}, {'name': 'Shae', 'pg': 0.006959463009032679}, {'name': 'Elia', 'pg': 0.006785608304081949}, {'name': 'Varys', 'pg': 0.008958179876287897}, {'name': 'Ilyn', 'pg': 0.007295400917683057}, {'name': 'Craster', 'pg': 0.008971656109025774}, {'name': 'Karl', 'pg': 0.002927050697412886}, {'name': 'Daario', 'pg': 0.00847965219656794}, {'name': 'Drogo', 'pg': 0.00847965219656794}, {'name': 'Irri', 'pg': 0.008898070236802245}, {'name': 'Daenerys', 'pg': 0.02881425425830273}, {'name': 'Aegon', 'pg': 0.0031513060245611704}, {'name': 'Viserys', 'pg': 0.005583417500580618}, {'name': 'Rakharo', 'pg': 0.0031513060245611704}, {'name': 'Worm', 'pg': 0.003151306024561171}, {'name': 'Rhaegar', 'pg': 0.010020348713084546}, {'name': 'Jorah', 'pg': 0.011545271681757216}, {'name': 'Missandei', 'pg': 0.005042145949881648}, {'name': 'Kraznys', 'pg': 0.003151306024561171}, {'name': 'Davos', 'pg': 0.013406264700364075}, {'name': 'Cressen', 'pg': 0.0036809341579403976}, {'name': 'Salladhor', 'pg': 0.003680934157940398}, {'name': 'Eddard', 'pg': 0.013969322258977044}, {'name': 'Eddison', 'pg': 0.005182223005393166}, {'name': 'Gilly', 'pg': 0.0066052326224818134}, {'name': 'Tommen', 'pg': 0.006590960058389482}, {'name': 'Qyburn', 'pg': 0.0024193045526014435}, {'name': 'Renly', 'pg': 0.00974333831826283}, {'name': 'Janos', 'pg': 0.009227241797025408}, {'name': 'Bowen', 'pg': 0.0039341795491393}, {'name': 'Margaery', 'pg': 0.008677336342741142}, {'name': 'Myrcella', 'pg': 0.005477112953196368}, {'name': 'Kevan', 'pg': 0.00867340029412747}, {'name': 'Val', 'pg': 0.006320682995486328}, {'name': 'Qhorin', 'pg': 0.007883798494635438}, {'name': 'Orell', 'pg': 0.002573191935335821}, {'name': 'Dalla', 'pg': 0.005198078418139414}, {'name': 'Melisandre', 'pg': 0.007171454165347738}, {'name': 'Ygritte', 'pg': 0.006597052731030596}, {'name': 'Styr', 'pg': 0.00385493328159857}, {'name': 'Rattleshirt', 'pg': 0.006597052731030597}, {'name': 'Jon Arryn', 'pg': 0.0035548865751661865}, {'name': 'Lancel', 'pg': 0.0026306008672132286}, {'name': 'Olenna', 'pg': 0.003425127322104258}, {'name': 'Marillion', 'pg': 0.00486041149956862}, {'name': 'Robert Arryn', 'pg': 0.004860411499568621}, {'name': 'Ellaria', 'pg': 0.0036932547316410064}, {'name': 'Mace', 'pg': 0.004686215560389261}, {'name': 'Rickard', 'pg': 0.0035148852985689358}, {'name': 'Ramsay', 'pg': 0.002427688145180725}, {'name': 'Chataya', 'pg': 0.0035975399454131916}, {'name': 'Shireen', 'pg': 0.0036809341579403985}, {'name': 'Doran', 'pg': 0.002414431233877638}, {'name': 'Walton', 'pg': 0.0024193045526014444}]\n"
     ]
    }
   ],
   "source": [
    "# PageRank——特征向量中心性(Eigenvector Centrality)算法\n",
    "# 在igraph实例中运行PageRank算法，然后把结果写回Neo4j，在角色节点创建一个pagerank属性存储igraph计算的值\n",
    "\n",
    "pg = ig.pagerank()\n",
    "pgvs = []\n",
    "# ig.vs:图的顶点序列\n",
    "for p in zip(ig.vs, pg):\n",
    "    print(p)\n",
    "    pgvs.append({'name':p[0]['name'], 'pg':p[1]})\n",
    "print(pgvs)"
   ]
  },
  {
   "cell_type": "code",
   "execution_count": 27,
   "metadata": {},
   "outputs": [
    {
     "data": {
      "text/html": [
       "(No data)"
      ],
      "text/plain": [
       "(No data)"
      ]
     },
     "execution_count": 27,
     "metadata": {},
     "output_type": "execute_result"
    }
   ],
   "source": [
    "# UNWIND进行列表遍历\n",
    "write_clusters_query = '''\n",
    "UNWIND $nodes AS n\n",
    "MATCH (c:Character) WHERE c.name = n.name\n",
    "SET c.pagerank = n.pg\n",
    "'''\n",
    "graph.run(write_clusters_query, nodes=pgvs)"
   ]
  },
  {
   "cell_type": "code",
   "execution_count": 28,
   "metadata": {},
   "outputs": [
    {
     "name": "stdout",
     "output_type": "stream",
     "text": [
      "Tyrion 0.0428849819999633\n",
      "Jon 0.03582869669163556\n",
      "Robb 0.030171146655947625\n",
      "Sansa 0.03000971666010856\n",
      "Daenerys 0.02881425425830273\n",
      "Jaime 0.028727587587471192\n",
      "Tywin 0.02570016262642541\n",
      "Robert 0.022292016521362864\n",
      "Cersei 0.0222873275897735\n",
      "Arya 0.022050209663844467\n",
      "Samwell 0.021619725923803457\n",
      "Catelyn 0.02118215995142648\n",
      "Joffrey 0.020353375452309377\n",
      "Bran 0.018868841806170256\n",
      "Mance 0.018095171947238795\n",
      "Stannis 0.01802013176519559\n",
      "Sandor 0.014890666079839627\n",
      "Eddard 0.013969322258977044\n",
      "Gregor 0.013933847334997949\n",
      "Davos 0.013406264700364075\n",
      "Lysa 0.012945163039228616\n",
      "Jorah 0.011545271681757216\n",
      "Loras 0.011034754649094819\n",
      "Oberyn 0.010531487628639497\n",
      "Edmure 0.010290932718974886\n",
      "Brynden 0.010232443796594933\n",
      "Barristan 0.010201851332678225\n",
      "Walder 0.01003360640273268\n",
      "Rhaegar 0.010020348713084546\n",
      "Renly 0.00974333831826283\n"
     ]
    }
   ],
   "source": [
    "# 在Neo4j图中查询最高PageRank值的节点\n",
    "for record in graph.run('''\n",
    "MATCH (n:Character)\n",
    "RETURN n.name AS name, n.pagerank AS pagerank\n",
    "ORDER BY pagerank DESC LIMIT 30\n",
    "'''):\n",
    "    print(record['name'], record['pagerank'])"
   ]
  },
  {
   "cell_type": "code",
   "execution_count": 29,
   "metadata": {},
   "outputs": [
    {
     "name": "stdout",
     "output_type": "stream",
     "text": [
      "[{'name': 'Aemon', 'community': 0}, {'name': 'Samwell', 'community': 0}, {'name': 'Grenn', 'community': 0}, {'name': 'Aerys', 'community': 1}, {'name': 'Tywin', 'community': 1}, {'name': 'Tyrion', 'community': 1}, {'name': 'Robert', 'community': 1}, {'name': 'Jaime', 'community': 1}, {'name': 'Alliser', 'community': 0}, {'name': 'Mance', 'community': 0}, {'name': 'Amory', 'community': 1}, {'name': 'Oberyn', 'community': 1}, {'name': 'Arya', 'community': 2}, {'name': 'Thoros', 'community': 2}, {'name': 'Sandor', 'community': 2}, {'name': 'Roose', 'community': 3}, {'name': 'Rickon', 'community': 4}, {'name': 'Jon', 'community': 0}, {'name': 'Joffrey', 'community': 1}, {'name': 'Gregor', 'community': 1}, {'name': 'Gendry', 'community': 2}, {'name': 'Cersei', 'community': 1}, {'name': 'Brynden', 'community': 3}, {'name': 'Bran', 'community': 4}, {'name': 'Beric', 'community': 2}, {'name': 'Anguy', 'community': 2}, {'name': 'Balon', 'community': 1}, {'name': 'Loras', 'community': 1}, {'name': 'Belwas', 'community': 5}, {'name': 'Illyrio', 'community': 5}, {'name': 'Barristan', 'community': 5}, {'name': 'Nan', 'community': 4}, {'name': 'Luwin', 'community': 4}, {'name': 'Meera', 'community': 4}, {'name': 'Theon', 'community': 4}, {'name': 'Jojen', 'community': 4}, {'name': 'Hodor', 'community': 4}, {'name': 'Brienne', 'community': 1}, {'name': 'Bronn', 'community': 1}, {'name': 'Podrick', 'community': 1}, {'name': 'Lothar', 'community': 3}, {'name': 'Walder', 'community': 3}, {'name': 'Catelyn', 'community': 3}, {'name': 'Stannis', 'community': 6}, {'name': 'Robb', 'community': 3}, {'name': 'Petyr', 'community': 1}, {'name': 'Roslin', 'community': 3}, {'name': 'Jeyne', 'community': 3}, {'name': 'Edmure', 'community': 3}, {'name': 'Lysa', 'community': 1}, {'name': 'Sansa', 'community': 1}, {'name': 'Hoster', 'community': 3}, {'name': 'Pycelle', 'community': 1}, {'name': 'Meryn', 'community': 1}, {'name': 'Shae', 'community': 1}, {'name': 'Elia', 'community': 1}, {'name': 'Varys', 'community': 1}, {'name': 'Ilyn', 'community': 1}, {'name': 'Craster', 'community': 0}, {'name': 'Karl', 'community': 0}, {'name': 'Daario', 'community': 5}, {'name': 'Drogo', 'community': 5}, {'name': 'Irri', 'community': 5}, {'name': 'Daenerys', 'community': 5}, {'name': 'Aegon', 'community': 5}, {'name': 'Viserys', 'community': 5}, {'name': 'Rakharo', 'community': 5}, {'name': 'Worm', 'community': 5}, {'name': 'Rhaegar', 'community': 5}, {'name': 'Jorah', 'community': 5}, {'name': 'Missandei', 'community': 5}, {'name': 'Kraznys', 'community': 5}, {'name': 'Davos', 'community': 6}, {'name': 'Cressen', 'community': 6}, {'name': 'Salladhor', 'community': 6}, {'name': 'Eddard', 'community': 2}, {'name': 'Eddison', 'community': 0}, {'name': 'Gilly', 'community': 0}, {'name': 'Tommen', 'community': 1}, {'name': 'Qyburn', 'community': 1}, {'name': 'Renly', 'community': 1}, {'name': 'Janos', 'community': 0}, {'name': 'Bowen', 'community': 0}, {'name': 'Margaery', 'community': 1}, {'name': 'Myrcella', 'community': 1}, {'name': 'Kevan', 'community': 1}, {'name': 'Val', 'community': 0}, {'name': 'Qhorin', 'community': 0}, {'name': 'Orell', 'community': 0}, {'name': 'Dalla', 'community': 0}, {'name': 'Melisandre', 'community': 6}, {'name': 'Ygritte', 'community': 0}, {'name': 'Styr', 'community': 0}, {'name': 'Rattleshirt', 'community': 0}, {'name': 'Jon Arryn', 'community': 1}, {'name': 'Lancel', 'community': 7}, {'name': 'Olenna', 'community': 1}, {'name': 'Marillion', 'community': 1}, {'name': 'Robert Arryn', 'community': 1}, {'name': 'Ellaria', 'community': 1}, {'name': 'Mace', 'community': 1}, {'name': 'Rickard', 'community': 3}, {'name': 'Ramsay', 'community': 3}, {'name': 'Chataya', 'community': 1}, {'name': 'Shireen', 'community': 6}, {'name': 'Doran', 'community': 1}, {'name': 'Walton', 'community': 1}]\n"
     ]
    }
   ],
   "source": [
    "# 社区发现算法——用来找出图中的社区聚类\n",
    "# 使用igraph实现的随机游走算法(walktrap)来找到在社区中频繁有接触的角色社区，在社区之外角色不怎么接触\n",
    "# 然后把社区发现的结果导入Neo4j，其中每个角色所属的社区用一个整数来表示\n",
    "\n",
    "clusters = IGraph.community_walktrap(ig, weights='weight').as_clustering()\n",
    "nodes = [{'name': node['name']} for node in ig.vs]\n",
    "for node in nodes:\n",
    "    idx = ig.vs.find(name=node['name']).index\n",
    "    node['community'] = clusters.membership[idx]\n",
    "print(nodes)"
   ]
  },
  {
   "cell_type": "code",
   "execution_count": 30,
   "metadata": {},
   "outputs": [
    {
     "data": {
      "text/html": [
       "(No data)"
      ],
      "text/plain": [
       "(No data)"
      ]
     },
     "execution_count": 30,
     "metadata": {},
     "output_type": "execute_result"
    }
   ],
   "source": [
    "write_clusters_query = '''\n",
    "UNWIND $nodes AS n\n",
    "MATCH (c:Character) WHERE c.name = n.name\n",
    "SET c.community = toInteger(n.community)\n",
    "'''\n",
    "graph.run(write_clusters_query, nodes=nodes)"
   ]
  },
  {
   "cell_type": "code",
   "execution_count": 31,
   "metadata": {},
   "outputs": [
    {
     "name": "stdout",
     "output_type": "stream",
     "text": [
      "cluster: 0 members: ['Aemon', 'Alliser', 'Craster', 'Eddison', 'Gilly', 'Janos', 'Jon', 'Mance', 'Rattleshirt', 'Samwell', 'Val', 'Ygritte', 'Grenn', 'Karl', 'Bowen', 'Dalla', 'Orell', 'Qhorin', 'Styr']\n",
      "cluster: 1 members: ['Aerys', 'Amory', 'Balon', 'Brienne', 'Bronn', 'Cersei', 'Gregor', 'Jaime', 'Joffrey', 'Jon Arryn', 'Kevan', 'Loras', 'Lysa', 'Meryn', 'Myrcella', 'Oberyn', 'Podrick', 'Renly', 'Robert', 'Robert Arryn', 'Sansa', 'Shae', 'Tommen', 'Tyrion', 'Tywin', 'Varys', 'Walton', 'Petyr', 'Elia', 'Ilyn', 'Pycelle', 'Qyburn', 'Margaery', 'Olenna', 'Marillion', 'Ellaria', 'Mace', 'Chataya', 'Doran']\n",
      "cluster: 2 members: ['Arya', 'Beric', 'Eddard', 'Gendry', 'Sandor', 'Anguy', 'Thoros']\n",
      "cluster: 3 members: ['Brynden', 'Catelyn', 'Edmure', 'Hoster', 'Lothar', 'Rickard', 'Robb', 'Roose', 'Walder', 'Jeyne', 'Roslin', 'Ramsay']\n",
      "cluster: 4 members: ['Bran', 'Hodor', 'Jojen', 'Luwin', 'Meera', 'Rickon', 'Nan', 'Theon']\n",
      "cluster: 5 members: ['Belwas', 'Daario', 'Daenerys', 'Irri', 'Jorah', 'Missandei', 'Rhaegar', 'Viserys', 'Barristan', 'Illyrio', 'Drogo', 'Aegon', 'Kraznys', 'Rakharo', 'Worm']\n",
      "cluster: 6 members: ['Davos', 'Melisandre', 'Shireen', 'Stannis', 'Cressen', 'Salladhor']\n",
      "cluster: 7 members: ['Lancel']\n"
     ]
    }
   ],
   "source": [
    "# 在Neo4j中查询有多少个社区以及每个社区的成员数\n",
    "for record in graph.run('''\n",
    "MATCH (c:Character)\n",
    "WITH c.community AS cluster, collect(c.name) AS members\n",
    "RETURN cluster, members\n",
    "ORDER BY cluster ASC\n",
    "'''):\n",
    "    print('cluster:', record['cluster'], 'members:', record['members'])"
   ]
  },
  {
   "cell_type": "code",
   "execution_count": null,
   "metadata": {},
   "outputs": [],
   "source": []
  }
 ],
 "metadata": {
  "kernelspec": {
   "display_name": "Python 3",
   "language": "python",
   "name": "python3"
  },
  "language_info": {
   "codemirror_mode": {
    "name": "ipython",
    "version": 3
   },
   "file_extension": ".py",
   "mimetype": "text/x-python",
   "name": "python",
   "nbconvert_exporter": "python",
   "pygments_lexer": "ipython3",
   "version": "3.8.10"
  }
 },
 "nbformat": 4,
 "nbformat_minor": 4
}
